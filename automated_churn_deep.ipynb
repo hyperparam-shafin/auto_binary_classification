{
 "cells": [
  {
   "cell_type": "code",
   "execution_count": 1,
   "metadata": {},
   "outputs": [],
   "source": [
    "import pandas as pd\n",
    "import numpy as np\n",
    "import matplotlib.pyplot as plt\n",
    "import sklearn\n",
    "import os\n",
    "import random "
   ]
  },
  {
   "cell_type": "code",
   "execution_count": 2,
   "metadata": {},
   "outputs": [],
   "source": [
    "# INPUT: set path for data placement \n",
    "#os.chdir(r'C:\\Users\\mshafin\\Desktop\\xavient_churn_project')\n",
    "os.chdir(r'C:\\Users\\mohammad shafin\\Desktop\\xavient_churn_project')\n",
    "\n",
    "os.getcwd()\n",
    "random.seed(42)"
   ]
  },
  {
   "cell_type": "code",
   "execution_count": 3,
   "metadata": {},
   "outputs": [],
   "source": [
    "# INPUT: data loaded to a pandas dataframe\n",
    "df = pd.read_csv('telecom_churn_training.csv')"
   ]
  },
  {
   "cell_type": "code",
   "execution_count": 4,
   "metadata": {},
   "outputs": [
    {
     "name": "stdout",
     "output_type": "stream",
     "text": [
      "<class 'pandas.core.frame.DataFrame'>\n",
      "RangeIndex: 5634 entries, 0 to 5633\n",
      "Data columns (total 21 columns):\n",
      "customerID          5634 non-null object\n",
      "gender              5634 non-null object\n",
      "SeniorCitizen       5634 non-null int64\n",
      "Partner             5634 non-null object\n",
      "Dependents          5634 non-null object\n",
      "tenure              5634 non-null int64\n",
      "PhoneService        5634 non-null object\n",
      "MultipleLines       5634 non-null object\n",
      "InternetService     5634 non-null object\n",
      "OnlineSecurity      5634 non-null object\n",
      "OnlineBackup        5634 non-null object\n",
      "DeviceProtection    5634 non-null object\n",
      "TechSupport         5634 non-null object\n",
      "StreamingTV         5634 non-null object\n",
      "StreamingMovies     5634 non-null object\n",
      "Contract            5634 non-null object\n",
      "PaperlessBilling    5634 non-null object\n",
      "PaymentMethod       5634 non-null object\n",
      "MonthlyCharges      5634 non-null float64\n",
      "TotalCharges        5626 non-null float64\n",
      "Churn               5634 non-null object\n",
      "dtypes: float64(2), int64(2), object(17)\n",
      "memory usage: 924.4+ KB\n"
     ]
    }
   ],
   "source": [
    "df.info()"
   ]
  },
  {
   "cell_type": "code",
   "execution_count": 5,
   "metadata": {},
   "outputs": [
    {
     "name": "stdout",
     "output_type": "stream",
     "text": [
      "Columnwise missing value count\n"
     ]
    },
    {
     "data": {
      "text/plain": [
       "customerID          0\n",
       "gender              0\n",
       "SeniorCitizen       0\n",
       "Partner             0\n",
       "Dependents          0\n",
       "tenure              0\n",
       "PhoneService        0\n",
       "MultipleLines       0\n",
       "InternetService     0\n",
       "OnlineSecurity      0\n",
       "OnlineBackup        0\n",
       "DeviceProtection    0\n",
       "TechSupport         0\n",
       "StreamingTV         0\n",
       "StreamingMovies     0\n",
       "Contract            0\n",
       "PaperlessBilling    0\n",
       "PaymentMethod       0\n",
       "MonthlyCharges      0\n",
       "TotalCharges        8\n",
       "Churn               0\n",
       "dtype: int64"
      ]
     },
     "execution_count": 5,
     "metadata": {},
     "output_type": "execute_result"
    }
   ],
   "source": [
    "# count number of missing values in each column\n",
    "# sum True's\n",
    "print(\"Columnwise missing value count\")\n",
    "df.isnull().sum()"
   ]
  },
  {
   "cell_type": "code",
   "execution_count": 6,
   "metadata": {},
   "outputs": [],
   "source": [
    "# INPUT: set customer identification code and target variable\n",
    "customer_identity_code = 'customerID'\n",
    "target_code = 'Churn'"
   ]
  },
  {
   "cell_type": "code",
   "execution_count": 7,
   "metadata": {},
   "outputs": [],
   "source": [
    "# set index for customer identification code\n",
    "df = df.set_index(customer_identity_code)"
   ]
  },
  {
   "cell_type": "code",
   "execution_count": 8,
   "metadata": {},
   "outputs": [],
   "source": [
    "# identify target variable\n",
    "df['target'] = df[target_code]"
   ]
  },
  {
   "cell_type": "code",
   "execution_count": 9,
   "metadata": {},
   "outputs": [],
   "source": [
    "# set target labels from input\n",
    "label_target1 = 'Yes'\n",
    "label_target0 = 'No'"
   ]
  },
  {
   "cell_type": "code",
   "execution_count": 10,
   "metadata": {},
   "outputs": [],
   "source": [
    "# function to recode target levels\n",
    "def dependent_col(row):\n",
    "    if row['target'] == label_target1:\n",
    "        val = 1  # input\n",
    "    elif row['target'] == label_target0:\n",
    "        val = 0  # imput\n",
    "    else:\n",
    "        val = 2\n",
    "    return val"
   ]
  },
  {
   "cell_type": "code",
   "execution_count": 11,
   "metadata": {},
   "outputs": [
    {
     "name": "stdout",
     "output_type": "stream",
     "text": [
      "            target Churn\n",
      "customerID              \n",
      "8259-DZLIZ       0    No\n",
      "4829-AUOAX       1   Yes\n",
      "7184-LRUUR       0    No\n",
      "4789-KWMXN       1   Yes\n",
      "2982-VPSGI       1   Yes\n"
     ]
    }
   ],
   "source": [
    "df['target'] = df.apply(dependent_col, axis=1)\n",
    "print(df.loc[:,['target','Churn']].sample(5)) #check changes in target recoding"
   ]
  },
  {
   "cell_type": "code",
   "execution_count": 12,
   "metadata": {},
   "outputs": [],
   "source": [
    "# droping initial target\n",
    "df = df.drop(['Churn'],axis=1)"
   ]
  },
  {
   "cell_type": "code",
   "execution_count": 13,
   "metadata": {},
   "outputs": [],
   "source": [
    "# populate with columns, which needs to be considered 'object' type\n",
    "object_columns = ['gender','SeniorCitizen','Partner','Dependents','PhoneService','MultipleLines','InternetService',\n",
    "                  'OnlineSecurity','OnlineBackup','DeviceProtection','TechSupport','StreamingTV','StreamingMovies',\n",
    "                  'Contract','PaperlessBilling','PaymentMethod'] "
   ]
  },
  {
   "cell_type": "code",
   "execution_count": 14,
   "metadata": {},
   "outputs": [],
   "source": [
    "for column in object_columns:\n",
    "    df[column] = df[column].astype('object')"
   ]
  },
  {
   "cell_type": "code",
   "execution_count": 15,
   "metadata": {},
   "outputs": [
    {
     "name": "stdout",
     "output_type": "stream",
     "text": [
      "Value count of each level for datatype 'object'\n",
      "gender\n",
      "Male      2885\n",
      "Female    2749\n",
      "Name: gender, dtype: int64\n",
      "SeniorCitizen\n",
      "0    4728\n",
      "1     906\n",
      "Name: SeniorCitizen, dtype: int64\n",
      "Partner\n",
      "No     2913\n",
      "Yes    2721\n",
      "Name: Partner, dtype: int64\n",
      "Dependents\n",
      "No     3936\n",
      "Yes    1698\n",
      "Name: Dependents, dtype: int64\n",
      "PhoneService\n",
      "Yes    5077\n",
      "No      557\n",
      "Name: PhoneService, dtype: int64\n",
      "MultipleLines\n",
      "No                  2686\n",
      "Yes                 2391\n",
      "No phone service     557\n",
      "Name: MultipleLines, dtype: int64\n",
      "InternetService\n",
      "Fiber optic    2470\n",
      "DSL            1935\n",
      "No             1229\n",
      "Name: InternetService, dtype: int64\n",
      "OnlineSecurity\n",
      "No                     2763\n",
      "Yes                    1642\n",
      "No internet service    1229\n",
      "Name: OnlineSecurity, dtype: int64\n",
      "OnlineBackup\n",
      "No                     2468\n",
      "Yes                    1937\n",
      "No internet service    1229\n",
      "Name: OnlineBackup, dtype: int64\n",
      "DeviceProtection\n",
      "No                     2480\n",
      "Yes                    1925\n",
      "No internet service    1229\n",
      "Name: DeviceProtection, dtype: int64\n",
      "TechSupport\n",
      "No                     2776\n",
      "Yes                    1629\n",
      "No internet service    1229\n",
      "Name: TechSupport, dtype: int64\n",
      "StreamingTV\n",
      "No                     2232\n",
      "Yes                    2173\n",
      "No internet service    1229\n",
      "Name: StreamingTV, dtype: int64\n",
      "StreamingMovies\n",
      "Yes                    2205\n",
      "No                     2200\n",
      "No internet service    1229\n",
      "Name: StreamingMovies, dtype: int64\n",
      "Contract\n",
      "Month-to-month    3096\n",
      "Two year          1363\n",
      "One year          1175\n",
      "Name: Contract, dtype: int64\n",
      "PaperlessBilling\n",
      "Yes    3363\n",
      "No     2271\n",
      "Name: PaperlessBilling, dtype: int64\n",
      "PaymentMethod\n",
      "Electronic check             1888\n",
      "Mailed check                 1305\n",
      "Credit card (automatic)      1226\n",
      "Bank transfer (automatic)    1215\n",
      "Name: PaymentMethod, dtype: int64\n"
     ]
    }
   ],
   "source": [
    "print(\"Value count of each level for datatype 'object'\")\n",
    "feature_names = list(df[object_columns])\n",
    "\n",
    "for column in feature_names:\n",
    "    if df[column].dtypes == \"object\":\n",
    "        print (column)\n",
    "        print (df[column].value_counts(dropna=False))"
   ]
  },
  {
   "cell_type": "code",
   "execution_count": 16,
   "metadata": {},
   "outputs": [],
   "source": [
    "#remove_from_description = ['SeniorCitizen','target'] # remove non continious variables\n",
    "#removed_from_description = [x for x in feature_names if (x not in remove_from_description)]\n",
    "#feature_names.remove(removed_from_description);\n",
    "#for column in feature_names:\n",
    "#    if df[column].dtypes != \"object\":\n",
    "#        print (column)\n",
    "#        print (df[column].describe())"
   ]
  },
  {
   "cell_type": "code",
   "execution_count": 17,
   "metadata": {},
   "outputs": [],
   "source": [
    "# object variables converted to categories for cat.codes\n",
    "object_columns = df.select_dtypes(['object']).columns"
   ]
  },
  {
   "cell_type": "code",
   "execution_count": 18,
   "metadata": {},
   "outputs": [
    {
     "name": "stdout",
     "output_type": "stream",
     "text": [
      "The following columns were successfully imputed with missing value indicator 'UKNOWN'\n",
      "gender\n",
      "SeniorCitizen\n",
      "Partner\n",
      "Dependents\n",
      "PhoneService\n",
      "MultipleLines\n",
      "InternetService\n",
      "OnlineSecurity\n",
      "OnlineBackup\n",
      "DeviceProtection\n",
      "TechSupport\n",
      "StreamingTV\n",
      "StreamingMovies\n",
      "Contract\n",
      "PaperlessBilling\n",
      "PaymentMethod\n"
     ]
    }
   ],
   "source": [
    "print(\"The following columns were successfully imputed with missing value indicator 'UKNOWN'\")\n",
    "for column in object_columns:\n",
    "    if df[column].dtypes==\"object\":\n",
    "        print(column)\n",
    "        df[column] = df[column].fillna(\"UKNOWN\").astype('object')\n",
    "        #print(df[column].value_counts())"
   ]
  },
  {
   "cell_type": "code",
   "execution_count": 19,
   "metadata": {},
   "outputs": [],
   "source": [
    "for column in object_columns:\n",
    "    if df[column].dtypes==\"object\":\n",
    "        df[column] = df[column].astype('category')"
   ]
  },
  {
   "cell_type": "code",
   "execution_count": 20,
   "metadata": {},
   "outputs": [
    {
     "name": "stdout",
     "output_type": "stream",
     "text": [
      "<class 'pandas.core.frame.DataFrame'>\n",
      "Index: 5634 entries, 7590-VHVEG to 3186-AJIEK\n",
      "Data columns (total 20 columns):\n",
      "gender              5634 non-null category\n",
      "SeniorCitizen       5634 non-null category\n",
      "Partner             5634 non-null category\n",
      "Dependents          5634 non-null category\n",
      "tenure              5634 non-null int64\n",
      "PhoneService        5634 non-null category\n",
      "MultipleLines       5634 non-null category\n",
      "InternetService     5634 non-null category\n",
      "OnlineSecurity      5634 non-null category\n",
      "OnlineBackup        5634 non-null category\n",
      "DeviceProtection    5634 non-null category\n",
      "TechSupport         5634 non-null category\n",
      "StreamingTV         5634 non-null category\n",
      "StreamingMovies     5634 non-null category\n",
      "Contract            5634 non-null category\n",
      "PaperlessBilling    5634 non-null category\n",
      "PaymentMethod       5634 non-null category\n",
      "MonthlyCharges      5634 non-null float64\n",
      "TotalCharges        5626 non-null float64\n",
      "target              5634 non-null int64\n",
      "dtypes: category(16), float64(2), int64(2)\n",
      "memory usage: 309.8+ KB\n"
     ]
    }
   ],
   "source": [
    "df.info()"
   ]
  },
  {
   "cell_type": "code",
   "execution_count": 21,
   "metadata": {},
   "outputs": [],
   "source": [
    "df[object_columns] = df[object_columns].apply(lambda x: x.cat.codes)"
   ]
  },
  {
   "cell_type": "code",
   "execution_count": 22,
   "metadata": {},
   "outputs": [
    {
     "name": "stdout",
     "output_type": "stream",
     "text": [
      "gender\n",
      "1    2885\n",
      "0    2749\n",
      "Name: gender, dtype: int64\n",
      "SeniorCitizen\n",
      "0    4728\n",
      "1     906\n",
      "Name: SeniorCitizen, dtype: int64\n",
      "Partner\n",
      "0    2913\n",
      "1    2721\n",
      "Name: Partner, dtype: int64\n",
      "Dependents\n",
      "0    3936\n",
      "1    1698\n",
      "Name: Dependents, dtype: int64\n",
      "PhoneService\n",
      "1    5077\n",
      "0     557\n",
      "Name: PhoneService, dtype: int64\n",
      "MultipleLines\n",
      "0    2686\n",
      "2    2391\n",
      "1     557\n",
      "Name: MultipleLines, dtype: int64\n",
      "InternetService\n",
      "1    2470\n",
      "0    1935\n",
      "2    1229\n",
      "Name: InternetService, dtype: int64\n",
      "OnlineSecurity\n",
      "0    2763\n",
      "2    1642\n",
      "1    1229\n",
      "Name: OnlineSecurity, dtype: int64\n",
      "OnlineBackup\n",
      "0    2468\n",
      "2    1937\n",
      "1    1229\n",
      "Name: OnlineBackup, dtype: int64\n",
      "DeviceProtection\n",
      "0    2480\n",
      "2    1925\n",
      "1    1229\n",
      "Name: DeviceProtection, dtype: int64\n",
      "TechSupport\n",
      "0    2776\n",
      "2    1629\n",
      "1    1229\n",
      "Name: TechSupport, dtype: int64\n",
      "StreamingTV\n",
      "0    2232\n",
      "2    2173\n",
      "1    1229\n",
      "Name: StreamingTV, dtype: int64\n",
      "StreamingMovies\n",
      "2    2205\n",
      "0    2200\n",
      "1    1229\n",
      "Name: StreamingMovies, dtype: int64\n",
      "Contract\n",
      "0    3096\n",
      "2    1363\n",
      "1    1175\n",
      "Name: Contract, dtype: int64\n",
      "PaperlessBilling\n",
      "1    3363\n",
      "0    2271\n",
      "Name: PaperlessBilling, dtype: int64\n",
      "PaymentMethod\n",
      "2    1888\n",
      "3    1305\n",
      "1    1226\n",
      "0    1215\n",
      "Name: PaymentMethod, dtype: int64\n"
     ]
    }
   ],
   "source": [
    "for column in object_columns:\n",
    "    print (column)\n",
    "    print(df[column].value_counts())"
   ]
  },
  {
   "cell_type": "code",
   "execution_count": 59,
   "metadata": {},
   "outputs": [],
   "source": [
    "import pandas as pd\n",
    "import scipy.stats as scs\n",
    "\n",
    "\n",
    "def categories(series):\n",
    "    return range(int(series.min()), int(series.max()) + 1)\n",
    "\n",
    "\n",
    "def chi_square_of_df_cols(df, col1, col2):\n",
    "    df_col1, df_col2 = df[col1], df[col2]\n",
    "\n",
    "    result = [[sum((df_col1 == cat1) & (df_col2 == cat2))\n",
    "               for cat2 in categories(df_col2)]\n",
    "              for cat1 in categories(df_col1)]\n",
    "\n",
    "    return scs.chi2_contingency(result)[1]"
   ]
  },
  {
   "cell_type": "code",
   "execution_count": 60,
   "metadata": {},
   "outputs": [
    {
     "name": "stdout",
     "output_type": "stream",
     "text": [
      "1.258909974711413e-98\n"
     ]
    }
   ],
   "source": [
    "print(chi_square_of_df_cols(df, 'DeviceProtection', 'target'))"
   ]
  },
  {
   "cell_type": "code",
   "execution_count": 65,
   "metadata": {},
   "outputs": [
    {
     "name": "stdout",
     "output_type": "stream",
     "text": [
      "gender\n",
      "0.46719142008037073\n",
      "SeniorCitizen\n",
      "8.062119908746922e-30\n",
      "Partner\n",
      "3.004335166772794e-28\n",
      "Dependents\n",
      "2.2261451970670335e-33\n",
      "PhoneService\n",
      "0.5240801438954494\n",
      "MultipleLines\n",
      "0.004635155064093133\n",
      "InternetService\n",
      "7.768693290943212e-127\n",
      "OnlineSecurity\n",
      "5.987520912915138e-149\n",
      "OnlineBackup\n",
      "1.1737228524090142e-106\n",
      "DeviceProtection\n",
      "1.258909974711413e-98\n",
      "TechSupport\n",
      "1.4566616766425946e-145\n",
      "StreamingTV\n",
      "1.2783797244981223e-66\n",
      "StreamingMovies\n",
      "3.951900513244063e-67\n",
      "Contract\n",
      "3.948904497226783e-204\n",
      "PaperlessBilling\n",
      "9.03662459339821e-50\n",
      "PaymentMethod\n",
      "1.0480838892298403e-111\n",
      "['SeniorCitizen', 'Partner', 'Dependents', 'MultipleLines', 'InternetService', 'OnlineSecurity', 'OnlineBackup', 'DeviceProtection', 'TechSupport', 'StreamingTV', 'StreamingMovies', 'Contract', 'PaperlessBilling', 'PaymentMethod']\n"
     ]
    }
   ],
   "source": [
    "object_columns_final = []\n",
    "for column in object_columns:\n",
    "    print(column)\n",
    "    print(chi_square_of_df_cols(df, column, 'target'))\n",
    "    if chi_square_of_df_cols(df, column, 'target') <= 0.05:\n",
    "        object_columns_final.append(column)\n",
    "print(object_columns_final)"
   ]
  },
  {
   "cell_type": "code",
   "execution_count": 25,
   "metadata": {},
   "outputs": [],
   "source": [
    "# missing value treatments\n",
    "# impute missing numeric columns with mean\n",
    "numeric_columns_mean = ['MonthlyCharges','tenure','TotalCharges'] # populate with numeric columns\n",
    "# impute missing numeric columns with zero\n",
    "numeric_columns_zero = [] # populate with numeric columns\n",
    "scale_columns = numeric_columns_mean + numeric_columns_zero\n",
    " "
   ]
  },
  {
   "cell_type": "code",
   "execution_count": 26,
   "metadata": {},
   "outputs": [],
   "source": [
    "# for mean imputation\n",
    "for column in numeric_columns_mean:\n",
    "    if df[column].dtypes in [\"int64\",\"float64\"] :\n",
    "        df[column] = df[column].fillna(df[column].mean())\n",
    "# for 0 imputation\n",
    "for column in numeric_columns_zero:\n",
    "    if df[column].dtypes in [\"int64\",\"float64\"] :\n",
    "        df[column] = df[column].fillna(0)"
   ]
  },
  {
   "cell_type": "code",
   "execution_count": 27,
   "metadata": {},
   "outputs": [],
   "source": [
    "from sklearn.preprocessing import scale\n",
    "for column in scale_columns:\n",
    "    if df[column].dtypes in [\"int64\",\"float64\"] :\n",
    "        df[column] = scale(df[column].astype('float64'))"
   ]
  },
  {
   "cell_type": "code",
   "execution_count": 28,
   "metadata": {},
   "outputs": [],
   "source": [
    "from sklearn.model_selection import train_test_split"
   ]
  },
  {
   "cell_type": "code",
   "execution_count": 118,
   "metadata": {},
   "outputs": [
    {
     "name": "stdout",
     "output_type": "stream",
     "text": [
      "['MonthlyCharges', 'tenure', 'TotalCharges', 'SeniorCitizen', 'Partner', 'Dependents', 'MultipleLines', 'InternetService', 'OnlineSecurity', 'OnlineBackup', 'DeviceProtection', 'TechSupport', 'StreamingTV', 'StreamingMovies', 'Contract', 'PaperlessBilling', 'PaymentMethod', 'target']\n"
     ]
    }
   ],
   "source": [
    "#df.columns\n",
    "target_column = ['target']\n",
    "all_columns = scale_columns + object_columns_final + target_column\n",
    "print(all_columns)\n",
    "df = df[all_columns]"
   ]
  },
  {
   "cell_type": "code",
   "execution_count": 119,
   "metadata": {},
   "outputs": [],
   "source": [
    "df1 = df.drop(['target'],axis=1).copy()"
   ]
  },
  {
   "cell_type": "code",
   "execution_count": 120,
   "metadata": {},
   "outputs": [
    {
     "data": {
      "text/plain": [
       "Index(['MonthlyCharges', 'tenure', 'TotalCharges', 'SeniorCitizen', 'Partner',\n",
       "       'Dependents', 'MultipleLines', 'InternetService', 'OnlineSecurity',\n",
       "       'OnlineBackup', 'DeviceProtection', 'TechSupport', 'StreamingTV',\n",
       "       'StreamingMovies', 'Contract', 'PaperlessBilling', 'PaymentMethod'],\n",
       "      dtype='object')"
      ]
     },
     "execution_count": 120,
     "metadata": {},
     "output_type": "execute_result"
    }
   ],
   "source": [
    "#df1 = df.copy()\n",
    "#df1.shape\n",
    "df1.columns"
   ]
  },
  {
   "cell_type": "code",
   "execution_count": 73,
   "metadata": {},
   "outputs": [
    {
     "data": {
      "text/plain": [
       "((5634, 17), (5634, 1))"
      ]
     },
     "execution_count": 73,
     "metadata": {},
     "output_type": "execute_result"
    }
   ],
   "source": [
    "X = df1.values\n",
    "y = df[['target']].values\n",
    "X.shape,y.shape"
   ]
  },
  {
   "cell_type": "code",
   "execution_count": 74,
   "metadata": {},
   "outputs": [
    {
     "name": "stderr",
     "output_type": "stream",
     "text": [
      "c:\\anaconda3\\envs\\tensorflow\\lib\\site-packages\\sklearn\\utils\\validation.py:578: DataConversionWarning: A column-vector y was passed when a 1d array was expected. Please change the shape of y to (n_samples, ), for example using ravel().\n",
      "  y = column_or_1d(y, warn=True)\n"
     ]
    }
   ],
   "source": [
    "feature_selected = X.shape[1]\n",
    "from sklearn.linear_model import LogisticRegression\n",
    "from sklearn.ensemble import RandomForestRegressor\n",
    "from sklearn.feature_selection import RFE\n",
    "no_features = feature_selected # Input\n",
    "model = RandomForestRegressor()\n",
    "rfe = RFE(model, no_features)\n",
    "fit = rfe.fit(X, y)\n"
   ]
  },
  {
   "cell_type": "code",
   "execution_count": 75,
   "metadata": {},
   "outputs": [
    {
     "name": "stdout",
     "output_type": "stream",
     "text": [
      "Num Features: 17\n",
      "Selected Features: [ True  True  True  True  True  True  True  True  True  True  True  True\n",
      "  True  True  True  True  True]\n",
      "Feature Ranking: [1 1 1 1 1 1 1 1 1 1 1 1 1 1 1 1 1]\n"
     ]
    }
   ],
   "source": [
    "print(\"Num Features: \" + str(fit.n_features_))\n",
    "print(\"Selected Features: \" + str(fit.support_))\n",
    "print(\"Feature Ranking: \" + str(fit.ranking_))"
   ]
  },
  {
   "cell_type": "code",
   "execution_count": 76,
   "metadata": {},
   "outputs": [
    {
     "data": {
      "text/plain": [
       "Index(['MonthlyCharges', 'tenure', 'TotalCharges', 'SeniorCitizen', 'Partner',\n",
       "       'Dependents', 'MultipleLines', 'InternetService', 'OnlineSecurity',\n",
       "       'OnlineBackup', 'DeviceProtection', 'TechSupport', 'StreamingTV',\n",
       "       'StreamingMovies', 'Contract', 'PaperlessBilling', 'PaymentMethod'],\n",
       "      dtype='object')"
      ]
     },
     "execution_count": 76,
     "metadata": {},
     "output_type": "execute_result"
    }
   ],
   "source": [
    "df1.columns[fit.support_]"
   ]
  },
  {
   "cell_type": "code",
   "execution_count": 77,
   "metadata": {},
   "outputs": [
    {
     "data": {
      "text/plain": [
       "((5634, 17), (5634,))"
      ]
     },
     "execution_count": 77,
     "metadata": {},
     "output_type": "execute_result"
    }
   ],
   "source": [
    "X = df[df1.columns[fit.support_]].values\n",
    "y = df['target'].values\n",
    "#array1 = \n",
    "#X = array1.values\n",
    "#y = y.values\n",
    "X.shape,y.shape"
   ]
  },
  {
   "cell_type": "code",
   "execution_count": 78,
   "metadata": {},
   "outputs": [
    {
     "data": {
      "text/plain": [
       "((3943, 17), (1691, 17), (3943,), (1691,))"
      ]
     },
     "execution_count": 78,
     "metadata": {},
     "output_type": "execute_result"
    }
   ],
   "source": [
    "from sklearn.model_selection import train_test_split\n",
    "\n",
    "X_train,X_test,y_train,y_test = train_test_split(X, y, random_state=21,test_size=0.3)\n",
    "X_train.shape,X_test.shape,y_train.shape,y_test.shape"
   ]
  },
  {
   "cell_type": "code",
   "execution_count": 128,
   "metadata": {},
   "outputs": [
    {
     "data": {
      "text/html": [
       "<div>\n",
       "<style scoped>\n",
       "    .dataframe tbody tr th:only-of-type {\n",
       "        vertical-align: middle;\n",
       "    }\n",
       "\n",
       "    .dataframe tbody tr th {\n",
       "        vertical-align: top;\n",
       "    }\n",
       "\n",
       "    .dataframe thead th {\n",
       "        text-align: right;\n",
       "    }\n",
       "</style>\n",
       "<table border=\"1\" class=\"dataframe\">\n",
       "  <thead>\n",
       "    <tr style=\"text-align: right;\">\n",
       "      <th></th>\n",
       "      <th>0</th>\n",
       "      <th>0</th>\n",
       "    </tr>\n",
       "  </thead>\n",
       "  <tbody>\n",
       "    <tr>\n",
       "      <th>0</th>\n",
       "      <td>MonthlyCharges</td>\n",
       "      <td>0.147793</td>\n",
       "    </tr>\n",
       "    <tr>\n",
       "      <th>1</th>\n",
       "      <td>tenure</td>\n",
       "      <td>-0.034041</td>\n",
       "    </tr>\n",
       "    <tr>\n",
       "      <th>2</th>\n",
       "      <td>TotalCharges</td>\n",
       "      <td>-0.110232</td>\n",
       "    </tr>\n",
       "    <tr>\n",
       "      <th>3</th>\n",
       "      <td>SeniorCitizen</td>\n",
       "      <td>0.057312</td>\n",
       "    </tr>\n",
       "    <tr>\n",
       "      <th>4</th>\n",
       "      <td>Partner</td>\n",
       "      <td>-0.009334</td>\n",
       "    </tr>\n",
       "    <tr>\n",
       "      <th>5</th>\n",
       "      <td>Dependents</td>\n",
       "      <td>-0.007490</td>\n",
       "    </tr>\n",
       "    <tr>\n",
       "      <th>6</th>\n",
       "      <td>MultipleLines</td>\n",
       "      <td>0.019983</td>\n",
       "    </tr>\n",
       "    <tr>\n",
       "      <th>7</th>\n",
       "      <td>InternetService</td>\n",
       "      <td>0.013798</td>\n",
       "    </tr>\n",
       "    <tr>\n",
       "      <th>8</th>\n",
       "      <td>OnlineSecurity</td>\n",
       "      <td>-0.041378</td>\n",
       "    </tr>\n",
       "    <tr>\n",
       "      <th>9</th>\n",
       "      <td>OnlineBackup</td>\n",
       "      <td>-0.026654</td>\n",
       "    </tr>\n",
       "    <tr>\n",
       "      <th>10</th>\n",
       "      <td>DeviceProtection</td>\n",
       "      <td>-0.018011</td>\n",
       "    </tr>\n",
       "    <tr>\n",
       "      <th>11</th>\n",
       "      <td>TechSupport</td>\n",
       "      <td>-0.040563</td>\n",
       "    </tr>\n",
       "    <tr>\n",
       "      <th>12</th>\n",
       "      <td>StreamingTV</td>\n",
       "      <td>0.007033</td>\n",
       "    </tr>\n",
       "    <tr>\n",
       "      <th>13</th>\n",
       "      <td>StreamingMovies</td>\n",
       "      <td>0.002676</td>\n",
       "    </tr>\n",
       "    <tr>\n",
       "      <th>14</th>\n",
       "      <td>Contract</td>\n",
       "      <td>-0.044737</td>\n",
       "    </tr>\n",
       "    <tr>\n",
       "      <th>15</th>\n",
       "      <td>PaperlessBilling</td>\n",
       "      <td>0.065126</td>\n",
       "    </tr>\n",
       "    <tr>\n",
       "      <th>16</th>\n",
       "      <td>PaymentMethod</td>\n",
       "      <td>0.011571</td>\n",
       "    </tr>\n",
       "  </tbody>\n",
       "</table>\n",
       "</div>"
      ],
      "text/plain": [
       "                   0         0\n",
       "0     MonthlyCharges  0.147793\n",
       "1             tenure -0.034041\n",
       "2       TotalCharges -0.110232\n",
       "3      SeniorCitizen  0.057312\n",
       "4            Partner -0.009334\n",
       "5         Dependents -0.007490\n",
       "6      MultipleLines  0.019983\n",
       "7    InternetService  0.013798\n",
       "8     OnlineSecurity -0.041378\n",
       "9       OnlineBackup -0.026654\n",
       "10  DeviceProtection -0.018011\n",
       "11       TechSupport -0.040563\n",
       "12       StreamingTV  0.007033\n",
       "13   StreamingMovies  0.002676\n",
       "14          Contract -0.044737\n",
       "15  PaperlessBilling  0.065126\n",
       "16     PaymentMethod  0.011571"
      ]
     },
     "execution_count": 128,
     "metadata": {},
     "output_type": "execute_result"
    }
   ],
   "source": [
    "from sklearn.linear_model import LinearRegression\n",
    "lm = LinearRegression()\n",
    "lm = lm.fit(X_train,y_train)   #lm.fit(input,output)\n",
    "lm.coef_\n",
    "\n",
    "coefficients = pd.concat([pd.DataFrame(df1.columns),pd.DataFrame(np.transpose(lm.coef_))], axis = 1)\n",
    "coefficients"
   ]
  },
  {
   "cell_type": "code",
   "execution_count": 79,
   "metadata": {},
   "outputs": [
    {
     "name": "stdout",
     "output_type": "stream",
     "text": [
      "('GBM', 0.7927912356229518, 0.01861018421450971)\n",
      "('RF', 0.7755503437640556, 0.019106401065164588)\n",
      "('DT', 0.7291344856390156, 0.022173628256622644)\n",
      "('ADA', 0.7953273790400308, 0.018141380497431386)\n"
     ]
    },
    {
     "data": {
      "image/png": "[encoded data removed]",
      "text/plain": [
       "<Figure size 432x288 with 1 Axes>"
      ]
     },
     "metadata": {},
     "output_type": "display_data"
    }
   ],
   "source": [
    "from sklearn.tree import DecisionTreeClassifier\n",
    "from sklearn.ensemble import RandomForestClassifier,AdaBoostClassifier,GradientBoostingClassifier\n",
    "\n",
    "from sklearn import model_selection\n",
    "import matplotlib.pyplot as plt\n",
    "\n",
    "# generate list of models  \n",
    "models = []\n",
    "models.append(('GBM', GradientBoostingClassifier()))\n",
    "models.append(('RF', RandomForestClassifier()))\n",
    "models.append(('DT', DecisionTreeClassifier()))\n",
    "models.append(('ADA', AdaBoostClassifier()))\n",
    "\n",
    "\n",
    "# check model performance\n",
    "results = []\n",
    "names = []\n",
    "seed = 7\n",
    "scoring='accuracy'\n",
    "for name, model in models:\n",
    "    kfold = model_selection.KFold(n_splits = 10, random_state=seed)\n",
    "    cv_results = model_selection.cross_val_score(model, X_train, y_train, cv=kfold, scoring = scoring)\n",
    "    results.append(cv_results)\n",
    "    names.append(name)\n",
    "    msg = (name, cv_results.mean(), cv_results.std())\n",
    "    print (msg)\n",
    "\n",
    "# compare algorithms\n",
    "fig = plt.figure()\n",
    "fig.suptitle(\"algorithm comparision\")\n",
    "ax = fig.add_subplot(111)\n",
    "plt.boxplot(results)\n",
    "ax.set_xticklabels(names)\n",
    "plt.show()\n"
   ]
  },
  {
   "cell_type": "code",
   "execution_count": 80,
   "metadata": {},
   "outputs": [],
   "source": [
    "from sklearn.metrics import accuracy_score\n",
    "from sklearn.metrics import confusion_matrix\n",
    "from sklearn.metrics import classification_report\n",
    "\n",
    "def evaluate(model, X_test, y_test):\n",
    "    y_pred = model.predict(X_test)\n",
    "    accuracy = accuracy_score(y_test,y_pred)\n",
    "    matrix = confusion_matrix(y_test, y_pred)\n",
    "    report = classification_report(y_test, y_pred)\n",
    "    print(\"accuracy :\" +str(accuracy))\n",
    "    print(\"matrix :\")\n",
    "    print(matrix)\n",
    "    print(\"report :\")\n",
    "    print(report)\n",
    "    return accuracy"
   ]
  },
  {
   "cell_type": "code",
   "execution_count": 81,
   "metadata": {},
   "outputs": [],
   "source": [
    "from sklearn.ensemble import GradientBoostingClassifier,RandomForestClassifier,AdaBoostClassifier"
   ]
  },
  {
   "cell_type": "code",
   "execution_count": 82,
   "metadata": {},
   "outputs": [
    {
     "name": "stdout",
     "output_type": "stream",
     "text": [
      "{'criterion': ['friedman_mse'],\n",
      " 'learning_rate': [0.1, 0.05, 0.02, 0.01],\n",
      " 'loss': ['deviance', 'exponential'],\n",
      " 'max_depth': [4, 6, 8],\n",
      " 'min_samples_leaf': [20, 50, 100, 150],\n",
      " 'min_samples_split': [2, 5, 10],\n",
      " 'n_estimators': [100,\n",
      "                  200,\n",
      "                  300,\n",
      "                  400,\n",
      "                  500,\n",
      "                  600,\n",
      "                  700,\n",
      "                  800,\n",
      "                  900,\n",
      "                  1000,\n",
      "                  1100,\n",
      "                  1200,\n",
      "                  1300,\n",
      "                  1400,\n",
      "                  1500,\n",
      "                  1600,\n",
      "                  1700,\n",
      "                  1800,\n",
      "                  1900,\n",
      "                  2000],\n",
      " 'random_state': [21]}\n"
     ]
    }
   ],
   "source": [
    "from pprint import pprint\n",
    "GBM = GradientBoostingClassifier()\n",
    "from sklearn.model_selection import RandomizedSearchCV\n",
    "# Number of iterations needed\n",
    "n_estimators = [int(x) for x in np.linspace(100, 2000, num = 20)]\n",
    "learning_rate = [0.1, 0.05, 0.02, 0.01]\n",
    "max_features = ['sqrt','auto','log2','None','1','0.1']\n",
    "loss = ['deviance', 'exponential']\n",
    "max_depth = [4, 6, 8]\n",
    "criterion = ['friedman_mse']\n",
    "min_samples_split = [2, 5, 10]\n",
    "min_samples_leaf = [20,50,100,150]\n",
    "random_state = [21]\n",
    "# Create the random grid\n",
    "random_grid_gbm = {'n_estimators': n_estimators,\n",
    "               'learning_rate': learning_rate,\n",
    "               'loss':loss,\n",
    "               'max_depth': max_depth,\n",
    "               'criterion': criterion,\n",
    "               'min_samples_split': min_samples_split,\n",
    "               'min_samples_leaf': min_samples_leaf,\n",
    "               'random_state': random_state}\n",
    "pprint(random_grid_gbm)"
   ]
  },
  {
   "cell_type": "code",
   "execution_count": 84,
   "metadata": {},
   "outputs": [],
   "source": [
    "GBM = GradientBoostingClassifier()\n",
    "# Random search of parameters, using 3 fold cross validation,\n",
    "# search across 100 different combinations, and use all available cores\n",
    "gbm_random = RandomizedSearchCV(estimator = GBM, param_distributions = random_grid_gbm, n_iter = 5, cv = 3, verbose=2, random_state=42, n_jobs = -1)\n"
   ]
  },
  {
   "cell_type": "code",
   "execution_count": 85,
   "metadata": {},
   "outputs": [
    {
     "name": "stdout",
     "output_type": "stream",
     "text": [
      "Fitting 3 folds for each of 5 candidates, totalling 15 fits\n"
     ]
    },
    {
     "name": "stderr",
     "output_type": "stream",
     "text": [
      "[Parallel(n_jobs=-1)]: Done  15 out of  15 | elapsed:   30.2s finished\n"
     ]
    },
    {
     "data": {
      "text/plain": [
       "RandomizedSearchCV(cv=3, error_score='raise',\n",
       "          estimator=GradientBoostingClassifier(criterion='friedman_mse', init=None,\n",
       "              learning_rate=0.1, loss='deviance', max_depth=3,\n",
       "              max_features=None, max_leaf_nodes=None,\n",
       "              min_impurity_decrease=0.0, min_impurity_split=None,\n",
       "              min_samples_leaf=1, min_samples_split=2,\n",
       "              min_weight_fraction_leaf=0.0, n_estimators=100,\n",
       "              presort='auto', random_state=None, subsample=1.0, verbose=0,\n",
       "              warm_start=False),\n",
       "          fit_params=None, iid=True, n_iter=5, n_jobs=-1,\n",
       "          param_distributions={'n_estimators': [100, 200, 300, 400, 500, 600, 700, 800, 900, 1000, 1100, 1200, 1300, 1400, 1500, 1600, 1700, 1800, 1900, 2000], 'learning_rate': [0.1, 0.05, 0.02, 0.01], 'loss': ['deviance', 'exponential'], 'max_depth': [4, 6, 8], 'criterion': ['friedman_mse'], 'min_samples_split': [2, 5, 10], 'min_samples_leaf': [20, 50, 100, 150], 'random_state': [21]},\n",
       "          pre_dispatch='2*n_jobs', random_state=42, refit=True,\n",
       "          return_train_score='warn', scoring=None, verbose=2)"
      ]
     },
     "execution_count": 85,
     "metadata": {},
     "output_type": "execute_result"
    }
   ],
   "source": [
    "# Fit the random search model\n",
    "gbm_random.fit(X_train, y_train)"
   ]
  },
  {
   "cell_type": "code",
   "execution_count": 86,
   "metadata": {},
   "outputs": [
    {
     "name": "stdout",
     "output_type": "stream",
     "text": [
      "accuracy :0.8083973979893554\n",
      "matrix :\n",
      "[[1115  100]\n",
      " [ 224  252]]\n",
      "report :\n",
      "             precision    recall  f1-score   support\n",
      "\n",
      "          0       0.83      0.92      0.87      1215\n",
      "          1       0.72      0.53      0.61       476\n",
      "\n",
      "avg / total       0.80      0.81      0.80      1691\n",
      "\n"
     ]
    }
   ],
   "source": [
    "gbm_best_accuracy = evaluate(gbm_random,X_test,y_test)"
   ]
  },
  {
   "cell_type": "code",
   "execution_count": 87,
   "metadata": {},
   "outputs": [
    {
     "name": "stdout",
     "output_type": "stream",
     "text": [
      "[ 5  4 12 13 10  7  3  9  8 15  6 11 16 14  1  0  2]\n",
      "[ 0.5  1.5  2.5  3.5  4.5  5.5  6.5  7.5  8.5  9.5 10.5 11.5 12.5 13.5\n",
      " 14.5 15.5 16.5]\n",
      "<class 'numpy.ndarray'>\n",
      "<class 'numpy.ndarray'>\n"
     ]
    },
    {
     "data": {
      "image/png": "[encoded data removed]",
      "text/plain": [
       "<Figure size 432x288 with 1 Axes>"
      ]
     },
     "metadata": {},
     "output_type": "display_data"
    },
    {
     "name": "stdout",
     "output_type": "stream",
     "text": [
      "['MonthlyCharges' 'tenure' 'TotalCharges' 'SeniorCitizen' 'Partner'\n",
      " 'Dependents' 'MultipleLines' 'InternetService' 'OnlineSecurity'\n",
      " 'OnlineBackup' 'DeviceProtection' 'TechSupport' 'StreamingTV'\n",
      " 'StreamingMovies' 'Contract' 'PaperlessBilling' 'PaymentMethod']\n",
      "[0.21977107 0.13041145 0.26121144 0.01985728 0.00481142 0.00351052\n",
      " 0.03839997 0.0151754  0.03048089 0.02418185 0.0129097  0.03862124\n",
      " 0.00500326 0.00728995 0.10220758 0.03383655 0.05232042]\n"
     ]
    }
   ],
   "source": [
    "feature_names=df[df1.columns[fit.support_]].columns\n",
    "feature_importance = gbm_random.best_estimator_.feature_importances_\n",
    "sorted_idx = np.argsort(feature_importance)\n",
    "pos = np.arange(sorted_idx.shape[0]) + .5\n",
    "print(sorted_idx)\n",
    "print(pos)\n",
    "print(type(np.array(feature_names)))\n",
    "print(type(feature_importance))\n",
    "\n",
    "\n",
    "# In[183]:\n",
    "\n",
    "\n",
    "plt.barh(pos, feature_importance[sorted_idx], align='center')\n",
    "plt.yticks(pos, feature_names[sorted_idx])\n",
    "\n",
    "feature_names[sorted_idx]\n",
    "plt.show()\n",
    "print((np.array(feature_names)))\n",
    "print(feature_importance)"
   ]
  },
  {
   "cell_type": "code",
   "execution_count": null,
   "metadata": {},
   "outputs": [],
   "source": [
    "from sklearn.model_selection import RandomizedSearchCV\n",
    "# Number of trees in random forest\n",
    "n_estimators = [int(x) for x in np.linspace(start = 100, stop = 2000, num = 20)]\n",
    "# Number of features to consider at every split\n",
    "max_features = ['auto', 'sqrt']\n",
    "# Maximum number of levels in tree\n",
    "max_depth = [int(x) for x in np.linspace(10, 110, num = 11)]\n",
    "max_depth.append(None)\n",
    "# Minimum number of samples required to split a node\n",
    "min_samples_split = [2, 5, 10]\n",
    "# Minimum number of samples required at each leaf node\n",
    "min_samples_leaf = [1, 2, 4]\n",
    "# Method of selecting samples for training each tree\n",
    "bootstrap = [True, False]\n",
    "# Create the random grid\n",
    "random_grid = {'n_estimators': n_estimators,\n",
    "               'max_features': max_features,\n",
    "               'max_depth': max_depth,\n",
    "               'min_samples_split': min_samples_split,\n",
    "               'min_samples_leaf': min_samples_leaf,\n",
    "               'bootstrap': bootstrap}\n",
    "pprint(random_grid)"
   ]
  },
  {
   "cell_type": "code",
   "execution_count": null,
   "metadata": {},
   "outputs": [],
   "source": [
    "# First create the base model to tune\n",
    "rf = RandomForestClassifier()\n",
    "# Random search of parameters, using 3 fold cross validation,\n",
    "# search across 100 different combinations, and use all available cores\n",
    "rf_random = RandomizedSearchCV(estimator = rf, param_distributions = random_grid, n_iter = 5, cv = 5, verbose=2, random_state=42, n_jobs = -1)\n",
    "# Fit the random search model\n",
    "rf_random.fit(X_train, y_train)"
   ]
  },
  {
   "cell_type": "code",
   "execution_count": null,
   "metadata": {},
   "outputs": [],
   "source": [
    "rf_best_accuracy = evaluate(rf_random,X_test,y_test)"
   ]
  },
  {
   "cell_type": "code",
   "execution_count": null,
   "metadata": {},
   "outputs": [],
   "source": [
    "# import pickle\n",
    "import pickle\n",
    "\n",
    "# save the model to disk\n",
    "filename1 = 'finalized_gbm.sav'\n",
    "pickle.dump(gbm_random, open(filename1, 'wb'))\n",
    "\n",
    "# save the model to disk\n",
    "filename2 = 'finalized_rf.sav'\n",
    "pickle.dump(rf_random, open(filename2, 'wb'))"
   ]
  },
  {
   "cell_type": "code",
   "execution_count": null,
   "metadata": {},
   "outputs": [],
   "source": [
    "feature_names=df[df1.columns[fit.support_]].columns\n",
    "feature_importance = rf_random.best_estimator_.feature_importances_\n",
    "sorted_idx = np.argsort(feature_importance)\n",
    "pos = np.arange(sorted_idx.shape[0]) + .5\n",
    "print(sorted_idx)\n",
    "print(pos)\n",
    "print(type(np.array(feature_names)))\n",
    "print(type(feature_importance))\n",
    "\n",
    "\n",
    "# In[183]:\n",
    "\n",
    "\n",
    "plt.barh(pos, feature_importance[sorted_idx], align='center')\n",
    "plt.yticks(pos, feature_names[sorted_idx])\n",
    "\n",
    "feature_names[sorted_idx]\n",
    "plt.show()\n",
    "print((np.array(feature_names)))\n",
    "print(feature_importance)"
   ]
  },
  {
   "cell_type": "code",
   "execution_count": null,
   "metadata": {},
   "outputs": [],
   "source": [
    "from pprint import pprint\n",
    "ADA = AdaBoostClassifier()\n",
    "from sklearn.model_selection import RandomizedSearchCV\n",
    "# Number of iterations needed\n",
    "n_estimators = [int(x) for x in np.linspace(100, 2000, num = 20)]\n",
    "learning_rate = [0.1, 0.05, 0.02, 0.01]\n",
    "algorithm  = ['SAMME', 'SAMME.R']\n",
    "# Maximum number of levels in tree\n",
    "max_depth = [int(x) for x in np.linspace(10, 110, num = 11)]\n",
    "max_depth.append(None)\n",
    "# Minimum number of samples required at each leaf node\n",
    "min_samples_leaf = [1, 2, 4]\n",
    "random_state = [21]\n",
    "\n",
    "# Create the random grid\n",
    "random_grid_ada = {'n_estimators': n_estimators,\n",
    " #                 'learning_rate': learning_rate,\n",
    "                   'algorithm':algorithm,\n",
    " #                 'max_depth': max_depth,\n",
    " #                 'min_samples_leaf': min_samples_leaf,\n",
    "                   'random_state': random_state}\n",
    "pprint(random_grid_ada)"
   ]
  },
  {
   "cell_type": "code",
   "execution_count": null,
   "metadata": {},
   "outputs": [],
   "source": [
    "# First create the base model to tune\n",
    "ada = AdaBoostClassifier()\n",
    "# Random search of parameters, using 3 fold cross validation,\n",
    "# search across 100 different combinations, and use all available cores\n",
    "ada_random = RandomizedSearchCV(estimator = ada, param_distributions = random_grid_ada, n_iter = 5, cv = 5, verbose=2, random_state=42, n_jobs = -1)\n",
    "# Fit the random search model\n",
    "ada_random.fit(X_train, y_train)"
   ]
  },
  {
   "cell_type": "code",
   "execution_count": null,
   "metadata": {},
   "outputs": [],
   "source": [
    "ada_best_accuracy = evaluate(ada_random,X_test,y_test)"
   ]
  },
  {
   "cell_type": "code",
   "execution_count": 34,
   "metadata": {},
   "outputs": [
    {
     "name": "stderr",
     "output_type": "stream",
     "text": [
      "c:\\anaconda3\\envs\\tensorflow\\lib\\site-packages\\h5py\\__init__.py:36: FutureWarning: Conversion of the second argument of issubdtype from `float` to `np.floating` is deprecated. In future, it will be treated as `np.float64 == np.dtype(float).type`.\n",
      "  from ._conv import register_converters as _register_converters\n",
      "Using TensorFlow backend.\n"
     ]
    }
   ],
   "source": [
    "import tensorflow as tf\n",
    "import keras\n",
    "from keras.models import Sequential\n",
    "from keras.layers import Dense\n",
    "from keras.wrappers.scikit_learn import KerasClassifier\n",
    "import numpy as np\n",
    "import pandas as pd\n",
    "# fix random seed for reproducibility\n",
    "np.random.seed(7)"
   ]
  },
  {
   "cell_type": "code",
   "execution_count": 37,
   "metadata": {},
   "outputs": [],
   "source": [
    "input_dimenation = X.shape[1]"
   ]
  },
  {
   "cell_type": "code",
   "execution_count": 38,
   "metadata": {},
   "outputs": [],
   "source": [
    "# create model\n",
    "def create_model():\n",
    "    model = Sequential()\n",
    "    model.add(Dense(12, input_dim = input_dimenation, activation='relu'))\n",
    "    model.add(Dense(12, activation='relu'))\n",
    "    model.add(Dense(1, activation='sigmoid'))\n",
    "    # Compile model\n",
    "    model.compile(loss='binary_crossentropy', optimizer='adam', metrics=['accuracy'])\n",
    "    return model"
   ]
  },
  {
   "cell_type": "code",
   "execution_count": 40,
   "metadata": {},
   "outputs": [],
   "source": [
    "seed=7\n",
    "np.random.seed(seed)\n",
    "# create model\n",
    "model = KerasClassifier(build_fn=create_model, epochs=150, batch_size=100, verbose=1)"
   ]
  },
  {
   "cell_type": "code",
   "execution_count": 43,
   "metadata": {},
   "outputs": [
    {
     "name": "stdout",
     "output_type": "stream",
     "text": [
      "Epoch 1/150\n",
      "3943/3943 [==============================] - 5s 1ms/step - loss: 0.7111 - acc: 0.5148\n",
      "Epoch 2/150\n",
      "3943/3943 [==============================] - 0s 85us/step - loss: 0.5653 - acc: 0.7345\n",
      "Epoch 3/150\n",
      "3943/3943 [==============================] - 0s 83us/step - loss: 0.5201 - acc: 0.7492\n",
      "Epoch 4/150\n",
      "3943/3943 [==============================] - 0s 87us/step - loss: 0.4918 - acc: 0.7674\n",
      "Epoch 5/150\n",
      "3943/3943 [==============================] - 0s 92us/step - loss: 0.4713 - acc: 0.7745\n",
      "Epoch 6/150\n",
      "3943/3943 [==============================] - 0s 85us/step - loss: 0.4583 - acc: 0.7771\n",
      "Epoch 7/150\n",
      "3943/3943 [==============================] - 0s 92us/step - loss: 0.4493 - acc: 0.7842\n",
      "Epoch 8/150\n",
      "3943/3943 [==============================] - 0s 84us/step - loss: 0.4401 - acc: 0.7880\n",
      "Epoch 9/150\n",
      "3943/3943 [==============================] - 0s 89us/step - loss: 0.4351 - acc: 0.7870\n",
      "Epoch 10/150\n",
      "3943/3943 [==============================] - 0s 100us/step - loss: 0.4301 - acc: 0.7913\n",
      "Epoch 11/150\n",
      "3943/3943 [==============================] - 0s 90us/step - loss: 0.4260 - acc: 0.7915\n",
      "Epoch 12/150\n",
      "3943/3943 [==============================] - 0s 90us/step - loss: 0.4222 - acc: 0.7946\n",
      "Epoch 13/150\n",
      "3943/3943 [==============================] - 0s 85us/step - loss: 0.4204 - acc: 0.7969\n",
      "Epoch 14/150\n",
      "3943/3943 [==============================] - 0s 85us/step - loss: 0.4202 - acc: 0.7969\n",
      "Epoch 15/150\n",
      "3943/3943 [==============================] - 0s 89us/step - loss: 0.4180 - acc: 0.7999\n",
      "Epoch 16/150\n",
      "3943/3943 [==============================] - 0s 86us/step - loss: 0.4181 - acc: 0.7971\n",
      "Epoch 17/150\n",
      "3943/3943 [==============================] - 0s 90us/step - loss: 0.4160 - acc: 0.8007\n",
      "Epoch 18/150\n",
      "3943/3943 [==============================] - 0s 91us/step - loss: 0.4162 - acc: 0.8047\n",
      "Epoch 19/150\n",
      "3943/3943 [==============================] - 0s 87us/step - loss: 0.4149 - acc: 0.8002\n",
      "Epoch 20/150\n",
      "3943/3943 [==============================] - 0s 79us/step - loss: 0.4140 - acc: 0.8027\n",
      "Epoch 21/150\n",
      "3943/3943 [==============================] - 0s 88us/step - loss: 0.4134 - acc: 0.8017\n",
      "Epoch 22/150\n",
      "3943/3943 [==============================] - 0s 83us/step - loss: 0.4129 - acc: 0.8065\n",
      "Epoch 23/150\n",
      "3943/3943 [==============================] - 0s 86us/step - loss: 0.4128 - acc: 0.8042\n",
      "Epoch 24/150\n",
      "3943/3943 [==============================] - 0s 93us/step - loss: 0.4123 - acc: 0.8019\n",
      "Epoch 25/150\n",
      "3943/3943 [==============================] - 1s 150us/step - loss: 0.4116 - acc: 0.8024 0s - loss: 0.4115 - acc: 0\n",
      "Epoch 26/150\n",
      "3943/3943 [==============================] - 1s 142us/step - loss: 0.4109 - acc: 0.8029\n",
      "Epoch 27/150\n",
      "3943/3943 [==============================] - 0s 91us/step - loss: 0.4102 - acc: 0.8047\n",
      "Epoch 28/150\n",
      "3943/3943 [==============================] - 0s 81us/step - loss: 0.4103 - acc: 0.7979\n",
      "Epoch 29/150\n",
      "3943/3943 [==============================] - 0s 79us/step - loss: 0.4112 - acc: 0.8019\n",
      "Epoch 30/150\n",
      "3943/3943 [==============================] - 0s 79us/step - loss: 0.4099 - acc: 0.8037\n",
      "Epoch 31/150\n",
      "3943/3943 [==============================] - 0s 82us/step - loss: 0.4093 - acc: 0.8050\n",
      "Epoch 32/150\n",
      "3943/3943 [==============================] - 0s 73us/step - loss: 0.4102 - acc: 0.8029\n",
      "Epoch 33/150\n",
      "3943/3943 [==============================] - 0s 83us/step - loss: 0.4084 - acc: 0.8050\n",
      "Epoch 34/150\n",
      "3943/3943 [==============================] - 1s 138us/step - loss: 0.4086 - acc: 0.8040\n",
      "Epoch 35/150\n",
      "3943/3943 [==============================] - 0s 84us/step - loss: 0.4078 - acc: 0.8047\n",
      "Epoch 36/150\n",
      "3943/3943 [==============================] - 0s 80us/step - loss: 0.4080 - acc: 0.8029\n",
      "Epoch 37/150\n",
      "3943/3943 [==============================] - 0s 85us/step - loss: 0.4076 - acc: 0.8057\n",
      "Epoch 38/150\n",
      "3943/3943 [==============================] - 0s 84us/step - loss: 0.4073 - acc: 0.8050\n",
      "Epoch 39/150\n",
      "3943/3943 [==============================] - 0s 79us/step - loss: 0.4061 - acc: 0.8055\n",
      "Epoch 40/150\n",
      "3943/3943 [==============================] - 0s 119us/step - loss: 0.4071 - acc: 0.8034\n",
      "Epoch 41/150\n",
      "3943/3943 [==============================] - 0s 73us/step - loss: 0.4064 - acc: 0.8057\n",
      "Epoch 42/150\n",
      "3943/3943 [==============================] - 0s 81us/step - loss: 0.4055 - acc: 0.8080\n",
      "Epoch 43/150\n",
      "3943/3943 [==============================] - 0s 83us/step - loss: 0.4060 - acc: 0.8037\n",
      "Epoch 44/150\n",
      "3943/3943 [==============================] - 0s 89us/step - loss: 0.4051 - acc: 0.8083\n",
      "Epoch 45/150\n",
      "3943/3943 [==============================] - 0s 81us/step - loss: 0.4070 - acc: 0.8047\n",
      "Epoch 46/150\n",
      "3943/3943 [==============================] - 0s 122us/step - loss: 0.4053 - acc: 0.8070\n",
      "Epoch 47/150\n",
      "3943/3943 [==============================] - 0s 76us/step - loss: 0.4058 - acc: 0.8024\n",
      "Epoch 48/150\n",
      "3943/3943 [==============================] - 0s 81us/step - loss: 0.4048 - acc: 0.8093\n",
      "Epoch 49/150\n",
      "3943/3943 [==============================] - 0s 87us/step - loss: 0.4041 - acc: 0.8088\n",
      "Epoch 50/150\n",
      "3943/3943 [==============================] - 0s 85us/step - loss: 0.4041 - acc: 0.8090\n",
      "Epoch 51/150\n",
      "3943/3943 [==============================] - 0s 89us/step - loss: 0.4055 - acc: 0.8045\n",
      "Epoch 52/150\n",
      "3943/3943 [==============================] - 0s 99us/step - loss: 0.4032 - acc: 0.8062\n",
      "Epoch 53/150\n",
      "3943/3943 [==============================] - 0s 124us/step - loss: 0.4030 - acc: 0.8075\n",
      "Epoch 54/150\n",
      "3943/3943 [==============================] - 0s 90us/step - loss: 0.4035 - acc: 0.8073\n",
      "Epoch 55/150\n",
      "3943/3943 [==============================] - 0s 78us/step - loss: 0.4027 - acc: 0.8070\n",
      "Epoch 56/150\n",
      "3943/3943 [==============================] - 0s 78us/step - loss: 0.4021 - acc: 0.8060\n",
      "Epoch 57/150\n",
      "3943/3943 [==============================] - 0s 119us/step - loss: 0.4029 - acc: 0.8070\n",
      "Epoch 58/150\n",
      "3943/3943 [==============================] - 0s 74us/step - loss: 0.4022 - acc: 0.8078\n",
      "Epoch 59/150\n",
      "3943/3943 [==============================] - 0s 78us/step - loss: 0.4024 - acc: 0.8075\n",
      "Epoch 60/150\n",
      "3943/3943 [==============================] - 0s 81us/step - loss: 0.4018 - acc: 0.8060\n",
      "Epoch 61/150\n",
      "3943/3943 [==============================] - 0s 82us/step - loss: 0.4012 - acc: 0.8070\n",
      "Epoch 62/150\n",
      "3943/3943 [==============================] - 0s 79us/step - loss: 0.4010 - acc: 0.8047\n",
      "Epoch 63/150\n",
      "3943/3943 [==============================] - 0s 93us/step - loss: 0.4012 - acc: 0.8083\n",
      "Epoch 64/150\n",
      "3943/3943 [==============================] - 0s 98us/step - loss: 0.4019 - acc: 0.8070\n",
      "Epoch 65/150\n",
      "3943/3943 [==============================] - 0s 85us/step - loss: 0.4000 - acc: 0.8095\n",
      "Epoch 66/150\n",
      "3943/3943 [==============================] - 0s 89us/step - loss: 0.3999 - acc: 0.8085\n",
      "Epoch 67/150\n",
      "3943/3943 [==============================] - 0s 88us/step - loss: 0.4024 - acc: 0.8062\n",
      "Epoch 68/150\n",
      "3943/3943 [==============================] - 0s 85us/step - loss: 0.4002 - acc: 0.8067\n",
      "Epoch 69/150\n",
      "3943/3943 [==============================] - 0s 78us/step - loss: 0.4000 - acc: 0.8080\n",
      "Epoch 70/150\n",
      "3943/3943 [==============================] - 0s 80us/step - loss: 0.3991 - acc: 0.8070\n",
      "Epoch 71/150\n",
      "3943/3943 [==============================] - 0s 76us/step - loss: 0.3993 - acc: 0.8083\n",
      "Epoch 72/150\n",
      "3943/3943 [==============================] - 0s 85us/step - loss: 0.4007 - acc: 0.8088\n",
      "Epoch 73/150\n",
      "3943/3943 [==============================] - 0s 91us/step - loss: 0.3986 - acc: 0.8055\n",
      "Epoch 74/150\n",
      "3943/3943 [==============================] - 0s 78us/step - loss: 0.3988 - acc: 0.8062\n",
      "Epoch 75/150\n",
      "3943/3943 [==============================] - 0s 81us/step - loss: 0.3982 - acc: 0.8055\n",
      "Epoch 76/150\n",
      "3943/3943 [==============================] - 0s 74us/step - loss: 0.3987 - acc: 0.8070\n",
      "Epoch 77/150\n",
      "3943/3943 [==============================] - 0s 85us/step - loss: 0.3976 - acc: 0.8073\n",
      "Epoch 78/150\n",
      "3943/3943 [==============================] - 0s 82us/step - loss: 0.3980 - acc: 0.8095\n",
      "Epoch 79/150\n",
      "3943/3943 [==============================] - 0s 87us/step - loss: 0.3984 - acc: 0.8078\n",
      "Epoch 80/150\n",
      "3943/3943 [==============================] - 0s 84us/step - loss: 0.3984 - acc: 0.8073\n",
      "Epoch 81/150\n",
      "3943/3943 [==============================] - 0s 85us/step - loss: 0.3979 - acc: 0.8098\n",
      "Epoch 82/150\n"
     ]
    },
    {
     "name": "stdout",
     "output_type": "stream",
     "text": [
      "3943/3943 [==============================] - 0s 81us/step - loss: 0.3977 - acc: 0.8085\n",
      "Epoch 83/150\n",
      "3943/3943 [==============================] - 0s 86us/step - loss: 0.3966 - acc: 0.8106\n",
      "Epoch 84/150\n",
      "3943/3943 [==============================] - 0s 82us/step - loss: 0.3971 - acc: 0.8078\n",
      "Epoch 85/150\n",
      "3943/3943 [==============================] - 0s 88us/step - loss: 0.3966 - acc: 0.8090\n",
      "Epoch 86/150\n",
      "3943/3943 [==============================] - 0s 83us/step - loss: 0.3970 - acc: 0.8083\n",
      "Epoch 87/150\n",
      "3943/3943 [==============================] - 0s 84us/step - loss: 0.3963 - acc: 0.8078\n",
      "Epoch 88/150\n",
      "3943/3943 [==============================] - 0s 79us/step - loss: 0.3974 - acc: 0.8121\n",
      "Epoch 89/150\n",
      "3943/3943 [==============================] - 0s 91us/step - loss: 0.3972 - acc: 0.8095\n",
      "Epoch 90/150\n",
      "3943/3943 [==============================] - 0s 92us/step - loss: 0.3959 - acc: 0.8090\n",
      "Epoch 91/150\n",
      "3943/3943 [==============================] - 0s 85us/step - loss: 0.3958 - acc: 0.8088\n",
      "Epoch 92/150\n",
      "3943/3943 [==============================] - 0s 88us/step - loss: 0.3953 - acc: 0.8108\n",
      "Epoch 93/150\n",
      "3943/3943 [==============================] - 0s 85us/step - loss: 0.3969 - acc: 0.8083\n",
      "Epoch 94/150\n",
      "3943/3943 [==============================] - 0s 82us/step - loss: 0.3946 - acc: 0.8106\n",
      "Epoch 95/150\n",
      "3943/3943 [==============================] - 0s 85us/step - loss: 0.3948 - acc: 0.8090\n",
      "Epoch 96/150\n",
      "3943/3943 [==============================] - 0s 86us/step - loss: 0.3939 - acc: 0.8116\n",
      "Epoch 97/150\n",
      "3943/3943 [==============================] - 0s 85us/step - loss: 0.3944 - acc: 0.8108\n",
      "Epoch 98/150\n",
      "3943/3943 [==============================] - 0s 87us/step - loss: 0.3955 - acc: 0.8088\n",
      "Epoch 99/150\n",
      "3943/3943 [==============================] - 0s 85us/step - loss: 0.3941 - acc: 0.8100\n",
      "Epoch 100/150\n",
      "3943/3943 [==============================] - 1s 128us/step - loss: 0.3942 - acc: 0.8133\n",
      "Epoch 101/150\n",
      "3943/3943 [==============================] - 1s 153us/step - loss: 0.3950 - acc: 0.8093\n",
      "Epoch 102/150\n",
      "3943/3943 [==============================] - 1s 159us/step - loss: 0.3933 - acc: 0.8146\n",
      "Epoch 103/150\n",
      "3943/3943 [==============================] - 1s 143us/step - loss: 0.3930 - acc: 0.8126\n",
      "Epoch 104/150\n",
      "3943/3943 [==============================] - 0s 113us/step - loss: 0.3926 - acc: 0.8121 0s - loss: 0.3863 - acc: \n",
      "Epoch 105/150\n",
      "3943/3943 [==============================] - 0s 96us/step - loss: 0.3931 - acc: 0.8126\n",
      "Epoch 106/150\n",
      "3943/3943 [==============================] - 0s 82us/step - loss: 0.3927 - acc: 0.8111\n",
      "Epoch 107/150\n",
      "3943/3943 [==============================] - 0s 90us/step - loss: 0.3931 - acc: 0.8154\n",
      "Epoch 108/150\n",
      "3943/3943 [==============================] - 0s 78us/step - loss: 0.3925 - acc: 0.8121\n",
      "Epoch 109/150\n",
      "3943/3943 [==============================] - 1s 143us/step - loss: 0.3924 - acc: 0.8138\n",
      "Epoch 110/150\n",
      "3943/3943 [==============================] - 0s 103us/step - loss: 0.3951 - acc: 0.8146\n",
      "Epoch 111/150\n",
      "3943/3943 [==============================] - 0s 78us/step - loss: 0.3923 - acc: 0.8131\n",
      "Epoch 112/150\n",
      "3943/3943 [==============================] - 0s 93us/step - loss: 0.3917 - acc: 0.8159\n",
      "Epoch 113/150\n",
      "3943/3943 [==============================] - 0s 79us/step - loss: 0.3917 - acc: 0.8154\n",
      "Epoch 114/150\n",
      "3943/3943 [==============================] - 0s 84us/step - loss: 0.3930 - acc: 0.8131\n",
      "Epoch 115/150\n",
      "3943/3943 [==============================] - 0s 92us/step - loss: 0.3906 - acc: 0.8113\n",
      "Epoch 116/150\n",
      "3943/3943 [==============================] - 0s 84us/step - loss: 0.3914 - acc: 0.8151\n",
      "Epoch 117/150\n",
      "3943/3943 [==============================] - 0s 86us/step - loss: 0.3915 - acc: 0.8138\n",
      "Epoch 118/150\n",
      "3943/3943 [==============================] - 0s 82us/step - loss: 0.3911 - acc: 0.8138\n",
      "Epoch 119/150\n",
      "3943/3943 [==============================] - 0s 77us/step - loss: 0.3911 - acc: 0.8154\n",
      "Epoch 120/150\n",
      "3943/3943 [==============================] - 0s 88us/step - loss: 0.3903 - acc: 0.8146\n",
      "Epoch 121/150\n",
      "3943/3943 [==============================] - 0s 93us/step - loss: 0.3903 - acc: 0.8154\n",
      "Epoch 122/150\n",
      "3943/3943 [==============================] - 0s 88us/step - loss: 0.3907 - acc: 0.8171\n",
      "Epoch 123/150\n",
      "3943/3943 [==============================] - 0s 87us/step - loss: 0.3922 - acc: 0.8149\n",
      "Epoch 124/150\n",
      "3943/3943 [==============================] - 0s 95us/step - loss: 0.3902 - acc: 0.8146\n",
      "Epoch 125/150\n",
      "3943/3943 [==============================] - 0s 86us/step - loss: 0.3905 - acc: 0.8123\n",
      "Epoch 126/150\n",
      "3943/3943 [==============================] - 1s 130us/step - loss: 0.3896 - acc: 0.8159\n",
      "Epoch 127/150\n",
      "3943/3943 [==============================] - 0s 85us/step - loss: 0.3903 - acc: 0.8128\n",
      "Epoch 128/150\n",
      "3943/3943 [==============================] - 0s 95us/step - loss: 0.3892 - acc: 0.8164\n",
      "Epoch 129/150\n",
      "3943/3943 [==============================] - 0s 95us/step - loss: 0.3892 - acc: 0.8154\n",
      "Epoch 130/150\n",
      "3943/3943 [==============================] - 0s 78us/step - loss: 0.3893 - acc: 0.8177\n",
      "Epoch 131/150\n",
      "3943/3943 [==============================] - 0s 82us/step - loss: 0.3891 - acc: 0.8179\n",
      "Epoch 132/150\n",
      "3943/3943 [==============================] - 0s 84us/step - loss: 0.3890 - acc: 0.8184\n",
      "Epoch 133/150\n",
      "3943/3943 [==============================] - 0s 90us/step - loss: 0.3896 - acc: 0.8164\n",
      "Epoch 134/150\n",
      "3943/3943 [==============================] - 0s 89us/step - loss: 0.3886 - acc: 0.8156\n",
      "Epoch 135/150\n",
      "3943/3943 [==============================] - 0s 86us/step - loss: 0.3891 - acc: 0.8169\n",
      "Epoch 136/150\n",
      "3943/3943 [==============================] - 0s 77us/step - loss: 0.3885 - acc: 0.8146\n",
      "Epoch 137/150\n",
      "3943/3943 [==============================] - 0s 81us/step - loss: 0.3884 - acc: 0.8156\n",
      "Epoch 138/150\n",
      "3943/3943 [==============================] - 0s 79us/step - loss: 0.3889 - acc: 0.8159\n",
      "Epoch 139/150\n",
      "3943/3943 [==============================] - 0s 88us/step - loss: 0.3881 - acc: 0.8161\n",
      "Epoch 140/150\n",
      "3943/3943 [==============================] - 0s 80us/step - loss: 0.3880 - acc: 0.8166\n",
      "Epoch 141/150\n",
      "3943/3943 [==============================] - 0s 86us/step - loss: 0.3882 - acc: 0.8174\n",
      "Epoch 142/150\n",
      "3943/3943 [==============================] - 0s 80us/step - loss: 0.3888 - acc: 0.8161\n",
      "Epoch 143/150\n",
      "3943/3943 [==============================] - 0s 80us/step - loss: 0.3873 - acc: 0.8161\n",
      "Epoch 144/150\n",
      "3943/3943 [==============================] - 0s 92us/step - loss: 0.3882 - acc: 0.8171\n",
      "Epoch 145/150\n",
      "3943/3943 [==============================] - 0s 78us/step - loss: 0.3881 - acc: 0.8174\n",
      "Epoch 146/150\n",
      "3943/3943 [==============================] - 0s 97us/step - loss: 0.3886 - acc: 0.8159\n",
      "Epoch 147/150\n",
      "3943/3943 [==============================] - 1s 143us/step - loss: 0.3874 - acc: 0.8166\n",
      "Epoch 148/150\n",
      "3943/3943 [==============================] - 0s 100us/step - loss: 0.3870 - acc: 0.8164\n",
      "Epoch 149/150\n",
      "3943/3943 [==============================] - 0s 80us/step - loss: 0.3884 - acc: 0.8123\n",
      "Epoch 150/150\n",
      "3943/3943 [==============================] - 0s 106us/step - loss: 0.3873 - acc: 0.8156\n"
     ]
    },
    {
     "data": {
      "text/plain": [
       "<keras.callbacks.History at 0x280faea8e48>"
      ]
     },
     "execution_count": 43,
     "metadata": {},
     "output_type": "execute_result"
    }
   ],
   "source": [
    "# Fit the model\n",
    "model.fit(X_train, y_train)"
   ]
  },
  {
   "cell_type": "code",
   "execution_count": null,
   "metadata": {},
   "outputs": [],
   "source": []
  }
 ],
 "metadata": {
  "kernelspec": {
   "display_name": "Python 3",
   "language": "python",
   "name": "python3"
  },
  "language_info": {
   "codemirror_mode": {
    "name": "ipython",
    "version": 3
   },
   "file_extension": ".py",
   "mimetype": "text/x-python",
   "name": "python",
   "nbconvert_exporter": "python",
   "pygments_lexer": "ipython3",
   "version": "3.6.4"
  }
 },
 "nbformat": 4,
 "nbformat_minor": 2
}
