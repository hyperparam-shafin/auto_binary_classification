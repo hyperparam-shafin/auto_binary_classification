{
 "cells": [
  {
   "cell_type": "code",
   "execution_count": 1,
   "metadata": {},
   "outputs": [],
   "source": [
    "# import required packages for data manupulation\n",
    "\n",
    "import pandas as pd\n",
    "import numpy as np\n",
    "import matplotlib.pyplot as plt\n",
    "import sklearn\n",
    "import os\n",
    "import random\n",
    "plt.show()"
   ]
  },
  {
   "cell_type": "code",
   "execution_count": 2,
   "metadata": {},
   "outputs": [
    {
     "data": {
      "text/plain": [
       "'/home/mohnkhan/xavient_binary_unbalanced'"
      ]
     },
     "execution_count": 2,
     "metadata": {},
     "output_type": "execute_result"
    }
   ],
   "source": [
    "# INPUT: set path for data placement \n",
    "#os.chdir(r'C:\\Users\\mshafin\\Desktop\\xavient_churn_project')\n",
    "#os.chdir(r'C:\\Users\\mohammad shafin\\Desktop\\xavient_churn_project')\n",
    "\n",
    "os.chdir(r'/home/mohnkhan/xavient_binary_unbalanced')\n",
    "random.seed(42)\n",
    "os.getcwd()"
   ]
  },
  {
   "cell_type": "code",
   "execution_count": 3,
   "metadata": {},
   "outputs": [
    {
     "name": "stdout",
     "output_type": "stream",
     "text": [
      "<class 'pandas.core.frame.DataFrame'>\n",
      "RangeIndex: 5634 entries, 0 to 5633\n",
      "Data columns (total 21 columns):\n",
      "customerID          5634 non-null object\n",
      "gender              5634 non-null object\n",
      "SeniorCitizen       5634 non-null int64\n",
      "Partner             5634 non-null object\n",
      "Dependents          5634 non-null object\n",
      "tenure              5634 non-null int64\n",
      "PhoneService        5634 non-null object\n",
      "MultipleLines       5634 non-null object\n",
      "InternetService     5634 non-null object\n",
      "OnlineSecurity      5634 non-null object\n",
      "OnlineBackup        5634 non-null object\n",
      "DeviceProtection    5634 non-null object\n",
      "TechSupport         5634 non-null object\n",
      "StreamingTV         5634 non-null object\n",
      "StreamingMovies     5634 non-null object\n",
      "Contract            5634 non-null object\n",
      "PaperlessBilling    5634 non-null object\n",
      "PaymentMethod       5634 non-null object\n",
      "MonthlyCharges      5634 non-null float64\n",
      "TotalCharges        5626 non-null float64\n",
      "Churn               5634 non-null object\n",
      "dtypes: float64(2), int64(2), object(17)\n",
      "memory usage: 924.4+ KB\n"
     ]
    }
   ],
   "source": [
    "# INPUT: data loaded to a pandas dataframe\n",
    "\n",
    "df = pd.read_csv('telecom_churn_training.csv')\n",
    "df.info()\n",
    "df_length = df.shape[1]\n",
    "df_row = df.shape[0]"
   ]
  },
  {
   "cell_type": "code",
   "execution_count": 4,
   "metadata": {},
   "outputs": [
    {
     "data": {
      "text/plain": [
       "5634"
      ]
     },
     "execution_count": 4,
     "metadata": {},
     "output_type": "execute_result"
    }
   ],
   "source": [
    "df_row"
   ]
  },
  {
   "cell_type": "code",
   "execution_count": 5,
   "metadata": {},
   "outputs": [
    {
     "name": "stdout",
     "output_type": "stream",
     "text": [
      "Columnwise missing value count\n"
     ]
    },
    {
     "data": {
      "text/plain": [
       "<matplotlib.axes._subplots.AxesSubplot at 0x7f6aa28934e0>"
      ]
     },
     "execution_count": 5,
     "metadata": {},
     "output_type": "execute_result"
    },
    {
     "data": {
      "image/png": "[encoded data removed]",
      "text/plain": [
       "<matplotlib.figure.Figure at 0x7f6ad417a208>"
      ]
     },
     "metadata": {},
     "output_type": "display_data"
    }
   ],
   "source": [
    "# count number of missing values in each column\n",
    "# sum True's\n",
    "\n",
    "print(\"Columnwise missing value count\")\n",
    "df.isnull().sum().plot.bar(figsize=(df_length, 4))\n",
    "#df[\"target\"].value_counts().plot.pie(figsize=(4, 4))\n",
    "#print(df.target.value_counts())"
   ]
  },
  {
   "cell_type": "code",
   "execution_count": 6,
   "metadata": {},
   "outputs": [],
   "source": [
    "# INPUT: set customer identification code and target variable\n",
    "\n",
    "customer_identity_code = 'customerID'\n",
    "target_code = 'Churn'"
   ]
  },
  {
   "cell_type": "code",
   "execution_count": 7,
   "metadata": {},
   "outputs": [],
   "source": [
    "# set index for customer identification code\n",
    "\n",
    "df = df.set_index(customer_identity_code)"
   ]
  },
  {
   "cell_type": "code",
   "execution_count": 8,
   "metadata": {},
   "outputs": [],
   "source": [
    "# identify target variable\n",
    "\n",
    "df['target'] = df[target_code]"
   ]
  },
  {
   "cell_type": "code",
   "execution_count": 9,
   "metadata": {},
   "outputs": [],
   "source": [
    "# INPUT: set target labels\n",
    "\n",
    "label_target1 = 'Yes'\n",
    "label_target0 = 'No'"
   ]
  },
  {
   "cell_type": "code",
   "execution_count": 10,
   "metadata": {},
   "outputs": [],
   "source": [
    "# function to recode target levels\n",
    "\n",
    "def dependent_col(row):\n",
    "    if row['target'] == label_target1:\n",
    "        val = 1  # input\n",
    "    elif row['target'] == label_target0:\n",
    "        val = 0  # imput\n",
    "    else:\n",
    "        val = 2\n",
    "    return val"
   ]
  },
  {
   "cell_type": "code",
   "execution_count": 11,
   "metadata": {},
   "outputs": [
    {
     "name": "stdout",
     "output_type": "stream",
     "text": [
      "            target Churn\n",
      "customerID              \n",
      "7590-VHVEG       0    No\n",
      "5575-GNVDE       0    No\n",
      "3668-QPYBK       1   Yes\n",
      "9305-CDSKC       1   Yes\n",
      "6713-OKOMC       0    No\n"
     ]
    }
   ],
   "source": [
    "# view recoded data in the target variable\n",
    "\n",
    "df['target'] = df.apply(dependent_col, axis=1)\n",
    "print(df.loc[:,['target','Churn']].head(5)) #check changes in target recoding"
   ]
  },
  {
   "cell_type": "code",
   "execution_count": 12,
   "metadata": {},
   "outputs": [
    {
     "name": "stdout",
     "output_type": "stream",
     "text": [
      "The number of row/rows dropped because of missing target variable is 0\n"
     ]
    }
   ],
   "source": [
    "# keep rows when target variable is finite\n",
    "\n",
    "start = df.shape[1]\n",
    "df = df[np.isfinite(df['target'])]\n",
    "finish = df.shape[1]\n",
    "print(\"The number of row/rows dropped because of missing target variable is \" + str(start-finish))"
   ]
  },
  {
   "cell_type": "code",
   "execution_count": 13,
   "metadata": {},
   "outputs": [],
   "source": [
    "# INPUT droping initial target\n",
    "# when the target variable is identified and recoded it has to be removed by the program\n",
    "\n",
    "df = df.drop(['Churn'],axis=1)"
   ]
  },
  {
   "cell_type": "code",
   "execution_count": 14,
   "metadata": {},
   "outputs": [
    {
     "name": "stdout",
     "output_type": "stream",
     "text": [
      "0    4139\n",
      "1    1495\n",
      "Name: target, dtype: int64\n"
     ]
    },
    {
     "data": {
      "image/png": "[encoded data removed]",
      "text/plain": [
       "<matplotlib.figure.Figure at 0x7f6a9a2e4f28>"
      ]
     },
     "metadata": {},
     "output_type": "display_data"
    }
   ],
   "source": [
    "# target variable distibution\n",
    "\n",
    "df[\"target\"].value_counts().plot.pie(figsize=(4, 4))\n",
    "print(df.target.value_counts())"
   ]
  },
  {
   "cell_type": "code",
   "execution_count": 15,
   "metadata": {},
   "outputs": [],
   "source": [
    "# INPUT: populate with columns, which is considered discrete or non continious\n",
    "# all categoies which have string input are categroized as object type in python by default\n",
    "\n",
    "object_columns = ['gender','SeniorCitizen','Partner','Dependents','PhoneService','MultipleLines','InternetService',\n",
    "                  'OnlineSecurity','OnlineBackup','DeviceProtection','TechSupport','StreamingTV','StreamingMovies',\n",
    "                  'Contract','PaperlessBilling','PaymentMethod'] "
   ]
  },
  {
   "cell_type": "code",
   "execution_count": 16,
   "metadata": {},
   "outputs": [],
   "source": [
    "# typecasting 'object' type on variables that may be populated with numbers, but are of non-continious nature such as gender\n",
    "\n",
    "for column in object_columns:\n",
    "    df[column] = df[column].astype('object')"
   ]
  },
  {
   "cell_type": "code",
   "execution_count": 17,
   "metadata": {},
   "outputs": [
    {
     "name": "stdout",
     "output_type": "stream",
     "text": [
      "Value count of each level for datatype 'object'\n",
      "gender\n"
     ]
    },
    {
     "data": {
      "image/png": "[encoded data removed]",
      "text/plain": [
       "<matplotlib.figure.Figure at 0x7f6a9a235b70>"
      ]
     },
     "metadata": {},
     "output_type": "display_data"
    },
    {
     "name": "stdout",
     "output_type": "stream",
     "text": [
      "SeniorCitizen\n"
     ]
    },
    {
     "data": {
      "image/png": "[encoded data removed]",
      "text/plain": [
       "<matplotlib.figure.Figure at 0x7f6a9a260908>"
      ]
     },
     "metadata": {},
     "output_type": "display_data"
    },
    {
     "name": "stdout",
     "output_type": "stream",
     "text": [
      "Partner\n"
     ]
    },
    {
     "data": {
      "image/png": "[encoded data removed]",
      "text/plain": [
       "<matplotlib.figure.Figure at 0x7f6a9a1db438>"
      ]
     },
     "metadata": {},
     "output_type": "display_data"
    },
    {
     "name": "stdout",
     "output_type": "stream",
     "text": [
      "Dependents\n"
     ]
    },
    {
     "data": {
      "image/png": "[encoded data removed]",
      "text/plain": [
       "<matplotlib.figure.Figure at 0x7f6a9a18d780>"
      ]
     },
     "metadata": {},
     "output_type": "display_data"
    },
    {
     "name": "stdout",
     "output_type": "stream",
     "text": [
      "PhoneService\n"
     ]
    },
    {
     "data": {
      "image/png": "[encoded data removed]",
      "text/plain": [
       "<matplotlib.figure.Figure at 0x7f6a9a11f710>"
      ]
     },
     "metadata": {},
     "output_type": "display_data"
    },
    {
     "name": "stdout",
     "output_type": "stream",
     "text": [
      "MultipleLines\n"
     ]
    },
    {
     "data": {
      "image/png": "[encoded data removed]",
      "text/plain": [
       "<matplotlib.figure.Figure at 0x7f6a99ed9588>"
      ]
     },
     "metadata": {},
     "output_type": "display_data"
    },
    {
     "name": "stdout",
     "output_type": "stream",
     "text": [
      "InternetService\n"
     ]
    },
    {
     "data": {
      "image/png": "[encoded data removed]",
      "text/plain": [
       "<matplotlib.figure.Figure at 0x7f6a99ea87b8>"
      ]
     },
     "metadata": {},
     "output_type": "display_data"
    },
    {
     "name": "stdout",
     "output_type": "stream",
     "text": [
      "OnlineSecurity\n"
     ]
    },
    {
     "data": {
      "image/png": "[encoded data removed]",
      "text/plain": [
       "<matplotlib.figure.Figure at 0x7f6a99e0ab00>"
      ]
     },
     "metadata": {},
     "output_type": "display_data"
    },
    {
     "name": "stdout",
     "output_type": "stream",
     "text": [
      "OnlineBackup\n"
     ]
    },
    {
     "data": {
      "image/png": "[encoded data removed]",
      "text/plain": [
       "<matplotlib.figure.Figure at 0x7f6a99dd4160>"
      ]
     },
     "metadata": {},
     "output_type": "display_data"
    },
    {
     "name": "stdout",
     "output_type": "stream",
     "text": [
      "DeviceProtection\n"
     ]
    },
    {
     "data": {
      "image/png": "[encoded data removed]",
      "text/plain": [
       "<matplotlib.figure.Figure at 0x7f6a99da6c18>"
      ]
     },
     "metadata": {},
     "output_type": "display_data"
    },
    {
     "name": "stdout",
     "output_type": "stream",
     "text": [
      "TechSupport\n"
     ]
    },
    {
     "data": {
      "image/png": "[encoded data removed]",
      "text/plain": [
       "<matplotlib.figure.Figure at 0x7f6a99d71f60>"
      ]
     },
     "metadata": {},
     "output_type": "display_data"
    },
    {
     "name": "stdout",
     "output_type": "stream",
     "text": [
      "StreamingTV\n"
     ]
    },
    {
     "data": {
      "image/png": "[encoded data removed]",
      "text/plain": [
       "<matplotlib.figure.Figure at 0x7f6a99df77f0>"
      ]
     },
     "metadata": {},
     "output_type": "display_data"
    },
    {
     "name": "stdout",
     "output_type": "stream",
     "text": [
      "StreamingMovies\n"
     ]
    },
    {
     "data": {
      "image/png": "[encoded data removed]",
      "text/plain": [
       "<matplotlib.figure.Figure at 0x7f6a99e64278>"
      ]
     },
     "metadata": {},
     "output_type": "display_data"
    },
    {
     "name": "stdout",
     "output_type": "stream",
     "text": [
      "Contract\n"
     ]
    },
    {
     "data": {
      "image/png": "[encoded data removed]",
      "text/plain": [
       "<matplotlib.figure.Figure at 0x7f6aa298ec50>"
      ]
     },
     "metadata": {},
     "output_type": "display_data"
    },
    {
     "name": "stdout",
     "output_type": "stream",
     "text": [
      "PaperlessBilling\n"
     ]
    },
    {
     "data": {
      "image/png": "[encoded data removed]",
      "text/plain": [
       "<matplotlib.figure.Figure at 0x7f6a99e21860>"
      ]
     },
     "metadata": {},
     "output_type": "display_data"
    },
    {
     "name": "stdout",
     "output_type": "stream",
     "text": [
      "PaymentMethod\n"
     ]
    },
    {
     "data": {
      "image/png": "[encoded data removed]",
      "text/plain": [
       "<matplotlib.figure.Figure at 0x7f6a9a250f28>"
      ]
     },
     "metadata": {},
     "output_type": "display_data"
    }
   ],
   "source": [
    "# view levels per columns in the non-continious variable\n",
    "\n",
    "print(\"Value count of each level for datatype 'object'\")\n",
    "\n",
    "for column in object_columns:\n",
    "    print(column)\n",
    "    df[column].value_counts().plot.bar(figsize=(df_length/4, 2))\n",
    "    plt.show()"
   ]
  },
  {
   "cell_type": "code",
   "execution_count": 18,
   "metadata": {},
   "outputs": [],
   "source": [
    "# object variables converted to categories for cat.codes\n",
    "\n",
    "object_columns = df.select_dtypes(['object']).columns"
   ]
  },
  {
   "cell_type": "code",
   "execution_count": 19,
   "metadata": {},
   "outputs": [
    {
     "name": "stdout",
     "output_type": "stream",
     "text": [
      "The count of columns were successfully imputed with missing value indicator 'UKNOWN'\n"
     ]
    }
   ],
   "source": [
    "# missing value imputation strategy: create a new level called 'UNKNOWN'\n",
    "\n",
    "print(\"The count of columns were successfully imputed with missing value indicator 'UKNOWN'\")\n",
    "\n",
    "for column in object_columns:\n",
    "    if df[column].dtypes==\"object\":\n",
    "        df[column] = df[column].fillna(\"UKNOWN\").astype('object')    "
   ]
  },
  {
   "cell_type": "code",
   "execution_count": 20,
   "metadata": {},
   "outputs": [],
   "source": [
    "# missing value imputation strategy: create a new level called 'UNKNOWN'\n",
    "\n",
    "for column in object_columns:\n",
    "    if df[column].dtypes==\"object\":\n",
    "        df[column] = df[column].astype('category')"
   ]
  },
  {
   "cell_type": "code",
   "execution_count": 21,
   "metadata": {},
   "outputs": [],
   "source": [
    "# recoding categories to number with numerical and alphabatical order 0-1 and a-z, respectively\n",
    "\n",
    "df[object_columns] = df[object_columns].apply(lambda x: x.cat.codes)"
   ]
  },
  {
   "cell_type": "code",
   "execution_count": 22,
   "metadata": {},
   "outputs": [],
   "source": [
    "# chisquare test function\n",
    "\n",
    "import scipy.stats as scs\n",
    "\n",
    "def categories(series):\n",
    "    return range(int(series.min()), int(series.max()) + 1)\n",
    "\n",
    "def chi_square_of_df_cols(df, col1, col2):\n",
    "    df_col1, df_col2 = df[col1], df[col2]\n",
    "\n",
    "    result = [[sum((df_col1 == cat1) & (df_col2 == cat2))\n",
    "               for cat2 in categories(df_col2)]\n",
    "              for cat1 in categories(df_col1)]\n",
    "\n",
    "    return scs.chi2_contingency(result)[1]"
   ]
  },
  {
   "cell_type": "code",
   "execution_count": 23,
   "metadata": {},
   "outputs": [],
   "source": [
    "# function to check chisquare test for category variables\n",
    "\n",
    "object_columns_final = []\n",
    "chi_square_pvalue_final = []\n",
    "for column in object_columns:\n",
    "    chisquare_pvalue = round(chi_square_of_df_cols(df, column, 'target').astype('float64'),3)\n",
    "    #if chi_square_of_df_cols(df, column, 'target') <= 0.05:\n",
    "    object_columns_final.append(column)\n",
    "    chi_square_pvalue_final.append(chisquare_pvalue)"
   ]
  },
  {
   "cell_type": "code",
   "execution_count": 24,
   "metadata": {},
   "outputs": [
    {
     "name": "stdout",
     "output_type": "stream",
     "text": [
      "        feature_name  p-value\n",
      "0             gender    0.467\n",
      "1      SeniorCitizen    0.000\n",
      "2            Partner    0.000\n",
      "3         Dependents    0.000\n",
      "4       PhoneService    0.524\n",
      "5      MultipleLines    0.005\n",
      "6    InternetService    0.000\n",
      "7     OnlineSecurity    0.000\n",
      "8       OnlineBackup    0.000\n",
      "9   DeviceProtection    0.000\n",
      "10       TechSupport    0.000\n",
      "11       StreamingTV    0.000\n",
      "12   StreamingMovies    0.000\n",
      "13          Contract    0.000\n",
      "14  PaperlessBilling    0.000\n",
      "15     PaymentMethod    0.000\n"
     ]
    }
   ],
   "source": [
    "# data frame create to view column wise p-value with respect to the target\n",
    "\n",
    "df_catname = pd.DataFrame({'feature_name':object_columns_final})\n",
    "df_pvalue = pd.DataFrame({'p-value':chi_square_pvalue_final})\n",
    "\n",
    "frames = [df_catname,df_pvalue]\n",
    "print(pd.concat(frames,axis=1))"
   ]
  },
  {
   "cell_type": "code",
   "execution_count": 25,
   "metadata": {},
   "outputs": [
    {
     "name": "stdout",
     "output_type": "stream",
     "text": [
      "Categorical variables selected for modeling post chi-square test\n",
      "['SeniorCitizen', 'Partner', 'Dependents', 'MultipleLines', 'InternetService', 'OnlineSecurity', 'OnlineBackup', 'DeviceProtection', 'TechSupport', 'StreamingTV', 'StreamingMovies', 'Contract', 'PaperlessBilling', 'PaymentMethod']\n"
     ]
    }
   ],
   "source": [
    "# final list of categorical variables that survive the p-value check in the chi square test\n",
    "\n",
    "object_columns_final = []\n",
    "\n",
    "for column in object_columns:\n",
    "    chisquare_pvalue = round(chi_square_of_df_cols(df, column, 'target').astype('float64'),3)\n",
    "    if chi_square_of_df_cols(df, column, 'target') <= 0.05:\n",
    "        object_columns_final.append(column)\n",
    "print(\"Categorical variables selected for modeling post chi-square test\")\n",
    "print(object_columns_final)"
   ]
  },
  {
   "cell_type": "code",
   "execution_count": 26,
   "metadata": {},
   "outputs": [],
   "source": [
    "# function to check near zero variance\n",
    "\n",
    "object_columns_final_nz = []\n",
    "object_columns_final_variance = []\n",
    "\n",
    "for column in object_columns_final:\n",
    "    object_columns_variance = df[column].var(axis=None, skipna=None, level=None, ddof=1, numeric_only=None)\n",
    "    #if  feature_columns_variance > 0.00:\n",
    "    object_columns_final_nz.append(column)\n",
    "    object_columns_final_variance.append(object_columns_variance)"
   ]
  },
  {
   "cell_type": "code",
   "execution_count": 27,
   "metadata": {},
   "outputs": [
    {
     "name": "stdout",
     "output_type": "stream",
     "text": [
      "        feature_name  variance\n",
      "0      SeniorCitizen  0.134974\n",
      "1            Partner  0.249754\n",
      "2         Dependents  0.210589\n",
      "3      MultipleLines  0.898554\n",
      "4    InternetService  0.545985\n",
      "5     OnlineSecurity  0.742403\n",
      "6       OnlineBackup  0.773114\n",
      "7   DeviceProtection  0.772293\n",
      "8        TechSupport  0.740545\n",
      "9        StreamingTV  0.781889\n",
      "10   StreamingMovies  0.781998\n",
      "11          Contract  0.696953\n",
      "12  PaperlessBilling  0.240651\n",
      "13     PaymentMethod  1.137929\n"
     ]
    }
   ],
   "source": [
    "df_object_columns_final_nz = pd.DataFrame({'feature_name':object_columns_final_nz})\n",
    "df_variance = pd.DataFrame({'variance':object_columns_final_variance})\n",
    "frames = [df_object_columns_final_nz,df_variance]\n",
    "\n",
    "print(pd.concat(frames,axis=1))"
   ]
  },
  {
   "cell_type": "code",
   "execution_count": 28,
   "metadata": {},
   "outputs": [
    {
     "name": "stdout",
     "output_type": "stream",
     "text": [
      "Categorical variables with variance above 0.01\n",
      "['SeniorCitizen', 'Partner', 'Dependents', 'MultipleLines', 'InternetService', 'OnlineSecurity', 'OnlineBackup', 'DeviceProtection', 'TechSupport', 'StreamingTV', 'StreamingMovies', 'Contract', 'PaperlessBilling', 'PaymentMethod']\n",
      "number of categorical columns: 14\n"
     ]
    }
   ],
   "source": [
    "# function to check near zero variance\n",
    "\n",
    "object_columns_final_nz = []\n",
    "object_columns_final_variance = []\n",
    "\n",
    "for column in object_columns_final:\n",
    "    object_columns_variance = df[column].var(axis=None, skipna=None, level=None, ddof=1, numeric_only=None)\n",
    "    if  object_columns_variance > 0.01:\n",
    "        object_columns_final_nz.append(column)\n",
    "        object_columns_final_variance.append(object_columns_variance)\n",
    "print(\"Categorical variables with variance above 0.01\")\n",
    "print(object_columns_final_nz)\n",
    "print(\"number of categorical columns: \"+ str(len(object_columns_final_nz)))"
   ]
  },
  {
   "cell_type": "code",
   "execution_count": 29,
   "metadata": {},
   "outputs": [],
   "source": [
    "# saving categorical columns for scoring\n",
    "\n",
    "import pickle\n",
    "object_columns_final_nz_index = object_columns_final_nz\n",
    "\n",
    "pickle_out_cat = open(\"object_columns_final_nz.pickle\",\"wb\")\n",
    "pickle.dump(object_columns_final_nz_index, pickle_out_cat)\n",
    "pickle_out_cat.close()"
   ]
  },
  {
   "cell_type": "code",
   "execution_count": 30,
   "metadata": {},
   "outputs": [
    {
     "data": {
      "text/plain": [
       "14"
      ]
     },
     "execution_count": 30,
     "metadata": {},
     "output_type": "execute_result"
    }
   ],
   "source": [
    "# load numeric columns for scoring\n",
    "import pickle\n",
    "pickle_in_cat = open(\"object_columns_final_nz.pickle\",\"rb\")\n",
    "object_columns_final_nz_index = pickle.load(pickle_in_cat)\n",
    "len(object_columns_final_nz_index)\n",
    "#df[object_columns_final_nz_index]"
   ]
  },
  {
   "cell_type": "code",
   "execution_count": 31,
   "metadata": {},
   "outputs": [],
   "source": [
    "# INPUT: populate with numeric columns\n",
    "# missing value treatments\n",
    "\n",
    "numeric_columns_mean = ['MonthlyCharges','TotalCharges'] # impute missing numeric columns with mean\n",
    "\n",
    "# impute missing numeric columns with zero\n",
    "\n",
    "numeric_columns_zero = ['tenure'] # populate with numeric columns\n",
    "\n",
    "scale_columns = numeric_columns_mean + numeric_columns_zero\n",
    "length = len(scale_columns) # for figure width"
   ]
  },
  {
   "cell_type": "code",
   "execution_count": 32,
   "metadata": {},
   "outputs": [
    {
     "name": "stdout",
     "output_type": "stream",
     "text": [
      "Check for continous variable scaling\n"
     ]
    },
    {
     "data": {
      "image/png": "[encoded data removed]",
      "text/plain": [
       "<matplotlib.figure.Figure at 0x7f6a99f310f0>"
      ]
     },
     "metadata": {},
     "output_type": "display_data"
    }
   ],
   "source": [
    "df[scale_columns].plot.box(figsize=(length*2,4))\n",
    "print(\"Check for continous variable scaling\")"
   ]
  },
  {
   "cell_type": "code",
   "execution_count": 33,
   "metadata": {},
   "outputs": [],
   "source": [
    "# for mean imputation\n",
    "\n",
    "for column in numeric_columns_mean:\n",
    "    if df[column].dtypes in [\"int64\",\"float64\"] :\n",
    "        df[column] = df[column].fillna(df[column].mean())\n",
    "\n",
    "# for 0 imputation\n",
    "\n",
    "for column in numeric_columns_zero:\n",
    "    if df[column].dtypes in [\"int64\",\"float64\"] :\n",
    "        df[column] = df[column].fillna(0)\n",
    "\n",
    "# append all numerical columns\n",
    "\n",
    "scale_columns = numeric_columns_mean + numeric_columns_zero"
   ]
  },
  {
   "cell_type": "code",
   "execution_count": 34,
   "metadata": {},
   "outputs": [],
   "source": [
    "# scale the numerical variables to remove outliers\n",
    "from sklearn.preprocessing import scale\n",
    "for column in scale_columns:\n",
    "    if df[column].dtypes in [\"int64\",\"float64\"] :\n",
    "        df[column] = scale(df[column].astype('float64'))"
   ]
  },
  {
   "cell_type": "code",
   "execution_count": 35,
   "metadata": {},
   "outputs": [
    {
     "name": "stdout",
     "output_type": "stream",
     "text": [
      "scaled continious variables\n"
     ]
    },
    {
     "data": {
      "text/plain": [
       "<matplotlib.axes._subplots.AxesSubplot at 0x7f6a97682128>"
      ]
     },
     "execution_count": 35,
     "metadata": {},
     "output_type": "execute_result"
    },
    {
     "data": {
      "image/png": "[encoded data removed]",
      "text/plain": [
       "<matplotlib.figure.Figure at 0x7f6a97ba1e48>"
      ]
     },
     "metadata": {},
     "output_type": "display_data"
    }
   ],
   "source": [
    "print(\"scaled continious variables\")\n",
    "df[scale_columns].plot.box(figsize=(length*2,4))"
   ]
  },
  {
   "cell_type": "code",
   "execution_count": 36,
   "metadata": {},
   "outputs": [],
   "source": [
    "# function to check near zero variance\n",
    "\n",
    "scale_columns_final_nz = []\n",
    "scale_columns_variance_final = []\n",
    "\n",
    "for column in scale_columns:\n",
    "    scale_columns_variance = df[column].var(axis=None, skipna=None, level=None, ddof=1, numeric_only=None)\n",
    "    #if  feature_columns_variance > 0.00:\n",
    "    scale_columns_final_nz.append(column)\n",
    "    scale_columns_variance_final.append(scale_columns_variance)"
   ]
  },
  {
   "cell_type": "code",
   "execution_count": 37,
   "metadata": {},
   "outputs": [
    {
     "name": "stdout",
     "output_type": "stream",
     "text": [
      "     feature_name  variance\n",
      "0  MonthlyCharges  1.000178\n",
      "1    TotalCharges  1.000178\n",
      "2          tenure  1.000178\n"
     ]
    }
   ],
   "source": [
    "df_scale_columns_final = pd.DataFrame({'feature_name':scale_columns_final_nz})\n",
    "df_variance = pd.DataFrame({'variance':scale_columns_variance_final})\n",
    "frames = [df_scale_columns_final,df_variance]\n",
    "\n",
    "print(pd.concat(frames,axis=1))"
   ]
  },
  {
   "cell_type": "code",
   "execution_count": 38,
   "metadata": {},
   "outputs": [
    {
     "name": "stdout",
     "output_type": "stream",
     "text": [
      "numeric variables with variance above 0.01\n",
      "['MonthlyCharges', 'TotalCharges', 'tenure']\n",
      "number of numeric columns: 3\n"
     ]
    }
   ],
   "source": [
    "# function to check near zero variance\n",
    "\n",
    "scale_columns_final_nz = []\n",
    "scale_columns_variance_final = []\n",
    "\n",
    "for column in scale_columns:\n",
    "    scale_columns_variance = df[column].var(axis=None, skipna=None, level=None, ddof=1, numeric_only=None)\n",
    "    if  scale_columns_variance > 0.01:\n",
    "        scale_columns_final_nz.append(column)\n",
    "        scale_columns_variance_final.append(scale_columns_variance)\n",
    "print(\"numeric variables with variance above 0.01\")\n",
    "print(scale_columns_final_nz)\n",
    "print(\"number of numeric columns: \"+ str(len(scale_columns_final_nz)))"
   ]
  },
  {
   "cell_type": "code",
   "execution_count": 39,
   "metadata": {},
   "outputs": [],
   "source": [
    "# saving numeric columns for scoring\n",
    "import pickle\n",
    "\n",
    "scale_columns_final_nz_index = scale_columns_final_nz\n",
    "pickle_out_num = open(\"scale_columns_final_nz.pickle\",\"wb\")\n",
    "pickle.dump(scale_columns_final_nz_index, pickle_out_num)\n",
    "pickle_out_num.close()"
   ]
  },
  {
   "cell_type": "code",
   "execution_count": 40,
   "metadata": {},
   "outputs": [
    {
     "data": {
      "text/plain": [
       "3"
      ]
     },
     "execution_count": 40,
     "metadata": {},
     "output_type": "execute_result"
    }
   ],
   "source": [
    "# load numeric columns for scoring\n",
    "import pickle\n",
    "\n",
    "pickle_in_num = open(\"scale_columns_final_nz.pickle\",\"rb\")\n",
    "scale_columns_final_nz_index = pickle.load(pickle_in_num)\n",
    "len(scale_columns_final_nz_index)"
   ]
  },
  {
   "cell_type": "code",
   "execution_count": 41,
   "metadata": {},
   "outputs": [
    {
     "name": "stdout",
     "output_type": "stream",
     "text": [
      "target_column: ['target']\n",
      "feature_columns: ['MonthlyCharges', 'TotalCharges', 'tenure', 'SeniorCitizen', 'Partner', 'Dependents', 'MultipleLines', 'InternetService', 'OnlineSecurity', 'OnlineBackup', 'DeviceProtection', 'TechSupport', 'StreamingTV', 'StreamingMovies', 'Contract', 'PaperlessBilling', 'PaymentMethod']\n",
      "dataframe shape: (5634, 17)\n"
     ]
    }
   ],
   "source": [
    "# create features for modeling objective\n",
    "\n",
    "target_column = ['target']\n",
    "feature_columns = scale_columns_final_nz + object_columns_final_nz\n",
    "print(\"target_column: \" + str(target_column))\n",
    "print(\"feature_columns: \" + str(feature_columns))\n",
    "print(\"dataframe shape: \" + str(df[feature_columns].shape))\n",
    "fig_length = df[feature_columns].shape[1]"
   ]
  },
  {
   "cell_type": "code",
   "execution_count": 42,
   "metadata": {},
   "outputs": [
    {
     "data": {
      "text/plain": [
       "((5070, 17), (564, 17), (5070,), (564,))"
      ]
     },
     "execution_count": 42,
     "metadata": {},
     "output_type": "execute_result"
    }
   ],
   "source": [
    "from sklearn.model_selection import train_test_split\n",
    "\n",
    "training_features, test_features,\\\n",
    "training_target, test_target, = train_test_split(df[feature_columns].values, df[target_column].values.ravel(), test_size = .1, random_state=12)\n",
    "training_features.shape, test_features.shape, training_target.shape, test_target.shape"
   ]
  },
  {
   "cell_type": "code",
   "execution_count": 43,
   "metadata": {},
   "outputs": [
    {
     "data": {
      "text/plain": [
       "((6718, 17), (6718,), (507, 17), (507,))"
      ]
     },
     "execution_count": 43,
     "metadata": {},
     "output_type": "execute_result"
    }
   ],
   "source": [
    "from imblearn.over_sampling import SMOTE\n",
    "\n",
    "X_train, X_val, y_train, y_val \\\n",
    "= train_test_split(training_features, training_target, test_size = .1, random_state=12)\n",
    "\n",
    "# Using smote to increase the number of under-represented class\n",
    "sm = SMOTE(random_state = 12, ratio = 'minority')\n",
    "\n",
    "X_train_res, y_train_res = sm.fit_sample(X_train, y_train)\n",
    "X_train_res.shape, y_train_res.shape, X_val.shape, y_val.shape"
   ]
  },
  {
   "cell_type": "code",
   "execution_count": 44,
   "metadata": {},
   "outputs": [
    {
     "name": "stderr",
     "output_type": "stream",
     "text": [
      "/home/mohnkhan/anaconda3/lib/python3.6/site-packages/h5py/__init__.py:36: FutureWarning: Conversion of the second argument of issubdtype from `float` to `np.floating` is deprecated. In future, it will be treated as `np.float64 == np.dtype(float).type`.\n",
      "  from ._conv import register_converters as _register_converters\n",
      "Using TensorFlow backend.\n"
     ]
    }
   ],
   "source": [
    "# import metrics for model evaluation\n",
    "\n",
    "from sklearn.metrics import recall_score,accuracy_score,confusion_matrix,classification_report,precision_score\n",
    "from sklearn.metrics import cohen_kappa_score\n",
    "from sklearn.model_selection import cross_val_score\n",
    "from keras.wrappers.scikit_learn import KerasClassifier\n",
    "# create function to evaluate model performance\n",
    "\n",
    "def evaluate(model, X_test, y_test):\n",
    "    y_pred = model.predict(X_test)\n",
    "    accuracy = accuracy_score(y_test,y_pred)\n",
    "    cohen_kappa = cohen_kappa_score(y_test, y_pred, sample_weight=None)\n",
    "    recall = recall_score(y_test,y_pred)\n",
    "    matrix = confusion_matrix(y_test, y_pred)\n",
    "    tn, fp, fn, tp = confusion_matrix(y_test, y_pred).ravel()\n",
    "    report = classification_report(y_test, y_pred)\n",
    "    print(\"accuracy :\" +str(accuracy))\n",
    "    print(\"cohen_kappa :\" +str(cohen_kappa))\n",
    "    print(\"recall :\" +str(recall))\n",
    "    print(\" tn, fp, fn, tp :\" )\n",
    "    print(tn, fp, fn, tp)\n",
    "    print(\"matrix :\")\n",
    "    print(matrix)\n",
    "    print(\"report :\")\n",
    "    print(report)\n",
    "    return accuracy"
   ]
  },
  {
   "cell_type": "code",
   "execution_count": 45,
   "metadata": {},
   "outputs": [],
   "source": [
    "from keras.models import Sequential\n",
    "from keras.layers import Dense,Dropout, Activation\n",
    "\n",
    "# fix the input dimenstion to number of feature terms\n",
    "input_dimenation = int(training_features.shape[1])\n",
    "\n",
    "# create the output dimenstion\n",
    "output = 1\n",
    "\n",
    "# create the batch size\n",
    "batch = int(round(df.shape[0]/10,0))\n",
    "\n",
    "# epoch\n",
    "epoch = 100\n",
    "\n",
    "\n",
    "\n",
    "# Function to create model, required for KerasClassifier\n",
    "def baseline_model():\n",
    "# create model\n",
    "    model = Sequential()\n",
    "    model.add(Dense(input_dimenation, input_dim=input_dimenation, activation='relu'))\n",
    "    model.add(Dense(output, activation='sigmoid'))\n",
    "    # Compile model\n",
    "    model.compile(loss='binary_crossentropy', optimizer='adam', metrics=['accuracy'])\n",
    "    return model\n"
   ]
  },
  {
   "cell_type": "code",
   "execution_count": 46,
   "metadata": {},
   "outputs": [
    {
     "name": "stderr",
     "output_type": "stream",
     "text": [
      "/home/mohnkhan/anaconda3/lib/python3.6/site-packages/sklearn/preprocessing/label.py:151: DeprecationWarning: The truth value of an empty array is ambiguous. Returning False, but in future this will result in an error. Use `array.size > 0` to check that an array is not empty.\n",
      "  if diff:\n",
      "/home/mohnkhan/anaconda3/lib/python3.6/site-packages/sklearn/preprocessing/label.py:151: DeprecationWarning: The truth value of an empty array is ambiguous. Returning False, but in future this will result in an error. Use `array.size > 0` to check that an array is not empty.\n",
      "  if diff:\n",
      "/home/mohnkhan/anaconda3/lib/python3.6/site-packages/sklearn/preprocessing/label.py:151: DeprecationWarning: The truth value of an empty array is ambiguous. Returning False, but in future this will result in an error. Use `array.size > 0` to check that an array is not empty.\n",
      "  if diff:\n",
      "/home/mohnkhan/anaconda3/lib/python3.6/site-packages/sklearn/preprocessing/label.py:151: DeprecationWarning: The truth value of an empty array is ambiguous. Returning False, but in future this will result in an error. Use `array.size > 0` to check that an array is not empty.\n",
      "  if diff:\n",
      "/home/mohnkhan/anaconda3/lib/python3.6/site-packages/sklearn/preprocessing/label.py:151: DeprecationWarning: The truth value of an empty array is ambiguous. Returning False, but in future this will result in an error. Use `array.size > 0` to check that an array is not empty.\n",
      "  if diff:\n",
      "/home/mohnkhan/anaconda3/lib/python3.6/site-packages/sklearn/preprocessing/label.py:151: DeprecationWarning: The truth value of an empty array is ambiguous. Returning False, but in future this will result in an error. Use `array.size > 0` to check that an array is not empty.\n",
      "  if diff:\n",
      "/home/mohnkhan/anaconda3/lib/python3.6/site-packages/sklearn/preprocessing/label.py:151: DeprecationWarning: The truth value of an empty array is ambiguous. Returning False, but in future this will result in an error. Use `array.size > 0` to check that an array is not empty.\n",
      "  if diff:\n",
      "/home/mohnkhan/anaconda3/lib/python3.6/site-packages/sklearn/preprocessing/label.py:151: DeprecationWarning: The truth value of an empty array is ambiguous. Returning False, but in future this will result in an error. Use `array.size > 0` to check that an array is not empty.\n",
      "  if diff:\n",
      "/home/mohnkhan/anaconda3/lib/python3.6/site-packages/sklearn/preprocessing/label.py:151: DeprecationWarning: The truth value of an empty array is ambiguous. Returning False, but in future this will result in an error. Use `array.size > 0` to check that an array is not empty.\n",
      "  if diff:\n",
      "/home/mohnkhan/anaconda3/lib/python3.6/site-packages/sklearn/preprocessing/label.py:151: DeprecationWarning: The truth value of an empty array is ambiguous. Returning False, but in future this will result in an error. Use `array.size > 0` to check that an array is not empty.\n",
      "  if diff:\n"
     ]
    },
    {
     "name": "stdout",
     "output_type": "stream",
     "text": [
      "('XGB', 0.850883986232347, 0.08055831948658095)\n",
      "('GBM', 0.8514792243275849, 0.07982093608186776)\n",
      "('RF', 0.8599607018664395, 0.06947290836941447)\n",
      "('DT', 0.792224425164999, 0.05775792638366395)\n",
      "('ADA', 0.8083033940103611, 0.05930941955176909)\n",
      "('LM', 0.7503836668795685, 0.03173074350049666)\n"
     ]
    },
    {
     "data": {
      "image/png": "[encoded data removed]",
      "text/plain": [
       "<matplotlib.figure.Figure at 0x7f6a713a7fd0>"
      ]
     },
     "metadata": {},
     "output_type": "display_data"
    }
   ],
   "source": [
    "from sklearn.tree import DecisionTreeClassifier\n",
    "from sklearn.ensemble import RandomForestClassifier,AdaBoostClassifier,GradientBoostingClassifier\n",
    "from sklearn.linear_model import LogisticRegression\n",
    "import xgboost as xgb\n",
    "from xgboost.sklearn import XGBClassifier\n",
    "from sklearn.model_selection import KFold\n",
    "from keras.wrappers.scikit_learn import KerasClassifier\n",
    "\n",
    "from sklearn import model_selection\n",
    "import matplotlib.pyplot as plt\n",
    "\n",
    "# generate list of models  \n",
    "models = []\n",
    "models.append(('XGB', XGBClassifier(n_estimators = 500,learning_rate=.1, random_state=21)))\n",
    "models.append(('GBM', GradientBoostingClassifier(n_estimators = 500,learning_rate=.1, random_state=21)))\n",
    "models.append(('RF', RandomForestClassifier(n_estimators = 500 ,random_state=21)))\n",
    "models.append(('DT', DecisionTreeClassifier(splitter='random', random_state=21)))\n",
    "models.append(('ADA', AdaBoostClassifier(n_estimators = 500,learning_rate=.1, random_state=21)))\n",
    "models.append(('LM', LogisticRegression(multi_class = 'ovr', solver='saga', random_state=21)))\n",
    "#models.append(('TF', KerasClassifier(build_fn=baseline_model, epochs=epoch, batch_size=batch, verbose=0))) \n",
    "\n",
    "# check model performance\n",
    "results = []\n",
    "names = []\n",
    "seed = 7\n",
    "msgall = []\n",
    "scoring='accuracy'\n",
    "for name, model in models:\n",
    "    kfold = model_selection.KFold(n_splits = 10, random_state=seed)\n",
    "    cv_results = cross_val_score(model, X_train_res, y_train_res, cv=kfold, scoring = scoring)\n",
    "    #cv_results = cross_val_score(model, training_features, training_target, cv=kfold, scoring = scoring)\n",
    "    results.append(cv_results)\n",
    "    names.append(name)\n",
    "    msg = (name, cv_results.mean(), cv_results.std())\n",
    "    print (msg)\n",
    "    msgall.append(msg)\n",
    "\n",
    "# compare algorithms\n",
    "fig = plt.figure()\n",
    "fig.suptitle(\"algorithm comparision\")\n",
    "ax = fig.add_subplot(111)\n",
    "plt.boxplot(results)\n",
    "ax.set_xticklabels(names)\n",
    "plt.show()\n"
   ]
  },
  {
   "cell_type": "code",
   "execution_count": 47,
   "metadata": {},
   "outputs": [],
   "source": [
    "# import ensemble models\n",
    "\n",
    "from sklearn.ensemble import GradientBoostingClassifier,RandomForestClassifier,AdaBoostClassifier\n",
    "from pprint import pprint\n",
    "from sklearn.model_selection import RandomizedSearchCV"
   ]
  },
  {
   "cell_type": "code",
   "execution_count": 48,
   "metadata": {},
   "outputs": [
    {
     "name": "stdout",
     "output_type": "stream",
     "text": [
      "{'criterion': ['friedman_mse'],\n",
      " 'learning_rate': [0.1, 0.05, 0.02, 0.01],\n",
      " 'loss': ['deviance', 'exponential'],\n",
      " 'max_depth': [4, 6, 8],\n",
      " 'min_samples_leaf': [20, 50, 100, 150],\n",
      " 'min_samples_split': [2, 5, 10],\n",
      " 'n_estimators': [200, 400, 600, 800, 1000, 1200, 1400, 1600, 1800, 2000],\n",
      " 'random_state': [21]}\n"
     ]
    }
   ],
   "source": [
    "# create grid for randomizedsearch\n",
    "GBM = GradientBoostingClassifier()\n",
    "\n",
    "# Number of iterations needed\n",
    "n_estimators = [int(x) for x in np.linspace(200, 2000, num = 10)]\n",
    "learning_rate = [0.1, 0.05, 0.02, 0.01]\n",
    "max_features = ['sqrt','auto','log2','None','1','0.1']\n",
    "loss = ['deviance', 'exponential']\n",
    "max_depth = [4, 6, 8]\n",
    "criterion = ['friedman_mse']\n",
    "min_samples_split = [2, 5, 10]\n",
    "min_samples_leaf = [20,50,100,150]\n",
    "random_state = [21]\n",
    "\n",
    "# Create the random grid\n",
    "\n",
    "random_grid_gbm = {'n_estimators': n_estimators,\n",
    "               'learning_rate': learning_rate,\n",
    "               'loss':loss,\n",
    "               'max_depth': max_depth,\n",
    "               'criterion': criterion,\n",
    "               'min_samples_split': min_samples_split,\n",
    "               'min_samples_leaf': min_samples_leaf,\n",
    "               'random_state': random_state}\n",
    "pprint(random_grid_gbm)"
   ]
  },
  {
   "cell_type": "code",
   "execution_count": 49,
   "metadata": {},
   "outputs": [],
   "source": [
    "GBM = GradientBoostingClassifier()\n",
    "# Random search of parameters, using 10 fold cross validation,\n",
    "# search across 50 different combinations, and use all available cores\n",
    "gbm_smote = RandomizedSearchCV(estimator = GBM, param_distributions = random_grid_gbm, n_iter = 5, cv = 3, verbose=1, random_state=42, n_jobs = -1)\n",
    "#gbm = RandomizedSearchCV(estimator = GBM, param_distributions = random_grid_gbm, n_iter = 5, cv = 10, verbose=1, random_state=42, n_jobs = -1)"
   ]
  },
  {
   "cell_type": "code",
   "execution_count": 50,
   "metadata": {},
   "outputs": [
    {
     "name": "stdout",
     "output_type": "stream",
     "text": [
      "Fitting 3 folds for each of 5 candidates, totalling 15 fits\n"
     ]
    },
    {
     "name": "stderr",
     "output_type": "stream",
     "text": [
      "[Parallel(n_jobs=-1)]: Done   8 out of  15 | elapsed:   10.0s remaining:    8.8s\n",
      "[Parallel(n_jobs=-1)]: Done  15 out of  15 | elapsed:   17.2s finished\n"
     ]
    },
    {
     "data": {
      "text/plain": [
       "RandomizedSearchCV(cv=3, error_score='raise',\n",
       "          estimator=GradientBoostingClassifier(criterion='friedman_mse', init=None,\n",
       "              learning_rate=0.1, loss='deviance', max_depth=3,\n",
       "              max_features=None, max_leaf_nodes=None,\n",
       "              min_impurity_decrease=0.0, min_impurity_split=None,\n",
       "              min_samples_leaf=1, min_samples_split=2,\n",
       "              min_weight_fraction_leaf=0.0, n_estimators=100,\n",
       "              presort='auto', random_state=None, subsample=1.0, verbose=0,\n",
       "              warm_start=False),\n",
       "          fit_params=None, iid=True, n_iter=5, n_jobs=-1,\n",
       "          param_distributions={'n_estimators': [200, 400, 600, 800, 1000, 1200, 1400, 1600, 1800, 2000], 'learning_rate': [0.1, 0.05, 0.02, 0.01], 'loss': ['deviance', 'exponential'], 'max_depth': [4, 6, 8], 'criterion': ['friedman_mse'], 'min_samples_split': [2, 5, 10], 'min_samples_leaf': [20, 50, 100, 150], 'random_state': [21]},\n",
       "          pre_dispatch='2*n_jobs', random_state=42, refit=True,\n",
       "          return_train_score='warn', scoring=None, verbose=1)"
      ]
     },
     "execution_count": 50,
     "metadata": {},
     "output_type": "execute_result"
    }
   ],
   "source": [
    "# Fit the gbm SMOTE model\n",
    "gbm_smote.fit(X_train_res, y_train_res)"
   ]
  },
  {
   "cell_type": "code",
   "execution_count": 51,
   "metadata": {},
   "outputs": [
    {
     "name": "stdout",
     "output_type": "stream",
     "text": [
      "accuracy :0.7836879432624113\n",
      "cohen_kappa :0.478213391976947\n",
      "recall :0.6709677419354839\n",
      " tn, fp, fn, tp :\n",
      "338 71 51 104\n",
      "matrix :\n",
      "[[338  71]\n",
      " [ 51 104]]\n",
      "report :\n",
      "             precision    recall  f1-score   support\n",
      "\n",
      "          0       0.87      0.83      0.85       409\n",
      "          1       0.59      0.67      0.63       155\n",
      "\n",
      "avg / total       0.79      0.78      0.79       564\n",
      "\n"
     ]
    }
   ],
   "source": [
    "# Check accuracy on test set\n",
    "\n",
    "gbm_smote_accuracy = evaluate(gbm_smote,test_features,test_target)"
   ]
  },
  {
   "cell_type": "code",
   "execution_count": 52,
   "metadata": {},
   "outputs": [],
   "source": [
    "# Fit the gbm model without SMOTE\n",
    "\n",
    "#gbm.fit(training_features, training_target)"
   ]
  },
  {
   "cell_type": "code",
   "execution_count": 53,
   "metadata": {},
   "outputs": [],
   "source": [
    "# Check accuracy on test set\n",
    "\n",
    "#gbm_accuracy = evaluate(gbm,test_features,test_target)"
   ]
  },
  {
   "cell_type": "code",
   "execution_count": 54,
   "metadata": {},
   "outputs": [
    {
     "name": "stdout",
     "output_type": "stream",
     "text": [
      "gbm with SMOTE feature importance\n"
     ]
    },
    {
     "data": {
      "image/png": "[encoded data removed]",
      "text/plain": [
       "<matplotlib.figure.Figure at 0x7f6a70c26c18>"
      ]
     },
     "metadata": {},
     "output_type": "display_data"
    }
   ],
   "source": [
    "# feature importance plots\n",
    "\n",
    "print(\"gbm with SMOTE feature importance\")\n",
    "feature_names=df.drop(['target'],axis=1).columns\n",
    "feature_importance = gbm_smote.best_estimator_.feature_importances_\n",
    "sorted_idx = np.argsort(feature_importance)\n",
    "pos = np.arange(sorted_idx.shape[0]) + .5\n",
    "plt.figure(figsize=(10,fig_length/3))\n",
    "plt.barh(pos, feature_importance[sorted_idx], align='center')\n",
    "plt.yticks(pos, feature_names[sorted_idx])\n",
    "feature_names[sorted_idx]\n",
    "plt.show()\n",
    "\n",
    "#print(\"gbm without SMOTE feature importance\")\n",
    "#feature_importance = gbm.best_estimator_.feature_importances_\n",
    "#sorted_idx = np.argsort(feature_importance)\n",
    "#pos = np.arange(sorted_idx.shape[0]) + .5\n",
    "#plt.barh(pos, feature_importance[sorted_idx], align='center')\n",
    "#plt.yticks(pos, feature_names[sorted_idx])\n",
    "#feature_names[sorted_idx]\n",
    "#plt.show()"
   ]
  },
  {
   "cell_type": "code",
   "execution_count": 55,
   "metadata": {},
   "outputs": [
    {
     "name": "stdout",
     "output_type": "stream",
     "text": [
      "{'bootstrap': [True, False],\n",
      " 'max_depth': [10, 20, 30, 40, 50, 60, 70, 80, 90, 100, 110, None],\n",
      " 'max_features': ['auto', 'sqrt'],\n",
      " 'min_samples_leaf': [1, 2, 4],\n",
      " 'min_samples_split': [2, 5, 10],\n",
      " 'n_estimators': [200, 400, 600, 800, 1000, 1200, 1400, 1600, 1800, 2000],\n",
      " 'random_state': [21]}\n"
     ]
    }
   ],
   "source": [
    "# First create the base model to tune\n",
    "\n",
    "rf = RandomForestClassifier()\n",
    "\n",
    "# Number of trees in random forest\n",
    "n_estimators = [int(x) for x in np.linspace(start = 200, stop = 2000, num = 10)]\n",
    "# Number of features to consider at every split\n",
    "max_features = ['auto', 'sqrt']\n",
    "# Maximum number of levels in tree\n",
    "max_depth = [int(x) for x in np.linspace(10, 110, num = 11)]\n",
    "max_depth.append(None)\n",
    "# Minimum number of samples required to split a node\n",
    "min_samples_split = [2, 5, 10]\n",
    "# Minimum number of samples required at each leaf node\n",
    "min_samples_leaf = [1, 2, 4]\n",
    "# Method of selecting samples for training each tree\n",
    "bootstrap = [True, False]\n",
    "random_state = [21]\n",
    "\n",
    "# Create the random grid\n",
    "\n",
    "random_grid = {'n_estimators': n_estimators,\n",
    "               'max_features': max_features,\n",
    "               'max_depth': max_depth,\n",
    "               'min_samples_split': min_samples_split,\n",
    "               'min_samples_leaf': min_samples_leaf,\n",
    "               'bootstrap': bootstrap,\n",
    "               'random_state':random_state}\n",
    "pprint(random_grid)"
   ]
  },
  {
   "cell_type": "code",
   "execution_count": 56,
   "metadata": {},
   "outputs": [],
   "source": [
    "# Random search of parameters, using 10 fold cross validation,\n",
    "# search across 50 different combinations, and use all available cores\n",
    "\n",
    "rf_smote = RandomizedSearchCV(estimator = rf, param_distributions = random_grid, n_iter = 5, cv = 10, verbose=1, random_state=42, n_jobs = -1)\n",
    "#rf = RandomizedSearchCV(estimator = rf, param_distributions = random_grid, n_iter = 5, cv = 10, verbose=0, random_state=42, n_jobs = -1)"
   ]
  },
  {
   "cell_type": "code",
   "execution_count": 57,
   "metadata": {},
   "outputs": [
    {
     "name": "stdout",
     "output_type": "stream",
     "text": [
      "Fitting 10 folds for each of 5 candidates, totalling 50 fits\n"
     ]
    },
    {
     "name": "stderr",
     "output_type": "stream",
     "text": [
      "[Parallel(n_jobs=-1)]: Done  26 tasks      | elapsed:   19.2s\n",
      "[Parallel(n_jobs=-1)]: Done  50 out of  50 | elapsed:   46.7s finished\n"
     ]
    },
    {
     "data": {
      "text/plain": [
       "RandomizedSearchCV(cv=10, error_score='raise',\n",
       "          estimator=RandomForestClassifier(bootstrap=True, class_weight=None, criterion='gini',\n",
       "            max_depth=None, max_features='auto', max_leaf_nodes=None,\n",
       "            min_impurity_decrease=0.0, min_impurity_split=None,\n",
       "            min_samples_leaf=1, min_samples_split=2,\n",
       "            min_weight_fraction_leaf=0.0, n_estimators=10, n_jobs=1,\n",
       "            oob_score=False, random_state=None, verbose=0,\n",
       "            warm_start=False),\n",
       "          fit_params=None, iid=True, n_iter=5, n_jobs=-1,\n",
       "          param_distributions={'n_estimators': [200, 400, 600, 800, 1000, 1200, 1400, 1600, 1800, 2000], 'max_features': ['auto', 'sqrt'], 'max_depth': [10, 20, 30, 40, 50, 60, 70, 80, 90, 100, 110, None], 'min_samples_split': [2, 5, 10], 'min_samples_leaf': [1, 2, 4], 'bootstrap': [True, False], 'random_state': [21]},\n",
       "          pre_dispatch='2*n_jobs', random_state=42, refit=True,\n",
       "          return_train_score='warn', scoring=None, verbose=1)"
      ]
     },
     "execution_count": 57,
     "metadata": {},
     "output_type": "execute_result"
    }
   ],
   "source": [
    "# Fit the random search model\n",
    "\n",
    "rf_smote.fit(X_train_res, y_train_res)"
   ]
  },
  {
   "cell_type": "code",
   "execution_count": 58,
   "metadata": {},
   "outputs": [
    {
     "name": "stdout",
     "output_type": "stream",
     "text": [
      "accuracy :0.7819148936170213\n",
      "cohen_kappa :0.4625491958226161\n",
      "recall :0.632258064516129\n",
      " tn, fp, fn, tp :\n",
      "343 66 57 98\n",
      "matrix :\n",
      "[[343  66]\n",
      " [ 57  98]]\n",
      "report :\n",
      "             precision    recall  f1-score   support\n",
      "\n",
      "          0       0.86      0.84      0.85       409\n",
      "          1       0.60      0.63      0.61       155\n",
      "\n",
      "avg / total       0.79      0.78      0.78       564\n",
      "\n"
     ]
    }
   ],
   "source": [
    "# Check accuracy on test set\n",
    "\n",
    "rf_smote_accuracy = evaluate(rf_smote,test_features,test_target)"
   ]
  },
  {
   "cell_type": "code",
   "execution_count": 59,
   "metadata": {},
   "outputs": [],
   "source": [
    "# Fit the random search model\n",
    "\n",
    "#rf.fit(training_features, training_target)"
   ]
  },
  {
   "cell_type": "code",
   "execution_count": 60,
   "metadata": {},
   "outputs": [],
   "source": [
    "# Check accuracy on test set\n",
    "\n",
    "#rf_accuracy = evaluate(rf,test_features,test_target)"
   ]
  },
  {
   "cell_type": "code",
   "execution_count": 61,
   "metadata": {},
   "outputs": [
    {
     "name": "stdout",
     "output_type": "stream",
     "text": [
      "rf with SMOTE feature importance\n"
     ]
    },
    {
     "data": {
      "image/png": "[encoded data removed]",
      "text/plain": [
       "<matplotlib.figure.Figure at 0x7f6a70c26d30>"
      ]
     },
     "metadata": {},
     "output_type": "display_data"
    }
   ],
   "source": [
    "# feature importance plots\n",
    "\n",
    "print(\"rf with SMOTE feature importance\")\n",
    "feature_names=df.drop(['target'],axis=1).columns\n",
    "feature_importance = rf_smote.best_estimator_.feature_importances_\n",
    "sorted_idx = np.argsort(feature_importance)\n",
    "pos = np.arange(sorted_idx.shape[0]) + .5\n",
    "plt.figure(figsize=(10,fig_length/3))\n",
    "plt.barh(pos, feature_importance[sorted_idx], align='center')\n",
    "plt.yticks(pos, feature_names[sorted_idx])\n",
    "feature_names[sorted_idx]\n",
    "plt.show()\n",
    "\n",
    "#print(\"rf without SMOTE feature importance\")\n",
    "#feature_importance = rf.best_estimator_.feature_importances_\n",
    "#sorted_idx = np.argsort(feature_importance)\n",
    "#pos = np.arange(sorted_idx.shape[0]) + .5\n",
    "#plt.barh(pos, feature_importance[sorted_idx], align='center')\n",
    "#plt.yticks(pos, feature_names[sorted_idx])\n",
    "#feature_names[sorted_idx]\n",
    "#plt.show()"
   ]
  },
  {
   "cell_type": "code",
   "execution_count": 62,
   "metadata": {},
   "outputs": [
    {
     "name": "stdout",
     "output_type": "stream",
     "text": [
      "{'algorithm': ['SAMME', 'SAMME.R'],\n",
      " 'learning_rate': [0.1, 0.05, 0.02, 0.01],\n",
      " 'n_estimators': [200, 400, 600, 800, 1000, 1200, 1400, 1600, 1800, 2000],\n",
      " 'random_state': [21]}\n"
     ]
    }
   ],
   "source": [
    "# First create the base model to tune\n",
    "\n",
    "ADA = AdaBoostClassifier()\n",
    "\n",
    "# Number of iterations needed\n",
    "n_estimators = [int(x) for x in np.linspace(200, 2000, num = 10)]\n",
    "learning_rate = [0.1, 0.05, 0.02, 0.01]\n",
    "algorithm  = ['SAMME', 'SAMME.R']\n",
    "# Maximum number of levels in tree\n",
    "max_depth = [int(x) for x in np.linspace(10, 110, num = 11)]\n",
    "max_depth.append(None)\n",
    "# Minimum number of samples required at each leaf node\n",
    "min_samples_leaf = [1, 2, 4]\n",
    "random_state = [21]\n",
    "\n",
    "# Create the random grid\n",
    "random_grid_ada = {'n_estimators': n_estimators,\n",
    "                   'learning_rate': learning_rate,\n",
    "                   'algorithm':algorithm,\n",
    " #                 'max_depth': max_depth,\n",
    " #                 'min_samples_leaf': min_samples_leaf,\n",
    "                   'random_state': random_state}\n",
    "pprint(random_grid_ada)"
   ]
  },
  {
   "cell_type": "code",
   "execution_count": 63,
   "metadata": {},
   "outputs": [],
   "source": [
    "# First create the base model to tune\n",
    "ada = AdaBoostClassifier()\n",
    "# Random search of parameters, using 3 fold cross validation,\n",
    "# search across 100 different combinations, and use all available cores\n",
    "ada_smote = RandomizedSearchCV(estimator = ada, param_distributions = random_grid_ada, n_iter = 5, cv = 10, verbose=1, random_state=42, n_jobs = -1)\n",
    "#ada = RandomizedSearchCV(estimator = ada, param_distributions = random_grid_ada, n_iter = 5, cv = 10, verbose=0, random_state=42, n_jobs = -1)\n"
   ]
  },
  {
   "cell_type": "code",
   "execution_count": 64,
   "metadata": {},
   "outputs": [
    {
     "name": "stdout",
     "output_type": "stream",
     "text": [
      "Fitting 10 folds for each of 5 candidates, totalling 50 fits\n"
     ]
    },
    {
     "name": "stderr",
     "output_type": "stream",
     "text": [
      "[Parallel(n_jobs=-1)]: Done  26 tasks      | elapsed:    6.7s\n",
      "[Parallel(n_jobs=-1)]: Done  50 out of  50 | elapsed:   21.6s finished\n"
     ]
    },
    {
     "data": {
      "text/plain": [
       "RandomizedSearchCV(cv=10, error_score='raise',\n",
       "          estimator=AdaBoostClassifier(algorithm='SAMME.R', base_estimator=None,\n",
       "          learning_rate=1.0, n_estimators=50, random_state=None),\n",
       "          fit_params=None, iid=True, n_iter=5, n_jobs=-1,\n",
       "          param_distributions={'n_estimators': [200, 400, 600, 800, 1000, 1200, 1400, 1600, 1800, 2000], 'learning_rate': [0.1, 0.05, 0.02, 0.01], 'algorithm': ['SAMME', 'SAMME.R'], 'random_state': [21]},\n",
       "          pre_dispatch='2*n_jobs', random_state=42, refit=True,\n",
       "          return_train_score='warn', scoring=None, verbose=1)"
      ]
     },
     "execution_count": 64,
     "metadata": {},
     "output_type": "execute_result"
    }
   ],
   "source": [
    "# Fit the random search model\n",
    "\n",
    "ada_smote.fit(X_train_res, y_train_res)"
   ]
  },
  {
   "cell_type": "code",
   "execution_count": 65,
   "metadata": {},
   "outputs": [
    {
     "name": "stdout",
     "output_type": "stream",
     "text": [
      "accuracy :0.7358156028368794\n",
      "cohen_kappa :0.43940121677873833\n",
      "recall :0.8129032258064516\n",
      " tn, fp, fn, tp :\n",
      "289 120 29 126\n",
      "matrix :\n",
      "[[289 120]\n",
      " [ 29 126]]\n",
      "report :\n",
      "             precision    recall  f1-score   support\n",
      "\n",
      "          0       0.91      0.71      0.80       409\n",
      "          1       0.51      0.81      0.63       155\n",
      "\n",
      "avg / total       0.80      0.74      0.75       564\n",
      "\n"
     ]
    }
   ],
   "source": [
    "# Check accuracy on test set\n",
    "\n",
    "ada_smote_accuracy = evaluate(ada_smote,test_features,test_target)"
   ]
  },
  {
   "cell_type": "code",
   "execution_count": 66,
   "metadata": {},
   "outputs": [],
   "source": [
    "# Fit the random search model\n",
    "\n",
    "#ada.fit(training_features, training_target)"
   ]
  },
  {
   "cell_type": "code",
   "execution_count": 67,
   "metadata": {},
   "outputs": [],
   "source": [
    "# Check accuracy on test set\n",
    "\n",
    "#ada_accuracy = evaluate(ada,test_features,test_target)"
   ]
  },
  {
   "cell_type": "code",
   "execution_count": 68,
   "metadata": {},
   "outputs": [
    {
     "name": "stdout",
     "output_type": "stream",
     "text": [
      "ada with SMOTE feature importance\n"
     ]
    },
    {
     "data": {
      "image/png": "[encoded data removed]",
      "text/plain": [
       "<matplotlib.figure.Figure at 0x7f6a7039a898>"
      ]
     },
     "metadata": {},
     "output_type": "display_data"
    }
   ],
   "source": [
    "# feature importance plots\n",
    "\n",
    "print(\"ada with SMOTE feature importance\")\n",
    "feature_names=df.drop(['target'],axis=1).columns\n",
    "feature_importance = ada_smote.best_estimator_.feature_importances_\n",
    "sorted_idx = np.argsort(feature_importance)\n",
    "pos = np.arange(sorted_idx.shape[0]) + .5\n",
    "plt.figure(figsize=(10,fig_length/3))\n",
    "plt.barh(pos, feature_importance[sorted_idx], align='center')\n",
    "plt.yticks(pos, feature_names[sorted_idx])\n",
    "feature_names[sorted_idx]\n",
    "plt.show()\n",
    "\n",
    "#print(\"ada without SMOTE feature importance\")\n",
    "#feature_importance = ada.best_estimator_.feature_importances_\n",
    "#sorted_idx = np.argsort(feature_importance)\n",
    "#pos = np.arange(sorted_idx.shape[0]) + .5\n",
    "#plt.barh(pos, feature_importance[sorted_idx], align='center')\n",
    "#plt.yticks(pos, feature_names[sorted_idx])\n",
    "#feature_names[sorted_idx]\n",
    "#plt.show()"
   ]
  },
  {
   "cell_type": "code",
   "execution_count": 69,
   "metadata": {},
   "outputs": [],
   "source": [
    "# Baseline Model on the Sonar Dataset\n",
    "import numpy as np\n",
    "from pandas import read_csv\n",
    "from keras.models import Sequential\n",
    "from keras.layers import Dense\n",
    "from keras.wrappers.scikit_learn import KerasClassifier\n",
    "from keras.optimizers import SGD\n",
    "from sklearn.model_selection import cross_val_score\n",
    "from sklearn.preprocessing import LabelEncoder\n",
    "from sklearn.model_selection import StratifiedKFold\n",
    "from sklearn.preprocessing import StandardScaler\n",
    "from sklearn.pipeline import Pipeline\n",
    "\n",
    "seed=7\n",
    "np.random.seed(seed)"
   ]
  },
  {
   "cell_type": "code",
   "execution_count": 70,
   "metadata": {},
   "outputs": [],
   "source": [
    "# fix the input dimenstion to number of feature terms\n",
    "input_dimenation = X_train_res.shape[1]"
   ]
  },
  {
   "cell_type": "code",
   "execution_count": 71,
   "metadata": {},
   "outputs": [],
   "source": [
    "# INPUT: model parameters\n",
    "epochs_input = 100\n",
    "batch_size_input = 50"
   ]
  },
  {
   "cell_type": "code",
   "execution_count": 72,
   "metadata": {},
   "outputs": [],
   "source": [
    "def create_model():\n",
    "# create model\n",
    "    model = Sequential()\n",
    "    model.add(Dense(input_dimenation, input_dim=input_dimenation, kernel_initializer='normal', activation='relu'))#, kernel_constraint=maxnorm(3)))\n",
    "    #model.add(Dropout(0.2))\n",
    "    model.add(Dense(input_dimenation, kernel_initializer='normal', activation='relu'))#, kernel_constraint=maxnorm(2)))\n",
    "    #model.add(Dropout(0.2))\n",
    "    model.add(Dense(output, kernel_initializer='normal', activation='sigmoid'))\n",
    "    # Compile model\n",
    "    sgd = SGD(lr=0.1, momentum=0.9, decay=0.0, nesterov=False)\n",
    "    model.compile(loss='binary_crossentropy', optimizer=sgd, metrics=['accuracy'])\n",
    "    return model"
   ]
  },
  {
   "cell_type": "code",
   "execution_count": 73,
   "metadata": {},
   "outputs": [
    {
     "name": "stdout",
     "output_type": "stream",
     "text": [
      "Epoch 1/100\n",
      "6718/6718 [==============================] - 2s 239us/step - loss: 0.5790 - acc: 0.6703\n",
      "Epoch 2/100\n",
      "6718/6718 [==============================] - 1s 76us/step - loss: 0.4902 - acc: 0.7629\n",
      "Epoch 3/100\n",
      "6718/6718 [==============================] - 0s 68us/step - loss: 0.4814 - acc: 0.7638\n",
      "Epoch 4/100\n",
      "6718/6718 [==============================] - 0s 72us/step - loss: 0.4784 - acc: 0.7718\n",
      "Epoch 5/100\n",
      "6718/6718 [==============================] - 1s 77us/step - loss: 0.4738 - acc: 0.7721\n",
      "Epoch 6/100\n",
      "6718/6718 [==============================] - 0s 71us/step - loss: 0.4758 - acc: 0.7742\n",
      "Epoch 7/100\n",
      "6718/6718 [==============================] - 0s 67us/step - loss: 0.4713 - acc: 0.7749\n",
      "Epoch 8/100\n",
      "6718/6718 [==============================] - 1s 77us/step - loss: 0.4688 - acc: 0.7773\n",
      "Epoch 9/100\n",
      "6718/6718 [==============================] - 0s 74us/step - loss: 0.4656 - acc: 0.7787\n",
      "Epoch 10/100\n",
      "6718/6718 [==============================] - 0s 71us/step - loss: 0.4677 - acc: 0.7769\n",
      "Epoch 11/100\n",
      "6718/6718 [==============================] - 0s 66us/step - loss: 0.4623 - acc: 0.7831\n",
      "Epoch 12/100\n",
      "6718/6718 [==============================] - 0s 74us/step - loss: 0.4591 - acc: 0.7845\n",
      "Epoch 13/100\n",
      "6718/6718 [==============================] - 1s 75us/step - loss: 0.4545 - acc: 0.7870\n",
      "Epoch 14/100\n",
      "6718/6718 [==============================] - 0s 74us/step - loss: 0.4542 - acc: 0.7846\n",
      "Epoch 15/100\n",
      "6718/6718 [==============================] - 0s 67us/step - loss: 0.4525 - acc: 0.7877\n",
      "Epoch 16/100\n",
      "6718/6718 [==============================] - 1s 75us/step - loss: 0.4541 - acc: 0.7852\n",
      "Epoch 17/100\n",
      "6718/6718 [==============================] - 1s 78us/step - loss: 0.4488 - acc: 0.7916\n",
      "Epoch 18/100\n",
      "6718/6718 [==============================] - 0s 70us/step - loss: 0.4503 - acc: 0.7904\n",
      "Epoch 19/100\n",
      "6718/6718 [==============================] - 0s 68us/step - loss: 0.4477 - acc: 0.7928\n",
      "Epoch 20/100\n",
      "6718/6718 [==============================] - 1s 75us/step - loss: 0.4540 - acc: 0.7885\n",
      "Epoch 21/100\n",
      "6718/6718 [==============================] - 1s 76us/step - loss: 0.4486 - acc: 0.7870\n",
      "Epoch 22/100\n",
      "6718/6718 [==============================] - 0s 71us/step - loss: 0.4453 - acc: 0.7925\n",
      "Epoch 23/100\n",
      "6718/6718 [==============================] - 0s 68us/step - loss: 0.4438 - acc: 0.7959\n",
      "Epoch 24/100\n",
      "6718/6718 [==============================] - 0s 73us/step - loss: 0.4464 - acc: 0.7958\n",
      "Epoch 25/100\n",
      "6718/6718 [==============================] - 1s 77us/step - loss: 0.4425 - acc: 0.7937\n",
      "Epoch 26/100\n",
      "6718/6718 [==============================] - 0s 67us/step - loss: 0.4361 - acc: 0.7983\n",
      "Epoch 27/100\n",
      "6718/6718 [==============================] - 0s 70us/step - loss: 0.4387 - acc: 0.7943\n",
      "Epoch 28/100\n",
      "6718/6718 [==============================] - 0s 74us/step - loss: 0.4399 - acc: 0.7950\n",
      "Epoch 29/100\n",
      "6718/6718 [==============================] - 1s 76us/step - loss: 0.4471 - acc: 0.7922\n",
      "Epoch 30/100\n",
      "6718/6718 [==============================] - 0s 72us/step - loss: 0.4343 - acc: 0.8025\n",
      "Epoch 31/100\n",
      "6718/6718 [==============================] - 0s 71us/step - loss: 0.4350 - acc: 0.8004\n",
      "Epoch 32/100\n",
      "6718/6718 [==============================] - 1s 75us/step - loss: 0.4367 - acc: 0.7999\n",
      "Epoch 33/100\n",
      "6718/6718 [==============================] - 1s 78us/step - loss: 0.4356 - acc: 0.7959\n",
      "Epoch 34/100\n",
      "6718/6718 [==============================] - 0s 69us/step - loss: 0.4274 - acc: 0.8038\n",
      "Epoch 35/100\n",
      "6718/6718 [==============================] - 0s 70us/step - loss: 0.4338 - acc: 0.7977\n",
      "Epoch 36/100\n",
      "6718/6718 [==============================] - 1s 76us/step - loss: 0.4300 - acc: 0.8013\n",
      "Epoch 37/100\n",
      "6718/6718 [==============================] - 1s 76us/step - loss: 0.4321 - acc: 0.7952\n",
      "Epoch 38/100\n",
      "6718/6718 [==============================] - 0s 66us/step - loss: 0.4378 - acc: 0.7953\n",
      "Epoch 39/100\n",
      "6718/6718 [==============================] - 0s 74us/step - loss: 0.4341 - acc: 0.7982\n",
      "Epoch 40/100\n",
      "6718/6718 [==============================] - 1s 79us/step - loss: 0.4259 - acc: 0.8050\n",
      "Epoch 41/100\n",
      "6718/6718 [==============================] - 0s 72us/step - loss: 0.4289 - acc: 0.7989\n",
      "Epoch 42/100\n",
      "6718/6718 [==============================] - 0s 69us/step - loss: 0.4326 - acc: 0.7973\n",
      "Epoch 43/100\n",
      "6718/6718 [==============================] - 1s 75us/step - loss: 0.4208 - acc: 0.8047\n",
      "Epoch 44/100\n",
      "6718/6718 [==============================] - 1s 77us/step - loss: 0.4248 - acc: 0.8022\n",
      "Epoch 45/100\n",
      "6718/6718 [==============================] - 0s 70us/step - loss: 0.4202 - acc: 0.8046\n",
      "Epoch 46/100\n",
      "6718/6718 [==============================] - 0s 66us/step - loss: 0.4251 - acc: 0.8072\n",
      "Epoch 47/100\n",
      "6718/6718 [==============================] - 0s 73us/step - loss: 0.4227 - acc: 0.8035\n",
      "Epoch 48/100\n",
      "6718/6718 [==============================] - 1s 75us/step - loss: 0.4249 - acc: 0.7985\n",
      "Epoch 49/100\n",
      "6718/6718 [==============================] - 0s 69us/step - loss: 0.4153 - acc: 0.8035\n",
      "Epoch 50/100\n",
      "6718/6718 [==============================] - 0s 64us/step - loss: 0.4231 - acc: 0.8072\n",
      "Epoch 51/100\n",
      "6718/6718 [==============================] - 1s 76us/step - loss: 0.4238 - acc: 0.8077\n",
      "Epoch 52/100\n",
      "6718/6718 [==============================] - 0s 73us/step - loss: 0.4144 - acc: 0.8113\n",
      "Epoch 53/100\n",
      "6718/6718 [==============================] - 0s 72us/step - loss: 0.4210 - acc: 0.8087\n",
      "Epoch 54/100\n",
      "6718/6718 [==============================] - 0s 68us/step - loss: 0.4112 - acc: 0.8136\n",
      "Epoch 55/100\n",
      "6718/6718 [==============================] - 1s 75us/step - loss: 0.4113 - acc: 0.8078\n",
      "Epoch 56/100\n",
      "6718/6718 [==============================] - 1s 77us/step - loss: 0.4128 - acc: 0.8144\n",
      "Epoch 57/100\n",
      "6718/6718 [==============================] - 0s 72us/step - loss: 0.4156 - acc: 0.8074\n",
      "Epoch 58/100\n",
      "6718/6718 [==============================] - 0s 67us/step - loss: 0.4103 - acc: 0.8092\n",
      "Epoch 59/100\n",
      "6718/6718 [==============================] - 0s 73us/step - loss: 0.4193 - acc: 0.8057\n",
      "Epoch 60/100\n",
      "6718/6718 [==============================] - 1s 75us/step - loss: 0.4121 - acc: 0.8116\n",
      "Epoch 61/100\n",
      "6718/6718 [==============================] - 0s 72us/step - loss: 0.4102 - acc: 0.8133\n",
      "Epoch 62/100\n",
      "6718/6718 [==============================] - 0s 69us/step - loss: 0.4063 - acc: 0.8135\n",
      "Epoch 63/100\n",
      "6718/6718 [==============================] - 1s 75us/step - loss: 0.4048 - acc: 0.8166\n",
      "Epoch 64/100\n",
      "6718/6718 [==============================] - 1s 77us/step - loss: 0.4095 - acc: 0.8083\n",
      "Epoch 65/100\n",
      "6718/6718 [==============================] - 0s 71us/step - loss: 0.4062 - acc: 0.8141\n",
      "Epoch 66/100\n",
      "6718/6718 [==============================] - 0s 69us/step - loss: 0.4069 - acc: 0.8083\n",
      "Epoch 67/100\n",
      "6718/6718 [==============================] - 1s 77us/step - loss: 0.4081 - acc: 0.8099\n",
      "Epoch 68/100\n",
      "6718/6718 [==============================] - 1s 77us/step - loss: 0.4060 - acc: 0.8171\n",
      "Epoch 69/100\n",
      "6718/6718 [==============================] - 0s 68us/step - loss: 0.4028 - acc: 0.8145\n",
      "Epoch 70/100\n",
      "6718/6718 [==============================] - 0s 72us/step - loss: 0.4041 - acc: 0.8133\n",
      "Epoch 71/100\n",
      "6718/6718 [==============================] - 1s 77us/step - loss: 0.4104 - acc: 0.8099\n",
      "Epoch 72/100\n",
      "6718/6718 [==============================] - 1s 76us/step - loss: 0.4018 - acc: 0.8197\n",
      "Epoch 73/100\n",
      "6718/6718 [==============================] - 0s 67us/step - loss: 0.4105 - acc: 0.8123\n",
      "Epoch 74/100\n",
      "6718/6718 [==============================] - 0s 71us/step - loss: 0.4007 - acc: 0.8144\n",
      "Epoch 75/100\n",
      "6718/6718 [==============================] - 1s 77us/step - loss: 0.4001 - acc: 0.8160\n",
      "Epoch 76/100\n",
      "6718/6718 [==============================] - 1s 76us/step - loss: 0.3990 - acc: 0.8169\n",
      "Epoch 77/100\n",
      "6718/6718 [==============================] - 0s 67us/step - loss: 0.4080 - acc: 0.8144\n",
      "Epoch 78/100\n",
      "6718/6718 [==============================] - 0s 72us/step - loss: 0.3999 - acc: 0.8135\n",
      "Epoch 79/100\n",
      "6718/6718 [==============================] - 0s 74us/step - loss: 0.4036 - acc: 0.8129\n",
      "Epoch 80/100\n",
      "6718/6718 [==============================] - 0s 73us/step - loss: 0.4024 - acc: 0.8174\n",
      "Epoch 81/100\n",
      "6718/6718 [==============================] - 0s 68us/step - loss: 0.3983 - acc: 0.8145\n",
      "Epoch 82/100\n",
      "6718/6718 [==============================] - 0s 74us/step - loss: 0.3998 - acc: 0.8151\n",
      "Epoch 83/100\n"
     ]
    },
    {
     "name": "stdout",
     "output_type": "stream",
     "text": [
      "6718/6718 [==============================] - 1s 76us/step - loss: 0.4055 - acc: 0.8139\n",
      "Epoch 84/100\n",
      "6718/6718 [==============================] - 0s 74us/step - loss: 0.4035 - acc: 0.8110\n",
      "Epoch 85/100\n",
      "6718/6718 [==============================] - 0s 69us/step - loss: 0.4025 - acc: 0.8133\n",
      "Epoch 86/100\n",
      "6718/6718 [==============================] - 0s 74us/step - loss: 0.4010 - acc: 0.8098\n",
      "Epoch 87/100\n",
      "6718/6718 [==============================] - 0s 74us/step - loss: 0.3994 - acc: 0.8120\n",
      "Epoch 88/100\n",
      "6718/6718 [==============================] - 0s 73us/step - loss: 0.4022 - acc: 0.8169\n",
      "Epoch 89/100\n",
      "6718/6718 [==============================] - 0s 69us/step - loss: 0.3951 - acc: 0.8194\n",
      "Epoch 90/100\n",
      "6718/6718 [==============================] - 0s 74us/step - loss: 0.4026 - acc: 0.8118\n",
      "Epoch 91/100\n",
      "6718/6718 [==============================] - 1s 79us/step - loss: 0.3917 - acc: 0.8196\n",
      "Epoch 92/100\n",
      "6718/6718 [==============================] - 0s 72us/step - loss: 0.3906 - acc: 0.8191\n",
      "Epoch 93/100\n",
      "6718/6718 [==============================] - 0s 66us/step - loss: 0.3928 - acc: 0.8184\n",
      "Epoch 94/100\n",
      "6718/6718 [==============================] - 1s 76us/step - loss: 0.3949 - acc: 0.8166\n",
      "Epoch 95/100\n",
      "6718/6718 [==============================] - 1s 75us/step - loss: 0.4002 - acc: 0.8159\n",
      "Epoch 96/100\n",
      "6718/6718 [==============================] - 0s 69us/step - loss: 0.3962 - acc: 0.8163\n",
      "Epoch 97/100\n",
      "6718/6718 [==============================] - 0s 67us/step - loss: 0.3996 - acc: 0.8168\n",
      "Epoch 98/100\n",
      "6718/6718 [==============================] - 1s 75us/step - loss: 0.3928 - acc: 0.8182\n",
      "Epoch 99/100\n",
      "6718/6718 [==============================] - 1s 80us/step - loss: 0.3963 - acc: 0.8162\n",
      "Epoch 100/100\n",
      "6718/6718 [==============================] - 0s 68us/step - loss: 0.3903 - acc: 0.8171\n"
     ]
    },
    {
     "data": {
      "text/plain": [
       "<keras.callbacks.History at 0x7f6aac366b38>"
      ]
     },
     "execution_count": 73,
     "metadata": {},
     "output_type": "execute_result"
    }
   ],
   "source": [
    "# create model\n",
    "\n",
    "model_smote = KerasClassifier(build_fn = create_model, epochs = epochs_input, batch_size = batch_size_input, verbose = 1)\n",
    "# Fit the model\n",
    "model_smote.fit(X_train_res, y_train_res)\n"
   ]
  },
  {
   "cell_type": "code",
   "execution_count": 74,
   "metadata": {},
   "outputs": [
    {
     "name": "stdout",
     "output_type": "stream",
     "text": [
      "564/564 [==============================] - 0s 47us/step\n",
      "accuracy :0.7127659574468085\n",
      "cohen_kappa :0.3915209312857123\n",
      "recall :0.7741935483870968\n",
      " tn, fp, fn, tp :\n",
      "282 127 35 120\n",
      "matrix :\n",
      "[[282 127]\n",
      " [ 35 120]]\n",
      "report :\n",
      "             precision    recall  f1-score   support\n",
      "\n",
      "          0       0.89      0.69      0.78       409\n",
      "          1       0.49      0.77      0.60       155\n",
      "\n",
      "avg / total       0.78      0.71      0.73       564\n",
      "\n"
     ]
    }
   ],
   "source": [
    "# Check accuracy on test set\n",
    "\n",
    "tf_accuracy = evaluate(model_smote,test_features,test_target)"
   ]
  },
  {
   "cell_type": "code",
   "execution_count": 75,
   "metadata": {},
   "outputs": [],
   "source": [
    "# create model\n",
    "\n",
    "#model = KerasClassifier(build_fn = create_model, epochs = epochs_input, batch_size = batch_size_input, verbose = 1)\n",
    "# Fit the model\n",
    "#model.fit(training_features, training_target)\n"
   ]
  },
  {
   "cell_type": "code",
   "execution_count": 76,
   "metadata": {},
   "outputs": [],
   "source": [
    "# Check accuracy on test set\n",
    "\n",
    "#tf_accuracy = evaluate(model,test_features,test_target)"
   ]
  },
  {
   "cell_type": "code",
   "execution_count": 77,
   "metadata": {},
   "outputs": [
    {
     "name": "stderr",
     "output_type": "stream",
     "text": [
      "/home/mohnkhan/anaconda3/lib/python3.6/site-packages/sklearn/cross_validation.py:41: DeprecationWarning: This module was deprecated in version 0.18 in favor of the model_selection module into which all the refactored classes and functions are moved. Also note that the interface of the new CV iterators are different from that of this module. This module will be removed in 0.20.\n",
      "  \"This module will be removed in 0.20.\", DeprecationWarning)\n",
      "/home/mohnkhan/anaconda3/lib/python3.6/site-packages/sklearn/grid_search.py:42: DeprecationWarning: This module was deprecated in version 0.18 in favor of the model_selection module into which all the refactored classes and functions are moved. This module will be removed in 0.20.\n",
      "  DeprecationWarning)\n"
     ]
    }
   ],
   "source": [
    "import xgboost as xgb\n",
    "from xgboost.sklearn import XGBClassifier\n",
    "import scipy.stats as st\n",
    "from sklearn.grid_search import RandomizedSearchCV\n",
    "\n",
    "n_estimators = [int(x) for x in np.linspace(200, 2000, num = 10)]\n",
    "learning_rate = [0.1, 0.05, 0.02, 0.01]\n",
    "max_depth = [int(x) for x in np.linspace(1, 10, num = 10)]\n",
    "one_to_left = st.beta(10, 1)  \n",
    "from_zero_positive = st.expon(0, 50)\n",
    "random_state = [21]\n",
    "\n",
    "# Create the random grid\n",
    "\n",
    "# First create the base model to tune\n",
    "n_estimators = [int(x) for x in np.linspace(3, 40, num = 10)]\n",
    "max_depth = [int(x) for x in np.linspace(1, 10, num = 10)]\n",
    "one_to_left = st.beta(10, 1)  \n",
    "from_zero_positive = st.expon(0, 50)\n",
    "random_state=[21]\n",
    "params = {  \n",
    "    'n_estimators': n_estimators,\n",
    "    'learning_rate': learning_rate,\n",
    "    \"max_depth\": max_depth,\n",
    "    \"learning_rate\": st.uniform(0.05, 0.4),\n",
    "    \"colsample_bytree\": one_to_left,\n",
    "    \"subsample\": one_to_left,\n",
    "    \"gamma\": st.uniform(0, 10),\n",
    "    'reg_alpha': from_zero_positive,\n",
    "    \"min_child_weight\": from_zero_positive,\n",
    "    'random_state':random_state\n",
    "}\n",
    "\n",
    "xgbclass = XGBClassifier(nthreads=-1)  "
   ]
  },
  {
   "cell_type": "code",
   "execution_count": 78,
   "metadata": {},
   "outputs": [
    {
     "name": "stderr",
     "output_type": "stream",
     "text": [
      "/home/mohnkhan/anaconda3/lib/python3.6/site-packages/sklearn/preprocessing/label.py:151: DeprecationWarning: The truth value of an empty array is ambiguous. Returning False, but in future this will result in an error. Use `array.size > 0` to check that an array is not empty.\n",
      "  if diff:\n",
      "/home/mohnkhan/anaconda3/lib/python3.6/site-packages/sklearn/preprocessing/label.py:151: DeprecationWarning: The truth value of an empty array is ambiguous. Returning False, but in future this will result in an error. Use `array.size > 0` to check that an array is not empty.\n",
      "  if diff:\n",
      "/home/mohnkhan/anaconda3/lib/python3.6/site-packages/sklearn/preprocessing/label.py:151: DeprecationWarning: The truth value of an empty array is ambiguous. Returning False, but in future this will result in an error. Use `array.size > 0` to check that an array is not empty.\n",
      "  if diff:\n",
      "/home/mohnkhan/anaconda3/lib/python3.6/site-packages/sklearn/preprocessing/label.py:151: DeprecationWarning: The truth value of an empty array is ambiguous. Returning False, but in future this will result in an error. Use `array.size > 0` to check that an array is not empty.\n",
      "  if diff:\n",
      "/home/mohnkhan/anaconda3/lib/python3.6/site-packages/sklearn/preprocessing/label.py:151: DeprecationWarning: The truth value of an empty array is ambiguous. Returning False, but in future this will result in an error. Use `array.size > 0` to check that an array is not empty.\n",
      "  if diff:\n",
      "/home/mohnkhan/anaconda3/lib/python3.6/site-packages/sklearn/preprocessing/label.py:151: DeprecationWarning: The truth value of an empty array is ambiguous. Returning False, but in future this will result in an error. Use `array.size > 0` to check that an array is not empty.\n",
      "  if diff:\n",
      "/home/mohnkhan/anaconda3/lib/python3.6/site-packages/sklearn/preprocessing/label.py:151: DeprecationWarning: The truth value of an empty array is ambiguous. Returning False, but in future this will result in an error. Use `array.size > 0` to check that an array is not empty.\n",
      "  if diff:\n",
      "/home/mohnkhan/anaconda3/lib/python3.6/site-packages/sklearn/preprocessing/label.py:151: DeprecationWarning: The truth value of an empty array is ambiguous. Returning False, but in future this will result in an error. Use `array.size > 0` to check that an array is not empty.\n",
      "  if diff:\n",
      "/home/mohnkhan/anaconda3/lib/python3.6/site-packages/sklearn/preprocessing/label.py:151: DeprecationWarning: The truth value of an empty array is ambiguous. Returning False, but in future this will result in an error. Use `array.size > 0` to check that an array is not empty.\n",
      "  if diff:\n",
      "/home/mohnkhan/anaconda3/lib/python3.6/site-packages/sklearn/preprocessing/label.py:151: DeprecationWarning: The truth value of an empty array is ambiguous. Returning False, but in future this will result in an error. Use `array.size > 0` to check that an array is not empty.\n",
      "  if diff:\n",
      "/home/mohnkhan/anaconda3/lib/python3.6/site-packages/sklearn/preprocessing/label.py:151: DeprecationWarning: The truth value of an empty array is ambiguous. Returning False, but in future this will result in an error. Use `array.size > 0` to check that an array is not empty.\n",
      "  if diff:\n",
      "/home/mohnkhan/anaconda3/lib/python3.6/site-packages/sklearn/preprocessing/label.py:151: DeprecationWarning: The truth value of an empty array is ambiguous. Returning False, but in future this will result in an error. Use `array.size > 0` to check that an array is not empty.\n",
      "  if diff:\n",
      "/home/mohnkhan/anaconda3/lib/python3.6/site-packages/sklearn/preprocessing/label.py:151: DeprecationWarning: The truth value of an empty array is ambiguous. Returning False, but in future this will result in an error. Use `array.size > 0` to check that an array is not empty.\n",
      "  if diff:\n",
      "/home/mohnkhan/anaconda3/lib/python3.6/site-packages/sklearn/preprocessing/label.py:151: DeprecationWarning: The truth value of an empty array is ambiguous. Returning False, but in future this will result in an error. Use `array.size > 0` to check that an array is not empty.\n",
      "  if diff:\n",
      "/home/mohnkhan/anaconda3/lib/python3.6/site-packages/sklearn/preprocessing/label.py:151: DeprecationWarning: The truth value of an empty array is ambiguous. Returning False, but in future this will result in an error. Use `array.size > 0` to check that an array is not empty.\n",
      "  if diff:\n",
      "/home/mohnkhan/anaconda3/lib/python3.6/site-packages/sklearn/preprocessing/label.py:151: DeprecationWarning: The truth value of an empty array is ambiguous. Returning False, but in future this will result in an error. Use `array.size > 0` to check that an array is not empty.\n",
      "  if diff:\n",
      "/home/mohnkhan/anaconda3/lib/python3.6/site-packages/sklearn/preprocessing/label.py:151: DeprecationWarning: The truth value of an empty array is ambiguous. Returning False, but in future this will result in an error. Use `array.size > 0` to check that an array is not empty.\n",
      "  if diff:\n",
      "/home/mohnkhan/anaconda3/lib/python3.6/site-packages/sklearn/preprocessing/label.py:151: DeprecationWarning: The truth value of an empty array is ambiguous. Returning False, but in future this will result in an error. Use `array.size > 0` to check that an array is not empty.\n",
      "  if diff:\n",
      "/home/mohnkhan/anaconda3/lib/python3.6/site-packages/sklearn/preprocessing/label.py:151: DeprecationWarning: The truth value of an empty array is ambiguous. Returning False, but in future this will result in an error. Use `array.size > 0` to check that an array is not empty.\n",
      "  if diff:\n",
      "/home/mohnkhan/anaconda3/lib/python3.6/site-packages/sklearn/preprocessing/label.py:151: DeprecationWarning: The truth value of an empty array is ambiguous. Returning False, but in future this will result in an error. Use `array.size > 0` to check that an array is not empty.\n",
      "  if diff:\n",
      "/home/mohnkhan/anaconda3/lib/python3.6/site-packages/sklearn/preprocessing/label.py:151: DeprecationWarning: The truth value of an empty array is ambiguous. Returning False, but in future this will result in an error. Use `array.size > 0` to check that an array is not empty.\n",
      "  if diff:\n",
      "/home/mohnkhan/anaconda3/lib/python3.6/site-packages/sklearn/preprocessing/label.py:151: DeprecationWarning: The truth value of an empty array is ambiguous. Returning False, but in future this will result in an error. Use `array.size > 0` to check that an array is not empty.\n",
      "  if diff:\n",
      "/home/mohnkhan/anaconda3/lib/python3.6/site-packages/sklearn/preprocessing/label.py:151: DeprecationWarning: The truth value of an empty array is ambiguous. Returning False, but in future this will result in an error. Use `array.size > 0` to check that an array is not empty.\n",
      "  if diff:\n",
      "/home/mohnkhan/anaconda3/lib/python3.6/site-packages/sklearn/preprocessing/label.py:151: DeprecationWarning: The truth value of an empty array is ambiguous. Returning False, but in future this will result in an error. Use `array.size > 0` to check that an array is not empty.\n",
      "  if diff:\n",
      "/home/mohnkhan/anaconda3/lib/python3.6/site-packages/sklearn/preprocessing/label.py:151: DeprecationWarning: The truth value of an empty array is ambiguous. Returning False, but in future this will result in an error. Use `array.size > 0` to check that an array is not empty.\n",
      "  if diff:\n",
      "/home/mohnkhan/anaconda3/lib/python3.6/site-packages/sklearn/preprocessing/label.py:151: DeprecationWarning: The truth value of an empty array is ambiguous. Returning False, but in future this will result in an error. Use `array.size > 0` to check that an array is not empty.\n",
      "  if diff:\n",
      "/home/mohnkhan/anaconda3/lib/python3.6/site-packages/sklearn/preprocessing/label.py:151: DeprecationWarning: The truth value of an empty array is ambiguous. Returning False, but in future this will result in an error. Use `array.size > 0` to check that an array is not empty.\n",
      "  if diff:\n",
      "/home/mohnkhan/anaconda3/lib/python3.6/site-packages/sklearn/preprocessing/label.py:151: DeprecationWarning: The truth value of an empty array is ambiguous. Returning False, but in future this will result in an error. Use `array.size > 0` to check that an array is not empty.\n",
      "  if diff:\n",
      "/home/mohnkhan/anaconda3/lib/python3.6/site-packages/sklearn/preprocessing/label.py:151: DeprecationWarning: The truth value of an empty array is ambiguous. Returning False, but in future this will result in an error. Use `array.size > 0` to check that an array is not empty.\n",
      "  if diff:\n",
      "/home/mohnkhan/anaconda3/lib/python3.6/site-packages/sklearn/preprocessing/label.py:151: DeprecationWarning: The truth value of an empty array is ambiguous. Returning False, but in future this will result in an error. Use `array.size > 0` to check that an array is not empty.\n",
      "  if diff:\n"
     ]
    },
    {
     "data": {
      "text/plain": [
       "RandomizedSearchCV(cv=None, error_score='raise',\n",
       "          estimator=XGBClassifier(base_score=0.5, booster='gbtree', colsample_bylevel=1,\n",
       "       colsample_bytree=1, gamma=0, learning_rate=0.1, max_delta_step=0,\n",
       "       max_depth=3, min_child_weight=1, missing=None, n_estimators=100,\n",
       "       n_jobs=1, nthread=None, nthreads=-1, objective='binary:logistic',\n",
       "       random_state=0, reg_alpha=0, reg_lambda=1, scale_pos_weight=1,\n",
       "       seed=None, silent=True, subsample=1),\n",
       "          fit_params={}, iid=True, n_iter=10, n_jobs=1,\n",
       "          param_distributions={'n_estimators': [3, 7, 11, 15, 19, 23, 27, 31, 35, 40], 'learning_rate': <scipy.stats._distn_infrastructure.rv_frozen object at 0x7f6a70100908>, 'max_depth': [1, 2, 3, 4, 5, 6, 7, 8, 9, 10], 'colsample_bytree': <scipy.stats._distn_infrastructure.rv_frozen object at 0x7f6a701007f...ight': <scipy.stats._distn_infrastructure.rv_frozen object at 0x7f6a701009b0>, 'random_state': [21]},\n",
       "          pre_dispatch='2*n_jobs', random_state=None, refit=True,\n",
       "          scoring=None, verbose=0)"
      ]
     },
     "execution_count": 78,
     "metadata": {},
     "output_type": "execute_result"
    }
   ],
   "source": [
    "gs_smote = RandomizedSearchCV(xgbclass, params, n_jobs=1)  \n",
    "gs_smote.fit(X_train_res, y_train_res)  "
   ]
  },
  {
   "cell_type": "code",
   "execution_count": 79,
   "metadata": {},
   "outputs": [
    {
     "name": "stdout",
     "output_type": "stream",
     "text": [
      "accuracy :0.7588652482269503\n",
      "cohen_kappa :0.45994508202492435\n",
      "recall :0.7548387096774194\n",
      " tn, fp, fn, tp :\n",
      "311 98 38 117\n",
      "matrix :\n",
      "[[311  98]\n",
      " [ 38 117]]\n",
      "report :\n",
      "             precision    recall  f1-score   support\n",
      "\n",
      "          0       0.89      0.76      0.82       409\n",
      "          1       0.54      0.75      0.63       155\n",
      "\n",
      "avg / total       0.80      0.76      0.77       564\n",
      "\n"
     ]
    },
    {
     "name": "stderr",
     "output_type": "stream",
     "text": [
      "/home/mohnkhan/anaconda3/lib/python3.6/site-packages/sklearn/preprocessing/label.py:151: DeprecationWarning: The truth value of an empty array is ambiguous. Returning False, but in future this will result in an error. Use `array.size > 0` to check that an array is not empty.\n",
      "  if diff:\n"
     ]
    }
   ],
   "source": [
    "# Check accuracy on test set\n",
    "\n",
    "xgb_smote_accuracy = evaluate(gs_smote,test_features,test_target)"
   ]
  },
  {
   "cell_type": "code",
   "execution_count": 80,
   "metadata": {},
   "outputs": [
    {
     "name": "stdout",
     "output_type": "stream",
     "text": [
      "XGBOOST without SMOTE feature importance\n"
     ]
    },
    {
     "data": {
      "image/png": "[encoded data removed]",
      "text/plain": [
       "<matplotlib.figure.Figure at 0x7f6a701084a8>"
      ]
     },
     "metadata": {},
     "output_type": "display_data"
    }
   ],
   "source": [
    "# feature importance plots\n",
    "\n",
    "#print(\"XGBOOST with SMOTE feature importance\")\n",
    "feature_names=df.drop(['target'],axis=1).columns\n",
    "#feature_importance = gs.best_estimator_.feature_importances_\n",
    "#sorted_idx = np.argsort(feature_importance)\n",
    "#pos = np.arange(sorted_idx.shape[0]) + .5\n",
    "#plt.barh(pos, feature_importance[sorted_idx], align='center')\n",
    "#plt.yticks(pos, feature_names[sorted_idx])\n",
    "#feature_names[sorted_idx]\n",
    "#plt.show()\n",
    "\n",
    "print(\"XGBOOST without SMOTE feature importance\")\n",
    "feature_importance = gs_smote.best_estimator_.feature_importances_\n",
    "sorted_idx = np.argsort(feature_importance)\n",
    "pos = np.arange(sorted_idx.shape[0]) + .5\n",
    "plt.figure(figsize=(10,fig_length/3))\n",
    "plt.barh(pos, feature_importance[sorted_idx], align='center')\n",
    "plt.yticks(pos, feature_names[sorted_idx])\n",
    "feature_names[sorted_idx]\n",
    "plt.show()"
   ]
  },
  {
   "cell_type": "code",
   "execution_count": 81,
   "metadata": {},
   "outputs": [],
   "source": [
    "#gs = RandomizedSearchCV(xgbclass, params, n_jobs=1)  \n",
    "#gs.fit(training_features, training_target) "
   ]
  },
  {
   "cell_type": "code",
   "execution_count": 82,
   "metadata": {},
   "outputs": [],
   "source": [
    "# Check accuracy on test set\n",
    "\n",
    "#xgb_accuracy = evaluate(gs,test_features,test_target)"
   ]
  },
  {
   "cell_type": "code",
   "execution_count": 83,
   "metadata": {},
   "outputs": [],
   "source": [
    "def evaluate_accuracy(model, X_test, y_test):\n",
    "    y_pred = model.predict(X_test)\n",
    "    accuracy = accuracy_score(y_test,y_pred)\n",
    "    return accuracy\n",
    "\n",
    "def evaluate_kappa(model, X_test, y_test):\n",
    "    y_pred = model.predict(X_test)\n",
    "    kappa = cohen_kappa_score(y_test, y_pred, sample_weight=None)\n",
    "    return kappa\n",
    "\n",
    "def evaluate_recall(model, X_test, y_test):\n",
    "    y_pred = model.predict(X_test)\n",
    "    recall = recall_score(y_test,y_pred)\n",
    "    return recall\n",
    "\n",
    "def evaluate_precision(model, X_test, y_test):\n",
    "    y_pred = model.predict(X_test)\n",
    "    precision = precision_score(y_test,y_pred)\n",
    "    return precision\n",
    "\n",
    "def evaluate_con_mat_row(model, X_test, y_test):\n",
    "    y_pred = model.predict(X_test)\n",
    "    tn, fp, fn, tp = confusion_matrix(y_test, y_pred).ravel()\n",
    "    return (tn, fp, fn, tp)"
   ]
  },
  {
   "cell_type": "code",
   "execution_count": 84,
   "metadata": {},
   "outputs": [
    {
     "name": "stderr",
     "output_type": "stream",
     "text": [
      "/home/mohnkhan/anaconda3/lib/python3.6/site-packages/sklearn/preprocessing/label.py:151: DeprecationWarning: The truth value of an empty array is ambiguous. Returning False, but in future this will result in an error. Use `array.size > 0` to check that an array is not empty.\n",
      "  if diff:\n"
     ]
    },
    {
     "name": "stdout",
     "output_type": "stream",
     "text": [
      "564/564 [==============================] - 0s 18us/step\n"
     ]
    },
    {
     "name": "stderr",
     "output_type": "stream",
     "text": [
      "/home/mohnkhan/anaconda3/lib/python3.6/site-packages/sklearn/preprocessing/label.py:151: DeprecationWarning: The truth value of an empty array is ambiguous. Returning False, but in future this will result in an error. Use `array.size > 0` to check that an array is not empty.\n",
      "  if diff:\n"
     ]
    },
    {
     "name": "stdout",
     "output_type": "stream",
     "text": [
      "564/564 [==============================] - 0s 19us/step\n"
     ]
    },
    {
     "name": "stderr",
     "output_type": "stream",
     "text": [
      "/home/mohnkhan/anaconda3/lib/python3.6/site-packages/sklearn/preprocessing/label.py:151: DeprecationWarning: The truth value of an empty array is ambiguous. Returning False, but in future this will result in an error. Use `array.size > 0` to check that an array is not empty.\n",
      "  if diff:\n"
     ]
    },
    {
     "name": "stdout",
     "output_type": "stream",
     "text": [
      "564/564 [==============================] - 0s 17us/step\n"
     ]
    },
    {
     "name": "stderr",
     "output_type": "stream",
     "text": [
      "/home/mohnkhan/anaconda3/lib/python3.6/site-packages/sklearn/preprocessing/label.py:151: DeprecationWarning: The truth value of an empty array is ambiguous. Returning False, but in future this will result in an error. Use `array.size > 0` to check that an array is not empty.\n",
      "  if diff:\n"
     ]
    },
    {
     "name": "stdout",
     "output_type": "stream",
     "text": [
      "564/564 [==============================] - 0s 16us/step\n"
     ]
    },
    {
     "name": "stderr",
     "output_type": "stream",
     "text": [
      "/home/mohnkhan/anaconda3/lib/python3.6/site-packages/sklearn/preprocessing/label.py:151: DeprecationWarning: The truth value of an empty array is ambiguous. Returning False, but in future this will result in an error. Use `array.size > 0` to check that an array is not empty.\n",
      "  if diff:\n"
     ]
    },
    {
     "name": "stdout",
     "output_type": "stream",
     "text": [
      "564/564 [==============================] - 0s 21us/step\n"
     ]
    }
   ],
   "source": [
    "xgbm_smote_accuracy = evaluate_accuracy(gs_smote,test_features,test_target)\n",
    "gbm_smote_accuracy = evaluate_accuracy(gbm_smote,test_features,test_target)\n",
    "rf_smote_accuracy = evaluate_accuracy(rf_smote,test_features,test_target)\n",
    "ada_smote_accuracy = evaluate_accuracy(ada_smote,test_features,test_target)\n",
    "tf_smote_accuracy = evaluate_accuracy(model_smote,test_features,test_target)\n",
    "#xgbm_accuracy = evaluate_accuracy(gs,test_features,test_target)\n",
    "#gbm_accuracy = evaluate_accuracy(gbm,test_features,test_target)\n",
    "#rf_accuracy = evaluate_accuracy(rf,test_features,test_target)\n",
    "#ada_accuracy = evaluate_accuracy(ada,test_features,test_target)    \n",
    "#tf_accuracy = evaluate_accuracy(model,test_features,test_target)\n",
    "\n",
    "xgbm_smote_kappa = evaluate_kappa(gs_smote,test_features,test_target)\n",
    "gbm_smote_kappa = evaluate_kappa(gbm_smote,test_features,test_target)\n",
    "rf_smote_kappa = evaluate_kappa(rf_smote,test_features,test_target)\n",
    "ada_smote_kappa = evaluate_kappa(ada_smote,test_features,test_target)\n",
    "tf_smote_kappa = evaluate_kappa(model_smote,test_features,test_target)\n",
    "#xgbm_recall = evaluate_kappa(gs,test_features,test_target)\n",
    "#gbm_recall = evaluate_kappa(gbm,test_features,test_target)\n",
    "#rf_recall = evaluate_kappa(rf,test_features,test_target)\n",
    "#ada_recall = evaluate_kappa(ada,test_features,test_target)\n",
    "#tf_recall = evaluate_kappa(model,test_features,test_target)  \n",
    "\n",
    "xgbm_smote_recall = evaluate_recall(gs_smote,test_features,test_target)\n",
    "gbm_smote_recall = evaluate_recall(gbm_smote,test_features,test_target)\n",
    "rf_smote_recall = evaluate_recall(rf_smote,test_features,test_target)\n",
    "ada_smote_recall = evaluate_recall(ada_smote,test_features,test_target)\n",
    "tf_smote_recall = evaluate_recall(model_smote,test_features,test_target)\n",
    "#xgbm_recall = evaluate_recall(gs,test_features,test_target)\n",
    "#gbm_recall = evaluate_recall(gbm,test_features,test_target)\n",
    "#rf_recall = evaluate_recall(rf,test_features,test_target)\n",
    "#ada_recall = evaluate_recall(ada,test_features,test_target)\n",
    "#tf_recall = evaluate_recall(model,test_features,test_target)  \n",
    "\n",
    "xgbm_smote_precision = evaluate_precision(gs_smote,test_features,test_target)\n",
    "gbm_smote_precision = evaluate_precision(gbm_smote,test_features,test_target)\n",
    "rf_smote_precision = evaluate_precision(rf_smote,test_features,test_target)\n",
    "ada_smote_precision = evaluate_precision(ada_smote,test_features,test_target)\n",
    "tf_smote_precision = evaluate_precision(model_smote,test_features,test_target)\n",
    "#xgbm_precision = evaluate_precision(gs,test_features,test_target)\n",
    "#gbm_precision = evaluate_precision(gbm,test_features,test_target)\n",
    "#rf_precision = evaluate_precision(rf,test_features,test_target)\n",
    "#ada_precision = evaluate_precision(ada,test_features,test_target)\n",
    "#tf_precision = evaluate_precision(model,test_features,test_target) \n",
    "\n",
    "xgbm_smote_tfft = evaluate_con_mat_row(gs_smote,test_features,test_target)\n",
    "gbm_smote_tfft = evaluate_con_mat_row(gbm_smote,test_features,test_target)\n",
    "rf_smote_tfft = evaluate_con_mat_row(rf_smote,test_features,test_target)\n",
    "ada_smote_tfft = evaluate_con_mat_row(ada_smote,test_features,test_target)\n",
    "tf_smote_tfft = evaluate_con_mat_row(model_smote,test_features,test_target)\n",
    "#xgbm_tfft = evaluate_con_mat_row(gs,test_features,test_target)\n",
    "#gbm_tfft = evaluate_con_mat_row(gbm,test_features,test_target)\n",
    "#rf_tfft = evaluate_con_mat_row(rf,test_features,test_target)\n",
    "#ada_tfft = evaluate_con_mat_row(ada,test_features,test_target)\n",
    "#tf_tfft = evaluate_con_mat_row(model,test_features,test_target)"
   ]
  },
  {
   "cell_type": "code",
   "execution_count": 85,
   "metadata": {},
   "outputs": [],
   "source": [
    "report = [{'model': 'XGBM_smote', 'accuracy': xgbm_smote_accuracy, 'kappa': xgbm_smote_kappa,'recall': xgbm_smote_recall, 'precision': xgbm_smote_precision,'tn, fp, fn, tp': xgbm_smote_tfft},\n",
    "          {'model': 'GBM_smote', 'accuracy': gbm_smote_accuracy, 'kappa': gbm_smote_kappa,'recall': gbm_smote_recall, 'precision': gbm_smote_precision,'tn, fp, fn, tp': gbm_smote_tfft},\n",
    "          {'model': 'RF_smote',  'accuracy': rf_smote_accuracy, 'kappa': rf_smote_kappa,'recall': rf_smote_recall, 'precision': rf_smote_precision,'tn, fp, fn, tp': rf_smote_tfft},\n",
    "          {'model': 'ADA_smote', 'accuracy': ada_smote_accuracy, 'kappa': ada_smote_kappa, 'recall': ada_smote_recall, 'precision': ada_smote_precision ,'tn, fp, fn, tp': ada_smote_tfft },\n",
    "          {'model': 'tf_smote', 'accuracy': tf_smote_accuracy,  'kappa': tf_smote_kappa,'recall': tf_smote_recall, 'precision': tf_smote_precision ,'tn, fp, fn, tp': tf_smote_tfft }]#,\n",
    "          #{'model': 'XGBM', 'accuracy': xgbm_accuracy, 'recall': xgbm_recall, 'precision': xgbm_precision,'tn, fp, fn, tp': xgbm_tfft},\n",
    "          #{'model': 'GBM', 'accuracy': gbm_accuracy, 'recall': gbm_recall, 'precision': gbm_precision, 'tn, fp, fn, tp': gbm_tfft},\n",
    "          #{'model': 'RF',  'accuracy': rf_accuracy, 'recall': rf_recall, 'precision': rf_precision, 'tn, fp, fn, tp': rf_tfft},\n",
    "          #{'model': 'ADA', 'accuracy': ada_accuracy,  'recall': ada_recall, 'precision': ada_precision,  'tn, fp, fn, tp': ada_tfft },\n",
    "          #{'model': 'tf', 'accuracy': tf_accuracy,  'recall': tf_recall, 'precision': tf_precision ,'tn, fp, fn, tp': tf_smote_tfft }]\n",
    "df1 = pd.DataFrame(report)\n",
    "df1 = df1[['model', 'accuracy', 'kappa', 'recall', 'precision','tn, fp, fn, tp']]"
   ]
  },
  {
   "cell_type": "code",
   "execution_count": 86,
   "metadata": {},
   "outputs": [
    {
     "data": {
      "text/html": [
       "<div>\n",
       "<style scoped>\n",
       "    .dataframe tbody tr th:only-of-type {\n",
       "        vertical-align: middle;\n",
       "    }\n",
       "\n",
       "    .dataframe tbody tr th {\n",
       "        vertical-align: top;\n",
       "    }\n",
       "\n",
       "    .dataframe thead th {\n",
       "        text-align: right;\n",
       "    }\n",
       "</style>\n",
       "<table border=\"1\" class=\"dataframe\">\n",
       "  <thead>\n",
       "    <tr style=\"text-align: right;\">\n",
       "      <th></th>\n",
       "      <th>model</th>\n",
       "      <th>accuracy</th>\n",
       "      <th>kappa</th>\n",
       "      <th>recall</th>\n",
       "      <th>precision</th>\n",
       "      <th>tn, fp, fn, tp</th>\n",
       "    </tr>\n",
       "  </thead>\n",
       "  <tbody>\n",
       "    <tr>\n",
       "      <th>0</th>\n",
       "      <td>XGBM_smote</td>\n",
       "      <td>0.758865</td>\n",
       "      <td>0.459945</td>\n",
       "      <td>0.754839</td>\n",
       "      <td>0.544186</td>\n",
       "      <td>(311, 98, 38, 117)</td>\n",
       "    </tr>\n",
       "    <tr>\n",
       "      <th>1</th>\n",
       "      <td>GBM_smote</td>\n",
       "      <td>0.783688</td>\n",
       "      <td>0.478213</td>\n",
       "      <td>0.670968</td>\n",
       "      <td>0.594286</td>\n",
       "      <td>(338, 71, 51, 104)</td>\n",
       "    </tr>\n",
       "    <tr>\n",
       "      <th>2</th>\n",
       "      <td>RF_smote</td>\n",
       "      <td>0.781915</td>\n",
       "      <td>0.462549</td>\n",
       "      <td>0.632258</td>\n",
       "      <td>0.597561</td>\n",
       "      <td>(343, 66, 57, 98)</td>\n",
       "    </tr>\n",
       "    <tr>\n",
       "      <th>3</th>\n",
       "      <td>ADA_smote</td>\n",
       "      <td>0.735816</td>\n",
       "      <td>0.439401</td>\n",
       "      <td>0.812903</td>\n",
       "      <td>0.512195</td>\n",
       "      <td>(289, 120, 29, 126)</td>\n",
       "    </tr>\n",
       "    <tr>\n",
       "      <th>4</th>\n",
       "      <td>tf_smote</td>\n",
       "      <td>0.712766</td>\n",
       "      <td>0.391521</td>\n",
       "      <td>0.774194</td>\n",
       "      <td>0.485830</td>\n",
       "      <td>(282, 127, 35, 120)</td>\n",
       "    </tr>\n",
       "  </tbody>\n",
       "</table>\n",
       "</div>"
      ],
      "text/plain": [
       "        model  accuracy     kappa    recall  precision       tn, fp, fn, tp\n",
       "0  XGBM_smote  0.758865  0.459945  0.754839   0.544186   (311, 98, 38, 117)\n",
       "1   GBM_smote  0.783688  0.478213  0.670968   0.594286   (338, 71, 51, 104)\n",
       "2    RF_smote  0.781915  0.462549  0.632258   0.597561    (343, 66, 57, 98)\n",
       "3   ADA_smote  0.735816  0.439401  0.812903   0.512195  (289, 120, 29, 126)\n",
       "4    tf_smote  0.712766  0.391521  0.774194   0.485830  (282, 127, 35, 120)"
      ]
     },
     "execution_count": 86,
     "metadata": {},
     "output_type": "execute_result"
    }
   ],
   "source": [
    "df1"
   ]
  },
  {
   "cell_type": "code",
   "execution_count": 87,
   "metadata": {},
   "outputs": [],
   "source": [
    "df1 = df1.set_index('model')"
   ]
  },
  {
   "cell_type": "code",
   "execution_count": 88,
   "metadata": {},
   "outputs": [
    {
     "data": {
      "text/plain": [
       "<matplotlib.axes._subplots.AxesSubplot at 0x7f6a70065358>"
      ]
     },
     "execution_count": 88,
     "metadata": {},
     "output_type": "execute_result"
    },
    {
     "data": {
      "image/png": "[encoded data removed]",
      "text/plain": [
       "<matplotlib.figure.Figure at 0x7f6a700803c8>"
      ]
     },
     "metadata": {},
     "output_type": "display_data"
    }
   ],
   "source": [
    "df1.plot.bar(figsize=(df_length, 4))"
   ]
  },
  {
   "cell_type": "code",
   "execution_count": 89,
   "metadata": {},
   "outputs": [],
   "source": [
    "# import pickle\n",
    "import pickle\n",
    "\n",
    "# save GBM model to disk\n",
    "filename1 = 'finalized_gbm_smote.sav'\n",
    "pickle.dump(gbm_smote, open(filename1, 'wb'))\n",
    "\n",
    "# save RF model to disk\n",
    "filename2 = 'finalized_rf_smote.sav'\n",
    "pickle.dump(rf_smote, open(filename2, 'wb'))\n",
    "\n",
    "# save Adaboost model to disk\n",
    "filename3 = 'finalized_ada_smote.sav'\n",
    "pickle.dump(ada_smote, open(filename3, 'wb'))\n",
    "\n",
    "# save GBM model to disk\n",
    "#filename4 = 'finalized_gbm.sav'\n",
    "#pickle.dump(gbm, open(filename4, 'wb'))\n",
    "\n",
    "# save RF model to disk\n",
    "#filename5 = 'finalized_rf.sav'\n",
    "#pickle.dump(rf, open(filename5, 'wb'))\n",
    "\n",
    "# save Adaboost model to disk\n",
    "#filename6 = 'finalized_ada.sav'\n",
    "#pickle.dump(ada, open(filename6, 'wb'))\n",
    "\n",
    "################XGBoost model save\n",
    "# save XGB_smote model to disk\n",
    "filename1x_smote = 'finalized_xgb_smote.sav'\n",
    "pickle.dump(gs_smote, open(filename1x_smote, 'wb'))\n",
    "\n",
    "# save XGB model to disk\n",
    "#filename1x = 'finalized_xgb.sav'\n",
    "#pickle.dump(gs, open(filename1x, 'wb'))"
   ]
  },
  {
   "cell_type": "code",
   "execution_count": 90,
   "metadata": {},
   "outputs": [
    {
     "name": "stdout",
     "output_type": "stream",
     "text": [
      "Saved model to disk\n"
     ]
    }
   ],
   "source": [
    "# serialize model to JSON\n",
    "model_smote_json = model_smote.model.to_json()\n",
    "with open(\"model_smote_json.json\", \"w\") as json_file:\n",
    "    json_file.write(model_smote_json)\n",
    "# serialize weights to HDF5\n",
    "model_smote.model.save_weights(\"model_smote_json.h5\")\n",
    "print(\"Saved model to disk\")"
   ]
  },
  {
   "cell_type": "code",
   "execution_count": 91,
   "metadata": {},
   "outputs": [],
   "source": [
    "# serialize model to JSON\n",
    "#model_json = model.model.to_json()\n",
    "#with open(\"model_json.json\", \"w\") as json_file:\n",
    "#    json_file.write(model_json)\n",
    "# serialize weights to HDF5\n",
    "#model.model.save_weights(\"model_json.h5\")\n",
    "#print(\"Saved model to disk\")"
   ]
  },
  {
   "cell_type": "code",
   "execution_count": null,
   "metadata": {},
   "outputs": [],
   "source": []
  }
 ],
 "metadata": {
  "kernelspec": {
   "display_name": "Python 3",
   "language": "python",
   "name": "python3"
  },
  "language_info": {
   "codemirror_mode": {
    "name": "ipython",
    "version": 3
   },
   "file_extension": ".py",
   "mimetype": "text/x-python",
   "name": "python",
   "nbconvert_exporter": "python",
   "pygments_lexer": "ipython3",
   "version": "3.6.4"
  }
 },
 "nbformat": 4,
 "nbformat_minor": 2
}
