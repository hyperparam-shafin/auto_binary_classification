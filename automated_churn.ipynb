{
 "cells": [
  {
   "cell_type": "code",
   "execution_count": 162,
   "metadata": {},
   "outputs": [],
   "source": [
    "import pandas as pd\n",
    "import numpy as np\n",
    "import matplotlib.pyplot as plt\n",
    "import sklearn\n",
    "import os\n",
    "import random "
   ]
  },
  {
   "cell_type": "code",
   "execution_count": 163,
   "metadata": {},
   "outputs": [],
   "source": [
    "# INPUT: set path for data placement \n",
    "os.chdir(r'C:\\Users\\mshafin\\Desktop\\xavient_churn_project')\n",
    "os.getcwd()\n",
    "random.seed(42)"
   ]
  },
  {
   "cell_type": "code",
   "execution_count": 164,
   "metadata": {},
   "outputs": [],
   "source": [
    "# INPUT: data loaded to a pandas dataframe\n",
    "df = pd.read_csv('telecom_churn_training.csv')"
   ]
  },
  {
   "cell_type": "code",
   "execution_count": 165,
   "metadata": {},
   "outputs": [],
   "source": [
    "#df['tenure_month_charges'] = df.apply(lambda row: row['tenure']*row['MonthlyCharges'] ,axis=1)\n",
    "#df['discount_premium'] = df.apply(lambda row: row['TotalCharges']-row['tenure_month_charges'] ,axis=1)"
   ]
  },
  {
   "cell_type": "code",
   "execution_count": 166,
   "metadata": {},
   "outputs": [],
   "source": [
    "# INPUT: set customer identification code and target variable\n",
    "customer_identity_code = 'customerID'\n",
    "target_code = 'Churn'"
   ]
  },
  {
   "cell_type": "code",
   "execution_count": 167,
   "metadata": {},
   "outputs": [],
   "source": [
    "# set index for customer identification code\n",
    "df = df.set_index(customer_identity_code)"
   ]
  },
  {
   "cell_type": "code",
   "execution_count": 168,
   "metadata": {},
   "outputs": [],
   "source": [
    "# identify target variable\n",
    "df['target'] = df[target_code]"
   ]
  },
  {
   "cell_type": "code",
   "execution_count": 169,
   "metadata": {},
   "outputs": [],
   "source": [
    "# set target labels from input\n",
    "label_target1 = 'Yes'\n",
    "label_target0 = 'No'"
   ]
  },
  {
   "cell_type": "code",
   "execution_count": 170,
   "metadata": {},
   "outputs": [],
   "source": [
    "# function to recode target levels\n",
    "def dependent_col(row):\n",
    "    if row['target'] == label_target1:\n",
    "        val = 1  # input\n",
    "    elif row['target'] == label_target0:\n",
    "        val = 0  # imput\n",
    "    else:\n",
    "        val = 2\n",
    "    return val"
   ]
  },
  {
   "cell_type": "code",
   "execution_count": 171,
   "metadata": {},
   "outputs": [
    {
     "name": "stdout",
     "output_type": "stream",
     "text": [
      "            target Churn\n",
      "customerID              \n",
      "2410-CIYFZ       0    No\n",
      "8166-ZZTFS       1   Yes\n",
      "1104-TNLZA       0    No\n",
      "0164-XAIRP       0    No\n",
      "3996-ZNWYK       0    No\n"
     ]
    }
   ],
   "source": [
    "df['target'] = df.apply(dependent_col, axis=1)\n",
    "print(df.loc[:,['target','Churn']].sample(5)) #check changes in target recoding"
   ]
  },
  {
   "cell_type": "code",
   "execution_count": 172,
   "metadata": {},
   "outputs": [],
   "source": [
    "# droping initial target\n",
    "df = df.drop(['Churn'],axis=1)"
   ]
  },
  {
   "cell_type": "code",
   "execution_count": 173,
   "metadata": {},
   "outputs": [
    {
     "name": "stdout",
     "output_type": "stream",
     "text": [
      "gender\n",
      "Male      2885\n",
      "Female    2749\n",
      "Name: gender, dtype: int64\n",
      "Partner\n",
      "No     2913\n",
      "Yes    2721\n",
      "Name: Partner, dtype: int64\n",
      "Dependents\n",
      "No     3936\n",
      "Yes    1698\n",
      "Name: Dependents, dtype: int64\n",
      "PhoneService\n",
      "Yes    5077\n",
      "No      557\n",
      "Name: PhoneService, dtype: int64\n",
      "MultipleLines\n",
      "No                  2686\n",
      "Yes                 2391\n",
      "No phone service     557\n",
      "Name: MultipleLines, dtype: int64\n",
      "InternetService\n",
      "Fiber optic    2470\n",
      "DSL            1935\n",
      "No             1229\n",
      "Name: InternetService, dtype: int64\n",
      "OnlineSecurity\n",
      "No                     2763\n",
      "Yes                    1642\n",
      "No internet service    1229\n",
      "Name: OnlineSecurity, dtype: int64\n",
      "OnlineBackup\n",
      "No                     2468\n",
      "Yes                    1937\n",
      "No internet service    1229\n",
      "Name: OnlineBackup, dtype: int64\n",
      "DeviceProtection\n",
      "No                     2480\n",
      "Yes                    1925\n",
      "No internet service    1229\n",
      "Name: DeviceProtection, dtype: int64\n",
      "TechSupport\n",
      "No                     2776\n",
      "Yes                    1629\n",
      "No internet service    1229\n",
      "Name: TechSupport, dtype: int64\n",
      "StreamingTV\n",
      "No                     2232\n",
      "Yes                    2173\n",
      "No internet service    1229\n",
      "Name: StreamingTV, dtype: int64\n",
      "StreamingMovies\n",
      "Yes                    2205\n",
      "No                     2200\n",
      "No internet service    1229\n",
      "Name: StreamingMovies, dtype: int64\n",
      "Contract\n",
      "Month-to-month    3096\n",
      "Two year          1363\n",
      "One year          1175\n",
      "Name: Contract, dtype: int64\n",
      "PaperlessBilling\n",
      "Yes    3363\n",
      "No     2271\n",
      "Name: PaperlessBilling, dtype: int64\n",
      "PaymentMethod\n",
      "Electronic check             1888\n",
      "Mailed check                 1305\n",
      "Credit card (automatic)      1226\n",
      "Bank transfer (automatic)    1215\n",
      "Name: PaymentMethod, dtype: int64\n"
     ]
    }
   ],
   "source": [
    "feature_names = list(df.columns.values)\n",
    "\n",
    "for column in feature_names:\n",
    "    if df[column].dtypes == \"object\":\n",
    "        print (column)\n",
    "        print (df[column].value_counts(dropna=False))"
   ]
  },
  {
   "cell_type": "code",
   "execution_count": 174,
   "metadata": {},
   "outputs": [
    {
     "name": "stdout",
     "output_type": "stream",
     "text": [
      "SeniorCitizen\n",
      "[0 1]\n",
      "tenure\n",
      "[ 1 34  2  8 10 28 13 16 58 25 69 52 71 21 12 47 72 17 27  5 46 11 70 49\n",
      " 43 15 60 18 63  9  3 31 50 64 62 30 45  7 42 35 48 29 66 65 38 55 37 36\n",
      " 56  6  4 33 57 61 22 20 53 14 32 40 59 24 44 19 54 41 51 68 23 26  0 39\n",
      " 67]\n",
      "MonthlyCharges\n",
      "[29.85 56.95 53.85 ... 63.1  44.2  78.7 ]\n",
      "TotalCharges\n",
      "[  29.85 1889.5   108.15 ...  346.45  306.6  6844.5 ]\n",
      "target\n",
      "[0 1]\n"
     ]
    }
   ],
   "source": [
    "for column in feature_names:\n",
    "    if df[column].dtypes != \"object\":\n",
    "        print (column)\n",
    "        print (df[column].unique())"
   ]
  },
  {
   "cell_type": "code",
   "execution_count": 175,
   "metadata": {},
   "outputs": [
    {
     "name": "stdout",
     "output_type": "stream",
     "text": [
      "tenure\n",
      "count    5634.000000\n",
      "mean       32.352680\n",
      "std        24.582096\n",
      "min         0.000000\n",
      "25%         9.000000\n",
      "50%        29.000000\n",
      "75%        55.000000\n",
      "max        72.000000\n",
      "Name: tenure, dtype: float64\n",
      "MonthlyCharges\n",
      "count    5634.000000\n",
      "mean       64.710215\n",
      "std        30.179738\n",
      "min        18.250000\n",
      "25%        35.150000\n",
      "50%        70.300000\n",
      "75%        90.050000\n",
      "max       118.750000\n",
      "Name: MonthlyCharges, dtype: float64\n",
      "TotalCharges\n",
      "count    5626.000000\n",
      "mean     2284.180546\n",
      "std      2268.431748\n",
      "min        18.800000\n",
      "25%       395.725000\n",
      "50%      1394.800000\n",
      "75%      3807.837500\n",
      "max      8684.800000\n",
      "Name: TotalCharges, dtype: float64\n"
     ]
    }
   ],
   "source": [
    "remove_from_description = ['SeniorCitizen','target'] # remove non continious variables\n",
    "removed_from_description = [x for x in feature_names if (x not in remove_from_description)]\n",
    "#feature_names.remove(removed_from_description);\n",
    "for column in removed_from_description:\n",
    "    if df[column].dtypes != \"object\":\n",
    "        print (column)\n",
    "        print (df[column].describe())"
   ]
  },
  {
   "cell_type": "code",
   "execution_count": 176,
   "metadata": {},
   "outputs": [],
   "source": [
    "# missing value treatments\n",
    "# impute missing numeric columns with mean\n",
    "numeric_columns_mean = ['MonthlyCharges','tenure','TotalCharges'] # populate with numeric columns\n",
    "# impute missing numeric columns with zero\n",
    "numeric_columns_zero = [] # populate with numeric columns\n",
    "scale_columns = numeric_columns_mean + numeric_columns_zero\n",
    " "
   ]
  },
  {
   "cell_type": "code",
   "execution_count": 177,
   "metadata": {},
   "outputs": [],
   "source": [
    "# for mean imputation\n",
    "for column in numeric_columns_mean:\n",
    "    if df[column].dtypes in [\"int64\",\"float64\"] :\n",
    "        df[column] = df[column].fillna(df[column].mean())\n",
    "# for 0 imputation\n",
    "for column in numeric_columns_zero:\n",
    "    if df[column].dtypes in [\"int64\",\"float64\"] :\n",
    "        df[column] = df[column].fillna(0)"
   ]
  },
  {
   "cell_type": "code",
   "execution_count": 178,
   "metadata": {},
   "outputs": [],
   "source": [
    "from sklearn.preprocessing import scale\n",
    "for column in scale_columns:\n",
    "    if df[column].dtypes in [\"int64\",\"float64\"] :\n",
    "        df[column] = scale(df[column].astype('float64'))"
   ]
  },
  {
   "cell_type": "code",
   "execution_count": 179,
   "metadata": {},
   "outputs": [],
   "source": [
    "# object variables converted to categories for cat.codes\n",
    "object_columns = df.select_dtypes(['object']).columns"
   ]
  },
  {
   "cell_type": "code",
   "execution_count": 180,
   "metadata": {},
   "outputs": [
    {
     "data": {
      "text/plain": [
       "Index(['gender', 'Partner', 'Dependents', 'PhoneService', 'MultipleLines',\n",
       "       'InternetService', 'OnlineSecurity', 'OnlineBackup', 'DeviceProtection',\n",
       "       'TechSupport', 'StreamingTV', 'StreamingMovies', 'Contract',\n",
       "       'PaperlessBilling', 'PaymentMethod'],\n",
       "      dtype='object')"
      ]
     },
     "execution_count": 180,
     "metadata": {},
     "output_type": "execute_result"
    }
   ],
   "source": [
    "object_columns"
   ]
  },
  {
   "cell_type": "code",
   "execution_count": 181,
   "metadata": {},
   "outputs": [
    {
     "name": "stdout",
     "output_type": "stream",
     "text": [
      "gender\n",
      "Male      2885\n",
      "Female    2749\n",
      "Name: gender, dtype: int64\n",
      "Partner\n",
      "No     2913\n",
      "Yes    2721\n",
      "Name: Partner, dtype: int64\n",
      "Dependents\n",
      "No     3936\n",
      "Yes    1698\n",
      "Name: Dependents, dtype: int64\n",
      "PhoneService\n",
      "Yes    5077\n",
      "No      557\n",
      "Name: PhoneService, dtype: int64\n",
      "MultipleLines\n",
      "No                  2686\n",
      "Yes                 2391\n",
      "No phone service     557\n",
      "Name: MultipleLines, dtype: int64\n",
      "InternetService\n",
      "Fiber optic    2470\n",
      "DSL            1935\n",
      "No             1229\n",
      "Name: InternetService, dtype: int64\n",
      "OnlineSecurity\n",
      "No                     2763\n",
      "Yes                    1642\n",
      "No internet service    1229\n",
      "Name: OnlineSecurity, dtype: int64\n",
      "OnlineBackup\n",
      "No                     2468\n",
      "Yes                    1937\n",
      "No internet service    1229\n",
      "Name: OnlineBackup, dtype: int64\n",
      "DeviceProtection\n",
      "No                     2480\n",
      "Yes                    1925\n",
      "No internet service    1229\n",
      "Name: DeviceProtection, dtype: int64\n",
      "TechSupport\n",
      "No                     2776\n",
      "Yes                    1629\n",
      "No internet service    1229\n",
      "Name: TechSupport, dtype: int64\n",
      "StreamingTV\n",
      "No                     2232\n",
      "Yes                    2173\n",
      "No internet service    1229\n",
      "Name: StreamingTV, dtype: int64\n",
      "StreamingMovies\n",
      "Yes                    2205\n",
      "No                     2200\n",
      "No internet service    1229\n",
      "Name: StreamingMovies, dtype: int64\n",
      "Contract\n",
      "Month-to-month    3096\n",
      "Two year          1363\n",
      "One year          1175\n",
      "Name: Contract, dtype: int64\n",
      "PaperlessBilling\n",
      "Yes    3363\n",
      "No     2271\n",
      "Name: PaperlessBilling, dtype: int64\n",
      "PaymentMethod\n",
      "Electronic check             1888\n",
      "Mailed check                 1305\n",
      "Credit card (automatic)      1226\n",
      "Bank transfer (automatic)    1215\n",
      "Name: PaymentMethod, dtype: int64\n"
     ]
    }
   ],
   "source": [
    "for column in object_columns:\n",
    "    if df[column].dtypes==\"object\":\n",
    "        print(column)\n",
    "        df[column] = df[column].fillna(-9999)\n",
    "        print(df[column].value_counts())"
   ]
  },
  {
   "cell_type": "code",
   "execution_count": 182,
   "metadata": {},
   "outputs": [],
   "source": [
    "for column in object_columns:\n",
    "    if df[column].dtypes==\"object\":\n",
    "        df[column] = df[column].astype('category')"
   ]
  },
  {
   "cell_type": "code",
   "execution_count": 183,
   "metadata": {},
   "outputs": [],
   "source": [
    "df[object_columns] = df[object_columns].apply(lambda x: x.cat.codes)"
   ]
  },
  {
   "cell_type": "code",
   "execution_count": 184,
   "metadata": {},
   "outputs": [
    {
     "name": "stdout",
     "output_type": "stream",
     "text": [
      "gender\n",
      "1    2885\n",
      "0    2749\n",
      "Name: gender, dtype: int64\n",
      "Partner\n",
      "0    2913\n",
      "1    2721\n",
      "Name: Partner, dtype: int64\n",
      "Dependents\n",
      "0    3936\n",
      "1    1698\n",
      "Name: Dependents, dtype: int64\n",
      "PhoneService\n",
      "1    5077\n",
      "0     557\n",
      "Name: PhoneService, dtype: int64\n",
      "MultipleLines\n",
      "0    2686\n",
      "2    2391\n",
      "1     557\n",
      "Name: MultipleLines, dtype: int64\n",
      "InternetService\n",
      "1    2470\n",
      "0    1935\n",
      "2    1229\n",
      "Name: InternetService, dtype: int64\n",
      "OnlineSecurity\n",
      "0    2763\n",
      "2    1642\n",
      "1    1229\n",
      "Name: OnlineSecurity, dtype: int64\n",
      "OnlineBackup\n",
      "0    2468\n",
      "2    1937\n",
      "1    1229\n",
      "Name: OnlineBackup, dtype: int64\n",
      "DeviceProtection\n",
      "0    2480\n",
      "2    1925\n",
      "1    1229\n",
      "Name: DeviceProtection, dtype: int64\n",
      "TechSupport\n",
      "0    2776\n",
      "2    1629\n",
      "1    1229\n",
      "Name: TechSupport, dtype: int64\n",
      "StreamingTV\n",
      "0    2232\n",
      "2    2173\n",
      "1    1229\n",
      "Name: StreamingTV, dtype: int64\n",
      "StreamingMovies\n",
      "2    2205\n",
      "0    2200\n",
      "1    1229\n",
      "Name: StreamingMovies, dtype: int64\n",
      "Contract\n",
      "0    3096\n",
      "2    1363\n",
      "1    1175\n",
      "Name: Contract, dtype: int64\n",
      "PaperlessBilling\n",
      "1    3363\n",
      "0    2271\n",
      "Name: PaperlessBilling, dtype: int64\n",
      "PaymentMethod\n",
      "2    1888\n",
      "3    1305\n",
      "1    1226\n",
      "0    1215\n",
      "Name: PaymentMethod, dtype: int64\n"
     ]
    }
   ],
   "source": [
    "for column in object_columns:\n",
    "    print (column)\n",
    "    print(df[column].value_counts())"
   ]
  },
  {
   "cell_type": "code",
   "execution_count": 189,
   "metadata": {},
   "outputs": [],
   "source": [
    "import pandas as pd\n",
    "import scipy.stats as scs\n",
    "\n",
    "\n",
    "def categories(series):\n",
    "    return range(int(series.min()), int(series.max()) + 1)\n",
    "\n",
    "\n",
    "def chi_square_of_df_cols(df, col1, col2):\n",
    "    df_col1, df_col2 = df[col1], df[col2]\n",
    "\n",
    "    result = [[sum((df_col1 == cat1) & (df_col2 == cat2))\n",
    "               for cat2 in categories(df_col2)]\n",
    "              for cat1 in categories(df_col1)]\n",
    "\n",
    "    return scs.chi2_contingency(result)"
   ]
  },
  {
   "cell_type": "code",
   "execution_count": 195,
   "metadata": {},
   "outputs": [
    {
     "name": "stdout",
     "output_type": "stream",
     "text": [
      "(0.4058564336289541, 0.5240801438954494, 1, array([[ 409.19826056,  147.80173944],\n",
      "       [3729.80173944, 1347.19826056]]))\n"
     ]
    }
   ],
   "source": [
    "print(chi_square_of_df_cols(df, 'PhoneService', 'target'))"
   ]
  },
  {
   "cell_type": "code",
   "execution_count": 119,
   "metadata": {},
   "outputs": [],
   "source": [
    "from sklearn.model_selection import train_test_split"
   ]
  },
  {
   "cell_type": "code",
   "execution_count": 120,
   "metadata": {},
   "outputs": [
    {
     "data": {
      "text/plain": [
       "Index(['gender', 'SeniorCitizen', 'Partner', 'Dependents', 'tenure',\n",
       "       'PhoneService', 'MultipleLines', 'InternetService', 'OnlineSecurity',\n",
       "       'OnlineBackup', 'DeviceProtection', 'TechSupport', 'StreamingTV',\n",
       "       'StreamingMovies', 'Contract', 'PaperlessBilling', 'PaymentMethod',\n",
       "       'MonthlyCharges', 'TotalCharges', 'target'],\n",
       "      dtype='object')"
      ]
     },
     "execution_count": 120,
     "metadata": {},
     "output_type": "execute_result"
    }
   ],
   "source": [
    "df.columns"
   ]
  },
  {
   "cell_type": "code",
   "execution_count": 121,
   "metadata": {},
   "outputs": [],
   "source": [
    "df1 = df.drop(['target','gender','PhoneService','TotalCharges'],axis=1).copy()"
   ]
  },
  {
   "cell_type": "code",
   "execution_count": 122,
   "metadata": {},
   "outputs": [
    {
     "data": {
      "text/plain": [
       "Index(['SeniorCitizen', 'Partner', 'Dependents', 'tenure', 'MultipleLines',\n",
       "       'InternetService', 'OnlineSecurity', 'OnlineBackup', 'DeviceProtection',\n",
       "       'TechSupport', 'StreamingTV', 'StreamingMovies', 'Contract',\n",
       "       'PaperlessBilling', 'PaymentMethod', 'MonthlyCharges'],\n",
       "      dtype='object')"
      ]
     },
     "execution_count": 122,
     "metadata": {},
     "output_type": "execute_result"
    }
   ],
   "source": [
    "#df1 = df.copy()\n",
    "#df1.shape\n",
    "df1.columnsg"
   ]
  },
  {
   "cell_type": "code",
   "execution_count": 123,
   "metadata": {},
   "outputs": [
    {
     "data": {
      "text/plain": [
       "((5634, 16), (5634, 1))"
      ]
     },
     "execution_count": 123,
     "metadata": {},
     "output_type": "execute_result"
    }
   ],
   "source": [
    "X = df1.values\n",
    "y = df[['target']].values\n",
    "X.shape,y.shape"
   ]
  },
  {
   "cell_type": "code",
   "execution_count": 124,
   "metadata": {},
   "outputs": [
    {
     "name": "stderr",
     "output_type": "stream",
     "text": [
      "D:\\Users\\mshafin\\AppData\\Local\\Continuum\\anaconda3\\lib\\site-packages\\sklearn\\utils\\validation.py:578: DataConversionWarning: A column-vector y was passed when a 1d array was expected. Please change the shape of y to (n_samples, ), for example using ravel().\n",
      "  y = column_or_1d(y, warn=True)\n"
     ]
    }
   ],
   "source": [
    "feature_selected = X.shape[1]\n",
    "from sklearn.linear_model import LogisticRegression\n",
    "from sklearn.ensemble import RandomForestRegressor\n",
    "from sklearn.feature_selection import RFE\n",
    "no_features = feature_selected # Input\n",
    "model = RandomForestRegressor()\n",
    "rfe = RFE(model, no_features)\n",
    "fit = rfe.fit(X, y)\n"
   ]
  },
  {
   "cell_type": "code",
   "execution_count": 125,
   "metadata": {},
   "outputs": [
    {
     "name": "stdout",
     "output_type": "stream",
     "text": [
      "Num Features: 16\n",
      "Selected Features: [ True  True  True  True  True  True  True  True  True  True  True  True\n",
      "  True  True  True  True]\n",
      "Feature Ranking: [1 1 1 1 1 1 1 1 1 1 1 1 1 1 1 1]\n"
     ]
    }
   ],
   "source": [
    "print(\"Num Features: \" + str(fit.n_features_))\n",
    "print(\"Selected Features: \" + str(fit.support_))\n",
    "print(\"Feature Ranking: \" + str(fit.ranking_))"
   ]
  },
  {
   "cell_type": "code",
   "execution_count": 126,
   "metadata": {},
   "outputs": [
    {
     "data": {
      "text/plain": [
       "Index(['SeniorCitizen', 'Partner', 'Dependents', 'tenure', 'MultipleLines',\n",
       "       'InternetService', 'OnlineSecurity', 'OnlineBackup', 'DeviceProtection',\n",
       "       'TechSupport', 'StreamingTV', 'StreamingMovies', 'Contract',\n",
       "       'PaperlessBilling', 'PaymentMethod', 'MonthlyCharges'],\n",
       "      dtype='object')"
      ]
     },
     "execution_count": 126,
     "metadata": {},
     "output_type": "execute_result"
    }
   ],
   "source": [
    "df1.columns[fit.support_]"
   ]
  },
  {
   "cell_type": "code",
   "execution_count": 127,
   "metadata": {},
   "outputs": [
    {
     "data": {
      "text/plain": [
       "((5634, 16), (5634,))"
      ]
     },
     "execution_count": 127,
     "metadata": {},
     "output_type": "execute_result"
    }
   ],
   "source": [
    "X = df[df1.columns[fit.support_]].values\n",
    "y = df['target'].values\n",
    "#array1 = \n",
    "#X = array1.values\n",
    "#y = y.values\n",
    "X.shape,y.shape"
   ]
  },
  {
   "cell_type": "code",
   "execution_count": 128,
   "metadata": {},
   "outputs": [
    {
     "data": {
      "text/plain": [
       "((3943, 16), (1691, 16), (3943,), (1691,))"
      ]
     },
     "execution_count": 128,
     "metadata": {},
     "output_type": "execute_result"
    }
   ],
   "source": [
    "from sklearn.model_selection import train_test_split\n",
    "\n",
    "X_train,X_test,y_train,y_test = train_test_split(X, y, random_state=21,test_size=0.3)\n",
    "X_train.shape,X_test.shape,y_train.shape,y_test.shape"
   ]
  },
  {
   "cell_type": "code",
   "execution_count": 129,
   "metadata": {},
   "outputs": [
    {
     "name": "stdout",
     "output_type": "stream",
     "text": [
      "('GBM', 0.7948242626742915, 0.014263574764767483)\n",
      "('RF', 0.7831504208700123, 0.022191014305984743)\n",
      "('DT', 0.7293844374477928, 0.023293606680868762)\n",
      "('ADA', 0.7953318768874896, 0.023159142343665312)\n"
     ]
    },
    {
     "data": {
      "image/png": "[encoded data removed]",
      "text/plain": [
       "<matplotlib.figure.Figure at 0x5da1ace780>"
      ]
     },
     "metadata": {},
     "output_type": "display_data"
    }
   ],
   "source": [
    "from sklearn.tree import DecisionTreeClassifier\n",
    "from sklearn.ensemble import RandomForestClassifier,AdaBoostClassifier,GradientBoostingClassifier\n",
    "\n",
    "from sklearn import model_selection\n",
    "import matplotlib.pyplot as plt\n",
    "\n",
    "# generate list of models  \n",
    "models = []\n",
    "models.append(('GBM', GradientBoostingClassifier()))\n",
    "models.append(('RF', RandomForestClassifier()))\n",
    "models.append(('DT', DecisionTreeClassifier()))\n",
    "models.append(('ADA', AdaBoostClassifier()))\n",
    "\n",
    "\n",
    "# check model performance\n",
    "results = []\n",
    "names = []\n",
    "seed = 7\n",
    "scoring='accuracy'\n",
    "for name, model in models:\n",
    "    kfold = model_selection.KFold(n_splits = 10, random_state=seed)\n",
    "    cv_results = model_selection.cross_val_score(model, X_train, y_train, cv=kfold, scoring = scoring)\n",
    "    results.append(cv_results)\n",
    "    names.append(name)\n",
    "    msg = (name, cv_results.mean(), cv_results.std())\n",
    "    print (msg)\n",
    "\n",
    "# compare algorithms\n",
    "fig = plt.figure()\n",
    "fig.suptitle(\"algorithm comparision\")\n",
    "ax = fig.add_subplot(111)\n",
    "plt.boxplot(results)\n",
    "ax.set_xticklabels(names)\n",
    "plt.show()\n"
   ]
  },
  {
   "cell_type": "code",
   "execution_count": 130,
   "metadata": {},
   "outputs": [],
   "source": [
    "from sklearn.metrics import accuracy_score\n",
    "from sklearn.metrics import confusion_matrix\n",
    "from sklearn.metrics import classification_report\n",
    "\n",
    "def evaluate(model, X_test, y_test):\n",
    "    y_pred = model.predict(X_test)\n",
    "    accuracy = accuracy_score(y_test,y_pred)\n",
    "    matrix = confusion_matrix(y_test, y_pred)\n",
    "    report = classification_report(y_test, y_pred)\n",
    "    print(\"accuracy :\" +str(accuracy))\n",
    "    print(\"matrix :\")\n",
    "    print(matrix)\n",
    "    print(\"report :\")\n",
    "    print(report)\n",
    "    return accuracy"
   ]
  },
  {
   "cell_type": "code",
   "execution_count": 131,
   "metadata": {},
   "outputs": [],
   "source": [
    "from sklearn.ensemble import GradientBoostingClassifier,RandomForestClassifier,AdaBoostClassifier"
   ]
  },
  {
   "cell_type": "code",
   "execution_count": 132,
   "metadata": {},
   "outputs": [
    {
     "name": "stdout",
     "output_type": "stream",
     "text": [
      "{'criterion': ['friedman_mse'],\n",
      " 'learning_rate': [0.1, 0.05, 0.02, 0.01],\n",
      " 'loss': ['deviance', 'exponential'],\n",
      " 'max_depth': [4, 6, 8],\n",
      " 'min_samples_leaf': [20, 50, 100, 150],\n",
      " 'min_samples_split': [2, 5, 10],\n",
      " 'n_estimators': [100,\n",
      "                  200,\n",
      "                  300,\n",
      "                  400,\n",
      "                  500,\n",
      "                  600,\n",
      "                  700,\n",
      "                  800,\n",
      "                  900,\n",
      "                  1000,\n",
      "                  1100,\n",
      "                  1200,\n",
      "                  1300,\n",
      "                  1400,\n",
      "                  1500,\n",
      "                  1600,\n",
      "                  1700,\n",
      "                  1800,\n",
      "                  1900,\n",
      "                  2000],\n",
      " 'random_state': [21]}\n"
     ]
    }
   ],
   "source": [
    "from pprint import pprint\n",
    "GBM = GradientBoostingClassifier()\n",
    "from sklearn.model_selection import RandomizedSearchCV\n",
    "# Number of iterations needed\n",
    "n_estimators = [int(x) for x in np.linspace(100, 2000, num = 20)]\n",
    "learning_rate = [0.1, 0.05, 0.02, 0.01]\n",
    "max_features = ['sqrt','auto','log2','None','1','0.1']\n",
    "loss = ['deviance', 'exponential']\n",
    "max_depth = [4, 6, 8]\n",
    "criterion = ['friedman_mse']\n",
    "min_samples_split = [2, 5, 10]\n",
    "min_samples_leaf = [20,50,100,150]\n",
    "random_state = [21]\n",
    "# Create the random grid\n",
    "random_grid_gbm = {'n_estimators': n_estimators,\n",
    "               'learning_rate': learning_rate,\n",
    "               'loss':loss,\n",
    "               'max_depth': max_depth,\n",
    "               'criterion': criterion,\n",
    "               'min_samples_split': min_samples_split,\n",
    "               'min_samples_leaf': min_samples_leaf,\n",
    "               'random_state': random_state}\n",
    "pprint(random_grid_gbm)"
   ]
  },
  {
   "cell_type": "code",
   "execution_count": 133,
   "metadata": {},
   "outputs": [],
   "source": [
    "GBM = GradientBoostingClassifier()\n",
    "# Random search of parameters, using 3 fold cross validation,\n",
    "# search across 100 different combinations, and use all available cores\n",
    "gbm_random = RandomizedSearchCV(estimator = GBM, param_distributions = random_grid_gbm, n_iter = 5, cv = 5, verbose=2, random_state=42, n_jobs = -1)\n"
   ]
  },
  {
   "cell_type": "code",
   "execution_count": 134,
   "metadata": {},
   "outputs": [
    {
     "name": "stdout",
     "output_type": "stream",
     "text": [
      "Fitting 5 folds for each of 5 candidates, totalling 25 fits\n"
     ]
    },
    {
     "name": "stderr",
     "output_type": "stream",
     "text": [
      "[Parallel(n_jobs=-1)]: Done  25 out of  25 | elapsed:   27.8s finished\n"
     ]
    },
    {
     "data": {
      "text/plain": [
       "RandomizedSearchCV(cv=5, error_score='raise',\n",
       "          estimator=GradientBoostingClassifier(criterion='friedman_mse', init=None,\n",
       "              learning_rate=0.1, loss='deviance', max_depth=3,\n",
       "              max_features=None, max_leaf_nodes=None,\n",
       "              min_impurity_decrease=0.0, min_impurity_split=None,\n",
       "              min_samples_leaf=1, min_samples_split=2,\n",
       "              min_weight_fraction_leaf=0.0, n_estimators=100,\n",
       "              presort='auto', random_state=None, subsample=1.0, verbose=0,\n",
       "              warm_start=False),\n",
       "          fit_params=None, iid=True, n_iter=5, n_jobs=-1,\n",
       "          param_distributions={'n_estimators': [100, 200, 300, 400, 500, 600, 700, 800, 900, 1000, 1100, 1200, 1300, 1400, 1500, 1600, 1700, 1800, 1900, 2000], 'learning_rate': [0.1, 0.05, 0.02, 0.01], 'loss': ['deviance', 'exponential'], 'max_depth': [4, 6, 8], 'criterion': ['friedman_mse'], 'min_samples_split': [2, 5, 10], 'min_samples_leaf': [20, 50, 100, 150], 'random_state': [21]},\n",
       "          pre_dispatch='2*n_jobs', random_state=42, refit=True,\n",
       "          return_train_score='warn', scoring=None, verbose=2)"
      ]
     },
     "execution_count": 134,
     "metadata": {},
     "output_type": "execute_result"
    }
   ],
   "source": [
    "# Fit the random search model\n",
    "gbm_random.fit(X_train, y_train)"
   ]
  },
  {
   "cell_type": "code",
   "execution_count": 135,
   "metadata": {},
   "outputs": [
    {
     "name": "stdout",
     "output_type": "stream",
     "text": [
      "accuracy :0.8101714961561206\n",
      "matrix :\n",
      "[[1116   99]\n",
      " [ 222  254]]\n",
      "report :\n",
      "             precision    recall  f1-score   support\n",
      "\n",
      "          0       0.83      0.92      0.87      1215\n",
      "          1       0.72      0.53      0.61       476\n",
      "\n",
      "avg / total       0.80      0.81      0.80      1691\n",
      "\n"
     ]
    }
   ],
   "source": [
    "gbm_best_accuracy = evaluate(gbm_random,X_test,y_test)"
   ]
  },
  {
   "cell_type": "code",
   "execution_count": 161,
   "metadata": {},
   "outputs": [
    {
     "name": "stdout",
     "output_type": "stream",
     "text": [
      "[ 1  2  5 10  8 11  0  7 13  4  6  9 14 12  3 15]\n",
      "[ 0.5  1.5  2.5  3.5  4.5  5.5  6.5  7.5  8.5  9.5 10.5 11.5 12.5 13.5\n",
      " 14.5 15.5]\n",
      "<class 'numpy.ndarray'>\n",
      "<class 'numpy.ndarray'>\n"
     ]
    },
    {
     "data": {
      "image/png": "[encoded data removed]",
      "text/plain": [
       "<matplotlib.figure.Figure at 0x5da78522b0>"
      ]
     },
     "metadata": {},
     "output_type": "display_data"
    },
    {
     "name": "stdout",
     "output_type": "stream",
     "text": [
      "['SeniorCitizen' 'Partner' 'Dependents' 'tenure' 'MultipleLines'\n",
      " 'InternetService' 'OnlineSecurity' 'OnlineBackup' 'DeviceProtection'\n",
      " 'TechSupport' 'StreamingTV' 'StreamingMovies' 'Contract'\n",
      " 'PaperlessBilling' 'PaymentMethod' 'MonthlyCharges']\n",
      "[0.0247186  0.00497696 0.00825375 0.24273984 0.03630115 0.00918182\n",
      " 0.04044283 0.02516361 0.01496176 0.04649415 0.01187417 0.01862178\n",
      " 0.10703805 0.03369106 0.06979913 0.30574135]\n"
     ]
    }
   ],
   "source": [
    "feature_names=df[df1.columns[fit.support_]].columns\n",
    "feature_importance = gbm_random.best_estimator_.feature_importances_\n",
    "sorted_idx = np.argsort(feature_importance)\n",
    "pos = np.arange(sorted_idx.shape[0]) + .5\n",
    "print(sorted_idx)\n",
    "print(pos)\n",
    "print(type(np.array(feature_names)))\n",
    "print(type(feature_importance))\n",
    "\n",
    "\n",
    "# In[183]:\n",
    "\n",
    "\n",
    "plt.barh(pos, feature_importance[sorted_idx], align='center')\n",
    "plt.yticks(pos, feature_names[sorted_idx])\n",
    "\n",
    "feature_names[sorted_idx]\n",
    "plt.show()\n",
    "print((np.array(feature_names)))\n",
    "print(feature_importance)"
   ]
  },
  {
   "cell_type": "code",
   "execution_count": 136,
   "metadata": {},
   "outputs": [
    {
     "name": "stdout",
     "output_type": "stream",
     "text": [
      "{'bootstrap': [True, False],\n",
      " 'max_depth': [10, 20, 30, 40, 50, 60, 70, 80, 90, 100, 110, None],\n",
      " 'max_features': ['auto', 'sqrt'],\n",
      " 'min_samples_leaf': [1, 2, 4],\n",
      " 'min_samples_split': [2, 5, 10],\n",
      " 'n_estimators': [100,\n",
      "                  200,\n",
      "                  300,\n",
      "                  400,\n",
      "                  500,\n",
      "                  600,\n",
      "                  700,\n",
      "                  800,\n",
      "                  900,\n",
      "                  1000,\n",
      "                  1100,\n",
      "                  1200,\n",
      "                  1300,\n",
      "                  1400,\n",
      "                  1500,\n",
      "                  1600,\n",
      "                  1700,\n",
      "                  1800,\n",
      "                  1900,\n",
      "                  2000]}\n"
     ]
    }
   ],
   "source": [
    "from sklearn.model_selection import RandomizedSearchCV\n",
    "# Number of trees in random forest\n",
    "n_estimators = [int(x) for x in np.linspace(start = 100, stop = 2000, num = 20)]\n",
    "# Number of features to consider at every split\n",
    "max_features = ['auto', 'sqrt']\n",
    "# Maximum number of levels in tree\n",
    "max_depth = [int(x) for x in np.linspace(10, 110, num = 11)]\n",
    "max_depth.append(None)\n",
    "# Minimum number of samples required to split a node\n",
    "min_samples_split = [2, 5, 10]\n",
    "# Minimum number of samples required at each leaf node\n",
    "min_samples_leaf = [1, 2, 4]\n",
    "# Method of selecting samples for training each tree\n",
    "bootstrap = [True, False]\n",
    "# Create the random grid\n",
    "random_grid = {'n_estimators': n_estimators,\n",
    "               'max_features': max_features,\n",
    "               'max_depth': max_depth,\n",
    "               'min_samples_split': min_samples_split,\n",
    "               'min_samples_leaf': min_samples_leaf,\n",
    "               'bootstrap': bootstrap}\n",
    "pprint(random_grid)"
   ]
  },
  {
   "cell_type": "code",
   "execution_count": 137,
   "metadata": {},
   "outputs": [
    {
     "name": "stdout",
     "output_type": "stream",
     "text": [
      "Fitting 5 folds for each of 5 candidates, totalling 25 fits\n"
     ]
    },
    {
     "name": "stderr",
     "output_type": "stream",
     "text": [
      "[Parallel(n_jobs=-1)]: Done  25 out of  25 | elapsed:   37.7s finished\n"
     ]
    },
    {
     "data": {
      "text/plain": [
       "RandomizedSearchCV(cv=5, error_score='raise',\n",
       "          estimator=RandomForestClassifier(bootstrap=True, class_weight=None, criterion='gini',\n",
       "            max_depth=None, max_features='auto', max_leaf_nodes=None,\n",
       "            min_impurity_decrease=0.0, min_impurity_split=None,\n",
       "            min_samples_leaf=1, min_samples_split=2,\n",
       "            min_weight_fraction_leaf=0.0, n_estimators=10, n_jobs=1,\n",
       "            oob_score=False, random_state=None, verbose=0,\n",
       "            warm_start=False),\n",
       "          fit_params=None, iid=True, n_iter=5, n_jobs=-1,\n",
       "          param_distributions={'n_estimators': [100, 200, 300, 400, 500, 600, 700, 800, 900, 1000, 1100, 1200, 1300, 1400, 1500, 1600, 1700, 1800, 1900, 2000], 'max_features': ['auto', 'sqrt'], 'max_depth': [10, 20, 30, 40, 50, 60, 70, 80, 90, 100, 110, None], 'min_samples_split': [2, 5, 10], 'min_samples_leaf': [1, 2, 4], 'bootstrap': [True, False]},\n",
       "          pre_dispatch='2*n_jobs', random_state=42, refit=True,\n",
       "          return_train_score='warn', scoring=None, verbose=2)"
      ]
     },
     "execution_count": 137,
     "metadata": {},
     "output_type": "execute_result"
    }
   ],
   "source": [
    "# First create the base model to tune\n",
    "rf = RandomForestClassifier()\n",
    "# Random search of parameters, using 3 fold cross validation,\n",
    "# search across 100 different combinations, and use all available cores\n",
    "rf_random = RandomizedSearchCV(estimator = rf, param_distributions = random_grid, n_iter = 5, cv = 5, verbose=2, random_state=42, n_jobs = -1)\n",
    "# Fit the random search model\n",
    "rf_random.fit(X_train, y_train)"
   ]
  },
  {
   "cell_type": "code",
   "execution_count": 138,
   "metadata": {},
   "outputs": [
    {
     "name": "stdout",
     "output_type": "stream",
     "text": [
      "accuracy :0.8024837374334713\n",
      "matrix :\n",
      "[[1128   87]\n",
      " [ 247  229]]\n",
      "report :\n",
      "             precision    recall  f1-score   support\n",
      "\n",
      "          0       0.82      0.93      0.87      1215\n",
      "          1       0.72      0.48      0.58       476\n",
      "\n",
      "avg / total       0.79      0.80      0.79      1691\n",
      "\n"
     ]
    }
   ],
   "source": [
    "rf_best_accuracy = evaluate(rf_random,X_test,y_test)"
   ]
  },
  {
   "cell_type": "code",
   "execution_count": 139,
   "metadata": {},
   "outputs": [],
   "source": [
    "# import pickle\n",
    "import pickle\n",
    "\n",
    "# save the model to disk\n",
    "filename1 = 'finalized_gbm.sav'\n",
    "pickle.dump(gbm_random, open(filename1, 'wb'))\n",
    "\n",
    "# save the model to disk\n",
    "filename2 = 'finalized_rf.sav'\n",
    "pickle.dump(rf_random, open(filename2, 'wb'))"
   ]
  },
  {
   "cell_type": "code",
   "execution_count": 140,
   "metadata": {},
   "outputs": [
    {
     "name": "stdout",
     "output_type": "stream",
     "text": [
      "[ 2 11 10  0  1  4 13  8  7  5 14  9  6 12 15  3]\n",
      "[ 0.5  1.5  2.5  3.5  4.5  5.5  6.5  7.5  8.5  9.5 10.5 11.5 12.5 13.5\n",
      " 14.5 15.5]\n",
      "<class 'numpy.ndarray'>\n",
      "<class 'numpy.ndarray'>\n"
     ]
    },
    {
     "data": {
      "image/png": "[encoded data removed]",
      "text/plain": [
       "<matplotlib.figure.Figure at 0x5da09be908>"
      ]
     },
     "metadata": {},
     "output_type": "display_data"
    },
    {
     "name": "stdout",
     "output_type": "stream",
     "text": [
      "['SeniorCitizen' 'Partner' 'Dependents' 'tenure' 'MultipleLines'\n",
      " 'InternetService' 'OnlineSecurity' 'OnlineBackup' 'DeviceProtection'\n",
      " 'TechSupport' 'StreamingTV' 'StreamingMovies' 'Contract'\n",
      " 'PaperlessBilling' 'PaymentMethod' 'MonthlyCharges']\n",
      "[0.01753963 0.02205527 0.01433337 0.23602118 0.02494541 0.0455041\n",
      " 0.08323846 0.03389458 0.03184911 0.0683746  0.0174501  0.01637778\n",
      " 0.1284392  0.02626146 0.05270103 0.18101472]\n"
     ]
    }
   ],
   "source": [
    "feature_names=df[df1.columns[fit.support_]].columns\n",
    "feature_importance = rf_random.best_estimator_.feature_importances_\n",
    "sorted_idx = np.argsort(feature_importance)\n",
    "pos = np.arange(sorted_idx.shape[0]) + .5\n",
    "print(sorted_idx)\n",
    "print(pos)\n",
    "print(type(np.array(feature_names)))\n",
    "print(type(feature_importance))\n",
    "\n",
    "\n",
    "# In[183]:\n",
    "\n",
    "\n",
    "plt.barh(pos, feature_importance[sorted_idx], align='center')\n",
    "plt.yticks(pos, feature_names[sorted_idx])\n",
    "\n",
    "feature_names[sorted_idx]\n",
    "plt.show()\n",
    "print((np.array(feature_names)))\n",
    "print(feature_importance)"
   ]
  },
  {
   "cell_type": "code",
   "execution_count": 158,
   "metadata": {},
   "outputs": [
    {
     "name": "stdout",
     "output_type": "stream",
     "text": [
      "{'algorithm': ['SAMME', 'SAMME.R'],\n",
      " 'n_estimators': [100,\n",
      "                  200,\n",
      "                  300,\n",
      "                  400,\n",
      "                  500,\n",
      "                  600,\n",
      "                  700,\n",
      "                  800,\n",
      "                  900,\n",
      "                  1000,\n",
      "                  1100,\n",
      "                  1200,\n",
      "                  1300,\n",
      "                  1400,\n",
      "                  1500,\n",
      "                  1600,\n",
      "                  1700,\n",
      "                  1800,\n",
      "                  1900,\n",
      "                  2000],\n",
      " 'random_state': [21]}\n"
     ]
    }
   ],
   "source": [
    "from pprint import pprint\n",
    "ADA = AdaBoostClassifier()\n",
    "from sklearn.model_selection import RandomizedSearchCV\n",
    "# Number of iterations needed\n",
    "n_estimators = [int(x) for x in np.linspace(100, 2000, num = 20)]\n",
    "learning_rate = [0.1, 0.05, 0.02, 0.01]\n",
    "algorithm  = ['SAMME', 'SAMME.R']\n",
    "# Maximum number of levels in tree\n",
    "max_depth = [int(x) for x in np.linspace(10, 110, num = 11)]\n",
    "max_depth.append(None)\n",
    "# Minimum number of samples required at each leaf node\n",
    "min_samples_leaf = [1, 2, 4]\n",
    "random_state = [21]\n",
    "\n",
    "# Create the random grid\n",
    "random_grid_ada = {'n_estimators': n_estimators,\n",
    " #                 'learning_rate': learning_rate,\n",
    "                   'algorithm':algorithm,\n",
    " #                 'max_depth': max_depth,\n",
    " #                 'min_samples_leaf': min_samples_leaf,\n",
    "                   'random_state': random_state}\n",
    "pprint(random_grid_ada)"
   ]
  },
  {
   "cell_type": "code",
   "execution_count": 159,
   "metadata": {},
   "outputs": [
    {
     "name": "stdout",
     "output_type": "stream",
     "text": [
      "Fitting 5 folds for each of 5 candidates, totalling 25 fits\n"
     ]
    },
    {
     "name": "stderr",
     "output_type": "stream",
     "text": [
      "[Parallel(n_jobs=-1)]: Done  25 out of  25 | elapsed:   29.9s finished\n"
     ]
    },
    {
     "data": {
      "text/plain": [
       "RandomizedSearchCV(cv=5, error_score='raise',\n",
       "          estimator=AdaBoostClassifier(algorithm='SAMME.R', base_estimator=None,\n",
       "          learning_rate=1.0, n_estimators=50, random_state=None),\n",
       "          fit_params=None, iid=True, n_iter=5, n_jobs=-1,\n",
       "          param_distributions={'n_estimators': [100, 200, 300, 400, 500, 600, 700, 800, 900, 1000, 1100, 1200, 1300, 1400, 1500, 1600, 1700, 1800, 1900, 2000], 'algorithm': ['SAMME', 'SAMME.R'], 'random_state': [21]},\n",
       "          pre_dispatch='2*n_jobs', random_state=42, refit=True,\n",
       "          return_train_score='warn', scoring=None, verbose=2)"
      ]
     },
     "execution_count": 159,
     "metadata": {},
     "output_type": "execute_result"
    }
   ],
   "source": [
    "# First create the base model to tune\n",
    "ada = AdaBoostClassifier()\n",
    "# Random search of parameters, using 3 fold cross validation,\n",
    "# search across 100 different combinations, and use all available cores\n",
    "ada_random = RandomizedSearchCV(estimator = ada, param_distributions = random_grid_ada, n_iter = 5, cv = 5, verbose=2, random_state=42, n_jobs = -1)\n",
    "# Fit the random search model\n",
    "ada_random.fit(X_train, y_train)"
   ]
  },
  {
   "cell_type": "code",
   "execution_count": 160,
   "metadata": {},
   "outputs": [
    {
     "name": "stdout",
     "output_type": "stream",
     "text": [
      "accuracy :0.7971614429331756\n",
      "matrix :\n",
      "[[1099  116]\n",
      " [ 227  249]]\n",
      "report :\n",
      "             precision    recall  f1-score   support\n",
      "\n",
      "          0       0.83      0.90      0.87      1215\n",
      "          1       0.68      0.52      0.59       476\n",
      "\n",
      "avg / total       0.79      0.80      0.79      1691\n",
      "\n"
     ]
    }
   ],
   "source": [
    "ada_best_accuracy = evaluate(ada_random,X_test,y_test)"
   ]
  },
  {
   "cell_type": "code",
   "execution_count": null,
   "metadata": {},
   "outputs": [],
   "source": []
  }
 ],
 "metadata": {
  "kernelspec": {
   "display_name": "Python 3",
   "language": "python",
   "name": "python3"
  },
  "language_info": {
   "codemirror_mode": {
    "name": "ipython",
    "version": 3
   },
   "file_extension": ".py",
   "mimetype": "text/x-python",
   "name": "python",
   "nbconvert_exporter": "python",
   "pygments_lexer": "ipython3",
   "version": "3.6.4"
  }
 },
 "nbformat": 4,
 "nbformat_minor": 2
}
