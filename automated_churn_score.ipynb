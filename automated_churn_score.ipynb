{
 "cells": [
  {
   "cell_type": "code",
   "execution_count": 1,
   "metadata": {},
   "outputs": [],
   "source": [
    "import pandas as pd\n",
    "import numpy as np\n",
    "import matplotlib.pyplot as plt\n",
    "import sklearn\n",
    "import os\n",
    "import random "
   ]
  },
  {
   "cell_type": "code",
   "execution_count": 2,
   "metadata": {},
   "outputs": [],
   "source": [
    "# INPUT: set path for data placement \n",
    "os.chdir(r'C:\\Users\\mshafin\\Desktop\\xavient_churn_project')\n",
    "os.getcwd()\n",
    "random.seed(42)"
   ]
  },
  {
   "cell_type": "code",
   "execution_count": 3,
   "metadata": {},
   "outputs": [],
   "source": [
    "# INPUT: data loaded to a pandas dataframe\n",
    "df = pd.read_csv('telecom_churn_validation.csv')"
   ]
  },
  {
   "cell_type": "code",
   "execution_count": 4,
   "metadata": {},
   "outputs": [
    {
     "name": "stdout",
     "output_type": "stream",
     "text": [
      "<class 'pandas.core.frame.DataFrame'>\n",
      "RangeIndex: 1409 entries, 0 to 1408\n",
      "Data columns (total 21 columns):\n",
      "customerID          1409 non-null object\n",
      "gender              1409 non-null object\n",
      "SeniorCitizen       1409 non-null int64\n",
      "Partner             1409 non-null object\n",
      "Dependents          1409 non-null object\n",
      "tenure              1409 non-null int64\n",
      "PhoneService        1409 non-null object\n",
      "MultipleLines       1409 non-null object\n",
      "InternetService     1409 non-null object\n",
      "OnlineSecurity      1409 non-null object\n",
      "OnlineBackup        1409 non-null object\n",
      "DeviceProtection    1409 non-null object\n",
      "TechSupport         1409 non-null object\n",
      "StreamingTV         1409 non-null object\n",
      "StreamingMovies     1409 non-null object\n",
      "Contract            1409 non-null object\n",
      "PaperlessBilling    1409 non-null object\n",
      "PaymentMethod       1409 non-null object\n",
      "MonthlyCharges      1409 non-null float64\n",
      "TotalCharges        1406 non-null float64\n",
      "Churn               1409 non-null object\n",
      "dtypes: float64(2), int64(2), object(17)\n",
      "memory usage: 231.2+ KB\n"
     ]
    }
   ],
   "source": [
    "# input data format\n",
    "df.info()"
   ]
  },
  {
   "cell_type": "code",
   "execution_count": 5,
   "metadata": {},
   "outputs": [],
   "source": [
    "# INPUT: set customer identification code and target variable\n",
    "customer_identity_code = 'customerID'\n",
    "target_code = 'Churn'"
   ]
  },
  {
   "cell_type": "code",
   "execution_count": 6,
   "metadata": {},
   "outputs": [],
   "source": [
    "# set index for customer identification code\n",
    "df = df.set_index(customer_identity_code)"
   ]
  },
  {
   "cell_type": "code",
   "execution_count": 7,
   "metadata": {},
   "outputs": [],
   "source": [
    "# identify target variable\n",
    "df['target'] = df[target_code]"
   ]
  },
  {
   "cell_type": "code",
   "execution_count": 8,
   "metadata": {},
   "outputs": [],
   "source": [
    "# set target labels from input\n",
    "label_target1 = 'Yes'\n",
    "label_target0 = 'No'"
   ]
  },
  {
   "cell_type": "code",
   "execution_count": 9,
   "metadata": {},
   "outputs": [],
   "source": [
    "# function to recode target levels\n",
    "def dependent_col(row):\n",
    "    if row['target'] == label_target1:\n",
    "        val = 1  # input\n",
    "    elif row['target'] == label_target0:\n",
    "        val = 0  # imput\n",
    "    else:\n",
    "        val = 2\n",
    "    return val"
   ]
  },
  {
   "cell_type": "code",
   "execution_count": 10,
   "metadata": {},
   "outputs": [
    {
     "name": "stdout",
     "output_type": "stream",
     "text": [
      "            target Churn\n",
      "customerID              \n",
      "4698-KVLLG       0    No\n",
      "2037-SGXHH       1   Yes\n",
      "8559-WNQZS       0    No\n",
      "5879-HMFFH       0    No\n",
      "8212-CRQXP       0    No\n"
     ]
    }
   ],
   "source": [
    "df['target'] = df.apply(dependent_col, axis=1)\n",
    "print(df.loc[:,['target','Churn']].sample(5)) #check changes in target recoding"
   ]
  },
  {
   "cell_type": "code",
   "execution_count": 11,
   "metadata": {},
   "outputs": [],
   "source": [
    "# droping initial target\n",
    "df = df.drop(['Churn'],axis=1)"
   ]
  },
  {
   "cell_type": "code",
   "execution_count": 12,
   "metadata": {},
   "outputs": [
    {
     "name": "stdout",
     "output_type": "stream",
     "text": [
      "gender\n",
      "Female    739\n",
      "Male      670\n",
      "Name: gender, dtype: int64\n",
      "Partner\n",
      "No     728\n",
      "Yes    681\n",
      "Name: Partner, dtype: int64\n",
      "Dependents\n",
      "No     997\n",
      "Yes    412\n",
      "Name: Dependents, dtype: int64\n",
      "PhoneService\n",
      "Yes    1284\n",
      "No      125\n",
      "Name: PhoneService, dtype: int64\n",
      "MultipleLines\n",
      "No                  704\n",
      "Yes                 580\n",
      "No phone service    125\n",
      "Name: MultipleLines, dtype: int64\n",
      "InternetService\n",
      "Fiber optic    626\n",
      "DSL            486\n",
      "No             297\n",
      "Name: InternetService, dtype: int64\n",
      "OnlineSecurity\n",
      "No                     735\n",
      "Yes                    377\n",
      "No internet service    297\n",
      "Name: OnlineSecurity, dtype: int64\n",
      "OnlineBackup\n",
      "No                     620\n",
      "Yes                    492\n",
      "No internet service    297\n",
      "Name: OnlineBackup, dtype: int64\n",
      "DeviceProtection\n",
      "No                     615\n",
      "Yes                    497\n",
      "No internet service    297\n",
      "Name: DeviceProtection, dtype: int64\n",
      "TechSupport\n",
      "No                     697\n",
      "Yes                    415\n",
      "No internet service    297\n",
      "Name: TechSupport, dtype: int64\n",
      "StreamingTV\n",
      "No                     578\n",
      "Yes                    534\n",
      "No internet service    297\n",
      "Name: StreamingTV, dtype: int64\n",
      "StreamingMovies\n",
      "No                     585\n",
      "Yes                    527\n",
      "No internet service    297\n",
      "Name: StreamingMovies, dtype: int64\n",
      "Contract\n",
      "Month-to-month    779\n",
      "Two year          332\n",
      "One year          298\n",
      "Name: Contract, dtype: int64\n",
      "PaperlessBilling\n",
      "Yes    808\n",
      "No     601\n",
      "Name: PaperlessBilling, dtype: int64\n",
      "PaymentMethod\n",
      "Electronic check             477\n",
      "Bank transfer (automatic)    329\n",
      "Mailed check                 307\n",
      "Credit card (automatic)      296\n",
      "Name: PaymentMethod, dtype: int64\n"
     ]
    }
   ],
   "source": [
    "feature_names = list(df.columns.values)\n",
    "\n",
    "for column in feature_names:\n",
    "    if df[column].dtypes == \"object\":\n",
    "        print (column)\n",
    "        print (df[column].value_counts(dropna=False))"
   ]
  },
  {
   "cell_type": "code",
   "execution_count": 13,
   "metadata": {},
   "outputs": [
    {
     "name": "stdout",
     "output_type": "stream",
     "text": [
      "SeniorCitizen\n",
      "[0 1]\n",
      "tenure\n",
      "[72 68 70 61  9 51 27 22 26 28 56 52 29 71  2 23  8 37  3 65 50 31 36 10\n",
      "  7 15 32 34 21 11 18 12 57 69 59  5 63 45  1 49 39  6 67  0 64 55 25 33\n",
      " 35 19 60 30 66 48 54 58 46 62 41 14 17 53 24 38 47 44 16 42  4 13 40 20\n",
      " 43]\n",
      "MonthlyCharges\n",
      "[116.85  44.8   88.55  80.8   50.1  110.05  24.5   20.85  73.5   80.55\n",
      "  95.9  100.2   81.25 108.1   75.3   25.6   83.8   86.8   90.25  94.3\n",
      "  20.7  104.25  80.35  43.05  81.15  76.35  79.85  89.   105.75  19.5\n",
      "  19.65  19.9  116.15  20.5   20.6   59.1  109.6   88.45  79.35  19.7\n",
      "  43.8   87.   107.95  60.    20.05  55.1   81.5   84.45  66.4   20.65\n",
      "  69.35  20.55  88.8  109.1   49.    99.7   65.5  106.1   59.55  89.85\n",
      "  59.3   20.15  71.9   19.4  104.8   30.25 105.6   91.8   23.85  89.1\n",
      "  58.6   43.55  39.9   56.7   50.15  77.8   25.    66.5   34.   100.45\n",
      "  88.75  93.55 104.5   89.3   97.95  44.75  19.55  45.8  104.6   70.55\n",
      "  75.25  84.05  79.2   53.45  72.1   64.9   80.   101.35  19.85  50.2\n",
      "  87.35  91.35  24.7   77.75 106.2   64.95 115.    40.55  20.2   64.45\n",
      "  78.75  49.85  19.8   47.85  81.75  86.4  104.15  59.8   50.95  19.3\n",
      "  71.05  26.    59.75  51.1   90.    25.4   88.95  20.4   39.4   60.65\n",
      " 102.6   45.75  24.45  74.8   70.6  100.15  65.    59.6   20.3   49.05\n",
      "  86.75  99.2   59.5   94.65  94.45  90.95  20.   102.15  19.1   26.2\n",
      "  25.75  90.45  19.35  76.25  49.2   73.7   19.2   80.5  108.9   55.8\n",
      "  80.45  54.7   30.4  109.2   55.55  19.6   78.85  67.7  102.65  29.15\n",
      "  20.25  20.1   25.65 101.15  24.95  54.35  54.4   60.5   35.1   56.25\n",
      "  25.1   53.95  95.3  109.55  75.5   24.65  43.7  106.05  49.8   96.85\n",
      "  39.2  111.05  64.65  69.95 111.65  99.1   44.6   81.8   88.05  49.55\n",
      "  91.05  44.   116.45  75.35  19.95  24.4  104.95  56.8  115.75  78.35\n",
      "  86.45  90.6   43.45  51.35 106.5   91.15  79.15 105.25  18.95 106.4\n",
      "  88.7   85.35  24.1  104.1   71.3   35.7   19.75  76.2   85.9   59.05\n",
      "  72.95  61.4   88.6   94.4   98.15  86.2   51.65  94.25  54.8   88.85\n",
      " 102.1   71.85  29.8   99.65  24.55  70.9   30.1   80.6   49.95 110.\n",
      " 108.45  53.5   45.45  34.25 106.65  50.3  114.9   48.8  101.3   75.4\n",
      "  66.05  94.75  54.65  95.1   74.05  24.85  58.75  61.9  109.7   84.6\n",
      "  94.1   71.95  85.55  24.25  35.8   95.2  100.5   92.2   55.35  40.35\n",
      " 111.25 117.5   93.8   55.7   81.3   79.8  108.25  21.    61.35 103.75\n",
      "  70.5   93.9   80.15  57.95  64.1   68.75  99.    91.5   54.55  96.8\n",
      "  70.15  61.8   90.15  44.55 110.75  83.45 100.3   19.45  90.65  74.25\n",
      "  54.95  61.15  66.15  59.45  48.7   53.65  75.05  19.15  73.1   60.15\n",
      "  69.8   99.9   63.85  69.    65.8   98.3   23.95  84.85 117.35  19.25\n",
      "  19.05  25.45  20.35  70.35  93.4  105.55  44.45  79.25  49.9   38.85\n",
      "  92.05  94.9   96.65  58.5  112.4  105.5  100.9   79.1  105.9  112.6\n",
      "  68.6  103.95  51.55  54.75  89.55  78.9   69.7  104.    99.15  72.6\n",
      "  75.15  20.45  42.3   24.3   91.7   95.4   45.    50.6  108.75 112.95\n",
      "  63.8   78.95  73.85  79.3  109.15  80.7   44.1  111.95  24.    70.05\n",
      "  50.55  87.65  63.75  44.3  104.65  99.95  89.9   85.8   80.9   60.8\n",
      "  36.    68.7  103.9   65.25  71.1   89.15  70.85  90.55  35.3   78.\n",
      "  35.4  113.35  25.15  43.9  103.    75.7   25.2   66.85  76.05 100.\n",
      "  76.    70.45  92.15  87.8  100.55  54.25  79.05  20.75  91.55  49.6\n",
      "  85.1   64.55  55.5   75.1   73.55  85.3   91.1   96.1  110.5   58.95\n",
      "  89.45  96.55  95.95  56.1   23.3   69.55  74.55 116.1   86.65  89.4\n",
      " 111.3   85.95  20.95 101.75  86.7   24.9   85.45 102.05  83.7   54.45\n",
      "  97.55  53.75  71.45  35.05 115.6   24.35 115.8   78.8   81.9   65.1\n",
      "  19.    84.95 105.4   64.85  51.3   80.85  25.7  105.7   24.15  45.9\n",
      "  29.25  85.5   94.2   50.    51.7   89.8   90.1   80.1   70.4   25.5\n",
      "  71.6   63.9   21.1  102.55 100.85 110.85 100.6   71.7   75.    74.3\n",
      "  55.9   61.6   86.25  79.75  95.85  99.75  92.85  25.85  99.05  84.75\n",
      "  76.4   77.9   35.5   65.85  98.85  83.    88.9   29.9   95.15  69.75\n",
      "  43.6   61.75  56.15  74.5  115.15  78.1   74.6   40.7   93.65  90.5\n",
      "  84.3   20.9   89.95  74.2  100.05 106.15  97.    24.2   85.6   53.8\n",
      "  41.1   75.2   30.15  79.6   57.6   25.25  49.65  79.9   84.1   26.1\n",
      " 107.05  67.25  79.5   57.55  61.2   77.4   76.8   74.15  86.9   99.55\n",
      "  44.65  55.05  89.05  67.45  55.3   26.25  48.4   80.95  35.65  25.3\n",
      "  40.75 104.4   58.35 114.95  30.5   90.4   76.15  94.15 110.15  84.7\n",
      "  86.6   55.15  48.95 109.3   64.2   60.6   79.4   60.75  70.1  114.55\n",
      "  68.25  85.15  99.35  81.65  57.2  118.6  103.1   96.75  89.35  49.45\n",
      " 114.35  36.05  43.75  64.15  93.95  88.65  86.55 113.65  69.5   75.8\n",
      "  44.95  73.35  45.05  85.7   29.35  83.2   82.85  69.2   76.95  89.2\n",
      "  35.45  36.1   55.45  87.1   71.4  117.6   84.2   89.65  23.4   40.6\n",
      "  64.35 104.7   36.15  89.75  54.1   86.35  51.    86.05  40.3  110.45\n",
      "  55.25  71.25  64.05  25.05  60.35  68.95  54.05  87.95  98.65  75.85\n",
      "  49.15  45.55  84.65  76.75  88.5   34.6   85.2   79.95  85.    84.8\n",
      "  85.65  74.95  90.05 105.3   45.4  106.95  87.45  74.4  100.25 107.4\n",
      "  74.35  93.3   35.2   75.9   94.5   42.35 105.65  69.9   92.5   69.1\n",
      "  51.8   95.6   50.65  69.85  45.1   55.2   89.5   95.25  71.    72.65\n",
      "  44.4   50.05  70.25 108.55  77.    98.75  70.2   44.7   96.7   60.4\n",
      "  40.2  101.45  69.6   50.4   45.3  105.95 100.35  80.3   83.85  60.1\n",
      "  34.5   91.85  45.65 103.3   50.8   55.    55.4   55.95  50.7   69.25\n",
      "  41.05  85.4   28.45  80.05  48.35 105.    28.6  103.7   81.7   96.25\n",
      "  72.85  82.    69.65 105.85  96.05  29.95  70.3   85.25  39.05  90.8\n",
      "  79.45  50.35 106.    69.05  93.85  67.95  50.85  46.35  94.95  24.8\n",
      "  91.4   73.65  71.65  98.55  98.    29.2   78.65 100.95  40.4   86.\n",
      "  85.05  34.7   70.7  102.25 111.1   74.45 105.2   68.65  96.5  104.85\n",
      "  73.75 106.75  86.85  78.3  118.35  46.3   74.7   74.9   23.45 101.1\n",
      "  90.2   62.05  97.35  88.4   45.25  31.    85.75 107.35  54.2   95.75\n",
      "  65.2   70.65  88.35  50.45  79.7   78.45  96.    94.7   98.9  108.85\n",
      " 106.35  65.4  110.9   80.25  50.75 109.25  83.3  104.75  91.25 104.3\n",
      "  70.75  30.6 ]\n",
      "TotalCharges\n",
      "[8477.7  2983.65 6306.5  ...  856.35 2277.65 1782.4 ]\n",
      "target\n",
      "[0 1]\n"
     ]
    }
   ],
   "source": [
    "for column in feature_names:\n",
    "    if df[column].dtypes != \"object\":\n",
    "        print (column)\n",
    "        print (df[column].unique())"
   ]
  },
  {
   "cell_type": "code",
   "execution_count": 14,
   "metadata": {},
   "outputs": [
    {
     "name": "stdout",
     "output_type": "stream",
     "text": [
      "tenure\n",
      "count    1409.000000\n",
      "mean       32.444996\n",
      "std        24.477407\n",
      "min         0.000000\n",
      "25%         9.000000\n",
      "50%        29.000000\n",
      "75%        55.000000\n",
      "max        72.000000\n",
      "Name: tenure, dtype: float64\n",
      "MonthlyCharges\n",
      "count    1409.000000\n",
      "mean       64.967530\n",
      "std        29.738436\n",
      "min        18.950000\n",
      "25%        39.900000\n",
      "50%        70.650000\n",
      "75%        89.300000\n",
      "max       118.600000\n",
      "Name: MonthlyCharges, dtype: float64\n",
      "TotalCharges\n",
      "count    1406.000000\n",
      "mean     2279.778770\n",
      "std      2260.917174\n",
      "min        19.250000\n",
      "25%       417.800000\n",
      "50%      1415.500000\n",
      "75%      3771.912500\n",
      "max      8670.100000\n",
      "Name: TotalCharges, dtype: float64\n"
     ]
    }
   ],
   "source": [
    "remove_from_description = ['SeniorCitizen','target'] # remove non continious variables\n",
    "removed_from_description = [x for x in feature_names if (x not in remove_from_description)]\n",
    "#feature_names.remove(removed_from_description);\n",
    "for column in removed_from_description:\n",
    "    if df[column].dtypes != \"object\":\n",
    "        print (column)\n",
    "        print (df[column].describe())"
   ]
  },
  {
   "cell_type": "code",
   "execution_count": 15,
   "metadata": {},
   "outputs": [],
   "source": [
    "# missing value treatments\n",
    "# impute missing numeric columns with mean\n",
    "numeric_columns_mean = ['MonthlyCharges','tenure','TotalCharges'] # populate with numeric columns\n",
    "# impute missing numeric columns with zero\n",
    "numeric_columns_zero = [] # populate with numeric columns\n",
    "scale_columns = numeric_columns_mean + numeric_columns_zero\n",
    " "
   ]
  },
  {
   "cell_type": "code",
   "execution_count": 16,
   "metadata": {},
   "outputs": [],
   "source": [
    "# for mean imputation\n",
    "for column in numeric_columns_mean:\n",
    "    if df[column].dtypes in [\"int64\",\"float64\"] :\n",
    "        df[column] = df[column].fillna(df[column].mean())\n",
    "# for 0 imputation\n",
    "for column in numeric_columns_zero:\n",
    "    if df[column].dtypes in [\"int64\",\"float64\"] :\n",
    "        df[column] = df[column].fillna(0)"
   ]
  },
  {
   "cell_type": "code",
   "execution_count": 17,
   "metadata": {},
   "outputs": [
    {
     "name": "stdout",
     "output_type": "stream",
     "text": [
      "['MonthlyCharges', 'tenure', 'TotalCharges']\n"
     ]
    }
   ],
   "source": [
    "print(scale_columns)"
   ]
  },
  {
   "cell_type": "code",
   "execution_count": 18,
   "metadata": {},
   "outputs": [],
   "source": [
    "from sklearn.preprocessing import scale\n",
    "for column in scale_columns:\n",
    "    if df[column].dtypes in [\"int64\",\"float64\"] :\n",
    "        df[column] = scale(df[column].astype('float64'))"
   ]
  },
  {
   "cell_type": "code",
   "execution_count": 19,
   "metadata": {},
   "outputs": [],
   "source": [
    "# object variables converted to categories for cat.codes\n",
    "object_columns = df.select_dtypes(['object']).columns"
   ]
  },
  {
   "cell_type": "code",
   "execution_count": 20,
   "metadata": {},
   "outputs": [
    {
     "data": {
      "text/plain": [
       "Index(['gender', 'Partner', 'Dependents', 'PhoneService', 'MultipleLines',\n",
       "       'InternetService', 'OnlineSecurity', 'OnlineBackup', 'DeviceProtection',\n",
       "       'TechSupport', 'StreamingTV', 'StreamingMovies', 'Contract',\n",
       "       'PaperlessBilling', 'PaymentMethod'],\n",
       "      dtype='object')"
      ]
     },
     "execution_count": 20,
     "metadata": {},
     "output_type": "execute_result"
    }
   ],
   "source": [
    "object_columns"
   ]
  },
  {
   "cell_type": "code",
   "execution_count": 21,
   "metadata": {},
   "outputs": [
    {
     "name": "stdout",
     "output_type": "stream",
     "text": [
      "gender\n",
      "Female    739\n",
      "Male      670\n",
      "Name: gender, dtype: int64\n",
      "Partner\n",
      "No     728\n",
      "Yes    681\n",
      "Name: Partner, dtype: int64\n",
      "Dependents\n",
      "No     997\n",
      "Yes    412\n",
      "Name: Dependents, dtype: int64\n",
      "PhoneService\n",
      "Yes    1284\n",
      "No      125\n",
      "Name: PhoneService, dtype: int64\n",
      "MultipleLines\n",
      "No                  704\n",
      "Yes                 580\n",
      "No phone service    125\n",
      "Name: MultipleLines, dtype: int64\n",
      "InternetService\n",
      "Fiber optic    626\n",
      "DSL            486\n",
      "No             297\n",
      "Name: InternetService, dtype: int64\n",
      "OnlineSecurity\n",
      "No                     735\n",
      "Yes                    377\n",
      "No internet service    297\n",
      "Name: OnlineSecurity, dtype: int64\n",
      "OnlineBackup\n",
      "No                     620\n",
      "Yes                    492\n",
      "No internet service    297\n",
      "Name: OnlineBackup, dtype: int64\n",
      "DeviceProtection\n",
      "No                     615\n",
      "Yes                    497\n",
      "No internet service    297\n",
      "Name: DeviceProtection, dtype: int64\n",
      "TechSupport\n",
      "No                     697\n",
      "Yes                    415\n",
      "No internet service    297\n",
      "Name: TechSupport, dtype: int64\n",
      "StreamingTV\n",
      "No                     578\n",
      "Yes                    534\n",
      "No internet service    297\n",
      "Name: StreamingTV, dtype: int64\n",
      "StreamingMovies\n",
      "No                     585\n",
      "Yes                    527\n",
      "No internet service    297\n",
      "Name: StreamingMovies, dtype: int64\n",
      "Contract\n",
      "Month-to-month    779\n",
      "Two year          332\n",
      "One year          298\n",
      "Name: Contract, dtype: int64\n",
      "PaperlessBilling\n",
      "Yes    808\n",
      "No     601\n",
      "Name: PaperlessBilling, dtype: int64\n",
      "PaymentMethod\n",
      "Electronic check             477\n",
      "Bank transfer (automatic)    329\n",
      "Mailed check                 307\n",
      "Credit card (automatic)      296\n",
      "Name: PaymentMethod, dtype: int64\n"
     ]
    }
   ],
   "source": [
    "for column in object_columns:\n",
    "    if df[column].dtypes==\"object\":\n",
    "        print(column)\n",
    "        df[column] = df[column].fillna(-9999)\n",
    "        print(df[column].value_counts())"
   ]
  },
  {
   "cell_type": "code",
   "execution_count": 22,
   "metadata": {},
   "outputs": [],
   "source": [
    "for column in object_columns:\n",
    "    if df[column].dtypes==\"object\":\n",
    "        df[column] = df[column].astype('category')"
   ]
  },
  {
   "cell_type": "code",
   "execution_count": 23,
   "metadata": {},
   "outputs": [],
   "source": [
    "df[object_columns] = df[object_columns].apply(lambda x: x.cat.codes)"
   ]
  },
  {
   "cell_type": "code",
   "execution_count": 24,
   "metadata": {},
   "outputs": [
    {
     "name": "stdout",
     "output_type": "stream",
     "text": [
      "gender\n",
      "0    739\n",
      "1    670\n",
      "Name: gender, dtype: int64\n",
      "Partner\n",
      "0    728\n",
      "1    681\n",
      "Name: Partner, dtype: int64\n",
      "Dependents\n",
      "0    997\n",
      "1    412\n",
      "Name: Dependents, dtype: int64\n",
      "PhoneService\n",
      "1    1284\n",
      "0     125\n",
      "Name: PhoneService, dtype: int64\n",
      "MultipleLines\n",
      "0    704\n",
      "2    580\n",
      "1    125\n",
      "Name: MultipleLines, dtype: int64\n",
      "InternetService\n",
      "1    626\n",
      "0    486\n",
      "2    297\n",
      "Name: InternetService, dtype: int64\n",
      "OnlineSecurity\n",
      "0    735\n",
      "2    377\n",
      "1    297\n",
      "Name: OnlineSecurity, dtype: int64\n",
      "OnlineBackup\n",
      "0    620\n",
      "2    492\n",
      "1    297\n",
      "Name: OnlineBackup, dtype: int64\n",
      "DeviceProtection\n",
      "0    615\n",
      "2    497\n",
      "1    297\n",
      "Name: DeviceProtection, dtype: int64\n",
      "TechSupport\n",
      "0    697\n",
      "2    415\n",
      "1    297\n",
      "Name: TechSupport, dtype: int64\n",
      "StreamingTV\n",
      "0    578\n",
      "2    534\n",
      "1    297\n",
      "Name: StreamingTV, dtype: int64\n",
      "StreamingMovies\n",
      "0    585\n",
      "2    527\n",
      "1    297\n",
      "Name: StreamingMovies, dtype: int64\n",
      "Contract\n",
      "0    779\n",
      "2    332\n",
      "1    298\n",
      "Name: Contract, dtype: int64\n",
      "PaperlessBilling\n",
      "1    808\n",
      "0    601\n",
      "Name: PaperlessBilling, dtype: int64\n",
      "PaymentMethod\n",
      "2    477\n",
      "0    329\n",
      "3    307\n",
      "1    296\n",
      "Name: PaymentMethod, dtype: int64\n"
     ]
    }
   ],
   "source": [
    "for column in object_columns:\n",
    "    print (column)\n",
    "    print(df[column].value_counts())"
   ]
  },
  {
   "cell_type": "code",
   "execution_count": 25,
   "metadata": {},
   "outputs": [
    {
     "name": "stdout",
     "output_type": "stream",
     "text": [
      "<class 'pandas.core.frame.DataFrame'>\n",
      "Index: 1409 entries, 1488-PBLJN to 5609-CEBID\n",
      "Data columns (total 20 columns):\n",
      "gender              1409 non-null int8\n",
      "SeniorCitizen       1409 non-null int64\n",
      "Partner             1409 non-null int8\n",
      "Dependents          1409 non-null int8\n",
      "tenure              1409 non-null float64\n",
      "PhoneService        1409 non-null int8\n",
      "MultipleLines       1409 non-null int8\n",
      "InternetService     1409 non-null int8\n",
      "OnlineSecurity      1409 non-null int8\n",
      "OnlineBackup        1409 non-null int8\n",
      "DeviceProtection    1409 non-null int8\n",
      "TechSupport         1409 non-null int8\n",
      "StreamingTV         1409 non-null int8\n",
      "StreamingMovies     1409 non-null int8\n",
      "Contract            1409 non-null int8\n",
      "PaperlessBilling    1409 non-null int8\n",
      "PaymentMethod       1409 non-null int8\n",
      "MonthlyCharges      1409 non-null float64\n",
      "TotalCharges        1409 non-null float64\n",
      "target              1409 non-null int64\n",
      "dtypes: float64(3), int64(2), int8(15)\n",
      "memory usage: 86.7+ KB\n"
     ]
    }
   ],
   "source": [
    "df.info()"
   ]
  },
  {
   "cell_type": "code",
   "execution_count": 26,
   "metadata": {},
   "outputs": [
    {
     "data": {
      "text/html": [
       "<div>\n",
       "<style scoped>\n",
       "    .dataframe tbody tr th:only-of-type {\n",
       "        vertical-align: middle;\n",
       "    }\n",
       "\n",
       "    .dataframe tbody tr th {\n",
       "        vertical-align: top;\n",
       "    }\n",
       "\n",
       "    .dataframe thead th {\n",
       "        text-align: right;\n",
       "    }\n",
       "</style>\n",
       "<table border=\"1\" class=\"dataframe\">\n",
       "  <thead>\n",
       "    <tr style=\"text-align: right;\">\n",
       "      <th></th>\n",
       "      <th>gender</th>\n",
       "      <th>SeniorCitizen</th>\n",
       "      <th>Partner</th>\n",
       "      <th>Dependents</th>\n",
       "      <th>tenure</th>\n",
       "      <th>PhoneService</th>\n",
       "      <th>MultipleLines</th>\n",
       "      <th>InternetService</th>\n",
       "      <th>OnlineSecurity</th>\n",
       "      <th>OnlineBackup</th>\n",
       "      <th>DeviceProtection</th>\n",
       "      <th>TechSupport</th>\n",
       "      <th>StreamingTV</th>\n",
       "      <th>StreamingMovies</th>\n",
       "      <th>Contract</th>\n",
       "      <th>PaperlessBilling</th>\n",
       "      <th>PaymentMethod</th>\n",
       "      <th>MonthlyCharges</th>\n",
       "      <th>TotalCharges</th>\n",
       "      <th>target</th>\n",
       "    </tr>\n",
       "    <tr>\n",
       "      <th>customerID</th>\n",
       "      <th></th>\n",
       "      <th></th>\n",
       "      <th></th>\n",
       "      <th></th>\n",
       "      <th></th>\n",
       "      <th></th>\n",
       "      <th></th>\n",
       "      <th></th>\n",
       "      <th></th>\n",
       "      <th></th>\n",
       "      <th></th>\n",
       "      <th></th>\n",
       "      <th></th>\n",
       "      <th></th>\n",
       "      <th></th>\n",
       "      <th></th>\n",
       "      <th></th>\n",
       "      <th></th>\n",
       "      <th></th>\n",
       "      <th></th>\n",
       "    </tr>\n",
       "  </thead>\n",
       "  <tbody>\n",
       "    <tr>\n",
       "      <th>0480-KYJVA</th>\n",
       "      <td>0</td>\n",
       "      <td>0</td>\n",
       "      <td>1</td>\n",
       "      <td>1</td>\n",
       "      <td>1.616554</td>\n",
       "      <td>1</td>\n",
       "      <td>2</td>\n",
       "      <td>2</td>\n",
       "      <td>1</td>\n",
       "      <td>1</td>\n",
       "      <td>1</td>\n",
       "      <td>1</td>\n",
       "      <td>1</td>\n",
       "      <td>1</td>\n",
       "      <td>2</td>\n",
       "      <td>0</td>\n",
       "      <td>1</td>\n",
       "      <td>-1.369675</td>\n",
       "      <td>-0.219373</td>\n",
       "      <td>0</td>\n",
       "    </tr>\n",
       "    <tr>\n",
       "      <th>9565-JSNFM</th>\n",
       "      <td>1</td>\n",
       "      <td>0</td>\n",
       "      <td>0</td>\n",
       "      <td>0</td>\n",
       "      <td>0.227025</td>\n",
       "      <td>1</td>\n",
       "      <td>0</td>\n",
       "      <td>1</td>\n",
       "      <td>0</td>\n",
       "      <td>0</td>\n",
       "      <td>0</td>\n",
       "      <td>0</td>\n",
       "      <td>0</td>\n",
       "      <td>0</td>\n",
       "      <td>1</td>\n",
       "      <td>1</td>\n",
       "      <td>0</td>\n",
       "      <td>0.184422</td>\n",
       "      <td>0.140772</td>\n",
       "      <td>1</td>\n",
       "    </tr>\n",
       "    <tr>\n",
       "      <th>4879-GZLFH</th>\n",
       "      <td>0</td>\n",
       "      <td>0</td>\n",
       "      <td>1</td>\n",
       "      <td>1</td>\n",
       "      <td>0.390499</td>\n",
       "      <td>1</td>\n",
       "      <td>0</td>\n",
       "      <td>1</td>\n",
       "      <td>0</td>\n",
       "      <td>0</td>\n",
       "      <td>2</td>\n",
       "      <td>0</td>\n",
       "      <td>2</td>\n",
       "      <td>2</td>\n",
       "      <td>0</td>\n",
       "      <td>1</td>\n",
       "      <td>2</td>\n",
       "      <td>0.914376</td>\n",
       "      <td>0.706745</td>\n",
       "      <td>0</td>\n",
       "    </tr>\n",
       "    <tr>\n",
       "      <th>1728-BQDMA</th>\n",
       "      <td>0</td>\n",
       "      <td>0</td>\n",
       "      <td>0</td>\n",
       "      <td>0</td>\n",
       "      <td>-1.244242</td>\n",
       "      <td>1</td>\n",
       "      <td>0</td>\n",
       "      <td>0</td>\n",
       "      <td>0</td>\n",
       "      <td>0</td>\n",
       "      <td>0</td>\n",
       "      <td>0</td>\n",
       "      <td>0</td>\n",
       "      <td>0</td>\n",
       "      <td>0</td>\n",
       "      <td>0</td>\n",
       "      <td>2</td>\n",
       "      <td>-0.690178</td>\n",
       "      <td>-0.973147</td>\n",
       "      <td>0</td>\n",
       "    </tr>\n",
       "    <tr>\n",
       "      <th>4570-QHXHL</th>\n",
       "      <td>0</td>\n",
       "      <td>0</td>\n",
       "      <td>0</td>\n",
       "      <td>0</td>\n",
       "      <td>-0.958162</td>\n",
       "      <td>1</td>\n",
       "      <td>0</td>\n",
       "      <td>0</td>\n",
       "      <td>0</td>\n",
       "      <td>0</td>\n",
       "      <td>0</td>\n",
       "      <td>0</td>\n",
       "      <td>0</td>\n",
       "      <td>0</td>\n",
       "      <td>0</td>\n",
       "      <td>1</td>\n",
       "      <td>2</td>\n",
       "      <td>-0.713725</td>\n",
       "      <td>-0.830081</td>\n",
       "      <td>0</td>\n",
       "    </tr>\n",
       "  </tbody>\n",
       "</table>\n",
       "</div>"
      ],
      "text/plain": [
       "            gender  SeniorCitizen  Partner  Dependents    tenure  \\\n",
       "customerID                                                         \n",
       "0480-KYJVA       0              0        1           1  1.616554   \n",
       "9565-JSNFM       1              0        0           0  0.227025   \n",
       "4879-GZLFH       0              0        1           1  0.390499   \n",
       "1728-BQDMA       0              0        0           0 -1.244242   \n",
       "4570-QHXHL       0              0        0           0 -0.958162   \n",
       "\n",
       "            PhoneService  MultipleLines  InternetService  OnlineSecurity  \\\n",
       "customerID                                                                 \n",
       "0480-KYJVA             1              2                2               1   \n",
       "9565-JSNFM             1              0                1               0   \n",
       "4879-GZLFH             1              0                1               0   \n",
       "1728-BQDMA             1              0                0               0   \n",
       "4570-QHXHL             1              0                0               0   \n",
       "\n",
       "            OnlineBackup  DeviceProtection  TechSupport  StreamingTV  \\\n",
       "customerID                                                             \n",
       "0480-KYJVA             1                 1            1            1   \n",
       "9565-JSNFM             0                 0            0            0   \n",
       "4879-GZLFH             0                 2            0            2   \n",
       "1728-BQDMA             0                 0            0            0   \n",
       "4570-QHXHL             0                 0            0            0   \n",
       "\n",
       "            StreamingMovies  Contract  PaperlessBilling  PaymentMethod  \\\n",
       "customerID                                                               \n",
       "0480-KYJVA                1         2                 0              1   \n",
       "9565-JSNFM                0         1                 1              0   \n",
       "4879-GZLFH                2         0                 1              2   \n",
       "1728-BQDMA                0         0                 0              2   \n",
       "4570-QHXHL                0         0                 1              2   \n",
       "\n",
       "            MonthlyCharges  TotalCharges  target  \n",
       "customerID                                        \n",
       "0480-KYJVA       -1.369675     -0.219373       0  \n",
       "9565-JSNFM        0.184422      0.140772       1  \n",
       "4879-GZLFH        0.914376      0.706745       0  \n",
       "1728-BQDMA       -0.690178     -0.973147       0  \n",
       "4570-QHXHL       -0.713725     -0.830081       0  "
      ]
     },
     "execution_count": 26,
     "metadata": {},
     "output_type": "execute_result"
    }
   ],
   "source": [
    "df.sample(5)"
   ]
  },
  {
   "cell_type": "code",
   "execution_count": 27,
   "metadata": {},
   "outputs": [],
   "source": [
    "from sklearn.model_selection import train_test_split"
   ]
  },
  {
   "cell_type": "code",
   "execution_count": 28,
   "metadata": {},
   "outputs": [
    {
     "data": {
      "text/plain": [
       "Index(['gender', 'SeniorCitizen', 'Partner', 'Dependents', 'tenure',\n",
       "       'PhoneService', 'MultipleLines', 'InternetService', 'OnlineSecurity',\n",
       "       'OnlineBackup', 'DeviceProtection', 'TechSupport', 'StreamingTV',\n",
       "       'StreamingMovies', 'Contract', 'PaperlessBilling', 'PaymentMethod',\n",
       "       'MonthlyCharges', 'TotalCharges', 'target'],\n",
       "      dtype='object')"
      ]
     },
     "execution_count": 28,
     "metadata": {},
     "output_type": "execute_result"
    }
   ],
   "source": [
    "df.columns"
   ]
  },
  {
   "cell_type": "code",
   "execution_count": 29,
   "metadata": {},
   "outputs": [],
   "source": [
    "df1 = df.copy()"
   ]
  },
  {
   "cell_type": "code",
   "execution_count": 30,
   "metadata": {},
   "outputs": [],
   "source": [
    "df1 = df1.drop(['target'], axis=1)"
   ]
  },
  {
   "cell_type": "code",
   "execution_count": 34,
   "metadata": {},
   "outputs": [
    {
     "data": {
      "text/plain": [
       "((1409, 15), (1409, 1))"
      ]
     },
     "execution_count": 34,
     "metadata": {},
     "output_type": "execute_result"
    }
   ],
   "source": [
    "array = df[['SeniorCitizen', 'Dependents', 'tenure', 'PhoneService',\n",
    "       'MultipleLines', 'InternetService', 'OnlineSecurity', 'OnlineBackup',\n",
    "       'DeviceProtection', 'TechSupport', 'Contract', 'PaperlessBilling',\n",
    "       'PaymentMethod', 'MonthlyCharges', 'TotalCharges']]\n",
    "array1 = df[['target']]\n",
    "X = array.values\n",
    "y = array1.values\n",
    "X.shape,y.shape"
   ]
  },
  {
   "cell_type": "code",
   "execution_count": 36,
   "metadata": {},
   "outputs": [],
   "source": [
    "from sklearn.metrics import accuracy_score\n",
    "from sklearn.metrics import confusion_matrix\n",
    "from sklearn.metrics import classification_report\n",
    "\n",
    "def evaluate(model, X, y):\n",
    "    y_pred = model.predict(X)\n",
    "    accuracy = accuracy_score(y,y_pred)\n",
    "    matrix = confusion_matrix(y, y_pred)\n",
    "    report = classification_report(y, y_pred)\n",
    "    print(\"accuracy :\" +str(accuracy))\n",
    "    print(\"matrix :\")\n",
    "    print(matrix)\n",
    "    print(\"report :\")\n",
    "    print(report)\n",
    "    return accuracy"
   ]
  },
  {
   "cell_type": "code",
   "execution_count": 37,
   "metadata": {},
   "outputs": [
    {
     "name": "stdout",
     "output_type": "stream",
     "text": [
      "0.7977288857345636\n",
      "0.801277501774308\n"
     ]
    }
   ],
   "source": [
    "# import pickle\n",
    "import pickle\n",
    "# load the model from disk\n",
    "loaded_model_gbm = pickle.load(open('finalized_gbm.sav', 'rb'))\n",
    "result = loaded_model_gbm.score(X, y)\n",
    "print(result)\n",
    "loaded_model_rf = pickle.load(open('finalized_rf.sav', 'rb'))\n",
    "result = loaded_model_rf.score(X, y)\n",
    "print(result)"
   ]
  },
  {
   "cell_type": "code",
   "execution_count": 38,
   "metadata": {},
   "outputs": [
    {
     "name": "stdout",
     "output_type": "stream",
     "text": [
      "accuracy :0.7977288857345636\n",
      "matrix :\n",
      "[[950  85]\n",
      " [200 174]]\n",
      "report :\n",
      "             precision    recall  f1-score   support\n",
      "\n",
      "          0       0.83      0.92      0.87      1035\n",
      "          1       0.67      0.47      0.55       374\n",
      "\n",
      "avg / total       0.79      0.80      0.78      1409\n",
      "\n"
     ]
    }
   ],
   "source": [
    "gbm_best_accuracy = evaluate(loaded_model_gbm,X,y)"
   ]
  },
  {
   "cell_type": "code",
   "execution_count": 39,
   "metadata": {},
   "outputs": [
    {
     "name": "stdout",
     "output_type": "stream",
     "text": [
      "accuracy :0.801277501774308\n",
      "matrix :\n",
      "[[948  87]\n",
      " [193 181]]\n",
      "report :\n",
      "             precision    recall  f1-score   support\n",
      "\n",
      "          0       0.83      0.92      0.87      1035\n",
      "          1       0.68      0.48      0.56       374\n",
      "\n",
      "avg / total       0.79      0.80      0.79      1409\n",
      "\n"
     ]
    }
   ],
   "source": [
    "rf_best_accuracy = evaluate(loaded_model_rf,X,y)"
   ]
  },
  {
   "cell_type": "code",
   "execution_count": 40,
   "metadata": {},
   "outputs": [
    {
     "data": {
      "text/plain": [
       "RandomForestClassifier(bootstrap=True, class_weight=None, criterion='gini',\n",
       "            max_depth=50, max_features='sqrt', max_leaf_nodes=None,\n",
       "            min_impurity_decrease=0.0, min_impurity_split=None,\n",
       "            min_samples_leaf=2, min_samples_split=10,\n",
       "            min_weight_fraction_leaf=0.0, n_estimators=100, n_jobs=1,\n",
       "            oob_score=False, random_state=None, verbose=0,\n",
       "            warm_start=False)"
      ]
     },
     "execution_count": 40,
     "metadata": {},
     "output_type": "execute_result"
    }
   ],
   "source": [
    "loaded_model_rf.best_estimator_"
   ]
  },
  {
   "cell_type": "code",
   "execution_count": 41,
   "metadata": {},
   "outputs": [],
   "source": [
    "feature_names=df[['SeniorCitizen', 'Dependents', 'tenure', 'PhoneService',\n",
    "       'MultipleLines', 'InternetService', 'OnlineSecurity', 'OnlineBackup',\n",
    "       'DeviceProtection', 'TechSupport', 'Contract', 'PaperlessBilling',\n",
    "       'PaymentMethod', 'MonthlyCharges', 'TotalCharges']].columns\n"
   ]
  },
  {
   "cell_type": "code",
   "execution_count": 42,
   "metadata": {},
   "outputs": [
    {
     "name": "stdout",
     "output_type": "stream",
     "text": [
      "[ 3  1  0  4  8 11  7  5 12  6  9 10 13  2 14]\n",
      "[ 0.5  1.5  2.5  3.5  4.5  5.5  6.5  7.5  8.5  9.5 10.5 11.5 12.5 13.5\n",
      " 14.5]\n",
      "<class 'numpy.ndarray'>\n",
      "<class 'numpy.ndarray'>\n"
     ]
    }
   ],
   "source": [
    "feature_importance = loaded_model_rf.best_estimator_.feature_importances_\n",
    "sorted_idx = np.argsort(feature_importance)\n",
    "pos = np.arange(sorted_idx.shape[0]) + .5\n",
    "print(sorted_idx)\n",
    "print(pos)\n",
    "print(type(np.array(feature_names)))\n",
    "print(type(feature_importance))"
   ]
  },
  {
   "cell_type": "code",
   "execution_count": 43,
   "metadata": {},
   "outputs": [
    {
     "data": {
      "image/png": "[encoded data removed]",
      "text/plain": [
       "<matplotlib.figure.Figure at 0xdd9e5c6cc0>"
      ]
     },
     "metadata": {},
     "output_type": "display_data"
    },
    {
     "name": "stdout",
     "output_type": "stream",
     "text": [
      "['SeniorCitizen' 'Dependents' 'tenure' 'PhoneService' 'MultipleLines'\n",
      " 'InternetService' 'OnlineSecurity' 'OnlineBackup' 'DeviceProtection'\n",
      " 'TechSupport' 'Contract' 'PaperlessBilling' 'PaymentMethod'\n",
      " 'MonthlyCharges' 'TotalCharges']\n",
      "[0.01753623 0.01707297 0.17122098 0.00531617 0.02106959 0.04254483\n",
      " 0.0616084  0.03910195 0.02344597 0.07444541 0.10973019 0.03107537\n",
      " 0.04333458 0.16916317 0.17333419]\n"
     ]
    }
   ],
   "source": [
    "plt.barh(pos, feature_importance[sorted_idx], align='center')\n",
    "plt.yticks(pos, feature_names[sorted_idx])\n",
    "\n",
    "feature_names[sorted_idx]\n",
    "plt.show()\n",
    "print((np.array(feature_names)))\n",
    "print(feature_importance)"
   ]
  },
  {
   "cell_type": "code",
   "execution_count": null,
   "metadata": {},
   "outputs": [],
   "source": []
  }
 ],
 "metadata": {
  "kernelspec": {
   "display_name": "Python 3",
   "language": "python",
   "name": "python3"
  },
  "language_info": {
   "codemirror_mode": {
    "name": "ipython",
    "version": 3
   },
   "file_extension": ".py",
   "mimetype": "text/x-python",
   "name": "python",
   "nbconvert_exporter": "python",
   "pygments_lexer": "ipython3",
   "version": "3.6.4"
  }
 },
 "nbformat": 4,
 "nbformat_minor": 2
}
