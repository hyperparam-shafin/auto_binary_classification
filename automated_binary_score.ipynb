{
 "cells": [
  {
   "cell_type": "code",
   "execution_count": 1,
   "metadata": {},
   "outputs": [],
   "source": [
    "import pandas as pd\n",
    "import numpy as np\n",
    "import matplotlib.pyplot as plt\n",
    "import sklearn\n",
    "import os\n",
    "import random "
   ]
  },
  {
   "cell_type": "code",
   "execution_count": 2,
   "metadata": {},
   "outputs": [],
   "source": [
    "# INPUT: set path for data placement \n",
    "os.chdir(r'C:\\Users\\mshafin\\Desktop\\xavient_churn_project')\n",
    "#os.chdir(r'C:\\Users\\mohammad shafin\\Desktop\\xavient_churn_project')\n",
    "\n",
    "os.getcwd()\n",
    "random.seed(42)"
   ]
  },
  {
   "cell_type": "code",
   "execution_count": 3,
   "metadata": {},
   "outputs": [],
   "source": [
    "# INPUT: data loaded to a pandas dataframe\n",
    "df = pd.read_csv('telecom_churn_validation.csv')"
   ]
  },
  {
   "cell_type": "code",
   "execution_count": 4,
   "metadata": {},
   "outputs": [
    {
     "name": "stdout",
     "output_type": "stream",
     "text": [
      "<class 'pandas.core.frame.DataFrame'>\n",
      "RangeIndex: 1409 entries, 0 to 1408\n",
      "Data columns (total 21 columns):\n",
      "customerID          1409 non-null object\n",
      "gender              1409 non-null object\n",
      "SeniorCitizen       1409 non-null int64\n",
      "Partner             1409 non-null object\n",
      "Dependents          1409 non-null object\n",
      "tenure              1409 non-null int64\n",
      "PhoneService        1409 non-null object\n",
      "MultipleLines       1409 non-null object\n",
      "InternetService     1409 non-null object\n",
      "OnlineSecurity      1409 non-null object\n",
      "OnlineBackup        1409 non-null object\n",
      "DeviceProtection    1409 non-null object\n",
      "TechSupport         1409 non-null object\n",
      "StreamingTV         1409 non-null object\n",
      "StreamingMovies     1409 non-null object\n",
      "Contract            1409 non-null object\n",
      "PaperlessBilling    1409 non-null object\n",
      "PaymentMethod       1409 non-null object\n",
      "MonthlyCharges      1409 non-null float64\n",
      "TotalCharges        1406 non-null float64\n",
      "Churn               1409 non-null object\n",
      "dtypes: float64(2), int64(2), object(17)\n",
      "memory usage: 231.2+ KB\n"
     ]
    }
   ],
   "source": [
    "df.info()"
   ]
  },
  {
   "cell_type": "code",
   "execution_count": 5,
   "metadata": {},
   "outputs": [
    {
     "name": "stdout",
     "output_type": "stream",
     "text": [
      "Columnwise missing value count\n"
     ]
    },
    {
     "data": {
      "text/plain": [
       "customerID          0\n",
       "gender              0\n",
       "SeniorCitizen       0\n",
       "Partner             0\n",
       "Dependents          0\n",
       "tenure              0\n",
       "PhoneService        0\n",
       "MultipleLines       0\n",
       "InternetService     0\n",
       "OnlineSecurity      0\n",
       "OnlineBackup        0\n",
       "DeviceProtection    0\n",
       "TechSupport         0\n",
       "StreamingTV         0\n",
       "StreamingMovies     0\n",
       "Contract            0\n",
       "PaperlessBilling    0\n",
       "PaymentMethod       0\n",
       "MonthlyCharges      0\n",
       "TotalCharges        3\n",
       "Churn               0\n",
       "dtype: int64"
      ]
     },
     "execution_count": 5,
     "metadata": {},
     "output_type": "execute_result"
    }
   ],
   "source": [
    "# count number of missing values in each column\n",
    "# sum True's\n",
    "print(\"Columnwise missing value count\")\n",
    "df.isnull().sum()"
   ]
  },
  {
   "cell_type": "code",
   "execution_count": 6,
   "metadata": {},
   "outputs": [],
   "source": [
    "# INPUT: set customer identification code and target variable\n",
    "customer_identity_code = 'customerID'\n",
    "target_code = 'Churn'"
   ]
  },
  {
   "cell_type": "code",
   "execution_count": 7,
   "metadata": {},
   "outputs": [],
   "source": [
    "# set index for customer identification code\n",
    "df = df.set_index(customer_identity_code)"
   ]
  },
  {
   "cell_type": "code",
   "execution_count": 8,
   "metadata": {},
   "outputs": [],
   "source": [
    "# identify target variable\n",
    "df['target'] = df[target_code]"
   ]
  },
  {
   "cell_type": "code",
   "execution_count": 9,
   "metadata": {},
   "outputs": [],
   "source": [
    "# set target labels from input\n",
    "label_target1 = 'Yes'\n",
    "label_target0 = 'No'"
   ]
  },
  {
   "cell_type": "code",
   "execution_count": 10,
   "metadata": {},
   "outputs": [],
   "source": [
    "# function to recode target levels\n",
    "def dependent_col(row):\n",
    "    if row['target'] == label_target1:\n",
    "        val = 1  # input\n",
    "    elif row['target'] == label_target0:\n",
    "        val = 0  # imput\n",
    "    else:\n",
    "        val = 2\n",
    "    return val"
   ]
  },
  {
   "cell_type": "code",
   "execution_count": 11,
   "metadata": {},
   "outputs": [
    {
     "name": "stdout",
     "output_type": "stream",
     "text": [
      "            target Churn\n",
      "customerID              \n",
      "1599-EAHXY       0    No\n",
      "1866-ZSLJM       0    No\n",
      "1075-BGWOH       1   Yes\n",
      "3384-CTMSF       0    No\n",
      "4020-KIUDI       0    No\n"
     ]
    }
   ],
   "source": [
    "df['target'] = df.apply(dependent_col, axis=1)\n",
    "print(df.loc[:,['target','Churn']].sample(5)) #check changes in target recoding"
   ]
  },
  {
   "cell_type": "code",
   "execution_count": 12,
   "metadata": {},
   "outputs": [
    {
     "name": "stdout",
     "output_type": "stream",
     "text": [
      "The number of row/rows dropped because of missing target variable is 0\n"
     ]
    }
   ],
   "source": [
    "# Keep rows when target variable is finite\n",
    "start = df.shape[1]\n",
    "df = df[np.isfinite(df['target'])]\n",
    "finish = df.shape[1]\n",
    "print(\"The number of row/rows dropped because of missing target variable is \" + str(start-finish))"
   ]
  },
  {
   "cell_type": "code",
   "execution_count": 13,
   "metadata": {},
   "outputs": [],
   "source": [
    "# droping initial target\n",
    "df = df.drop(['Churn'],axis=1)"
   ]
  },
  {
   "cell_type": "code",
   "execution_count": 14,
   "metadata": {},
   "outputs": [
    {
     "data": {
      "text/plain": [
       "0    1035\n",
       "1     374\n",
       "Name: target, dtype: int64"
      ]
     },
     "execution_count": 14,
     "metadata": {},
     "output_type": "execute_result"
    }
   ],
   "source": [
    "df.target.value_counts()"
   ]
  },
  {
   "cell_type": "code",
   "execution_count": 15,
   "metadata": {},
   "outputs": [],
   "source": [
    "# populate with columns, which needs to be considered 'object' type\n",
    "object_columns = ['gender','SeniorCitizen','Partner','Dependents','PhoneService','MultipleLines','InternetService',\n",
    "                  'OnlineSecurity','OnlineBackup','DeviceProtection','TechSupport','StreamingTV','StreamingMovies',\n",
    "                  'Contract','PaperlessBilling','PaymentMethod'] "
   ]
  },
  {
   "cell_type": "code",
   "execution_count": 16,
   "metadata": {},
   "outputs": [],
   "source": [
    "for column in object_columns:\n",
    "    df[column] = df[column].astype('object')"
   ]
  },
  {
   "cell_type": "code",
   "execution_count": 17,
   "metadata": {},
   "outputs": [
    {
     "name": "stdout",
     "output_type": "stream",
     "text": [
      "Value count of each level for datatype 'object'\n"
     ]
    }
   ],
   "source": [
    "print(\"Value count of each level for datatype 'object'\")\n",
    "feature_names = list(df[object_columns])\n",
    "\n",
    "#for column in feature_names:\n",
    "#    if df[column].dtypes == \"object\":\n",
    "#        print (column)\n",
    "#        print (df[column].value_counts(dropna=False))"
   ]
  },
  {
   "cell_type": "code",
   "execution_count": 18,
   "metadata": {},
   "outputs": [],
   "source": [
    "# object variables converted to categories for cat.codes\n",
    "object_columns = df.select_dtypes(['object']).columns"
   ]
  },
  {
   "cell_type": "code",
   "execution_count": 19,
   "metadata": {},
   "outputs": [
    {
     "name": "stdout",
     "output_type": "stream",
     "text": [
      "The count of columns were successfully imputed with missing value indicator 'UKNOWN'\n"
     ]
    }
   ],
   "source": [
    "print(\"The count of columns were successfully imputed with missing value indicator 'UKNOWN'\")\n",
    "for column in object_columns:\n",
    "    if df[column].dtypes==\"object\":\n",
    "        df[column] = df[column].fillna(\"UKNOWN\").astype('object')\n",
    "#print(df[object_columns].info())        "
   ]
  },
  {
   "cell_type": "code",
   "execution_count": 20,
   "metadata": {},
   "outputs": [],
   "source": [
    "for column in object_columns:\n",
    "    if df[column].dtypes==\"object\":\n",
    "        df[column] = df[column].astype('category')"
   ]
  },
  {
   "cell_type": "code",
   "execution_count": 21,
   "metadata": {},
   "outputs": [],
   "source": [
    "#df[object_columns].info()"
   ]
  },
  {
   "cell_type": "code",
   "execution_count": 22,
   "metadata": {},
   "outputs": [],
   "source": [
    "df[object_columns] = df[object_columns].apply(lambda x: x.cat.codes)"
   ]
  },
  {
   "cell_type": "code",
   "execution_count": 23,
   "metadata": {},
   "outputs": [],
   "source": [
    "#for column in object_columns:\n",
    "#    print (column)\n",
    "#    print(df[column].value_counts())"
   ]
  },
  {
   "cell_type": "code",
   "execution_count": 24,
   "metadata": {},
   "outputs": [],
   "source": [
    "#import pandas as pd\n",
    "#import scipy.stats as scs\n",
    "\n",
    "\n",
    "#def categories(series):\n",
    "#    return range(int(series.min()), int(series.max()) + 1)\n",
    "\n",
    "\n",
    "#def chi_square_of_df_cols(df, col1, col2):\n",
    "#    df_col1, df_col2 = df[col1], df[col2]\n",
    "\n",
    "#    result = [[sum((df_col1 == cat1) & (df_col2 == cat2))\n",
    "#               for cat2 in categories(df_col2)]\n",
    "#              for cat1 in categories(df_col1)]\n",
    "#\n",
    "#    return scs.chi2_contingency(result)[1]"
   ]
  },
  {
   "cell_type": "code",
   "execution_count": 25,
   "metadata": {},
   "outputs": [],
   "source": [
    "#print(chi_square_of_df_cols(df, 'DeviceProtection', 'target'))"
   ]
  },
  {
   "cell_type": "code",
   "execution_count": 26,
   "metadata": {},
   "outputs": [],
   "source": [
    "#object_columns_final = []\n",
    "#for column in object_columns:\n",
    "#    print(column)\n",
    "#    print(chi_square_of_df_cols(df, column, 'target'))\n",
    "#    if chi_square_of_df_cols(df, column, 'target') <= 0.05:\n",
    "#        object_columns_final.append(column)\n",
    "#print(object_columns_final)"
   ]
  },
  {
   "cell_type": "code",
   "execution_count": 27,
   "metadata": {},
   "outputs": [],
   "source": [
    "#object_columns_final = []\n",
    "#chi_square_pvalue_final = []\n",
    "#for column in object_columns:\n",
    "#    chisquare_pvalue = round(chi_square_of_df_cols(df, column, 'target').astype('float64'),3)\n",
    "#    #if chi_square_of_df_cols(df, column, 'target') <= 0.05:\n",
    "#    object_columns_final.append(column)\n",
    "#    chi_square_pvalue_final.append(chisquare_pvalue)\n"
   ]
  },
  {
   "cell_type": "code",
   "execution_count": 28,
   "metadata": {},
   "outputs": [],
   "source": [
    "#df_catname = pd.DataFrame({'feature_name':object_columns_final})\n",
    "#df_pvalue = pd.DataFrame({'p-value':chi_square_pvalue_final})\n",
    "#p-value_df = pd.concat([df_catname,df_pvalue])\n",
    "#frames = [df_catname,df_pvalue]\n",
    "#pd.concat(frames,axis=1)"
   ]
  },
  {
   "cell_type": "code",
   "execution_count": 29,
   "metadata": {},
   "outputs": [],
   "source": [
    "#object_columns_final = []\n",
    "\n",
    "#for column in object_columns:\n",
    "#    chisquare_pvalue = round(chi_square_of_df_cols(df, column, 'target').astype('float64'),3)\n",
    "#    if chi_square_of_df_cols(df, column, 'target') <= 0.05:\n",
    "#        object_columns_final.append(column)\n",
    "#print(\"Categorical variables selected for modeling post chi-square test\")\n",
    "#print(object_columns_final)"
   ]
  },
  {
   "cell_type": "code",
   "execution_count": 30,
   "metadata": {},
   "outputs": [],
   "source": [
    "# missing value treatments\n",
    "# impute missing numeric columns with mean\n",
    "numeric_columns_mean = ['MonthlyCharges','tenure','TotalCharges'] # populate with numeric columns\n",
    "# impute missing numeric columns with zero\n",
    "numeric_columns_zero = [] # populate with numeric columns\n",
    "scale_columns = numeric_columns_mean + numeric_columns_zero\n",
    " "
   ]
  },
  {
   "cell_type": "code",
   "execution_count": 31,
   "metadata": {},
   "outputs": [],
   "source": [
    "# for mean imputation\n",
    "for column in numeric_columns_mean:\n",
    "    if df[column].dtypes in [\"int64\",\"float64\"] :\n",
    "        df[column] = df[column].fillna(df[column].mean())\n",
    "# for 0 imputation\n",
    "for column in numeric_columns_zero:\n",
    "    if df[column].dtypes in [\"int64\",\"float64\"] :\n",
    "        df[column] = df[column].fillna(0)"
   ]
  },
  {
   "cell_type": "code",
   "execution_count": 32,
   "metadata": {},
   "outputs": [],
   "source": [
    "from sklearn.preprocessing import scale\n",
    "for column in scale_columns:\n",
    "    if df[column].dtypes in [\"int64\",\"float64\"] :\n",
    "        df[column] = scale(df[column].astype('float64'))"
   ]
  },
  {
   "cell_type": "code",
   "execution_count": 33,
   "metadata": {},
   "outputs": [],
   "source": [
    "#from sklearn.model_selection import train_test_split"
   ]
  },
  {
   "cell_type": "code",
   "execution_count": 34,
   "metadata": {},
   "outputs": [
    {
     "name": "stdout",
     "output_type": "stream",
     "text": [
      "['MonthlyCharges', 'tenure', 'TotalCharges', 'SeniorCitizen', 'Partner', 'Dependents', 'MultipleLines', 'InternetService', 'OnlineSecurity', 'OnlineBackup', 'DeviceProtection', 'TechSupport', 'StreamingTV', 'StreamingMovies', 'Contract', 'PaperlessBilling', 'PaymentMethod', 'target']\n"
     ]
    }
   ],
   "source": [
    "#df.columns\n",
    "target_column = ['target']\n",
    "feature_column = ['MonthlyCharges', 'tenure', 'TotalCharges', 'SeniorCitizen', 'Partner', 'Dependents', 'MultipleLines', 'InternetService', 'OnlineSecurity', 'OnlineBackup', 'DeviceProtection', 'TechSupport', 'StreamingTV', 'StreamingMovies', 'Contract', 'PaperlessBilling', 'PaymentMethod']\n",
    "all_columns = feature_column + target_column\n",
    "print(all_columns)\n",
    "df = df[all_columns]"
   ]
  },
  {
   "cell_type": "code",
   "execution_count": 35,
   "metadata": {},
   "outputs": [
    {
     "data": {
      "text/plain": [
       "((1409, 17), (1409, 1))"
      ]
     },
     "execution_count": 35,
     "metadata": {},
     "output_type": "execute_result"
    }
   ],
   "source": [
    "X = df.drop(['target'],axis=1).values\n",
    "y = df[['target']].values\n",
    "X.shape,y.shape"
   ]
  },
  {
   "cell_type": "code",
   "execution_count": 36,
   "metadata": {},
   "outputs": [],
   "source": [
    "#from sklearn.model_selection import train_test_split\n",
    "#training_features, test_features,\\\n",
    "#training_target, test_target, = train_test_split(df.drop(['target'], axis=1), df['target'], test_size = .1, random_state=12)"
   ]
  },
  {
   "cell_type": "code",
   "execution_count": 37,
   "metadata": {},
   "outputs": [],
   "source": [
    "\n",
    "#from imblearn.over_sampling import SMOTE\n",
    "\n",
    "#X_train, X_val, y_train, y_val \\\n",
    "#= train_test_split(training_features, training_target, test_size = .1, random_state=12)\n",
    "#sm = SMOTE(random_state=12, ratio = 1.0)\n",
    "#X_train_res, y_train_res = sm.fit_sample(X_train, y_train)"
   ]
  },
  {
   "cell_type": "code",
   "execution_count": 38,
   "metadata": {},
   "outputs": [],
   "source": [
    "#clf_rf = RandomForestClassifier(n_estimators=25, random_state=12)\n",
    "#clf_rf.fit(X_train_res, y_train_res)"
   ]
  },
  {
   "cell_type": "code",
   "execution_count": 39,
   "metadata": {},
   "outputs": [],
   "source": [
    "#print ('Validation Results')\n",
    "#print (clf_rf.score(X_val, y_val))\n",
    "#print (recall_score(y_val, clf_rf.predict(X_val)))\n",
    "#print ('\\nTest Results')\n",
    "#print (clf_rf.score(test_features, test_target))\n",
    "#print (recall_score(test_target, clf_rf.predict(test_features)))"
   ]
  },
  {
   "cell_type": "code",
   "execution_count": 40,
   "metadata": {},
   "outputs": [],
   "source": [
    "#df1 = df.drop(['target'],axis=1).copy()"
   ]
  },
  {
   "cell_type": "code",
   "execution_count": 41,
   "metadata": {},
   "outputs": [],
   "source": [
    "#df1 = df.copy()\n",
    "#df1.shape\n",
    "#print(\"Features selected for modeling\")\n",
    "#print(df1.columns)"
   ]
  },
  {
   "cell_type": "code",
   "execution_count": 42,
   "metadata": {},
   "outputs": [],
   "source": [
    "#X = df1.values\n",
    "#y = df[['target']].values\n",
    "#X.shape,y.shape"
   ]
  },
  {
   "cell_type": "code",
   "execution_count": 43,
   "metadata": {},
   "outputs": [],
   "source": [
    "#feature_selected = X.shape[1]\n",
    "#feature_selected = 15 #manual input\n",
    "#from sklearn.linear_model import LogisticRegression\n",
    "#from sklearn.ensemble import RandomForestRegressor\n",
    "#from sklearn.feature_selection import RFE\n",
    "#no_features = feature_selected # Input\n",
    "#model = RandomForestRegressor()\n",
    "#rfe = RFE(model, no_features)\n",
    "#fit = rfe.fit(X, y)\n"
   ]
  },
  {
   "cell_type": "code",
   "execution_count": 44,
   "metadata": {},
   "outputs": [],
   "source": [
    "#print(\"Num Features: \" + str(fit.n_features_))\n",
    "#print(\"Selected Features: \" + str(fit.support_))\n",
    "#print(\"Feature Ranking: \" + str(fit.ranking_))"
   ]
  },
  {
   "cell_type": "code",
   "execution_count": 45,
   "metadata": {},
   "outputs": [],
   "source": [
    "#df1.columns[fit.support_]"
   ]
  },
  {
   "cell_type": "code",
   "execution_count": 46,
   "metadata": {},
   "outputs": [],
   "source": [
    "#X = df[df1.columns[fit.support_]].values\n",
    "#y = df['target'].values\n",
    "#array1 = \n",
    "#X = array1.values\n",
    "#y = y.values\n",
    "#X.shape,y.shape"
   ]
  },
  {
   "cell_type": "code",
   "execution_count": 47,
   "metadata": {},
   "outputs": [],
   "source": [
    "\n",
    "\n",
    "#X_train,X_test,y_train,y_test = train_test_split(X, y, random_state=21,test_size=0.3)\n",
    "#X_train.shape,X_test.shape,y_train.shape,y_test.shape"
   ]
  },
  {
   "cell_type": "code",
   "execution_count": 48,
   "metadata": {},
   "outputs": [],
   "source": [
    "from sklearn.metrics import recall_score\n",
    "from sklearn.metrics import accuracy_score\n",
    "from sklearn.metrics import confusion_matrix\n",
    "from sklearn.metrics import classification_report\n",
    "def evaluate(model, X_test, y_test):\n",
    "    y_pred = model.predict(X_test)\n",
    "    accuracy = accuracy_score(y_test,y_pred)\n",
    "    recall = recall_score(y_test,y_pred)\n",
    "    matrix = confusion_matrix(y_test, y_pred)\n",
    "    tn, fp, fn, tp = confusion_matrix(y_test, y_pred).ravel()\n",
    "    report = classification_report(y_test, y_pred)\n",
    "    print(\"accuracy :\" +str(accuracy))\n",
    "    print(\"recall :\" +str(recall))\n",
    "    print(\" tn, fp, fn, tp :\" )\n",
    "    print(tn, fp, fn, tp)\n",
    "    print(\"matrix :\")\n",
    "    print(matrix)\n",
    "    print(\"report :\")\n",
    "    print(report)\n",
    "    return accuracy"
   ]
  },
  {
   "cell_type": "code",
   "execution_count": 49,
   "metadata": {},
   "outputs": [
    {
     "name": "stdout",
     "output_type": "stream",
     "text": [
      "loaded_model_gbm_smote: 0.7892122072391767\n",
      "loaded_model_rf_smote: 0.7892122072391767\n",
      "loaded_model_ada_smote0.7636621717530163\n",
      "loaded_model_gbm: 0.8119233498935415\n",
      "loaded_model_rf: 0.8041163946061036\n",
      "loaded_model_ada: 0.8076650106458482\n"
     ]
    }
   ],
   "source": [
    "# import pickle\n",
    "import pickle\n",
    "############################# SMOTE\n",
    "# load the gbm from disk\n",
    "loaded_model_gbm_smote = pickle.load(open('finalized_gbm_smote.sav', 'rb'))\n",
    "result = loaded_model_gbm_smote.score(X, y)\n",
    "print(\"loaded_model_gbm_smote: \" + str(result))\n",
    "# load the rf from disk\n",
    "loaded_model_rf_smote = pickle.load(open('finalized_rf_smote.sav', 'rb'))\n",
    "result = loaded_model_rf_smote.score(X, y)\n",
    "print(\"loaded_model_rf_smote: \" + str(result))\n",
    "# load the adaboost from disk\n",
    "loaded_model_ada_smote = pickle.load(open('finalized_ada_smote.sav', 'rb'))\n",
    "result = loaded_model_ada_smote.score(X, y)\n",
    "print(\"loaded_model_ada_smote\" + str(result))\n",
    "############################# No SMOTE\n",
    "# load the gbm from disk\n",
    "loaded_model_gbm = pickle.load(open('finalized_gbm_un.sav', 'rb'))\n",
    "result = loaded_model_gbm.score(X, y)\n",
    "print(\"loaded_model_gbm: \" + str(result))\n",
    "# load the rf from disk\n",
    "loaded_model_rf = pickle.load(open('finalized_rf_un.sav', 'rb'))\n",
    "result = loaded_model_rf.score(X, y)\n",
    "print(\"loaded_model_rf: \" + str(result))\n",
    "# load the adaboost from disk\n",
    "loaded_model_ada = pickle.load(open('finalized_ada_un.sav', 'rb'))\n",
    "result = loaded_model_ada.score(X, y)\n",
    "print(\"loaded_model_ada: \" + str(result))"
   ]
  },
  {
   "cell_type": "code",
   "execution_count": 50,
   "metadata": {},
   "outputs": [
    {
     "name": "stdout",
     "output_type": "stream",
     "text": [
      "accuracy :0.7892122072391767\n",
      "recall :0.6951871657754011\n",
      " tn, fp, fn, tp :\n",
      "852 183 114 260\n",
      "matrix :\n",
      "[[852 183]\n",
      " [114 260]]\n",
      "report :\n",
      "             precision    recall  f1-score   support\n",
      "\n",
      "          0       0.88      0.82      0.85      1035\n",
      "          1       0.59      0.70      0.64       374\n",
      "\n",
      "avg / total       0.80      0.79      0.79      1409\n",
      "\n"
     ]
    }
   ],
   "source": [
    "gbm_best_accuracy = evaluate(loaded_model_gbm_smote,X,y)"
   ]
  },
  {
   "cell_type": "code",
   "execution_count": 51,
   "metadata": {},
   "outputs": [
    {
     "name": "stdout",
     "output_type": "stream",
     "text": [
      "accuracy :0.7892122072391767\n",
      "recall :0.6283422459893048\n",
      " tn, fp, fn, tp :\n",
      "877 158 139 235\n",
      "matrix :\n",
      "[[877 158]\n",
      " [139 235]]\n",
      "report :\n",
      "             precision    recall  f1-score   support\n",
      "\n",
      "          0       0.86      0.85      0.86      1035\n",
      "          1       0.60      0.63      0.61       374\n",
      "\n",
      "avg / total       0.79      0.79      0.79      1409\n",
      "\n"
     ]
    }
   ],
   "source": [
    "rf_best_accuracy = evaluate(loaded_model_rf_smote,X,y)"
   ]
  },
  {
   "cell_type": "code",
   "execution_count": 52,
   "metadata": {},
   "outputs": [
    {
     "name": "stdout",
     "output_type": "stream",
     "text": [
      "accuracy :0.7636621717530163\n",
      "recall :0.7967914438502673\n",
      " tn, fp, fn, tp :\n",
      "778 257 76 298\n",
      "matrix :\n",
      "[[778 257]\n",
      " [ 76 298]]\n",
      "report :\n",
      "             precision    recall  f1-score   support\n",
      "\n",
      "          0       0.91      0.75      0.82      1035\n",
      "          1       0.54      0.80      0.64       374\n",
      "\n",
      "avg / total       0.81      0.76      0.78      1409\n",
      "\n"
     ]
    }
   ],
   "source": [
    "ada_best_accuracy = evaluate(loaded_model_ada_smote,X,y)"
   ]
  },
  {
   "cell_type": "code",
   "execution_count": 53,
   "metadata": {},
   "outputs": [
    {
     "name": "stdout",
     "output_type": "stream",
     "text": [
      "accuracy :0.8119233498935415\n",
      "recall :0.5561497326203209\n",
      " tn, fp, fn, tp :\n",
      "936 99 166 208\n",
      "matrix :\n",
      "[[936  99]\n",
      " [166 208]]\n",
      "report :\n",
      "             precision    recall  f1-score   support\n",
      "\n",
      "          0       0.85      0.90      0.88      1035\n",
      "          1       0.68      0.56      0.61       374\n",
      "\n",
      "avg / total       0.80      0.81      0.81      1409\n",
      "\n"
     ]
    }
   ],
   "source": [
    "gbm_best_accuracy = evaluate(loaded_model_gbm,X,y) "
   ]
  },
  {
   "cell_type": "code",
   "execution_count": 54,
   "metadata": {},
   "outputs": [
    {
     "name": "stdout",
     "output_type": "stream",
     "text": [
      "accuracy :0.8041163946061036\n",
      "recall :0.5026737967914439\n",
      " tn, fp, fn, tp :\n",
      "945 90 186 188\n",
      "matrix :\n",
      "[[945  90]\n",
      " [186 188]]\n",
      "report :\n",
      "             precision    recall  f1-score   support\n",
      "\n",
      "          0       0.84      0.91      0.87      1035\n",
      "          1       0.68      0.50      0.58       374\n",
      "\n",
      "avg / total       0.79      0.80      0.79      1409\n",
      "\n"
     ]
    }
   ],
   "source": [
    "rf_best_accuracy = evaluate(loaded_model_rf,X,y)"
   ]
  },
  {
   "cell_type": "code",
   "execution_count": 55,
   "metadata": {},
   "outputs": [
    {
     "name": "stdout",
     "output_type": "stream",
     "text": [
      "accuracy :0.8076650106458482\n",
      "recall :0.5106951871657754\n",
      " tn, fp, fn, tp :\n",
      "947 88 183 191\n",
      "matrix :\n",
      "[[947  88]\n",
      " [183 191]]\n",
      "report :\n",
      "             precision    recall  f1-score   support\n",
      "\n",
      "          0       0.84      0.91      0.87      1035\n",
      "          1       0.68      0.51      0.58       374\n",
      "\n",
      "avg / total       0.80      0.81      0.80      1409\n",
      "\n"
     ]
    }
   ],
   "source": [
    "ada_best_accuracy = evaluate(loaded_model_ada,X,y)"
   ]
  },
  {
   "cell_type": "code",
   "execution_count": null,
   "metadata": {},
   "outputs": [],
   "source": []
  },
  {
   "cell_type": "code",
   "execution_count": null,
   "metadata": {},
   "outputs": [],
   "source": []
  }
 ],
 "metadata": {
  "kernelspec": {
   "display_name": "Python 3",
   "language": "python",
   "name": "python3"
  },
  "language_info": {
   "codemirror_mode": {
    "name": "ipython",
    "version": 3
   },
   "file_extension": ".py",
   "mimetype": "text/x-python",
   "name": "python",
   "nbconvert_exporter": "python",
   "pygments_lexer": "ipython3",
   "version": "3.6.4"
  }
 },
 "nbformat": 4,
 "nbformat_minor": 2
}
