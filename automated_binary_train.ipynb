{
 "cells": [
  {
   "cell_type": "code",
   "execution_count": 1,
   "metadata": {},
   "outputs": [],
   "source": [
    "import pandas as pd\n",
    "import numpy as np\n",
    "import matplotlib.pyplot as plt\n",
    "import sklearn\n",
    "import os\n",
    "import random "
   ]
  },
  {
   "cell_type": "code",
   "execution_count": 2,
   "metadata": {},
   "outputs": [],
   "source": [
    "# INPUT: set path for data placement \n",
    "os.chdir(r'C:\\Users\\mshafin\\Desktop\\xavient_churn_project')\n",
    "#os.chdir(r'C:\\Users\\mohammad shafin\\Desktop\\xavient_churn_project')\n",
    "\n",
    "os.getcwd()\n",
    "random.seed(42)"
   ]
  },
  {
   "cell_type": "code",
   "execution_count": 3,
   "metadata": {},
   "outputs": [],
   "source": [
    "# INPUT: data loaded to a pandas dataframe\n",
    "df = pd.read_csv('telecom_churn_training.csv')"
   ]
  },
  {
   "cell_type": "code",
   "execution_count": 4,
   "metadata": {},
   "outputs": [
    {
     "name": "stdout",
     "output_type": "stream",
     "text": [
      "<class 'pandas.core.frame.DataFrame'>\n",
      "RangeIndex: 5634 entries, 0 to 5633\n",
      "Data columns (total 21 columns):\n",
      "customerID          5634 non-null object\n",
      "gender              5634 non-null object\n",
      "SeniorCitizen       5634 non-null int64\n",
      "Partner             5634 non-null object\n",
      "Dependents          5634 non-null object\n",
      "tenure              5634 non-null int64\n",
      "PhoneService        5634 non-null object\n",
      "MultipleLines       5634 non-null object\n",
      "InternetService     5634 non-null object\n",
      "OnlineSecurity      5634 non-null object\n",
      "OnlineBackup        5634 non-null object\n",
      "DeviceProtection    5634 non-null object\n",
      "TechSupport         5634 non-null object\n",
      "StreamingTV         5634 non-null object\n",
      "StreamingMovies     5634 non-null object\n",
      "Contract            5634 non-null object\n",
      "PaperlessBilling    5634 non-null object\n",
      "PaymentMethod       5634 non-null object\n",
      "MonthlyCharges      5634 non-null float64\n",
      "TotalCharges        5626 non-null float64\n",
      "Churn               5634 non-null object\n",
      "dtypes: float64(2), int64(2), object(17)\n",
      "memory usage: 924.4+ KB\n"
     ]
    }
   ],
   "source": [
    "df.info()"
   ]
  },
  {
   "cell_type": "code",
   "execution_count": 5,
   "metadata": {},
   "outputs": [
    {
     "name": "stdout",
     "output_type": "stream",
     "text": [
      "Columnwise missing value count\n"
     ]
    },
    {
     "data": {
      "text/plain": [
       "customerID          0\n",
       "gender              0\n",
       "SeniorCitizen       0\n",
       "Partner             0\n",
       "Dependents          0\n",
       "tenure              0\n",
       "PhoneService        0\n",
       "MultipleLines       0\n",
       "InternetService     0\n",
       "OnlineSecurity      0\n",
       "OnlineBackup        0\n",
       "DeviceProtection    0\n",
       "TechSupport         0\n",
       "StreamingTV         0\n",
       "StreamingMovies     0\n",
       "Contract            0\n",
       "PaperlessBilling    0\n",
       "PaymentMethod       0\n",
       "MonthlyCharges      0\n",
       "TotalCharges        8\n",
       "Churn               0\n",
       "dtype: int64"
      ]
     },
     "execution_count": 5,
     "metadata": {},
     "output_type": "execute_result"
    }
   ],
   "source": [
    "# count number of missing values in each column\n",
    "# sum True's\n",
    "print(\"Columnwise missing value count\")\n",
    "df.isnull().sum()"
   ]
  },
  {
   "cell_type": "code",
   "execution_count": 6,
   "metadata": {},
   "outputs": [],
   "source": [
    "# INPUT: set customer identification code and target variable\n",
    "customer_identity_code = 'customerID'\n",
    "target_code = 'Churn'"
   ]
  },
  {
   "cell_type": "code",
   "execution_count": 7,
   "metadata": {},
   "outputs": [],
   "source": [
    "# set index for customer identification code\n",
    "df = df.set_index(customer_identity_code)"
   ]
  },
  {
   "cell_type": "code",
   "execution_count": 8,
   "metadata": {},
   "outputs": [],
   "source": [
    "# identify target variable\n",
    "df['target'] = df[target_code]"
   ]
  },
  {
   "cell_type": "code",
   "execution_count": 9,
   "metadata": {},
   "outputs": [],
   "source": [
    "# set target labels from input\n",
    "label_target1 = 'Yes'\n",
    "label_target0 = 'No'"
   ]
  },
  {
   "cell_type": "code",
   "execution_count": 10,
   "metadata": {},
   "outputs": [],
   "source": [
    "# function to recode target levels\n",
    "def dependent_col(row):\n",
    "    if row['target'] == label_target1:\n",
    "        val = 1  # input\n",
    "    elif row['target'] == label_target0:\n",
    "        val = 0  # imput\n",
    "    else:\n",
    "        val = 2\n",
    "    return val"
   ]
  },
  {
   "cell_type": "code",
   "execution_count": 11,
   "metadata": {},
   "outputs": [
    {
     "name": "stdout",
     "output_type": "stream",
     "text": [
      "            target Churn\n",
      "customerID              \n",
      "3859-CVCET       1   Yes\n",
      "5562-YJQGT       0    No\n",
      "0604-THJFP       0    No\n",
      "3566-HJGPK       0    No\n",
      "0620-DLSLK       0    No\n"
     ]
    }
   ],
   "source": [
    "df['target'] = df.apply(dependent_col, axis=1)\n",
    "print(df.loc[:,['target','Churn']].sample(5)) #check changes in target recoding"
   ]
  },
  {
   "cell_type": "code",
   "execution_count": 12,
   "metadata": {},
   "outputs": [
    {
     "name": "stdout",
     "output_type": "stream",
     "text": [
      "The number of row/rows dropped because of missing target variable is 0\n"
     ]
    }
   ],
   "source": [
    "# Keep rows when target variable is finite\n",
    "start = df.shape[1]\n",
    "df = df[np.isfinite(df['target'])]\n",
    "finish = df.shape[1]\n",
    "print(\"The number of row/rows dropped because of missing target variable is \" + str(start-finish))"
   ]
  },
  {
   "cell_type": "code",
   "execution_count": 13,
   "metadata": {},
   "outputs": [],
   "source": [
    "# droping initial target\n",
    "df = df.drop(['Churn'],axis=1)"
   ]
  },
  {
   "cell_type": "code",
   "execution_count": 14,
   "metadata": {},
   "outputs": [
    {
     "data": {
      "text/plain": [
       "0    4139\n",
       "1    1495\n",
       "Name: target, dtype: int64"
      ]
     },
     "execution_count": 14,
     "metadata": {},
     "output_type": "execute_result"
    }
   ],
   "source": [
    "df.target.value_counts()"
   ]
  },
  {
   "cell_type": "code",
   "execution_count": 15,
   "metadata": {},
   "outputs": [],
   "source": [
    "# populate with columns, which needs to be considered 'object' type\n",
    "object_columns = ['gender','SeniorCitizen','Partner','Dependents','PhoneService','MultipleLines','InternetService',\n",
    "                  'OnlineSecurity','OnlineBackup','DeviceProtection','TechSupport','StreamingTV','StreamingMovies',\n",
    "                  'Contract','PaperlessBilling','PaymentMethod'] "
   ]
  },
  {
   "cell_type": "code",
   "execution_count": 16,
   "metadata": {},
   "outputs": [],
   "source": [
    "for column in object_columns:\n",
    "    df[column] = df[column].astype('object')"
   ]
  },
  {
   "cell_type": "code",
   "execution_count": 17,
   "metadata": {},
   "outputs": [
    {
     "name": "stdout",
     "output_type": "stream",
     "text": [
      "Value count of each level for datatype 'object'\n"
     ]
    }
   ],
   "source": [
    "print(\"Value count of each level for datatype 'object'\")\n",
    "feature_names = list(df[object_columns])\n",
    "\n",
    "#for column in feature_names:\n",
    "#    if df[column].dtypes == \"object\":\n",
    "#        print (column)\n",
    "#        print (df[column].value_counts(dropna=False))"
   ]
  },
  {
   "cell_type": "code",
   "execution_count": 18,
   "metadata": {},
   "outputs": [],
   "source": [
    "# object variables converted to categories for cat.codes\n",
    "object_columns = df.select_dtypes(['object']).columns"
   ]
  },
  {
   "cell_type": "code",
   "execution_count": 19,
   "metadata": {},
   "outputs": [
    {
     "name": "stdout",
     "output_type": "stream",
     "text": [
      "The count of columns were successfully imputed with missing value indicator 'UKNOWN'\n"
     ]
    }
   ],
   "source": [
    "print(\"The count of columns were successfully imputed with missing value indicator 'UKNOWN'\")\n",
    "for column in object_columns:\n",
    "    if df[column].dtypes==\"object\":\n",
    "        df[column] = df[column].fillna(\"UKNOWN\").astype('object')\n",
    "#print(df[object_columns].info())        "
   ]
  },
  {
   "cell_type": "code",
   "execution_count": 20,
   "metadata": {},
   "outputs": [],
   "source": [
    "for column in object_columns:\n",
    "    if df[column].dtypes==\"object\":\n",
    "        df[column] = df[column].astype('category')"
   ]
  },
  {
   "cell_type": "code",
   "execution_count": 21,
   "metadata": {},
   "outputs": [],
   "source": [
    "#df[object_columns].info()"
   ]
  },
  {
   "cell_type": "code",
   "execution_count": 22,
   "metadata": {},
   "outputs": [],
   "source": [
    "df[object_columns] = df[object_columns].apply(lambda x: x.cat.codes)"
   ]
  },
  {
   "cell_type": "code",
   "execution_count": 23,
   "metadata": {},
   "outputs": [],
   "source": [
    "#for column in object_columns:\n",
    "#    print (column)\n",
    "#    print(df[column].value_counts())"
   ]
  },
  {
   "cell_type": "code",
   "execution_count": 24,
   "metadata": {},
   "outputs": [],
   "source": [
    "import pandas as pd\n",
    "import scipy.stats as scs\n",
    "\n",
    "\n",
    "def categories(series):\n",
    "    return range(int(series.min()), int(series.max()) + 1)\n",
    "\n",
    "\n",
    "def chi_square_of_df_cols(df, col1, col2):\n",
    "    df_col1, df_col2 = df[col1], df[col2]\n",
    "\n",
    "    result = [[sum((df_col1 == cat1) & (df_col2 == cat2))\n",
    "               for cat2 in categories(df_col2)]\n",
    "              for cat1 in categories(df_col1)]\n",
    "\n",
    "    return scs.chi2_contingency(result)[1]"
   ]
  },
  {
   "cell_type": "code",
   "execution_count": 25,
   "metadata": {},
   "outputs": [],
   "source": [
    "#print(chi_square_of_df_cols(df, 'DeviceProtection', 'target'))"
   ]
  },
  {
   "cell_type": "code",
   "execution_count": 26,
   "metadata": {},
   "outputs": [],
   "source": [
    "#object_columns_final = []\n",
    "#for column in object_columns:\n",
    "#    print(column)\n",
    "#    print(chi_square_of_df_cols(df, column, 'target'))\n",
    "#    if chi_square_of_df_cols(df, column, 'target') <= 0.05:\n",
    "#        object_columns_final.append(column)\n",
    "#print(object_columns_final)"
   ]
  },
  {
   "cell_type": "code",
   "execution_count": 27,
   "metadata": {},
   "outputs": [],
   "source": [
    "object_columns_final = []\n",
    "chi_square_pvalue_final = []\n",
    "for column in object_columns:\n",
    "    chisquare_pvalue = round(chi_square_of_df_cols(df, column, 'target').astype('float64'),3)\n",
    "    #if chi_square_of_df_cols(df, column, 'target') <= 0.05:\n",
    "    object_columns_final.append(column)\n",
    "    chi_square_pvalue_final.append(chisquare_pvalue)\n"
   ]
  },
  {
   "cell_type": "code",
   "execution_count": 28,
   "metadata": {},
   "outputs": [
    {
     "data": {
      "text/html": [
       "<div>\n",
       "<style scoped>\n",
       "    .dataframe tbody tr th:only-of-type {\n",
       "        vertical-align: middle;\n",
       "    }\n",
       "\n",
       "    .dataframe tbody tr th {\n",
       "        vertical-align: top;\n",
       "    }\n",
       "\n",
       "    .dataframe thead th {\n",
       "        text-align: right;\n",
       "    }\n",
       "</style>\n",
       "<table border=\"1\" class=\"dataframe\">\n",
       "  <thead>\n",
       "    <tr style=\"text-align: right;\">\n",
       "      <th></th>\n",
       "      <th>feature_name</th>\n",
       "      <th>p-value</th>\n",
       "    </tr>\n",
       "  </thead>\n",
       "  <tbody>\n",
       "    <tr>\n",
       "      <th>0</th>\n",
       "      <td>gender</td>\n",
       "      <td>0.467</td>\n",
       "    </tr>\n",
       "    <tr>\n",
       "      <th>1</th>\n",
       "      <td>SeniorCitizen</td>\n",
       "      <td>0.000</td>\n",
       "    </tr>\n",
       "    <tr>\n",
       "      <th>2</th>\n",
       "      <td>Partner</td>\n",
       "      <td>0.000</td>\n",
       "    </tr>\n",
       "    <tr>\n",
       "      <th>3</th>\n",
       "      <td>Dependents</td>\n",
       "      <td>0.000</td>\n",
       "    </tr>\n",
       "    <tr>\n",
       "      <th>4</th>\n",
       "      <td>PhoneService</td>\n",
       "      <td>0.524</td>\n",
       "    </tr>\n",
       "    <tr>\n",
       "      <th>5</th>\n",
       "      <td>MultipleLines</td>\n",
       "      <td>0.005</td>\n",
       "    </tr>\n",
       "    <tr>\n",
       "      <th>6</th>\n",
       "      <td>InternetService</td>\n",
       "      <td>0.000</td>\n",
       "    </tr>\n",
       "    <tr>\n",
       "      <th>7</th>\n",
       "      <td>OnlineSecurity</td>\n",
       "      <td>0.000</td>\n",
       "    </tr>\n",
       "    <tr>\n",
       "      <th>8</th>\n",
       "      <td>OnlineBackup</td>\n",
       "      <td>0.000</td>\n",
       "    </tr>\n",
       "    <tr>\n",
       "      <th>9</th>\n",
       "      <td>DeviceProtection</td>\n",
       "      <td>0.000</td>\n",
       "    </tr>\n",
       "    <tr>\n",
       "      <th>10</th>\n",
       "      <td>TechSupport</td>\n",
       "      <td>0.000</td>\n",
       "    </tr>\n",
       "    <tr>\n",
       "      <th>11</th>\n",
       "      <td>StreamingTV</td>\n",
       "      <td>0.000</td>\n",
       "    </tr>\n",
       "    <tr>\n",
       "      <th>12</th>\n",
       "      <td>StreamingMovies</td>\n",
       "      <td>0.000</td>\n",
       "    </tr>\n",
       "    <tr>\n",
       "      <th>13</th>\n",
       "      <td>Contract</td>\n",
       "      <td>0.000</td>\n",
       "    </tr>\n",
       "    <tr>\n",
       "      <th>14</th>\n",
       "      <td>PaperlessBilling</td>\n",
       "      <td>0.000</td>\n",
       "    </tr>\n",
       "    <tr>\n",
       "      <th>15</th>\n",
       "      <td>PaymentMethod</td>\n",
       "      <td>0.000</td>\n",
       "    </tr>\n",
       "  </tbody>\n",
       "</table>\n",
       "</div>"
      ],
      "text/plain": [
       "        feature_name  p-value\n",
       "0             gender    0.467\n",
       "1      SeniorCitizen    0.000\n",
       "2            Partner    0.000\n",
       "3         Dependents    0.000\n",
       "4       PhoneService    0.524\n",
       "5      MultipleLines    0.005\n",
       "6    InternetService    0.000\n",
       "7     OnlineSecurity    0.000\n",
       "8       OnlineBackup    0.000\n",
       "9   DeviceProtection    0.000\n",
       "10       TechSupport    0.000\n",
       "11       StreamingTV    0.000\n",
       "12   StreamingMovies    0.000\n",
       "13          Contract    0.000\n",
       "14  PaperlessBilling    0.000\n",
       "15     PaymentMethod    0.000"
      ]
     },
     "execution_count": 28,
     "metadata": {},
     "output_type": "execute_result"
    }
   ],
   "source": [
    "df_catname = pd.DataFrame({'feature_name':object_columns_final})\n",
    "df_pvalue = pd.DataFrame({'p-value':chi_square_pvalue_final})\n",
    "#p-value_df = pd.concat([df_catname,df_pvalue])\n",
    "frames = [df_catname,df_pvalue]\n",
    "pd.concat(frames,axis=1)"
   ]
  },
  {
   "cell_type": "code",
   "execution_count": 29,
   "metadata": {},
   "outputs": [
    {
     "name": "stdout",
     "output_type": "stream",
     "text": [
      "Categorical variables selected for modeling post chi-square test\n",
      "['SeniorCitizen', 'Partner', 'Dependents', 'MultipleLines', 'InternetService', 'OnlineSecurity', 'OnlineBackup', 'DeviceProtection', 'TechSupport', 'StreamingTV', 'StreamingMovies', 'Contract', 'PaperlessBilling', 'PaymentMethod']\n"
     ]
    }
   ],
   "source": [
    "object_columns_final = []\n",
    "\n",
    "for column in object_columns:\n",
    "    chisquare_pvalue = round(chi_square_of_df_cols(df, column, 'target').astype('float64'),3)\n",
    "    if chi_square_of_df_cols(df, column, 'target') <= 0.05:\n",
    "        object_columns_final.append(column)\n",
    "print(\"Categorical variables selected for modeling post chi-square test\")\n",
    "print(object_columns_final)"
   ]
  },
  {
   "cell_type": "code",
   "execution_count": 30,
   "metadata": {},
   "outputs": [],
   "source": [
    "# missing value treatments\n",
    "# impute missing numeric columns with mean\n",
    "numeric_columns_mean = ['MonthlyCharges','tenure','TotalCharges'] # populate with numeric columns\n",
    "# impute missing numeric columns with zero\n",
    "numeric_columns_zero = [] # populate with numeric columns\n",
    "scale_columns = numeric_columns_mean + numeric_columns_zero\n",
    " "
   ]
  },
  {
   "cell_type": "code",
   "execution_count": 31,
   "metadata": {},
   "outputs": [],
   "source": [
    "# for mean imputation\n",
    "for column in numeric_columns_mean:\n",
    "    if df[column].dtypes in [\"int64\",\"float64\"] :\n",
    "        df[column] = df[column].fillna(df[column].mean())\n",
    "# for 0 imputation\n",
    "for column in numeric_columns_zero:\n",
    "    if df[column].dtypes in [\"int64\",\"float64\"] :\n",
    "        df[column] = df[column].fillna(0)"
   ]
  },
  {
   "cell_type": "code",
   "execution_count": 32,
   "metadata": {},
   "outputs": [],
   "source": [
    "from sklearn.preprocessing import scale\n",
    "for column in scale_columns:\n",
    "    if df[column].dtypes in [\"int64\",\"float64\"] :\n",
    "        df[column] = scale(df[column].astype('float64'))"
   ]
  },
  {
   "cell_type": "code",
   "execution_count": 33,
   "metadata": {},
   "outputs": [],
   "source": [
    "from sklearn.model_selection import train_test_split"
   ]
  },
  {
   "cell_type": "code",
   "execution_count": 34,
   "metadata": {},
   "outputs": [
    {
     "name": "stdout",
     "output_type": "stream",
     "text": [
      "['MonthlyCharges', 'tenure', 'TotalCharges', 'SeniorCitizen', 'Partner', 'Dependents', 'MultipleLines', 'InternetService', 'OnlineSecurity', 'OnlineBackup', 'DeviceProtection', 'TechSupport', 'StreamingTV', 'StreamingMovies', 'Contract', 'PaperlessBilling', 'PaymentMethod', 'target']\n"
     ]
    },
    {
     "data": {
      "text/plain": [
       "(5634, 18)"
      ]
     },
     "execution_count": 34,
     "metadata": {},
     "output_type": "execute_result"
    }
   ],
   "source": [
    "#df.columns\n",
    "target_column = ['target']\n",
    "all_columns = scale_columns + object_columns_final + target_column\n",
    "print(all_columns)\n",
    "df = df[all_columns]\n",
    "df.shape"
   ]
  },
  {
   "cell_type": "code",
   "execution_count": 35,
   "metadata": {},
   "outputs": [
    {
     "data": {
      "text/plain": [
       "((5070, 17), (5070,))"
      ]
     },
     "execution_count": 35,
     "metadata": {},
     "output_type": "execute_result"
    }
   ],
   "source": [
    "from sklearn.model_selection import train_test_split\n",
    "training_features, test_features,\\\n",
    "training_target, test_target, = train_test_split(df.drop(['target'], axis=1).values, df['target'].values, test_size = .1, random_state=12)\n",
    "training_features.shape,training_target.shape"
   ]
  },
  {
   "cell_type": "code",
   "execution_count": 36,
   "metadata": {},
   "outputs": [
    {
     "name": "stderr",
     "output_type": "stream",
     "text": [
      "D:\\Users\\mshafin\\AppData\\Local\\Continuum\\anaconda3\\lib\\site-packages\\sklearn\\utils\\deprecation.py:77: DeprecationWarning: Function _ratio_float is deprecated; Use a float for 'ratio' is deprecated from version 0.2. The support will be removed in 0.4. Use a dict, str, or a callable instead.\n",
      "  warnings.warn(msg, category=DeprecationWarning)\n"
     ]
    }
   ],
   "source": [
    "from sklearn.metrics import recall_score\n",
    "from imblearn.over_sampling import SMOTE\n",
    "\n",
    "X_train, X_val, y_train, y_val \\\n",
    "= train_test_split(training_features, training_target, test_size = .1, random_state=12)\n",
    "sm = SMOTE(random_state=12, ratio = 1.0)\n",
    "X_train_res, y_train_res = sm.fit_sample(X_train, y_train)"
   ]
  },
  {
   "cell_type": "code",
   "execution_count": 37,
   "metadata": {},
   "outputs": [],
   "source": [
    "#df1 = df.drop(['target'],axis=1).copy()"
   ]
  },
  {
   "cell_type": "code",
   "execution_count": 38,
   "metadata": {},
   "outputs": [],
   "source": [
    "#df1 = df.copy()\n",
    "#df1.shape\n",
    "#print(\"Features selected for modeling\")\n",
    "#print(df1.columns)"
   ]
  },
  {
   "cell_type": "code",
   "execution_count": 39,
   "metadata": {},
   "outputs": [],
   "source": [
    "#X = df1.values\n",
    "#y = df[['target']].values\n",
    "#X.shape,y.shape"
   ]
  },
  {
   "cell_type": "code",
   "execution_count": 40,
   "metadata": {},
   "outputs": [],
   "source": [
    "#feature_selected = X.shape[1]\n",
    "#feature_selected = 15 #manual input\n",
    "#from sklearn.linear_model import LogisticRegression\n",
    "#from sklearn.ensemble import RandomForestRegressor\n",
    "#from sklearn.feature_selection import RFE\n",
    "#no_features = feature_selected # Input\n",
    "#model = RandomForestRegressor()\n",
    "#rfe = RFE(model, no_features)\n",
    "#fit = rfe.fit(X, y)\n"
   ]
  },
  {
   "cell_type": "code",
   "execution_count": 41,
   "metadata": {},
   "outputs": [],
   "source": [
    "#print(\"Num Features: \" + str(fit.n_features_))\n",
    "#print(\"Selected Features: \" + str(fit.support_))\n",
    "#print(\"Feature Ranking: \" + str(fit.ranking_))"
   ]
  },
  {
   "cell_type": "code",
   "execution_count": 42,
   "metadata": {},
   "outputs": [],
   "source": [
    "#df1.columns[fit.support_]"
   ]
  },
  {
   "cell_type": "code",
   "execution_count": 43,
   "metadata": {},
   "outputs": [],
   "source": [
    "#X = df[df1.columns[fit.support_]].values\n",
    "#y = df['target'].values\n",
    "#array1 = \n",
    "#X = array1.values\n",
    "#y = y.values\n",
    "#X.shape,y.shape"
   ]
  },
  {
   "cell_type": "code",
   "execution_count": 44,
   "metadata": {},
   "outputs": [],
   "source": [
    "\n",
    "\n",
    "#X_train,X_test,y_train,y_test = train_test_split(X, y, random_state=21,test_size=0.3)\n",
    "#X_train.shape,X_test.shape,y_train.shape,y_test.shape"
   ]
  },
  {
   "cell_type": "code",
   "execution_count": 45,
   "metadata": {},
   "outputs": [
    {
     "name": "stdout",
     "output_type": "stream",
     "text": [
      "('GBM', 0.8359961588957491, 0.07366568879840242)\n",
      "('RF', 0.8432796199701936, 0.04873137778022214)\n",
      "('DT', 0.780171297281953, 0.06176370793930213)\n",
      "('ADA', 0.8161965084096231, 0.06792007507345413)\n"
     ]
    },
    {
     "data": {
      "image/png": "[encoded data removed]",
      "text/plain": [
       "<matplotlib.figure.Figure at 0xa281807e48>"
      ]
     },
     "metadata": {},
     "output_type": "display_data"
    }
   ],
   "source": [
    "from sklearn.tree import DecisionTreeClassifier\n",
    "from sklearn.ensemble import RandomForestClassifier,AdaBoostClassifier,GradientBoostingClassifier\n",
    "\n",
    "from sklearn import model_selection\n",
    "import matplotlib.pyplot as plt\n",
    "\n",
    "# generate list of models  \n",
    "models = []\n",
    "models.append(('GBM', GradientBoostingClassifier()))\n",
    "models.append(('RF', RandomForestClassifier()))\n",
    "models.append(('DT', DecisionTreeClassifier()))\n",
    "models.append(('ADA', AdaBoostClassifier()))\n",
    "\n",
    "\n",
    "# check model performance\n",
    "results = []\n",
    "names = []\n",
    "seed = 7\n",
    "scoring='accuracy'\n",
    "for name, model in models:\n",
    "    kfold = model_selection.KFold(n_splits = 10, random_state=seed)\n",
    "    cv_results = model_selection.cross_val_score(model, X_train_res, y_train_res, cv=kfold, scoring = scoring)\n",
    "    results.append(cv_results)\n",
    "    names.append(name)\n",
    "    msg = (name, cv_results.mean(), cv_results.std())\n",
    "    print (msg)\n",
    "\n",
    "# compare algorithms\n",
    "fig = plt.figure()\n",
    "fig.suptitle(\"algorithm comparision\")\n",
    "ax = fig.add_subplot(111)\n",
    "plt.boxplot(results)\n",
    "ax.set_xticklabels(names)\n",
    "plt.show()\n"
   ]
  },
  {
   "cell_type": "code",
   "execution_count": 46,
   "metadata": {},
   "outputs": [],
   "source": [
    "from sklearn.metrics import accuracy_score\n",
    "from sklearn.metrics import confusion_matrix\n",
    "from sklearn.metrics import classification_report\n",
    "def evaluate(model, X_test, y_test):\n",
    "    y_pred = model.predict(X_test)\n",
    "    accuracy = accuracy_score(y_test,y_pred)\n",
    "    recall = recall_score(y_test,y_pred)\n",
    "    matrix = confusion_matrix(y_test, y_pred)\n",
    "    tn, fp, fn, tp = confusion_matrix(y_test, y_pred).ravel()\n",
    "    report = classification_report(y_test, y_pred)\n",
    "    print(\"accuracy :\" +str(accuracy))\n",
    "    print(\"recall :\" +str(recall))\n",
    "    print(\" tn, fp, fn, tp :\" )\n",
    "    print(tn, fp, fn, tp)\n",
    "    print(\"matrix :\")\n",
    "    print(matrix)\n",
    "    print(\"report :\")\n",
    "    print(report)\n",
    "    return accuracy"
   ]
  },
  {
   "cell_type": "code",
   "execution_count": 47,
   "metadata": {},
   "outputs": [],
   "source": [
    "from sklearn.ensemble import GradientBoostingClassifier,RandomForestClassifier,AdaBoostClassifier"
   ]
  },
  {
   "cell_type": "code",
   "execution_count": 48,
   "metadata": {},
   "outputs": [
    {
     "name": "stdout",
     "output_type": "stream",
     "text": [
      "{'criterion': ['friedman_mse'],\n",
      " 'learning_rate': [0.1, 0.05, 0.02, 0.01],\n",
      " 'loss': ['deviance', 'exponential'],\n",
      " 'max_depth': [4, 6, 8],\n",
      " 'min_samples_leaf': [20, 50, 100, 150],\n",
      " 'min_samples_split': [2, 5, 10],\n",
      " 'n_estimators': [200, 400, 600, 800, 1000, 1200, 1400, 1600, 1800, 2000],\n",
      " 'random_state': [21]}\n"
     ]
    }
   ],
   "source": [
    "from pprint import pprint\n",
    "GBM = GradientBoostingClassifier()\n",
    "from sklearn.model_selection import RandomizedSearchCV\n",
    "# Number of iterations needed\n",
    "n_estimators = [int(x) for x in np.linspace(200, 2000, num = 10)]\n",
    "learning_rate = [0.1, 0.05, 0.02, 0.01]\n",
    "max_features = ['sqrt','auto','log2','None','1','0.1']\n",
    "loss = ['deviance', 'exponential']\n",
    "max_depth = [4, 6, 8]\n",
    "criterion = ['friedman_mse']\n",
    "min_samples_split = [2, 5, 10]\n",
    "min_samples_leaf = [20,50,100,150]\n",
    "random_state = [21]\n",
    "# Create the random grid\n",
    "random_grid_gbm = {'n_estimators': n_estimators,\n",
    "               'learning_rate': learning_rate,\n",
    "               'loss':loss,\n",
    "               'max_depth': max_depth,\n",
    "               'criterion': criterion,\n",
    "               'min_samples_split': min_samples_split,\n",
    "               'min_samples_leaf': min_samples_leaf,\n",
    "               'random_state': random_state}\n",
    "pprint(random_grid_gbm)"
   ]
  },
  {
   "cell_type": "code",
   "execution_count": 49,
   "metadata": {},
   "outputs": [],
   "source": [
    "GBM = GradientBoostingClassifier()\n",
    "# Random search of parameters, using 3 fold cross validation,\n",
    "# search across 100 different combinations, and use all available cores\n",
    "gbm_random = RandomizedSearchCV(estimator = GBM, param_distributions = random_grid_gbm, n_iter = 5, cv = 3, verbose=2, random_state=42, n_jobs = -1)\n"
   ]
  },
  {
   "cell_type": "code",
   "execution_count": 50,
   "metadata": {},
   "outputs": [
    {
     "name": "stdout",
     "output_type": "stream",
     "text": [
      "Fitting 3 folds for each of 5 candidates, totalling 15 fits\n"
     ]
    },
    {
     "name": "stderr",
     "output_type": "stream",
     "text": [
      "[Parallel(n_jobs=-1)]: Done  15 out of  15 | elapsed:   34.7s finished\n"
     ]
    },
    {
     "data": {
      "text/plain": [
       "RandomizedSearchCV(cv=3, error_score='raise',\n",
       "          estimator=GradientBoostingClassifier(criterion='friedman_mse', init=None,\n",
       "              learning_rate=0.1, loss='deviance', max_depth=3,\n",
       "              max_features=None, max_leaf_nodes=None,\n",
       "              min_impurity_decrease=0.0, min_impurity_split=None,\n",
       "              min_samples_leaf=1, min_samples_split=2,\n",
       "              min_weight_fraction_leaf=0.0, n_estimators=100,\n",
       "              presort='auto', random_state=None, subsample=1.0, verbose=0,\n",
       "              warm_start=False),\n",
       "          fit_params=None, iid=True, n_iter=5, n_jobs=-1,\n",
       "          param_distributions={'n_estimators': [200, 400, 600, 800, 1000, 1200, 1400, 1600, 1800, 2000], 'learning_rate': [0.1, 0.05, 0.02, 0.01], 'loss': ['deviance', 'exponential'], 'max_depth': [4, 6, 8], 'criterion': ['friedman_mse'], 'min_samples_split': [2, 5, 10], 'min_samples_leaf': [20, 50, 100, 150], 'random_state': [21]},\n",
       "          pre_dispatch='2*n_jobs', random_state=42, refit=True,\n",
       "          return_train_score='warn', scoring=None, verbose=2)"
      ]
     },
     "execution_count": 50,
     "metadata": {},
     "output_type": "execute_result"
    }
   ],
   "source": [
    "# Fit the random search model\n",
    "gbm_random.fit(X_train_res, y_train_res)"
   ]
  },
  {
   "cell_type": "code",
   "execution_count": 51,
   "metadata": {},
   "outputs": [
    {
     "name": "stdout",
     "output_type": "stream",
     "text": [
      "accuracy :0.7836879432624113\n",
      "recall :0.6709677419354839\n",
      " tn, fp, fn, tp :\n",
      "338 71 51 104\n",
      "matrix :\n",
      "[[338  71]\n",
      " [ 51 104]]\n",
      "report :\n",
      "             precision    recall  f1-score   support\n",
      "\n",
      "          0       0.87      0.83      0.85       409\n",
      "          1       0.59      0.67      0.63       155\n",
      "\n",
      "avg / total       0.79      0.78      0.79       564\n",
      "\n"
     ]
    }
   ],
   "source": [
    "gbm_best_accuracy = evaluate(gbm_random,test_features,test_target)"
   ]
  },
  {
   "cell_type": "code",
   "execution_count": 52,
   "metadata": {},
   "outputs": [
    {
     "name": "stdout",
     "output_type": "stream",
     "text": [
      "[10 12 13  9  7  8 11  6  5  3 15  4 16 14  1  2  0]\n",
      "[ 0.5  1.5  2.5  3.5  4.5  5.5  6.5  7.5  8.5  9.5 10.5 11.5 12.5 13.5\n",
      " 14.5 15.5 16.5]\n",
      "<class 'numpy.ndarray'>\n",
      "<class 'numpy.ndarray'>\n"
     ]
    },
    {
     "data": {
      "image/png": "[encoded data removed]",
      "text/plain": [
       "<matplotlib.figure.Figure at 0xa281c80630>"
      ]
     },
     "metadata": {},
     "output_type": "display_data"
    },
    {
     "name": "stdout",
     "output_type": "stream",
     "text": [
      "['MonthlyCharges' 'tenure' 'TotalCharges' 'SeniorCitizen' 'Partner'\n",
      " 'Dependents' 'MultipleLines' 'InternetService' 'OnlineSecurity'\n",
      " 'OnlineBackup' 'DeviceProtection' 'TechSupport' 'StreamingTV'\n",
      " 'StreamingMovies' 'Contract' 'PaperlessBilling' 'PaymentMethod']\n",
      "[0.20419786 0.14885033 0.17303997 0.036494   0.0506218  0.03284767\n",
      " 0.02824833 0.01431563 0.01943003 0.01320397 0.00681609 0.01994252\n",
      " 0.00894592 0.00939528 0.12001977 0.03937384 0.07425697]\n"
     ]
    }
   ],
   "source": [
    "feature_names=df.drop(['target'],axis=1).columns\n",
    "feature_importance = gbm_random.best_estimator_.feature_importances_\n",
    "sorted_idx = np.argsort(feature_importance)\n",
    "pos = np.arange(sorted_idx.shape[0]) + .5\n",
    "print(sorted_idx)\n",
    "print(pos)\n",
    "print(type(np.array(feature_names)))\n",
    "print(type(feature_importance))\n",
    "plt.barh(pos, feature_importance[sorted_idx], align='center')\n",
    "plt.yticks(pos, feature_names[sorted_idx])\n",
    "feature_names[sorted_idx]\n",
    "plt.show()\n",
    "print((np.array(feature_names)))\n",
    "print(feature_importance)"
   ]
  },
  {
   "cell_type": "code",
   "execution_count": 53,
   "metadata": {},
   "outputs": [
    {
     "name": "stdout",
     "output_type": "stream",
     "text": [
      "{'bootstrap': [True, False],\n",
      " 'max_depth': [10, 20, 30, 40, 50, 60, 70, 80, 90, 100, 110, None],\n",
      " 'max_features': ['auto', 'sqrt'],\n",
      " 'min_samples_leaf': [1, 2, 4],\n",
      " 'min_samples_split': [2, 5, 10],\n",
      " 'n_estimators': [200, 400, 600, 800, 1000, 1200, 1400, 1600, 1800, 2000]}\n"
     ]
    }
   ],
   "source": [
    "from sklearn.model_selection import RandomizedSearchCV\n",
    "# Number of trees in random forest\n",
    "n_estimators = [int(x) for x in np.linspace(start = 200, stop = 2000, num = 10)]\n",
    "# Number of features to consider at every split\n",
    "max_features = ['auto', 'sqrt']\n",
    "# Maximum number of levels in tree\n",
    "max_depth = [int(x) for x in np.linspace(10, 110, num = 11)]\n",
    "max_depth.append(None)\n",
    "# Minimum number of samples required to split a node\n",
    "min_samples_split = [2, 5, 10]\n",
    "# Minimum number of samples required at each leaf node\n",
    "min_samples_leaf = [1, 2, 4]\n",
    "# Method of selecting samples for training each tree\n",
    "bootstrap = [True, False]\n",
    "# Create the random grid\n",
    "random_grid = {'n_estimators': n_estimators,\n",
    "               'max_features': max_features,\n",
    "               'max_depth': max_depth,\n",
    "               'min_samples_split': min_samples_split,\n",
    "               'min_samples_leaf': min_samples_leaf,\n",
    "               'bootstrap': bootstrap}\n",
    "pprint(random_grid)"
   ]
  },
  {
   "cell_type": "code",
   "execution_count": 54,
   "metadata": {},
   "outputs": [
    {
     "name": "stdout",
     "output_type": "stream",
     "text": [
      "Fitting 5 folds for each of 5 candidates, totalling 25 fits\n"
     ]
    },
    {
     "name": "stderr",
     "output_type": "stream",
     "text": [
      "[Parallel(n_jobs=-1)]: Done  25 out of  25 | elapsed:  1.1min finished\n"
     ]
    },
    {
     "data": {
      "text/plain": [
       "RandomizedSearchCV(cv=5, error_score='raise',\n",
       "          estimator=RandomForestClassifier(bootstrap=True, class_weight=None, criterion='gini',\n",
       "            max_depth=None, max_features='auto', max_leaf_nodes=None,\n",
       "            min_impurity_decrease=0.0, min_impurity_split=None,\n",
       "            min_samples_leaf=1, min_samples_split=2,\n",
       "            min_weight_fraction_leaf=0.0, n_estimators=10, n_jobs=1,\n",
       "            oob_score=False, random_state=None, verbose=0,\n",
       "            warm_start=False),\n",
       "          fit_params=None, iid=True, n_iter=5, n_jobs=-1,\n",
       "          param_distributions={'n_estimators': [200, 400, 600, 800, 1000, 1200, 1400, 1600, 1800, 2000], 'max_features': ['auto', 'sqrt'], 'max_depth': [10, 20, 30, 40, 50, 60, 70, 80, 90, 100, 110, None], 'min_samples_split': [2, 5, 10], 'min_samples_leaf': [1, 2, 4], 'bootstrap': [True, False]},\n",
       "          pre_dispatch='2*n_jobs', random_state=42, refit=True,\n",
       "          return_train_score='warn', scoring=None, verbose=2)"
      ]
     },
     "execution_count": 54,
     "metadata": {},
     "output_type": "execute_result"
    }
   ],
   "source": [
    "# First create the base model to tune\n",
    "rf = RandomForestClassifier()\n",
    "# Random search of parameters, using 3 fold cross validation,\n",
    "# search across 100 different combinations, and use all available cores\n",
    "rf_random = RandomizedSearchCV(estimator = rf, param_distributions = random_grid, n_iter = 5, cv = 5, verbose=2, random_state=42, n_jobs = -1)\n",
    "# Fit the random search model\n",
    "rf_random.fit(X_train_res, y_train_res)"
   ]
  },
  {
   "cell_type": "code",
   "execution_count": 55,
   "metadata": {},
   "outputs": [
    {
     "name": "stdout",
     "output_type": "stream",
     "text": [
      "accuracy :0.7872340425531915\n",
      "recall :0.6387096774193548\n",
      " tn, fp, fn, tp :\n",
      "345 64 56 99\n",
      "matrix :\n",
      "[[345  64]\n",
      " [ 56  99]]\n",
      "report :\n",
      "             precision    recall  f1-score   support\n",
      "\n",
      "          0       0.86      0.84      0.85       409\n",
      "          1       0.61      0.64      0.62       155\n",
      "\n",
      "avg / total       0.79      0.79      0.79       564\n",
      "\n"
     ]
    }
   ],
   "source": [
    "rf_best_accuracy = evaluate(rf_random,test_features,test_target)"
   ]
  },
  {
   "cell_type": "code",
   "execution_count": 56,
   "metadata": {},
   "outputs": [
    {
     "name": "stdout",
     "output_type": "stream",
     "text": [
      "[12 13 10  6  3  5  9  4  7  8 15 11 16  2  0  1 14]\n",
      "[ 0.5  1.5  2.5  3.5  4.5  5.5  6.5  7.5  8.5  9.5 10.5 11.5 12.5 13.5\n",
      " 14.5 15.5 16.5]\n",
      "<class 'numpy.ndarray'>\n",
      "<class 'numpy.ndarray'>\n"
     ]
    },
    {
     "data": {
      "image/png": "[encoded data removed]",
      "text/plain": [
       "<matplotlib.figure.Figure at 0xa281ce7a58>"
      ]
     },
     "metadata": {},
     "output_type": "display_data"
    },
    {
     "name": "stdout",
     "output_type": "stream",
     "text": [
      "['MonthlyCharges' 'tenure' 'TotalCharges' 'SeniorCitizen' 'Partner'\n",
      " 'Dependents' 'MultipleLines' 'InternetService' 'OnlineSecurity'\n",
      " 'OnlineBackup' 'DeviceProtection' 'TechSupport' 'StreamingTV'\n",
      " 'StreamingMovies' 'Contract' 'PaperlessBilling' 'PaymentMethod']\n",
      "[0.11958255 0.13297599 0.11229696 0.02122448 0.03248511 0.02733022\n",
      " 0.02116715 0.0325865  0.05086644 0.02810507 0.01861406 0.06958943\n",
      " 0.01442906 0.01486707 0.17635332 0.05237634 0.07515026]\n"
     ]
    }
   ],
   "source": [
    "feature_names=df.drop(['target'],axis=1).columns\n",
    "feature_importance = rf_random.best_estimator_.feature_importances_\n",
    "sorted_idx = np.argsort(feature_importance)\n",
    "pos = np.arange(sorted_idx.shape[0]) + .5\n",
    "print(sorted_idx)\n",
    "print(pos)\n",
    "print(type(np.array(feature_names)))\n",
    "print(type(feature_importance))\n",
    "plt.barh(pos, feature_importance[sorted_idx], align='center')\n",
    "plt.yticks(pos, feature_names[sorted_idx])\n",
    "feature_names[sorted_idx]\n",
    "plt.show()\n",
    "print((np.array(feature_names)))\n",
    "print(feature_importance)"
   ]
  },
  {
   "cell_type": "code",
   "execution_count": 57,
   "metadata": {},
   "outputs": [
    {
     "name": "stdout",
     "output_type": "stream",
     "text": [
      "{'algorithm': ['SAMME', 'SAMME.R'],\n",
      " 'learning_rate': [0.1, 0.05, 0.02, 0.01],\n",
      " 'n_estimators': [200, 400, 600, 800, 1000, 1200, 1400, 1600, 1800, 2000],\n",
      " 'random_state': [21]}\n"
     ]
    }
   ],
   "source": [
    "from pprint import pprint\n",
    "ADA = AdaBoostClassifier()\n",
    "from sklearn.model_selection import RandomizedSearchCV\n",
    "# Number of iterations needed\n",
    "n_estimators = [int(x) for x in np.linspace(200, 2000, num = 10)]\n",
    "learning_rate = [0.1, 0.05, 0.02, 0.01]\n",
    "algorithm  = ['SAMME', 'SAMME.R']\n",
    "# Maximum number of levels in tree\n",
    "max_depth = [int(x) for x in np.linspace(10, 110, num = 11)]\n",
    "max_depth.append(None)\n",
    "# Minimum number of samples required at each leaf node\n",
    "min_samples_leaf = [1, 2, 4]\n",
    "random_state = [21]\n",
    "\n",
    "# Create the random grid\n",
    "random_grid_ada = {'n_estimators': n_estimators,\n",
    "                   'learning_rate': learning_rate,\n",
    "                   'algorithm':algorithm,\n",
    " #                 'max_depth': max_depth,\n",
    " #                 'min_samples_leaf': min_samples_leaf,\n",
    "                   'random_state': random_state}\n",
    "pprint(random_grid_ada)"
   ]
  },
  {
   "cell_type": "code",
   "execution_count": 58,
   "metadata": {},
   "outputs": [
    {
     "name": "stdout",
     "output_type": "stream",
     "text": [
      "Fitting 5 folds for each of 5 candidates, totalling 25 fits\n"
     ]
    },
    {
     "name": "stderr",
     "output_type": "stream",
     "text": [
      "[Parallel(n_jobs=-1)]: Done  25 out of  25 | elapsed:   35.4s finished\n"
     ]
    },
    {
     "data": {
      "text/plain": [
       "RandomizedSearchCV(cv=5, error_score='raise',\n",
       "          estimator=AdaBoostClassifier(algorithm='SAMME.R', base_estimator=None,\n",
       "          learning_rate=1.0, n_estimators=50, random_state=None),\n",
       "          fit_params=None, iid=True, n_iter=5, n_jobs=-1,\n",
       "          param_distributions={'n_estimators': [200, 400, 600, 800, 1000, 1200, 1400, 1600, 1800, 2000], 'learning_rate': [0.1, 0.05, 0.02, 0.01], 'algorithm': ['SAMME', 'SAMME.R'], 'random_state': [21]},\n",
       "          pre_dispatch='2*n_jobs', random_state=42, refit=True,\n",
       "          return_train_score='warn', scoring=None, verbose=2)"
      ]
     },
     "execution_count": 58,
     "metadata": {},
     "output_type": "execute_result"
    }
   ],
   "source": [
    "# First create the base model to tune\n",
    "ada = AdaBoostClassifier()\n",
    "# Random search of parameters, using 3 fold cross validation,\n",
    "# search across 100 different combinations, and use all available cores\n",
    "ada_random = RandomizedSearchCV(estimator = ada, param_distributions = random_grid_ada, n_iter = 5, cv = 5, verbose=2, random_state=42, n_jobs = -1)\n",
    "# Fit the random search model\n",
    "ada_random.fit(X_train_res, y_train_res)"
   ]
  },
  {
   "cell_type": "code",
   "execution_count": 59,
   "metadata": {},
   "outputs": [
    {
     "name": "stdout",
     "output_type": "stream",
     "text": [
      "accuracy :0.7358156028368794\n",
      "recall :0.8129032258064516\n",
      " tn, fp, fn, tp :\n",
      "289 120 29 126\n",
      "matrix :\n",
      "[[289 120]\n",
      " [ 29 126]]\n",
      "report :\n",
      "             precision    recall  f1-score   support\n",
      "\n",
      "          0       0.91      0.71      0.80       409\n",
      "          1       0.51      0.81      0.63       155\n",
      "\n",
      "avg / total       0.80      0.74      0.75       564\n",
      "\n"
     ]
    }
   ],
   "source": [
    "ada_best_accuracy = evaluate(ada_random,test_features,test_target)"
   ]
  },
  {
   "cell_type": "code",
   "execution_count": 60,
   "metadata": {},
   "outputs": [
    {
     "name": "stdout",
     "output_type": "stream",
     "text": [
      "[ 2 10  7 12 13  9  6  8 11  3  5 15  4 16  0  1 14]\n",
      "[ 0.5  1.5  2.5  3.5  4.5  5.5  6.5  7.5  8.5  9.5 10.5 11.5 12.5 13.5\n",
      " 14.5 15.5 16.5]\n",
      "<class 'numpy.ndarray'>\n",
      "<class 'numpy.ndarray'>\n"
     ]
    },
    {
     "data": {
      "image/png": "[encoded data removed]",
      "text/plain": [
       "<matplotlib.figure.Figure at 0xa281d4e518>"
      ]
     },
     "metadata": {},
     "output_type": "display_data"
    },
    {
     "name": "stdout",
     "output_type": "stream",
     "text": [
      "['MonthlyCharges' 'tenure' 'TotalCharges' 'SeniorCitizen' 'Partner'\n",
      " 'Dependents' 'MultipleLines' 'InternetService' 'OnlineSecurity'\n",
      " 'OnlineBackup' 'DeviceProtection' 'TechSupport' 'StreamingTV'\n",
      " 'StreamingMovies' 'Contract' 'PaperlessBilling' 'PaymentMethod']\n",
      "[0.08987395 0.23602114 0.         0.04796111 0.07954607 0.06312861\n",
      " 0.01185393 0.00469922 0.01337821 0.00983636 0.         0.02106725\n",
      " 0.00634177 0.00762164 0.25815265 0.06777639 0.08274169]\n"
     ]
    }
   ],
   "source": [
    "feature_names=df.drop(['target'],axis=1).columns\n",
    "feature_importance = ada_random.best_estimator_.feature_importances_\n",
    "sorted_idx = np.argsort(feature_importance)\n",
    "pos = np.arange(sorted_idx.shape[0]) + .5\n",
    "print(sorted_idx)\n",
    "print(pos)\n",
    "print(type(np.array(feature_names)))\n",
    "print(type(feature_importance))\n",
    "plt.barh(pos, feature_importance[sorted_idx], align='center')\n",
    "plt.yticks(pos, feature_names[sorted_idx])\n",
    "feature_names[sorted_idx]\n",
    "plt.show()\n",
    "print((np.array(feature_names)))\n",
    "print(feature_importance)"
   ]
  },
  {
   "cell_type": "code",
   "execution_count": 61,
   "metadata": {},
   "outputs": [],
   "source": [
    "# import pickle\n",
    "import pickle\n",
    "# save GBM model to disk\n",
    "filename1 = 'finalized_gbm_smote.sav'\n",
    "pickle.dump(gbm_random, open(filename1, 'wb'))\n",
    "\n",
    "# save RF model to disk\n",
    "filename2 = 'finalized_rf_smote.sav'\n",
    "pickle.dump(rf_random, open(filename2, 'wb'))\n",
    "\n",
    "# save Adaboost model to disk\n",
    "filename3 = 'finalized_ada_smote.sav'\n",
    "pickle.dump(ada_random, open(filename3, 'wb'))"
   ]
  },
  {
   "cell_type": "code",
   "execution_count": 62,
   "metadata": {},
   "outputs": [
    {
     "name": "stdout",
     "output_type": "stream",
     "text": [
      "Fitting 3 folds for each of 5 candidates, totalling 15 fits\n"
     ]
    },
    {
     "name": "stderr",
     "output_type": "stream",
     "text": [
      "[Parallel(n_jobs=-1)]: Done  15 out of  15 | elapsed:   25.1s finished\n"
     ]
    },
    {
     "data": {
      "text/plain": [
       "RandomizedSearchCV(cv=3, error_score='raise',\n",
       "          estimator=GradientBoostingClassifier(criterion='friedman_mse', init=None,\n",
       "              learning_rate=0.1, loss='deviance', max_depth=3,\n",
       "              max_features=None, max_leaf_nodes=None,\n",
       "              min_impurity_decrease=0.0, min_impurity_split=None,\n",
       "              min_samples_leaf=1, min_samples_split=2,\n",
       "              min_weight_fraction_leaf=0.0, n_estimators=100,\n",
       "              presort='auto', random_state=None, subsample=1.0, verbose=0,\n",
       "              warm_start=False),\n",
       "          fit_params=None, iid=True, n_iter=5, n_jobs=-1,\n",
       "          param_distributions={'n_estimators': [200, 400, 600, 800, 1000, 1200, 1400, 1600, 1800, 2000], 'learning_rate': [0.1, 0.05, 0.02, 0.01], 'loss': ['deviance', 'exponential'], 'max_depth': [4, 6, 8], 'criterion': ['friedman_mse'], 'min_samples_split': [2, 5, 10], 'min_samples_leaf': [20, 50, 100, 150], 'random_state': [21]},\n",
       "          pre_dispatch='2*n_jobs', random_state=42, refit=True,\n",
       "          return_train_score='warn', scoring=None, verbose=2)"
      ]
     },
     "execution_count": 62,
     "metadata": {},
     "output_type": "execute_result"
    }
   ],
   "source": [
    "# First create the base model to tune\n",
    "GBM = GradientBoostingClassifier()\n",
    "# Random search of parameters, using 3 fold cross validation,\n",
    "# search across 100 different combinations, and use all available cores\n",
    "gbm_random_un = RandomizedSearchCV(estimator = GBM, param_distributions = random_grid_gbm, n_iter = 5, cv = 3, verbose=2, random_state=42, n_jobs = -1)\n",
    "# Fit the random search model\n",
    "gbm_random_un.fit(training_features, training_target)"
   ]
  },
  {
   "cell_type": "code",
   "execution_count": 63,
   "metadata": {},
   "outputs": [
    {
     "name": "stdout",
     "output_type": "stream",
     "text": [
      "accuracy :0.7925531914893617\n",
      "recall :0.5419354838709678\n",
      " tn, fp, fn, tp :\n",
      "363 46 71 84\n",
      "matrix :\n",
      "[[363  46]\n",
      " [ 71  84]]\n",
      "report :\n",
      "             precision    recall  f1-score   support\n",
      "\n",
      "          0       0.84      0.89      0.86       409\n",
      "          1       0.65      0.54      0.59       155\n",
      "\n",
      "avg / total       0.78      0.79      0.79       564\n",
      "\n"
     ]
    }
   ],
   "source": [
    "gbm_best_accuracy = evaluate(gbm_random_un,test_features,test_target)"
   ]
  },
  {
   "cell_type": "code",
   "execution_count": 64,
   "metadata": {},
   "outputs": [
    {
     "name": "stdout",
     "output_type": "stream",
     "text": [
      "Fitting 5 folds for each of 5 candidates, totalling 25 fits\n"
     ]
    },
    {
     "name": "stderr",
     "output_type": "stream",
     "text": [
      "[Parallel(n_jobs=-1)]: Done  25 out of  25 | elapsed:   46.8s finished\n"
     ]
    },
    {
     "data": {
      "text/plain": [
       "RandomizedSearchCV(cv=5, error_score='raise',\n",
       "          estimator=RandomForestClassifier(bootstrap=True, class_weight=None, criterion='gini',\n",
       "            max_depth=None, max_features='auto', max_leaf_nodes=None,\n",
       "            min_impurity_decrease=0.0, min_impurity_split=None,\n",
       "            min_samples_leaf=1, min_samples_split=2,\n",
       "            min_weight_fraction_leaf=0.0, n_estimators=10, n_jobs=1,\n",
       "            oob_score=False, random_state=None, verbose=0,\n",
       "            warm_start=False),\n",
       "          fit_params=None, iid=True, n_iter=5, n_jobs=-1,\n",
       "          param_distributions={'n_estimators': [200, 400, 600, 800, 1000, 1200, 1400, 1600, 1800, 2000], 'max_features': ['auto', 'sqrt'], 'max_depth': [10, 20, 30, 40, 50, 60, 70, 80, 90, 100, 110, None], 'min_samples_split': [2, 5, 10], 'min_samples_leaf': [1, 2, 4], 'bootstrap': [True, False]},\n",
       "          pre_dispatch='2*n_jobs', random_state=42, refit=True,\n",
       "          return_train_score='warn', scoring=None, verbose=2)"
      ]
     },
     "execution_count": 64,
     "metadata": {},
     "output_type": "execute_result"
    }
   ],
   "source": [
    "# First create the base model to tune\n",
    "rf = RandomForestClassifier()\n",
    "# Random search of parameters, using 3 fold cross validation,\n",
    "# search across 100 different combinations, and use all available cores\n",
    "rf_random_un = RandomizedSearchCV(estimator = rf, param_distributions = random_grid, n_iter = 5, cv = 5, verbose=2, random_state=42, n_jobs = -1)\n",
    "# Fit the random search model\n",
    "rf_random_un.fit(training_features, training_target)"
   ]
  },
  {
   "cell_type": "code",
   "execution_count": 65,
   "metadata": {},
   "outputs": [
    {
     "name": "stdout",
     "output_type": "stream",
     "text": [
      "accuracy :0.7890070921985816\n",
      "recall :0.5483870967741935\n",
      " tn, fp, fn, tp :\n",
      "360 49 70 85\n",
      "matrix :\n",
      "[[360  49]\n",
      " [ 70  85]]\n",
      "report :\n",
      "             precision    recall  f1-score   support\n",
      "\n",
      "          0       0.84      0.88      0.86       409\n",
      "          1       0.63      0.55      0.59       155\n",
      "\n",
      "avg / total       0.78      0.79      0.78       564\n",
      "\n"
     ]
    }
   ],
   "source": [
    "rf_best_accuracy = evaluate(rf_random_un,test_features,test_target)"
   ]
  },
  {
   "cell_type": "code",
   "execution_count": 66,
   "metadata": {},
   "outputs": [
    {
     "name": "stdout",
     "output_type": "stream",
     "text": [
      "Fitting 5 folds for each of 5 candidates, totalling 25 fits\n"
     ]
    },
    {
     "name": "stderr",
     "output_type": "stream",
     "text": [
      "[Parallel(n_jobs=-1)]: Done  25 out of  25 | elapsed:   26.8s finished\n"
     ]
    },
    {
     "data": {
      "text/plain": [
       "RandomizedSearchCV(cv=5, error_score='raise',\n",
       "          estimator=AdaBoostClassifier(algorithm='SAMME.R', base_estimator=None,\n",
       "          learning_rate=1.0, n_estimators=50, random_state=None),\n",
       "          fit_params=None, iid=True, n_iter=5, n_jobs=-1,\n",
       "          param_distributions={'n_estimators': [200, 400, 600, 800, 1000, 1200, 1400, 1600, 1800, 2000], 'learning_rate': [0.1, 0.05, 0.02, 0.01], 'algorithm': ['SAMME', 'SAMME.R'], 'random_state': [21]},\n",
       "          pre_dispatch='2*n_jobs', random_state=42, refit=True,\n",
       "          return_train_score='warn', scoring=None, verbose=2)"
      ]
     },
     "execution_count": 66,
     "metadata": {},
     "output_type": "execute_result"
    }
   ],
   "source": [
    "# First create the base model to tune\n",
    "ada = AdaBoostClassifier()\n",
    "# Random search of parameters, using 3 fold cross validation,\n",
    "# search across 100 different combinations, and use all available cores\n",
    "ada_random_un = RandomizedSearchCV(estimator = ada, param_distributions = random_grid_ada, n_iter = 5, cv = 5, verbose=2, random_state=42, n_jobs = -1)\n",
    "# Fit the random search model\n",
    "ada_random_un.fit(training_features, training_target)"
   ]
  },
  {
   "cell_type": "code",
   "execution_count": 67,
   "metadata": {},
   "outputs": [
    {
     "name": "stdout",
     "output_type": "stream",
     "text": [
      "accuracy :0.7836879432624113\n",
      "recall :0.4967741935483871\n",
      " tn, fp, fn, tp :\n",
      "365 44 78 77\n",
      "matrix :\n",
      "[[365  44]\n",
      " [ 78  77]]\n",
      "report :\n",
      "             precision    recall  f1-score   support\n",
      "\n",
      "          0       0.82      0.89      0.86       409\n",
      "          1       0.64      0.50      0.56       155\n",
      "\n",
      "avg / total       0.77      0.78      0.77       564\n",
      "\n"
     ]
    }
   ],
   "source": [
    "ada_best_accuracy = evaluate(ada_random_un,test_features,test_target)"
   ]
  },
  {
   "cell_type": "code",
   "execution_count": 68,
   "metadata": {},
   "outputs": [],
   "source": [
    "# save GBM model to disk\n",
    "filename4 = 'finalized_gbm_un.sav'\n",
    "pickle.dump(gbm_random_un, open(filename4, 'wb'))\n",
    "\n",
    "# save RF model to disk\n",
    "filename5 = 'finalized_rf_un.sav'\n",
    "pickle.dump(rf_random_un, open(filename5, 'wb'))\n",
    "\n",
    "# save Adaboost model to disk\n",
    "filename6 = 'finalized_ada_un.sav'\n",
    "pickle.dump(ada_random_un, open(filename6, 'wb'))"
   ]
  },
  {
   "cell_type": "code",
   "execution_count": 69,
   "metadata": {},
   "outputs": [
    {
     "ename": "ModuleNotFoundError",
     "evalue": "No module named 'tensorflow'",
     "output_type": "error",
     "traceback": [
      "\u001b[1;31m---------------------------------------------------------------------------\u001b[0m",
      "\u001b[1;31mModuleNotFoundError\u001b[0m                       Traceback (most recent call last)",
      "\u001b[1;32m<ipython-input-69-90d58d2d8994>\u001b[0m in \u001b[0;36m<module>\u001b[1;34m()\u001b[0m\n\u001b[1;32m----> 1\u001b[1;33m \u001b[1;32mimport\u001b[0m \u001b[0mtensorflow\u001b[0m \u001b[1;32mas\u001b[0m \u001b[0mtf\u001b[0m\u001b[1;33m\u001b[0m\u001b[0m\n\u001b[0m\u001b[0;32m      2\u001b[0m \u001b[1;32mimport\u001b[0m \u001b[0mkeras\u001b[0m\u001b[1;33m\u001b[0m\u001b[0m\n\u001b[0;32m      3\u001b[0m \u001b[1;32mfrom\u001b[0m \u001b[0mkeras\u001b[0m\u001b[1;33m.\u001b[0m\u001b[0mmodels\u001b[0m \u001b[1;32mimport\u001b[0m \u001b[0mSequential\u001b[0m\u001b[1;33m\u001b[0m\u001b[0m\n\u001b[0;32m      4\u001b[0m \u001b[1;32mfrom\u001b[0m \u001b[0mkeras\u001b[0m\u001b[1;33m.\u001b[0m\u001b[0mlayers\u001b[0m \u001b[1;32mimport\u001b[0m \u001b[0mDense\u001b[0m\u001b[1;33m\u001b[0m\u001b[0m\n\u001b[0;32m      5\u001b[0m \u001b[1;32mfrom\u001b[0m \u001b[0mkeras\u001b[0m\u001b[1;33m.\u001b[0m\u001b[0mwrappers\u001b[0m\u001b[1;33m.\u001b[0m\u001b[0mscikit_learn\u001b[0m \u001b[1;32mimport\u001b[0m \u001b[0mKerasClassifier\u001b[0m\u001b[1;33m\u001b[0m\u001b[0m\n",
      "\u001b[1;31mModuleNotFoundError\u001b[0m: No module named 'tensorflow'"
     ]
    }
   ],
   "source": [
    "import tensorflow as tf\n",
    "import keras\n",
    "from keras.models import Sequential\n",
    "from keras.layers import Dense\n",
    "from keras.wrappers.scikit_learn import KerasClassifier\n",
    "import numpy as np\n",
    "import pandas as pd\n",
    "# fix random seed for reproducibility\n",
    "np.random.seed(7)"
   ]
  },
  {
   "cell_type": "code",
   "execution_count": null,
   "metadata": {},
   "outputs": [],
   "source": [
    "input_dimenation = X.shape[1]"
   ]
  },
  {
   "cell_type": "code",
   "execution_count": null,
   "metadata": {},
   "outputs": [],
   "source": [
    "# create model\n",
    "def create_model():\n",
    "    model = Sequential()\n",
    "    model.add(Dense(12, input_dim = input_dimenation, activation='relu'))\n",
    "    model.add(Dense(12, activation='relu'))\n",
    "    model.add(Dense(1, activation='sigmoid'))\n",
    "    # Compile model\n",
    "    model.compile(loss='binary_crossentropy', optimizer='adam', metrics=['accuracy'])\n",
    "    return model"
   ]
  },
  {
   "cell_type": "code",
   "execution_count": null,
   "metadata": {},
   "outputs": [],
   "source": [
    "seed=7\n",
    "np.random.seed(seed)\n",
    "# create model\n",
    "model = KerasClassifier(build_fn=create_model, epochs=150, batch_size=100, verbose=1)\n",
    "# Fit the model\n",
    "model.fit(X_train, y_train)"
   ]
  }
 ],
 "metadata": {
  "kernelspec": {
   "display_name": "Python 3",
   "language": "python",
   "name": "python3"
  },
  "language_info": {
   "codemirror_mode": {
    "name": "ipython",
    "version": 3
   },
   "file_extension": ".py",
   "mimetype": "text/x-python",
   "name": "python",
   "nbconvert_exporter": "python",
   "pygments_lexer": "ipython3",
   "version": "3.6.4"
  }
 },
 "nbformat": 4,
 "nbformat_minor": 2
}
