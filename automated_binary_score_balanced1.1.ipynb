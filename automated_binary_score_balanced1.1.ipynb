{
 "cells": [
  {
   "cell_type": "code",
   "execution_count": 1,
   "metadata": {},
   "outputs": [],
   "source": [
    "# import required packages for data manupulation\n",
    "\n",
    "import pandas as pd\n",
    "import numpy as np\n",
    "import matplotlib.pyplot as plt\n",
    "import sklearn\n",
    "import os\n",
    "import random\n",
    "plt.show()"
   ]
  },
  {
   "cell_type": "code",
   "execution_count": 2,
   "metadata": {},
   "outputs": [
    {
     "data": {
      "text/plain": [
       "'/home/mohnkhan/xavient_binary_unbalanced'"
      ]
     },
     "execution_count": 2,
     "metadata": {},
     "output_type": "execute_result"
    }
   ],
   "source": [
    "# INPUT: set path for data placement \n",
    "#os.chdir(r'C:\\Users\\mshafin\\Desktop\\xavient_churn_project')\n",
    "#os.chdir(r'C:\\Users\\mohammad shafin\\Desktop\\xavient_churn_project')\n",
    "\n",
    "os.chdir(r'/home/mohnkhan/xavient_binary_balanced')\n",
    "random.seed(42)\n",
    "os.getcwd()"
   ]
  },
  {
   "cell_type": "code",
   "execution_count": 3,
   "metadata": {},
   "outputs": [
    {
     "name": "stdout",
     "output_type": "stream",
     "text": [
      "<class 'pandas.core.frame.DataFrame'>\n",
      "RangeIndex: 1409 entries, 0 to 1408\n",
      "Data columns (total 21 columns):\n",
      "customerID          1409 non-null object\n",
      "gender              1409 non-null object\n",
      "SeniorCitizen       1409 non-null int64\n",
      "Partner             1409 non-null object\n",
      "Dependents          1409 non-null object\n",
      "tenure              1409 non-null int64\n",
      "PhoneService        1409 non-null object\n",
      "MultipleLines       1409 non-null object\n",
      "InternetService     1409 non-null object\n",
      "OnlineSecurity      1409 non-null object\n",
      "OnlineBackup        1409 non-null object\n",
      "DeviceProtection    1409 non-null object\n",
      "TechSupport         1409 non-null object\n",
      "StreamingTV         1409 non-null object\n",
      "StreamingMovies     1409 non-null object\n",
      "Contract            1409 non-null object\n",
      "PaperlessBilling    1409 non-null object\n",
      "PaymentMethod       1409 non-null object\n",
      "MonthlyCharges      1409 non-null float64\n",
      "TotalCharges        1406 non-null float64\n",
      "Churn               1409 non-null object\n",
      "dtypes: float64(2), int64(2), object(17)\n",
      "memory usage: 231.2+ KB\n"
     ]
    }
   ],
   "source": [
    "# INPUT: data loaded to a pandas dataframe\n",
    "\n",
    "df = pd.read_csv('telecom_churn_validation.csv')\n",
    "df.info()\n",
    "df_length = df.shape[1]\n",
    "df_row = df.shape[0]"
   ]
  },
  {
   "cell_type": "code",
   "execution_count": 4,
   "metadata": {},
   "outputs": [
    {
     "data": {
      "text/plain": [
       "1409"
      ]
     },
     "execution_count": 4,
     "metadata": {},
     "output_type": "execute_result"
    }
   ],
   "source": [
    "df_row"
   ]
  },
  {
   "cell_type": "code",
   "execution_count": 5,
   "metadata": {},
   "outputs": [
    {
     "name": "stdout",
     "output_type": "stream",
     "text": [
      "Columnwise missing value count\n"
     ]
    },
    {
     "data": {
      "text/plain": [
       "<matplotlib.axes._subplots.AxesSubplot at 0x7fba7755b4a8>"
      ]
     },
     "execution_count": 5,
     "metadata": {},
     "output_type": "execute_result"
    },
    {
     "data": {
      "image/png": "[encoded data removed]",
      "text/plain": [
       "<matplotlib.figure.Figure at 0x7fbaa8df1240>"
      ]
     },
     "metadata": {},
     "output_type": "display_data"
    }
   ],
   "source": [
    "# count number of missing values in each column\n",
    "# sum True's\n",
    "\n",
    "print(\"Columnwise missing value count\")\n",
    "df.isnull().sum().plot.bar(figsize=(df_length, 4))\n",
    "#df[\"target\"].value_counts().plot.pie(figsize=(4, 4))\n",
    "#print(df.target.value_counts())"
   ]
  },
  {
   "cell_type": "code",
   "execution_count": 6,
   "metadata": {},
   "outputs": [],
   "source": [
    "# INPUT: set customer identification code and target variable\n",
    "\n",
    "customer_identity_code = 'customerID'\n",
    "target_code = 'Churn'"
   ]
  },
  {
   "cell_type": "code",
   "execution_count": 7,
   "metadata": {},
   "outputs": [],
   "source": [
    "# set index for customer identification code\n",
    "\n",
    "df = df.set_index(customer_identity_code)"
   ]
  },
  {
   "cell_type": "code",
   "execution_count": 8,
   "metadata": {},
   "outputs": [],
   "source": [
    "# REMOVE identify target variable\n",
    "\n",
    "df['target'] = df[target_code]"
   ]
  },
  {
   "cell_type": "code",
   "execution_count": 9,
   "metadata": {},
   "outputs": [],
   "source": [
    "# REMOVE INPUT: set target labels\n",
    "\n",
    "label_target1 = 'Yes'\n",
    "label_target0 = 'No'"
   ]
  },
  {
   "cell_type": "code",
   "execution_count": 10,
   "metadata": {},
   "outputs": [],
   "source": [
    "# REMOVE function to recode target levels\n",
    "\n",
    "def dependent_col(row):\n",
    "    if row['target'] == label_target1:\n",
    "        val = 1  # input\n",
    "    elif row['target'] == label_target0:\n",
    "        val = 0  # imput\n",
    "    else:\n",
    "        val = 2\n",
    "    return val"
   ]
  },
  {
   "cell_type": "code",
   "execution_count": 11,
   "metadata": {},
   "outputs": [
    {
     "name": "stdout",
     "output_type": "stream",
     "text": [
      "            target Churn\n",
      "customerID              \n",
      "1488-PBLJN       0    No\n",
      "2137-DQMEV       0    No\n",
      "6963-EZQEE       0    No\n",
      "0909-SELIE       0    No\n",
      "8344-WFMFH       0    No\n"
     ]
    }
   ],
   "source": [
    "# REMOVE view recoded data in the target variable\n",
    "\n",
    "df['target'] = df.apply(dependent_col, axis=1)\n",
    "print(df.loc[:,['target','Churn']].head(5)) #check changes in target recoding"
   ]
  },
  {
   "cell_type": "code",
   "execution_count": 12,
   "metadata": {},
   "outputs": [
    {
     "name": "stdout",
     "output_type": "stream",
     "text": [
      "The number of row/rows dropped because of missing target variable is 0\n"
     ]
    }
   ],
   "source": [
    "# REMOVE keep rows when target variable is finite\n",
    "\n",
    "start = df.shape[1]\n",
    "df = df[np.isfinite(df['target'])]\n",
    "finish = df.shape[1]\n",
    "print(\"The number of row/rows dropped because of missing target variable is \" + str(start-finish))"
   ]
  },
  {
   "cell_type": "code",
   "execution_count": 13,
   "metadata": {},
   "outputs": [],
   "source": [
    "# INPUT droping initial target\n",
    "# when the target variable is identified and recoded it has to be removed by the program\n",
    "\n",
    "df = df.drop(['Churn'],axis=1)"
   ]
  },
  {
   "cell_type": "code",
   "execution_count": 14,
   "metadata": {},
   "outputs": [
    {
     "name": "stdout",
     "output_type": "stream",
     "text": [
      "0    1035\n",
      "1     374\n",
      "Name: target, dtype: int64\n"
     ]
    },
    {
     "data": {
      "image/png": "[encoded data removed]",
      "text/plain": [
       "<matplotlib.figure.Figure at 0x7fba77572f60>"
      ]
     },
     "metadata": {},
     "output_type": "display_data"
    }
   ],
   "source": [
    "# target variable distibution\n",
    "\n",
    "df[\"target\"].value_counts().plot.pie(figsize=(4, 4))\n",
    "print(df.target.value_counts())"
   ]
  },
  {
   "cell_type": "code",
   "execution_count": 15,
   "metadata": {},
   "outputs": [
    {
     "data": {
      "text/plain": [
       "14"
      ]
     },
     "execution_count": 15,
     "metadata": {},
     "output_type": "execute_result"
    }
   ],
   "source": [
    "# load numeric columns for scoring\n",
    "import pickle\n",
    "pickle_in_cat = open(\"object_columns_final_nz.pickle\",\"rb\")\n",
    "object_columns_final_nz_index = pickle.load(pickle_in_cat)\n",
    "len(object_columns_final_nz_index)\n",
    "#df[object_columns_final_nz_index]"
   ]
  },
  {
   "cell_type": "code",
   "execution_count": 16,
   "metadata": {},
   "outputs": [
    {
     "data": {
      "text/plain": [
       "Index(['SeniorCitizen', 'Partner', 'Dependents', 'MultipleLines',\n",
       "       'InternetService', 'OnlineSecurity', 'OnlineBackup', 'DeviceProtection',\n",
       "       'TechSupport', 'StreamingTV', 'StreamingMovies', 'Contract',\n",
       "       'PaperlessBilling', 'PaymentMethod'],\n",
       "      dtype='object')"
      ]
     },
     "execution_count": 16,
     "metadata": {},
     "output_type": "execute_result"
    }
   ],
   "source": [
    "df[object_columns_final_nz_index].columns"
   ]
  },
  {
   "cell_type": "code",
   "execution_count": 17,
   "metadata": {},
   "outputs": [],
   "source": [
    "# INPUT: populate with columns, which is considered discrete or non continious\n",
    "# all categoies which have string input are categroized as object type in python by default\n",
    "\n",
    "object_columns = object_columns_final_nz_index"
   ]
  },
  {
   "cell_type": "code",
   "execution_count": 18,
   "metadata": {},
   "outputs": [],
   "source": [
    "# typecasting 'object' type on variables that may be populated with numbers, but are of non-continious nature such as gender\n",
    "\n",
    "for column in object_columns:\n",
    "    df[column] = df[column].astype('object')"
   ]
  },
  {
   "cell_type": "code",
   "execution_count": 19,
   "metadata": {},
   "outputs": [
    {
     "name": "stdout",
     "output_type": "stream",
     "text": [
      "Value count of each level for datatype 'object'\n",
      "SeniorCitizen\n"
     ]
    },
    {
     "data": {
      "image/png": "[encoded data removed]",
      "text/plain": [
       "<matplotlib.figure.Figure at 0x7fba6eebc898>"
      ]
     },
     "metadata": {},
     "output_type": "display_data"
    },
    {
     "name": "stdout",
     "output_type": "stream",
     "text": [
      "Partner\n"
     ]
    },
    {
     "data": {
      "image/png": "[encoded data removed]",
      "text/plain": [
       "<matplotlib.figure.Figure at 0x7fba6ee8a208>"
      ]
     },
     "metadata": {},
     "output_type": "display_data"
    },
    {
     "name": "stdout",
     "output_type": "stream",
     "text": [
      "Dependents\n"
     ]
    },
    {
     "data": {
      "image/png": "[encoded data removed]",
      "text/plain": [
       "<matplotlib.figure.Figure at 0x7fba6eeb6160>"
      ]
     },
     "metadata": {},
     "output_type": "display_data"
    },
    {
     "name": "stdout",
     "output_type": "stream",
     "text": [
      "MultipleLines\n"
     ]
    },
    {
     "data": {
      "image/png": "[encoded data removed]",
      "text/plain": [
       "<matplotlib.figure.Figure at 0x7fba6ee0b278>"
      ]
     },
     "metadata": {},
     "output_type": "display_data"
    },
    {
     "name": "stdout",
     "output_type": "stream",
     "text": [
      "InternetService\n"
     ]
    },
    {
     "data": {
      "image/png": "[encoded data removed]",
      "text/plain": [
       "<matplotlib.figure.Figure at 0x7fba6edcd940>"
      ]
     },
     "metadata": {},
     "output_type": "display_data"
    },
    {
     "name": "stdout",
     "output_type": "stream",
     "text": [
      "OnlineSecurity\n"
     ]
    },
    {
     "data": {
      "image/png": "[encoded data removed]",
      "text/plain": [
       "<matplotlib.figure.Figure at 0x7fba6eb8f5f8>"
      ]
     },
     "metadata": {},
     "output_type": "display_data"
    },
    {
     "name": "stdout",
     "output_type": "stream",
     "text": [
      "OnlineBackup\n"
     ]
    },
    {
     "data": {
      "image/png": "[encoded data removed]",
      "text/plain": [
       "<matplotlib.figure.Figure at 0x7fba6eb668d0>"
      ]
     },
     "metadata": {},
     "output_type": "display_data"
    },
    {
     "name": "stdout",
     "output_type": "stream",
     "text": [
      "DeviceProtection\n"
     ]
    },
    {
     "data": {
      "image/png": "[encoded data removed]",
      "text/plain": [
       "<matplotlib.figure.Figure at 0x7fba6eb3bcc0>"
      ]
     },
     "metadata": {},
     "output_type": "display_data"
    },
    {
     "name": "stdout",
     "output_type": "stream",
     "text": [
      "TechSupport\n"
     ]
    },
    {
     "data": {
      "image/png": "[encoded data removed]",
      "text/plain": [
       "<matplotlib.figure.Figure at 0x7fba6eabf780>"
      ]
     },
     "metadata": {},
     "output_type": "display_data"
    },
    {
     "name": "stdout",
     "output_type": "stream",
     "text": [
      "StreamingTV\n"
     ]
    },
    {
     "data": {
      "image/png": "[encoded data removed]",
      "text/plain": [
       "<matplotlib.figure.Figure at 0x7fba6ea4dba8>"
      ]
     },
     "metadata": {},
     "output_type": "display_data"
    },
    {
     "name": "stdout",
     "output_type": "stream",
     "text": [
      "StreamingMovies\n"
     ]
    },
    {
     "data": {
      "image/png": "[encoded data removed]",
      "text/plain": [
       "<matplotlib.figure.Figure at 0x7fba6ea1e940>"
      ]
     },
     "metadata": {},
     "output_type": "display_data"
    },
    {
     "name": "stdout",
     "output_type": "stream",
     "text": [
      "Contract\n"
     ]
    },
    {
     "data": {
      "image/png": "[encoded data removed]",
      "text/plain": [
       "<matplotlib.figure.Figure at 0x7fba6ea3e400>"
      ]
     },
     "metadata": {},
     "output_type": "display_data"
    },
    {
     "name": "stdout",
     "output_type": "stream",
     "text": [
      "PaperlessBilling\n"
     ]
    },
    {
     "data": {
      "image/png": "[encoded data removed]",
      "text/plain": [
       "<matplotlib.figure.Figure at 0x7fba6eb49518>"
      ]
     },
     "metadata": {},
     "output_type": "display_data"
    },
    {
     "name": "stdout",
     "output_type": "stream",
     "text": [
      "PaymentMethod\n"
     ]
    },
    {
     "data": {
      "image/png": "[encoded data removed]",
      "text/plain": [
       "<matplotlib.figure.Figure at 0x7fba6edcd8d0>"
      ]
     },
     "metadata": {},
     "output_type": "display_data"
    }
   ],
   "source": [
    "# view levels per columns in the non-continious variable\n",
    "\n",
    "print(\"Value count of each level for datatype 'object'\")\n",
    "\n",
    "for column in object_columns:\n",
    "    print(column)\n",
    "    df[column].value_counts().plot.bar(figsize=(df_length/4, 2))\n",
    "    plt.show()"
   ]
  },
  {
   "cell_type": "code",
   "execution_count": 20,
   "metadata": {},
   "outputs": [],
   "source": [
    "# object variables converted to categories for cat.codes\n",
    "\n",
    "object_columns = df[object_columns].select_dtypes(['object']).columns"
   ]
  },
  {
   "cell_type": "code",
   "execution_count": 21,
   "metadata": {},
   "outputs": [
    {
     "name": "stdout",
     "output_type": "stream",
     "text": [
      "The count of columns were successfully imputed with missing value indicator 'UKNOWN'\n"
     ]
    }
   ],
   "source": [
    "# missing value imputation strategy: create a new level called 'UNKNOWN'\n",
    "\n",
    "print(\"The count of columns were successfully imputed with missing value indicator 'UKNOWN'\")\n",
    "\n",
    "for column in object_columns:\n",
    "    if df[column].dtypes==\"object\":\n",
    "        df[column] = df[column].fillna(\"UKNOWN\").astype('object')    "
   ]
  },
  {
   "cell_type": "code",
   "execution_count": 22,
   "metadata": {},
   "outputs": [],
   "source": [
    "# missing value imputation strategy: create a new level called 'UNKNOWN'\n",
    "\n",
    "for column in object_columns:\n",
    "    if df[column].dtypes==\"object\":\n",
    "        df[column] = df[column].astype('category')"
   ]
  },
  {
   "cell_type": "code",
   "execution_count": 23,
   "metadata": {},
   "outputs": [],
   "source": [
    "# recoding categories to number with numerical and alphabatical order 0-1 and a-z, respectively\n",
    "\n",
    "df[object_columns] = df[object_columns].apply(lambda x: x.cat.codes)"
   ]
  },
  {
   "cell_type": "code",
   "execution_count": 24,
   "metadata": {},
   "outputs": [
    {
     "data": {
      "text/plain": [
       "3"
      ]
     },
     "execution_count": 24,
     "metadata": {},
     "output_type": "execute_result"
    }
   ],
   "source": [
    "# load numeric columns for scoring\n",
    "import pickle\n",
    "\n",
    "pickle_in_num = open(\"scale_columns_final_nz.pickle\",\"rb\")\n",
    "scale_columns_final_nz_index = pickle.load(pickle_in_num)\n",
    "len(scale_columns_final_nz_index)"
   ]
  },
  {
   "cell_type": "code",
   "execution_count": 25,
   "metadata": {},
   "outputs": [],
   "source": [
    "# INPUT: populate with numeric columns\n",
    "# missing value treatments\n",
    "\n",
    "numeric_columns_mean = scale_columns_final_nz_index # impute missing numeric columns with mean\n",
    "\n",
    "# impute missing numeric columns with zero\n",
    "\n",
    "numeric_columns_zero = [] # populate with numeric columns\n",
    "\n",
    "scale_columns = numeric_columns_mean + numeric_columns_zero\n",
    "length = len(scale_columns) # for figure width"
   ]
  },
  {
   "cell_type": "code",
   "execution_count": 26,
   "metadata": {},
   "outputs": [
    {
     "name": "stdout",
     "output_type": "stream",
     "text": [
      "Check for continous variable scaling\n"
     ]
    },
    {
     "data": {
      "image/png": "[encoded data removed]",
      "text/plain": [
       "<matplotlib.figure.Figure at 0x7fba6ea45908>"
      ]
     },
     "metadata": {},
     "output_type": "display_data"
    }
   ],
   "source": [
    "df[scale_columns].plot.box(figsize=(length*2,4))\n",
    "print(\"Check for continous variable scaling\")"
   ]
  },
  {
   "cell_type": "code",
   "execution_count": 27,
   "metadata": {},
   "outputs": [],
   "source": [
    "# for mean imputation\n",
    "\n",
    "for column in numeric_columns_mean:\n",
    "    if df[column].dtypes in [\"int64\",\"float64\"] :\n",
    "        df[column] = df[column].fillna(df[column].mean())\n",
    "\n",
    "# for 0 imputation\n",
    "\n",
    "for column in numeric_columns_zero:\n",
    "    if df[column].dtypes in [\"int64\",\"float64\"] :\n",
    "        df[column] = df[column].fillna(0)\n",
    "\n",
    "# append all numerical columns\n",
    "\n",
    "scale_columns = numeric_columns_mean + numeric_columns_zero"
   ]
  },
  {
   "cell_type": "code",
   "execution_count": 28,
   "metadata": {},
   "outputs": [],
   "source": [
    "# scale the numerical variables\n",
    "from sklearn.preprocessing import scale\n",
    "for column in scale_columns:\n",
    "    if df[column].dtypes in [\"int64\",\"float64\"] :\n",
    "        df[column] = scale(df[column].astype('float64'))"
   ]
  },
  {
   "cell_type": "code",
   "execution_count": 29,
   "metadata": {},
   "outputs": [
    {
     "name": "stdout",
     "output_type": "stream",
     "text": [
      "scaled continious variables\n"
     ]
    },
    {
     "data": {
      "text/plain": [
       "<matplotlib.axes._subplots.AxesSubplot at 0x7fba6c8f4f28>"
      ]
     },
     "execution_count": 29,
     "metadata": {},
     "output_type": "execute_result"
    },
    {
     "data": {
      "image/png": "[encoded data removed]",
      "text/plain": [
       "<matplotlib.figure.Figure at 0x7fba6eb3ab00>"
      ]
     },
     "metadata": {},
     "output_type": "display_data"
    }
   ],
   "source": [
    "print(\"scaled continious variables\")\n",
    "df[scale_columns].plot.box(figsize=(length*2,4))"
   ]
  },
  {
   "cell_type": "code",
   "execution_count": 30,
   "metadata": {},
   "outputs": [],
   "source": [
    "# create features for modeling objective\n",
    "object_columns = object_columns.tolist()\n",
    "target_column = ['target']\n",
    "feature_columns = scale_columns + object_columns\n",
    "#print(\"target_column: \" + str(target_column))\n",
    "#print(\"feature_columns: \" + str(feature_columns))\n",
    "#print(\"dataframe shape: \" + str(df.shape))"
   ]
  },
  {
   "cell_type": "code",
   "execution_count": 31,
   "metadata": {},
   "outputs": [
    {
     "data": {
      "text/plain": [
       "((1409, 17), (1409,))"
      ]
     },
     "execution_count": 31,
     "metadata": {},
     "output_type": "execute_result"
    }
   ],
   "source": [
    "X = df[feature_columns].values\n",
    "y = df[target_column].values.ravel()\n",
    "X.shape,y.shape"
   ]
  },
  {
   "cell_type": "code",
   "execution_count": 32,
   "metadata": {},
   "outputs": [
    {
     "name": "stderr",
     "output_type": "stream",
     "text": [
      "/home/mohnkhan/anaconda3/lib/python3.6/site-packages/h5py/__init__.py:36: FutureWarning: Conversion of the second argument of issubdtype from `float` to `np.floating` is deprecated. In future, it will be treated as `np.float64 == np.dtype(float).type`.\n",
      "  from ._conv import register_converters as _register_converters\n",
      "Using TensorFlow backend.\n"
     ]
    }
   ],
   "source": [
    "# import metrics for model evaluation\n",
    "\n",
    "from sklearn.metrics import recall_score,accuracy_score,confusion_matrix,classification_report,precision_score\n",
    "from sklearn.metrics import cohen_kappa_score\n",
    "from sklearn.model_selection import cross_val_score\n",
    "from keras.wrappers.scikit_learn import KerasClassifier\n",
    "# create function to evaluate model performance\n",
    "\n",
    "def evaluate(model, X_test, y_test):\n",
    "    y_pred = model.predict(X_test)\n",
    "    accuracy = accuracy_score(y_test,y_pred)\n",
    "    cohen_kappa = cohen_kappa_score(y_test, y_pred, sample_weight=None)\n",
    "    recall = recall_score(y_test,y_pred)\n",
    "    matrix = confusion_matrix(y_test, y_pred)\n",
    "    tn, fp, fn, tp = confusion_matrix(y_test, y_pred).ravel()\n",
    "    report = classification_report(y_test, y_pred)\n",
    "    print(\"accuracy :\" +str(accuracy))\n",
    "    print(\"cohen_kappa :\" +str(cohen_kappa))\n",
    "    print(\"recall :\" +str(recall))\n",
    "    print(\" tn, fp, fn, tp :\" )\n",
    "    print(tn, fp, fn, tp)\n",
    "    print(\"matrix :\")\n",
    "    print(matrix)\n",
    "    print(\"report :\")\n",
    "    print(report)\n",
    "    return accuracy"
   ]
  },
  {
   "cell_type": "code",
   "execution_count": 33,
   "metadata": {},
   "outputs": [
    {
     "name": "stdout",
     "output_type": "stream",
     "text": [
      "gbm_smote: 0.7906316536550745\n",
      "rf_smote: 0.7877927608232789\n",
      "ada_smote0.7636621717530163\n",
      "xgb_smote: 0.7885024840312278\n"
     ]
    },
    {
     "name": "stderr",
     "output_type": "stream",
     "text": [
      "/home/mohnkhan/anaconda3/lib/python3.6/site-packages/sklearn/cross_validation.py:41: DeprecationWarning: This module was deprecated in version 0.18 in favor of the model_selection module into which all the refactored classes and functions are moved. Also note that the interface of the new CV iterators are different from that of this module. This module will be removed in 0.20.\n",
      "  \"This module will be removed in 0.20.\", DeprecationWarning)\n",
      "/home/mohnkhan/anaconda3/lib/python3.6/site-packages/sklearn/grid_search.py:42: DeprecationWarning: This module was deprecated in version 0.18 in favor of the model_selection module into which all the refactored classes and functions are moved. This module will be removed in 0.20.\n",
      "  DeprecationWarning)\n",
      "/home/mohnkhan/anaconda3/lib/python3.6/site-packages/sklearn/preprocessing/label.py:151: DeprecationWarning: The truth value of an empty array is ambiguous. Returning False, but in future this will result in an error. Use `array.size > 0` to check that an array is not empty.\n",
      "  if diff:\n"
     ]
    }
   ],
   "source": [
    "# import pickle\n",
    "import pickle\n",
    "############################# SMOTE\n",
    "# load the gbm from disk\n",
    "#gbm_smote = pickle.load(open('finalized_gbm_smote.sav', 'rb'))\n",
    "#result = gbm_smote.score(X, y)\n",
    "#print(\"gbm_smote: \" + str(result))\n",
    "# load the rf from disk\n",
    "#rf_smote = pickle.load(open('finalized_rf_smote.sav', 'rb'))\n",
    "#result = rf_smote.score(X, y)\n",
    "#print(\"rf_smote: \" + str(result))\n",
    "# load the adaboost from disk\n",
    "#ada_smote = pickle.load(open('finalized_ada_smote.sav', 'rb'))\n",
    "#result = ada_smote.score(X, y)\n",
    "#print(\"ada_smote\" + str(result))\n",
    "# load the gbm from disk\n",
    "#gs_smote = pickle.load(open('finalized_xgb_smote.sav', 'rb'))\n",
    "#result = gs_smote.score(X, y)\n",
    "#print(\"xgb_smote: \" + str(result))\n",
    "############################# No SMOTE\n",
    "# load the gbm from disk\n",
    "gbm = pickle.load(open('finalized_gbm.sav', 'rb'))\n",
    "result = gbm.score(X, y)\n",
    "print(\"gbm: \" + str(result))\n",
    "# load the rf from disk\n",
    "rf = pickle.load(open('finalized_rf.sav', 'rb'))\n",
    "result = rf.score(X, y)\n",
    "print(\"rf: \" + str(result))\n",
    "# load the adaboost from disk\n",
    "ada = pickle.load(open('finalized_ada.sav', 'rb'))\n",
    "result = ada.score(X, y)\n",
    "print(\"ada: \" + str(result))\n",
    "# load the gbm from disk\n",
    "gs = pickle.load(open('finalized_xgb.sav', 'rb'))\n",
    "result = gs.score(X, y)\n",
    "print(\"xgb: \" + str(result))"
   ]
  },
  {
   "cell_type": "code",
   "execution_count": 1,
   "metadata": {},
   "outputs": [
    {
     "name": "stderr",
     "output_type": "stream",
     "text": [
      "/home/mohnkhan/anaconda3/lib/python3.6/site-packages/h5py/__init__.py:36: FutureWarning: Conversion of the second argument of issubdtype from `float` to `np.floating` is deprecated. In future, it will be treated as `np.float64 == np.dtype(float).type`.\n",
      "  from ._conv import register_converters as _register_converters\n",
      "Using TensorFlow backend.\n"
     ]
    },
    {
     "ename": "FileNotFoundError",
     "evalue": "[Errno 2] No such file or directory: 'model_json.json'",
     "output_type": "error",
     "traceback": [
      "\u001b[0;31m---------------------------------------------------------------------------\u001b[0m",
      "\u001b[0;31mFileNotFoundError\u001b[0m                         Traceback (most recent call last)",
      "\u001b[0;32m<ipython-input-1-6daf25563ede>\u001b[0m in \u001b[0;36m<module>\u001b[0;34m()\u001b[0m\n\u001b[1;32m     15\u001b[0m \u001b[0;34m\u001b[0m\u001b[0m\n\u001b[1;32m     16\u001b[0m \u001b[0;31m# load json and create model\u001b[0m\u001b[0;34m\u001b[0m\u001b[0;34m\u001b[0m\u001b[0m\n\u001b[0;32m---> 17\u001b[0;31m \u001b[0mjson_file\u001b[0m \u001b[0;34m=\u001b[0m \u001b[0mopen\u001b[0m\u001b[0;34m(\u001b[0m\u001b[0;34m'model_json.json'\u001b[0m\u001b[0;34m,\u001b[0m \u001b[0;34m'r'\u001b[0m\u001b[0;34m)\u001b[0m\u001b[0;34m\u001b[0m\u001b[0m\n\u001b[0m\u001b[1;32m     18\u001b[0m \u001b[0mloaded_model_json\u001b[0m \u001b[0;34m=\u001b[0m \u001b[0mjson_file\u001b[0m\u001b[0;34m.\u001b[0m\u001b[0mread\u001b[0m\u001b[0;34m(\u001b[0m\u001b[0;34m)\u001b[0m\u001b[0;34m\u001b[0m\u001b[0m\n\u001b[1;32m     19\u001b[0m \u001b[0mjson_file\u001b[0m\u001b[0;34m.\u001b[0m\u001b[0mclose\u001b[0m\u001b[0;34m(\u001b[0m\u001b[0;34m)\u001b[0m\u001b[0;34m\u001b[0m\u001b[0m\n",
      "\u001b[0;31mFileNotFoundError\u001b[0m: [Errno 2] No such file or directory: 'model_json.json'"
     ]
    }
   ],
   "source": [
    "from keras.models import Sequential\n",
    "from keras.layers import Dense\n",
    "from keras.models import model_from_json\n",
    "from keras.optimizers import SGD\n",
    "sgd = SGD(lr=0.1, momentum=0.9, decay=0.0, nesterov=False)\n",
    "# load json and create model\n",
    "#json_file = open('model_smote_json.json', 'r')\n",
    "#loaded_model_smote_json = json_file.read()\n",
    "#json_file.close()\n",
    "#loaded_model_smote = model_from_json(loaded_model_smote_json)\n",
    "# load weights into new model\n",
    "#loaded_model_smote.load_weights(\"model_smote_json.h5\")\n",
    "#loaded_model_smote.compile(loss='binary_crossentropy', optimizer=sgd, metrics=['accuracy'])\n",
    "#print(\"Loaded model from disk\")\n",
    "\n",
    "# load json and create model\n",
    "json_file = open('model_json.json', 'r')\n",
    "loaded_model_json = json_file.read()\n",
    "json_file.close()\n",
    "loaded_model = model_from_json(loaded_model_json)\n",
    "## load weights into new model\n",
    "loaded_model.load_weights(\"model_json.h5\")\n",
    "loaded_model.compile(loss='binary_crossentropy', optimizer=sgd, metrics=['accuracy'])\n",
    "print(\"Loaded model from disk\")"
   ]
  },
  {
   "cell_type": "code",
   "execution_count": 2,
   "metadata": {},
   "outputs": [],
   "source": [
    "def evaluate_accuracy(model, X_test, y_test):\n",
    "    y_pred = model.predict(X_test)\n",
    "    accuracy = accuracy_score(y_test,y_pred)\n",
    "    return accuracy\n",
    "\n",
    "def evaluate_kappa(model, X_test, y_test):\n",
    "    y_pred = model.predict(X_test)\n",
    "    kappa = cohen_kappa_score(y_test, y_pred, sample_weight=None)\n",
    "    return kappa\n",
    "\n",
    "def evaluate_recall(model, X_test, y_test):\n",
    "    y_pred = model.predict(X_test)\n",
    "    recall = recall_score(y_test,y_pred)\n",
    "    return recall\n",
    "\n",
    "def evaluate_precision(model, X_test, y_test):\n",
    "    y_pred = model.predict(X_test)\n",
    "    precision = precision_score(y_test,y_pred)\n",
    "    return precision\n",
    "\n",
    "def evaluate_con_mat_row(model, X_test, y_test):\n",
    "    y_pred = model.predict(X_test)\n",
    "    tn, fp, fn, tp = confusion_matrix(y_test, y_pred).ravel()\n",
    "    return (tn, fp, fn, tp)\n",
    "\n",
    "################ keras model\n",
    "def evaluate_accuracy_keras(model, X_test, y_test):\n",
    "    y_pred = model.predict_classes(X_test)\n",
    "    accuracy = accuracy_score(y_test,y_pred)\n",
    "    return accuracy\n",
    "\n",
    "def evaluate_kappa_keras(model, X_test, y_test):\n",
    "    y_pred = model.predict_classes(X_test)\n",
    "    kappa = cohen_kappa_score(y_test, y_pred, sample_weight=None)\n",
    "    return kappa\n",
    "\n",
    "def evaluate_recall_keras(model, X_test, y_test):\n",
    "    y_pred = model.predict_classes(X_test)\n",
    "    recall = recall_score(y_test,y_pred)\n",
    "    return recall\n",
    "\n",
    "def evaluate_precision_keras(model, X_test, y_test):\n",
    "    y_pred = model.predict_classes(X_test)\n",
    "    precision = precision_score(y_test,y_pred)\n",
    "    return precision\n",
    "\n",
    "def evaluate_con_mat_row_keras(model, X_test, y_test):\n",
    "    y_pred = model.predict_classes(X_test)\n",
    "    tn, fp, fn, tp = confusion_matrix(y_test, y_pred).ravel()\n",
    "    return (tn, fp, fn, tp) "
   ]
  },
  {
   "cell_type": "code",
   "execution_count": 36,
   "metadata": {},
   "outputs": [
    {
     "name": "stderr",
     "output_type": "stream",
     "text": [
      "/home/mohnkhan/anaconda3/lib/python3.6/site-packages/sklearn/preprocessing/label.py:151: DeprecationWarning: The truth value of an empty array is ambiguous. Returning False, but in future this will result in an error. Use `array.size > 0` to check that an array is not empty.\n",
      "  if diff:\n",
      "/home/mohnkhan/anaconda3/lib/python3.6/site-packages/sklearn/preprocessing/label.py:151: DeprecationWarning: The truth value of an empty array is ambiguous. Returning False, but in future this will result in an error. Use `array.size > 0` to check that an array is not empty.\n",
      "  if diff:\n",
      "/home/mohnkhan/anaconda3/lib/python3.6/site-packages/sklearn/preprocessing/label.py:151: DeprecationWarning: The truth value of an empty array is ambiguous. Returning False, but in future this will result in an error. Use `array.size > 0` to check that an array is not empty.\n",
      "  if diff:\n",
      "/home/mohnkhan/anaconda3/lib/python3.6/site-packages/sklearn/preprocessing/label.py:151: DeprecationWarning: The truth value of an empty array is ambiguous. Returning False, but in future this will result in an error. Use `array.size > 0` to check that an array is not empty.\n",
      "  if diff:\n",
      "/home/mohnkhan/anaconda3/lib/python3.6/site-packages/sklearn/preprocessing/label.py:151: DeprecationWarning: The truth value of an empty array is ambiguous. Returning False, but in future this will result in an error. Use `array.size > 0` to check that an array is not empty.\n",
      "  if diff:\n"
     ]
    }
   ],
   "source": [
    "#xgbm_smote_accuracy = evaluate_accuracy(gs_smote,X,y)\n",
    "#gbm_smote_accuracy = evaluate_accuracy(gbm_smote,X,y)\n",
    "#rf_smote_accuracy = evaluate_accuracy(rf_smote,X,y)\n",
    "#ada_smote_accuracy = evaluate_accuracy(ada_smote,X,y)\n",
    "#tf_smote_accuracy = evaluate_accuracy_keras(loaded_model_smote,X,y)\n",
    "xgbm_accuracy = evaluate_accuracy(gs,X,y)\n",
    "gbm_accuracy = evaluate_accuracy(gbm,X,y)\n",
    "rf_accuracy = evaluate_accuracy(rf,X,y)\n",
    "ada_accuracy = evaluate_accuracy(ada,X,y)    \n",
    "tf_accuracy = evaluate_accuracy_keras(loaded_model,X,y)\n",
    "\n",
    "#xgbm_smote_kappa = evaluate_kappa(gs_smote,X,y)\n",
    "#gbm_smote_kappa = evaluate_kappa(gbm_smote,X,y)\n",
    "#rf_smote_kappa = evaluate_kappa(rf_smote,X,y)\n",
    "#ada_smote_kappa = evaluate_kappa(ada_smote,X,y)\n",
    "#tf_smote_kappa = evaluate_kappa_keras(loaded_model_smote,X,y)\n",
    "xgbm_kappa = evaluate_kappa(gs,X,y)\n",
    "gbm_kappa = evaluate_kappa(gbm,X,y)\n",
    "rf_kappa = evaluate_kappa(rf,X,y)\n",
    "ada_kappa = evaluate_kappa(ada,X,y)    \n",
    "tf_kappa = evaluate_kappa_keras(loaded_model,X,y)\n",
    "\n",
    "#xgbm_smote_recall = evaluate_recall(gs_smote,X,y)\n",
    "#gbm_smote_recall = evaluate_recall(gbm_smote,X,y)\n",
    "#rf_smote_recall = evaluate_recall(rf_smote,X,y)\n",
    "#ada_smote_recall = evaluate_recall(ada_smote,X,y)\n",
    "#tf_smote_recall = evaluate_recall_keras(loaded_model_smote,X,y)\n",
    "xgbm_recall = evaluate_recall(gs,X,y)\n",
    "gbm_recall = evaluate_recall(gbm,X,y)\n",
    "rf_recall = evaluate_recall(rf,X,y)\n",
    "ada_recall = evaluate_recall(ada,X,y)\n",
    "tf_recall = evaluate_recall_keras(loaded_model,X,y)  \n",
    "\n",
    "#xgbm_smote_precision = evaluate_precision(gs_smote,X,y)\n",
    "#gbm_smote_precision = evaluate_precision(gbm_smote,X,y)\n",
    "#rf_smote_precision = evaluate_precision(rf_smote,X,y)\n",
    "#ada_smote_precision = evaluate_precision(ada_smote,X,y)\n",
    "#tf_smote_precision = evaluate_precision_keras(loaded_model_smote,X,y)\n",
    "xgbm_precision = evaluate_precision(gs,X,y)\n",
    "gbm_precision = evaluate_precision(gbm,X,y)\n",
    "rf_precision = evaluate_precision(rf,X,y)\n",
    "ada_precision = evaluate_precision(ada,X,y)\n",
    "tf_precision = evaluate_precision_keras(loaded_model,X,y) \n",
    "\n",
    "#xgbm_smote_tfft = evaluate_con_mat_row(gs_smote,X,y)\n",
    "#gbm_smote_tfft = evaluate_con_mat_row(gbm_smote,X,y)\n",
    "#rf_smote_tfft = evaluate_con_mat_row(rf_smote,X,y)\n",
    "#ada_smote_tfft = evaluate_con_mat_row(ada_smote,X,y)\n",
    "#tf_smote_tfft = evaluate_con_mat_row_keras(loaded_model_smote,X,y)\n",
    "xgbm_tfft = evaluate_con_mat_row(gs,X,y)\n",
    "gbm_tfft = evaluate_con_mat_row(gbm,X,y)\n",
    "rf_tfft = evaluate_con_mat_row(rf,X,y)\n",
    "ada_tfft = evaluate_con_mat_row(ada,X,y)\n",
    "tf_tfft = evaluate_con_mat_row_keras(loaded_model,X,y)"
   ]
  },
  {
   "cell_type": "code",
   "execution_count": 37,
   "metadata": {},
   "outputs": [],
   "source": [
    "report = [{'model': 'XGBM_smote', 'accuracy': xgbm_smote_accuracy, 'kappa': xgbm_smote_kappa,'recall': xgbm_smote_recall, 'precision': xgbm_smote_precision,'tn, fp, fn, tp': xgbm_smote_tfft},\n",
    "          {'model': 'GBM_smote', 'accuracy': gbm_smote_accuracy, 'kappa': gbm_smote_kappa,'recall': gbm_smote_recall, 'precision': gbm_smote_precision,'tn, fp, fn, tp': gbm_smote_tfft},\n",
    "          {'model': 'RF_smote',  'accuracy': rf_smote_accuracy, 'kappa': rf_smote_kappa,'recall': rf_smote_recall, 'precision': rf_smote_precision,'tn, fp, fn, tp': rf_smote_tfft},\n",
    "          {'model': 'ADA_smote', 'accuracy': ada_smote_accuracy, 'kappa': ada_smote_kappa, 'recall': ada_smote_recall, 'precision': ada_smote_precision ,'tn, fp, fn, tp': ada_smote_tfft },\n",
    "          {'model': 'tf_smote', 'accuracy': tf_smote_accuracy,  'kappa': tf_smote_kappa,'recall': tf_smote_recall, 'precision': tf_smote_precision ,'tn, fp, fn, tp': tf_smote_tfft }]#,\n",
    "          #{'model': 'XGBM', 'accuracy': xgbm_accuracy, 'recall': xgbm_recall, 'precision': xgbm_precision,'tn, fp, fn, tp': xgbm_tfft},\n",
    "          #{'model': 'GBM', 'accuracy': gbm_accuracy, 'recall': gbm_recall, 'precision': gbm_precision, 'tn, fp, fn, tp': gbm_tfft},\n",
    "          #{'model': 'RF',  'accuracy': rf_accuracy, 'recall': rf_recall, 'precision': rf_precision, 'tn, fp, fn, tp': rf_tfft},\n",
    "          #{'model': 'ADA', 'accuracy': ada_accuracy,  'recall': ada_recall, 'precision': ada_precision,  'tn, fp, fn, tp': ada_tfft },\n",
    "          #{'model': 'tf', 'accuracy': tf_accuracy,  'recall': tf_recall, 'precision': tf_precision ,'tn, fp, fn, tp': tf_smote_tfft }]\n",
    "df1 = pd.DataFrame(report)\n",
    "df1 = df1[['model', 'accuracy', 'kappa', 'recall', 'precision','tn, fp, fn, tp']]"
   ]
  },
  {
   "cell_type": "code",
   "execution_count": 38,
   "metadata": {},
   "outputs": [
    {
     "data": {
      "text/html": [
       "<div>\n",
       "<style scoped>\n",
       "    .dataframe tbody tr th:only-of-type {\n",
       "        vertical-align: middle;\n",
       "    }\n",
       "\n",
       "    .dataframe tbody tr th {\n",
       "        vertical-align: top;\n",
       "    }\n",
       "\n",
       "    .dataframe thead th {\n",
       "        text-align: right;\n",
       "    }\n",
       "</style>\n",
       "<table border=\"1\" class=\"dataframe\">\n",
       "  <thead>\n",
       "    <tr style=\"text-align: right;\">\n",
       "      <th></th>\n",
       "      <th>model</th>\n",
       "      <th>accuracy</th>\n",
       "      <th>kappa</th>\n",
       "      <th>recall</th>\n",
       "      <th>precision</th>\n",
       "      <th>tn, fp, fn, tp</th>\n",
       "    </tr>\n",
       "  </thead>\n",
       "  <tbody>\n",
       "    <tr>\n",
       "      <th>0</th>\n",
       "      <td>XGBM_smote</td>\n",
       "      <td>0.788502</td>\n",
       "      <td>0.501874</td>\n",
       "      <td>0.740642</td>\n",
       "      <td>0.579498</td>\n",
       "      <td>(834, 201, 97, 277)</td>\n",
       "    </tr>\n",
       "    <tr>\n",
       "      <th>1</th>\n",
       "      <td>GBM_smote</td>\n",
       "      <td>0.790632</td>\n",
       "      <td>0.493790</td>\n",
       "      <td>0.700535</td>\n",
       "      <td>0.588764</td>\n",
       "      <td>(852, 183, 112, 262)</td>\n",
       "    </tr>\n",
       "    <tr>\n",
       "      <th>2</th>\n",
       "      <td>RF_smote</td>\n",
       "      <td>0.787793</td>\n",
       "      <td>0.467196</td>\n",
       "      <td>0.633690</td>\n",
       "      <td>0.593985</td>\n",
       "      <td>(873, 162, 137, 237)</td>\n",
       "    </tr>\n",
       "    <tr>\n",
       "      <th>3</th>\n",
       "      <td>ADA_smote</td>\n",
       "      <td>0.763662</td>\n",
       "      <td>0.475066</td>\n",
       "      <td>0.796791</td>\n",
       "      <td>0.536937</td>\n",
       "      <td>(778, 257, 76, 298)</td>\n",
       "    </tr>\n",
       "    <tr>\n",
       "      <th>4</th>\n",
       "      <td>tf_smote</td>\n",
       "      <td>0.733144</td>\n",
       "      <td>0.410334</td>\n",
       "      <td>0.748663</td>\n",
       "      <td>0.498221</td>\n",
       "      <td>(753, 282, 94, 280)</td>\n",
       "    </tr>\n",
       "  </tbody>\n",
       "</table>\n",
       "</div>"
      ],
      "text/plain": [
       "        model  accuracy     kappa    recall  precision        tn, fp, fn, tp\n",
       "0  XGBM_smote  0.788502  0.501874  0.740642   0.579498   (834, 201, 97, 277)\n",
       "1   GBM_smote  0.790632  0.493790  0.700535   0.588764  (852, 183, 112, 262)\n",
       "2    RF_smote  0.787793  0.467196  0.633690   0.593985  (873, 162, 137, 237)\n",
       "3   ADA_smote  0.763662  0.475066  0.796791   0.536937   (778, 257, 76, 298)\n",
       "4    tf_smote  0.733144  0.410334  0.748663   0.498221   (753, 282, 94, 280)"
      ]
     },
     "execution_count": 38,
     "metadata": {},
     "output_type": "execute_result"
    }
   ],
   "source": [
    "df1"
   ]
  },
  {
   "cell_type": "code",
   "execution_count": 39,
   "metadata": {},
   "outputs": [],
   "source": [
    "df1 = df1.set_index('model')"
   ]
  },
  {
   "cell_type": "code",
   "execution_count": 40,
   "metadata": {},
   "outputs": [
    {
     "data": {
      "text/plain": [
       "<matplotlib.axes._subplots.AxesSubplot at 0x7fba6c420cc0>"
      ]
     },
     "execution_count": 40,
     "metadata": {},
     "output_type": "execute_result"
    },
    {
     "data": {
      "image/png": "[encoded data removed]",
      "text/plain": [
       "<matplotlib.figure.Figure at 0x7fba6c38ad30>"
      ]
     },
     "metadata": {},
     "output_type": "display_data"
    }
   ],
   "source": [
    "df1.plot.bar(figsize=(df_length, 4))"
   ]
  },
  {
   "cell_type": "code",
   "execution_count": null,
   "metadata": {},
   "outputs": [],
   "source": []
  }
 ],
 "metadata": {
  "kernelspec": {
   "display_name": "Python 3",
   "language": "python",
   "name": "python3"
  },
  "language_info": {
   "codemirror_mode": {
    "name": "ipython",
    "version": 3
   },
   "file_extension": ".py",
   "mimetype": "text/x-python",
   "name": "python",
   "nbconvert_exporter": "python",
   "pygments_lexer": "ipython3",
   "version": "3.6.4"
  }
 },
 "nbformat": 4,
 "nbformat_minor": 2
}
